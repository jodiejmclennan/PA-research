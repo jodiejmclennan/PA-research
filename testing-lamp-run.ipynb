{
 "cells": [
  {
   "cell_type": "code",
   "execution_count": 5,
   "id": "41032afd",
   "metadata": {},
   "outputs": [
    {
     "data": {
      "text/plain": [
       "{'divide': 'ignore', 'over': 'warn', 'under': 'ignore', 'invalid': 'ignore'}"
      ]
     },
     "execution_count": 5,
     "metadata": {},
     "output_type": "execute_result"
    }
   ],
   "source": [
    "#!/usr/bin/env python\n",
    "# coding: utf-8\n",
    "\n",
    "# # Code to run electon density -> energy inversion as per Semeter, Kamalabadi 2005 for PFISR data for specified number of days\n",
    "# \n",
    "# written by Riley Troyer Fall 2021\n",
    "\n",
    "# In[1]:\n",
    "\n",
    "\n",
    "# Libraries\n",
    "from datetime import datetime as dt\n",
    "import gc\n",
    "import h5py\n",
    "from matplotlib import pyplot as plt\n",
    "from matplotlib import colors\n",
    "import msise00\n",
    "import numpy as np\n",
    "import os\n",
    "import pickle\n",
    "import scipy.stats\n",
    "from scipy.interpolate import interp1d\n",
    "from scipy.signal import savgol_filter\n",
    "from scipy.signal import savgol_coeffs\n",
    "from scipy.integrate import trapezoid\n",
    "\n",
    "# This might set off some warnings, but I think they can be ignored\n",
    "from kaeppler_chemistry import Chemistry as chemistry\n",
    "\n",
    "# Disable divide by zero numpy warnings\n",
    "np.seterr(divide='ignore')\n",
    "np.seterr(invalid='ignore')"
   ]
  },
  {
   "cell_type": "code",
   "execution_count": 10,
   "id": "b30ba80a",
   "metadata": {},
   "outputs": [
    {
     "name": "stdout",
     "output_type": "stream",
     "text": [
      "['20220305.001_bc_nenotr_1min.h5']\n"
     ]
    }
   ],
   "source": [
    "# In[2]:\n",
    "\n",
    "\n",
    "# Read in config file with dictionary of specified inputs\n",
    "import config_2022_05_25 as config\n",
    "config_data = config.run_info['config_info']\n",
    "\n",
    "# Path to pfisr data directory\n",
    "pfisr_data_dir = config_data['isr_data_dir']\n",
    "\n",
    "# File with times for events of interest\n",
    "reference_file = config_data['event_file']\n",
    "\n",
    "# Directory to save files to\n",
    "save_dir = config_data['save_dir']\n",
    "\n",
    "# Get location of PFISR\n",
    "pfrr_lat = config_data['isr_lat']\n",
    "pfrr_lon = config_data['isr_lon']\n",
    "\n",
    "# Define test flux in m^-2 s^-1\n",
    "F = config_data['test_flux']\n",
    "\n",
    "# Don't use PFISR data below this altitude in km\n",
    "pfisr_min_alt = config_data['isr_min_alt']\n",
    "\n",
    "# Get sensitivity limit of PFISR\n",
    "pfisr_sensitivity = config_data['isr_sensitivity']\n",
    "\n",
    "# Altitude in meters to approximate infinity when calculating\n",
    "#...mass distance\n",
    "max_msis_alt = config_data['max_msis_alt']\n",
    "\n",
    "# Maximum number of iterations to run maximum entropy process on\n",
    "max_iterations = config_data['max_iterations']\n",
    "\n",
    "# Reduced chi square to aim for\n",
    "convergence = config_data['convergence']\n",
    "\n",
    "# Define arrays for altitude and energy bins\n",
    "\n",
    "# Altitude in meters\n",
    "#...number of points should be around the same as pfisr data\n",
    "altitude_bins = config_data['altitude_bins']\n",
    "\n",
    "# Energies in eV\n",
    "#...should probably be less than altitude bins to avoid overfitting\n",
    "energy_bins = config_data['energy_bins']\n",
    "\n",
    "# Get which chemistry model to use\n",
    "alpha_type = config_data['alpha_type']\n",
    "\n",
    "# Get files to run code for\n",
    "pfisr_files = config.run_info['run_files']\n",
    "#print(pfisr_files)\n",
    "pfisr_files = ['20220305.001_bc_nenotr_1min.h5']#pfisr_files[43:]\n",
    "print(pfisr_files)"
   ]
  },
  {
   "cell_type": "code",
   "execution_count": 11,
   "id": "fa990611",
   "metadata": {},
   "outputs": [],
   "source": [
    "# In[3]:\n",
    "\n",
    "\n",
    "def barrett_hays_range_energy_func(K):\n",
    "    \"\"\"Function to define mass range of electron in air for a specific\n",
    "    energy K in eV. From Barett & Hays 1976\n",
    "    INPUT\n",
    "    K\n",
    "        type: float\n",
    "        about: energy of electron in eV\n",
    "    OUTPUT\n",
    "    R\n",
    "        type: float\n",
    "        about: mass range of particle in kg m^-2 \n",
    "    \"\"\"\n",
    "    # Convert energy to keV to match formula\n",
    "    K = K/1000\n",
    "    \n",
    "    # Range function\n",
    "    R = 4.3e-7 + 5.36e-6 * K**(1.67) - 0.38e-8 * K**(-0.7)\n",
    "    \n",
    "    # Convert R from g/cm^2 to kg/m^2\n",
    "    R = R * 10\n",
    "    \n",
    "    return R\n",
    "\n",
    "def estimate_initial_number_flux(energy_bins, matrix_A):\n",
    "    \"\"\"Function to estimate the intial number flux for each energy bin\n",
    "    INPUT\n",
    "    energy_bins\n",
    "        type: array of float\n",
    "        about: energy values defining energy bins\n",
    "    matrix_A\n",
    "        type: array of float\n",
    "        about: inversion matrix\n",
    "    OUTPUT\n",
    "    initial_num_flux\n",
    "        type: array of float\n",
    "        about: estimated number flux in m^-2 s^-1 for each energy bin\n",
    "    \"\"\"\n",
    "    \n",
    "    # Make an initial guess of the number flux\n",
    "    initial_num_flux = np.ones(len(energy_bins))*(1e12/len(energy_bins))\n",
    "\n",
    "    # Divide by energy bin widths\n",
    "    bin_widths = energy_bins - np.roll(energy_bins, shift=1)\n",
    "\n",
    "    # Fix first value\n",
    "    bin_widths[0] = energy_bins[0] - 0\n",
    "\n",
    "    # Set initial guess\n",
    "    initial_num_flux = initial_num_flux/bin_widths\n",
    "\n",
    "    # If full column of A matrix is zero set initial flux to zero\n",
    "    for j in range(len(energy_bins)):\n",
    "\n",
    "        if np.sum(matrix_A[:, j]) == 0:\n",
    "            initial_num_flux[j] = 0\n",
    "            \n",
    "    return initial_num_flux\n",
    "\n",
    "def find_event_indices(utc_time):\n",
    "    \"\"\"Function to find only indices of times of interest.\n",
    "    INPUT\n",
    "    utc_time\n",
    "        type: array of datetimes\n",
    "        about: utc datetimes of all pfisr data\n",
    "    OUTPUT\n",
    "    slices_n\n",
    "        type: list of integers\n",
    "        about: indices of pfisr data that is of interest\n",
    "    \"\"\"\n",
    "    \n",
    "    # Find the date for the current pfisr file, this is a little tricky as\n",
    "    #...some pfisr files span multiple days\n",
    "    pfisr_dates = np.unique(np.array([d.date() for d in utc_time]))\n",
    "\n",
    "    # Dates that are in both pa database and pfisr file\n",
    "    pa_pfisr_dates = np.unique(np.array([d for d in pa_dates \n",
    "                                         if d in pfisr_dates]))\n",
    "\n",
    "    # Loop through each of these dates and get correct indices\n",
    "    indices = []\n",
    "    for date in pa_pfisr_dates:\n",
    "            indices.append(np.argwhere(pa_dates == date))\n",
    "\n",
    "    # Flatten list of indices\n",
    "    indices = [item[0] for sublist in indices for item in sublist]\n",
    "\n",
    "    # Loop through each index and get data slices corresponding to the\n",
    "    #...start and stop times\n",
    "    slices_n = []\n",
    "    for index in indices:\n",
    "\n",
    "        # Get the date and start time of measurements\n",
    "        date = pa_database[index, 0]\n",
    "        start_time = date + ' ' + pa_database[index, 1]\n",
    "        end_time = date + ' ' + pa_database[index, 2]\n",
    "\n",
    "        # Convert to datetime\n",
    "        start_time = dt.strptime(start_time, '%Y-%m-%d %H:%M:%S')\n",
    "        end_time = dt.strptime(end_time, '%Y-%m-%d %H:%M:%S')\n",
    "\n",
    "        # Find which indices in pfisr data correspond\n",
    "        slices_n.append(np.argwhere((utc_time >= start_time) \n",
    "                                    & (utc_time <= end_time)))\n",
    "\n",
    "    # Flatten pfisr array indices\n",
    "    slices_n = [item[0] for sublist in slices_n for item in sublist]\n",
    "    \n",
    "    return slices_n\n",
    "\n",
    "def get_isr_data(pfisr_filename, pfisr_data_dir):\n",
    "    \"\"\"Function to get relevant data from PFISR datafile.\n",
    "    INPUT\n",
    "    pfisr_filename\n",
    "        type: str\n",
    "        about: data file name, should be .h5 file\n",
    "    pfisr_data_dir\n",
    "        type: str\n",
    "        about: directory where isr data is stored\n",
    "    OUTPUT\n",
    "    utc_time\n",
    "        type: array of datetimes\n",
    "        about: time stamp for the start of each measurement\n",
    "    pfisr_altitude\n",
    "        type: array of float\n",
    "        about: altitude stamp for each measurement in meters\n",
    "    e_density\n",
    "        type: array of float\n",
    "        about: electron number density in m^-3\n",
    "    de_density\n",
    "        type: array of float\n",
    "        about: error in number density\n",
    "    \"\"\"\n",
    "    \n",
    "    # Read in the h5 file\n",
    "    pfisr_file = h5py.File(pfisr_data_dir + pfisr_filename, 'r')\n",
    "\n",
    "    # Get the different beams and select specified angle\n",
    "    beam_angle = 90\n",
    "    beams = np.array(pfisr_file['BeamCodes'])\n",
    "\n",
    "    # Get the beam with a 90 degree elevation angle\n",
    "    indexes = np.linspace(0, len(beams)-1, len(beams))\n",
    "    beam_num = int(indexes[np.abs(beams[:,2] - beam_angle) == 0][0])\n",
    "\n",
    "    # Get time and convert to utc datetime\n",
    "    unix_time = np.array(pfisr_file['Time']['UnixTime'])[:,0]\n",
    "    utc_time = np.array([dt.utcfromtimestamp(d) \n",
    "                         for d in unix_time])\n",
    "\n",
    "    # Get the altitude array\n",
    "    pfisr_altitude = np.array(pfisr_file['NeFromPower']\n",
    "                              ['Altitude'])[beam_num, :]\n",
    "\n",
    "    # Get the uncorrected number density array\n",
    "    e_density = np.array(pfisr_file['NeFromPower']\n",
    "                         ['Ne_NoTr'])[:, beam_num, :]\n",
    "\n",
    "    # Take the transpose\n",
    "    e_density = np.transpose(e_density)\n",
    "    \n",
    "    # Find the noise floor by averaging between 55km and 60km\n",
    "    #...assume this should be zero\n",
    "    \n",
    "    # Calculate the power given that power = density/range^2\n",
    "    pfisr_range = np.array(pfisr_file['NeFromPower']\n",
    "                           ['Range'])[0, :]\n",
    "\n",
    "    # Turn 1D array into 2D array for elementwise division\n",
    "    pfisr_range = np.array([pfisr_range,]*e_density.shape[1])\n",
    "    pfisr_range = np.transpose(pfisr_range)\n",
    "    pfisr_power = np.divide(e_density, pfisr_range**2)\n",
    "\n",
    "    # Get the power bias\n",
    "    noise_floor = np.nanmean(pfisr_power[(pfisr_altitude > 55000)\n",
    "                                    & (pfisr_altitude < 60000), :],\n",
    "                              axis=0)\n",
    "\n",
    "#     # Loop through each column and subtract off noise floor\n",
    "#     for j in range(pfisr_power.shape[1]):\n",
    "#         pfisr_power[:, j] = pfisr_power[:, j] - noise_floor[j]   \n",
    "\n",
    "    # Only apply correction to lower altitudes\n",
    "    low_fade = 90e3\n",
    "    high_fade = 120e3\n",
    "    correction_fade = np.ones(len(pfisr_altitude))\n",
    "\n",
    "    # Fade from 1 to 0 over 90 to 120km\n",
    "    fade_selector = (pfisr_altitude > low_fade) & (pfisr_altitude < high_fade)\n",
    "    fade_len = len(fade_selector[fade_selector == True])\n",
    "    fade = np.linspace(1, 0, fade_len)\n",
    "\n",
    "    # Set correct fade values\n",
    "    correction_fade[fade_selector] = fade\n",
    "    correction_fade[pfisr_altitude > high_fade] = 0\n",
    "    \n",
    "\n",
    "    # Loop through each column and subtract off noise floor\n",
    "    for j in range(pfisr_power.shape[1]):\n",
    "        pfisr_power[:, j] = pfisr_power[:, j] - noise_floor[j]*correction_fade   \n",
    "\n",
    "\n",
    "    # Calculate new unbiased density\n",
    "    e_density = np.multiply(pfisr_power, pfisr_range**2)\n",
    "        \n",
    "    \n",
    "    # Get error values\n",
    "    try:\n",
    "        de_density = np.array(pfisr_file['NeFromPower']\n",
    "                              ['errNe_NoTr'])[:, beam_num, :]\n",
    "        de_density = np.transpose(de_density)\n",
    "    except:\n",
    "        de_density = np.array(pfisr_file['NeFromPower']\n",
    "                              ['dNeFrac'])[:, beam_num, :]\n",
    "        de_density = np.transpose(de_density)\n",
    "        de_density = de_density * e_density\n",
    "\n",
    "    # Close file\n",
    "    pfisr_file.close()\n",
    "    \n",
    "    return utc_time, unix_time, pfisr_altitude, e_density, de_density\n",
    "\n",
    "def get_msis_density(run_time, altitude_bins, max_alt=1001e3,\n",
    "                     glat=65.117, glon=212.540):\n",
    "    \"\"\"Function to get MSIS calculated atmospheric densities.\n",
    "    DEPENDENCIES\n",
    "        msise00, numpy, scipy.interpolate.interp1d\n",
    "    INPUT\n",
    "    run_time\n",
    "        type: datetime\n",
    "        about: time to run msis code for\n",
    "    altitudes\n",
    "        type: array of floats\n",
    "        about: altitudes in meters to run msis code for\n",
    "    max_alt = 1001e3\n",
    "        type: float\n",
    "        about: maximum altitude in meters to run msis for. \n",
    "               Function creates a high altitude log spaced array\n",
    "               between the max of altitudes and the max_alt value.\n",
    "               This is primarily for approximating an indefinite integral.\n",
    "    OUTPUT\n",
    "    total_msis_alt\n",
    "        type: array of floats\n",
    "        about: altitudes values in meters including original array and\n",
    "               high altitude array\n",
    "    msis_interp_density\n",
    "        type: scipy.interplate function\n",
    "        about: 1d interpolation of msis density spanning entire altitude\n",
    "               range.\n",
    "    \"\"\"\n",
    "    \n",
    "    # Run msis for lower altitudes\n",
    "    msis_run_low = msise00.run(time=run_time, altkm=altitude_bins/1000,\n",
    "                               glat=pfrr_lat, glon=pfrr_lon)\n",
    "\n",
    "    # Define a higher altitude array\n",
    "    msis_alt_high = np.logspace(np.log10(max(altitude_bins)+1),\n",
    "                                np.log10(max_alt), 20)\n",
    "    \n",
    "    # Run msis for these higher altitudes\n",
    "    msis_run_high = msise00.run(time=run_time, altkm=msis_alt_high/1000,\n",
    "                               glat=pfrr_lat, glon=pfrr_lon)\n",
    "\n",
    "    # Get total density data\n",
    "    msis_density_low = msis_run_low['Total'].data[0, :, 0, 0]\n",
    "    msis_density_high = msis_run_high['Total'].data[0, :, 0, 0]\n",
    "\n",
    "    # Combine altitude and densities from low and high altitudes\n",
    "    total_msis_alt = np.concatenate((altitude_bins, msis_alt_high))\n",
    "    total_msis_density = np.concatenate((msis_density_low,\n",
    "                                         msis_density_high))\n",
    "\n",
    "    # Create a scipy interpolation function to define density v. altitude\n",
    "    msis_interp_density = interp1d(total_msis_alt, total_msis_density)\n",
    "    \n",
    "    return total_msis_alt, msis_interp_density\n",
    "\n",
    "def isr_ion_production_rate(slice_n, alpha_type='vickrey'):\n",
    "    \"\"\"Function to estimate the ion production rate from isr measurements.\n",
    "    There are many ways to do this that use differing chemistry\n",
    "    assumptions. Vickrey 1982 is a very basic assumption for the \n",
    "    E-region and is extended to D-region. Gledhill 1986 is slightly more\n",
    "    sophisticated using a best fit of many D-region measurements during\n",
    "    night time aurora. Osepian 2009 is based on measurements during \n",
    "    solar proton events. The Stanford model is based on the chemistry\n",
    "    model of Lehtinen 2007. \n",
    "    INPUT\n",
    "    slice_n\n",
    "        type: integer\n",
    "        about: data slice of isr data to take\n",
    "    alpha_type = 'vickrey'\n",
    "        type: string\n",
    "        about: what recombination coefficient to use\n",
    "                other option: osepian, gledhill, stanford\n",
    "    OUTPUT\n",
    "    q_estimate\n",
    "        type: array of float\n",
    "        about: estimated ion production rate m^-2 s^-1\n",
    "    dq_estimate\n",
    "        type: array of float\n",
    "        about: error in ion production rate\n",
    "    alphas\n",
    "        type: array of float\n",
    "        about: recombination coefficients\n",
    "    \"\"\"\n",
    "\n",
    "    if ((alpha_type=='vickrey')\n",
    "        or (alpha_type=='osepian')\n",
    "        or (alpha_type=='gledhill')):\n",
    "        # Read in density and errors in those measurements \n",
    "        #...for specific time\n",
    "        e_density_slice = e_density[:, slice_n]\n",
    "        de_density_slice = de_density[:, slice_n]\n",
    "\n",
    "        # Make interpolation model of this data with respect to altitude\n",
    "        #...but only do this for altitudes > defined minimum value,\n",
    "        #...below this data can be weird\n",
    "        pfisr_density_interp = interp1d(pfisr_altitude, e_density_slice)\n",
    "\n",
    "        # Same interpolation except for error in density\n",
    "        pfisr_error_interp = interp1d(pfisr_altitude, de_density_slice)\n",
    "\n",
    "        # Calculate all recombination coeffcients\n",
    "        alphas = np.array([recombination_coeff(z/1000,\n",
    "                                               alpha_type=alpha_type)\n",
    "                           for z in altitude_bins])\n",
    "\n",
    "        # Multiply by pfisr density to get estimate of production rate\n",
    "        #...keep sign in calculation, so don't bias high\n",
    "        pfisr_signs = np.sign(pfisr_density_interp(altitude_bins))\n",
    "        q_estimate = (alphas \n",
    "                      * pfisr_density_interp(altitude_bins)**2)\n",
    "\n",
    "        # Get error dq = 2*alpha*n*dn\n",
    "        dq_estimate = (2 * alphas * pfisr_density_interp(altitude_bins)\n",
    "                       * pfisr_error_interp(altitude_bins))\n",
    "        dq_estimate = abs(dq_estimate)\n",
    "    \n",
    "    elif alpha_type=='stanford':\n",
    "        # Read in the chemistry class\n",
    "        chem = chemistry(SteadyStateTime = 100., ISRIntegrationTime = 60.)\n",
    "\n",
    "        # Read in density and errors in those measurements\n",
    "        #...for specific time\n",
    "        e_density_slice = e_density[:, slice_n]\n",
    "        de_density_slice = de_density[:, slice_n]\n",
    "\n",
    "        # Make interpolation model of this data with respect to altitude\n",
    "        #...but only do this for altitudes > defined minimum value,\n",
    "        #...below this data can be weird\n",
    "        pfisr_density_interp = interp1d(pfisr_altitude, e_density_slice)\n",
    "\n",
    "        # Same interpolation except for error in density\n",
    "        pfisr_error_interp = interp1d(pfisr_altitude, de_density_slice)\n",
    "\n",
    "        # Multiply by pfisr density to get estimate of production rate\n",
    "        #...keep sign in calculation, so don't bias high\n",
    "        pfisr_signs = np.sign(pfisr_density_interp(altitude_bins))\n",
    "\n",
    "        # Initialize ionization in chemistry class\n",
    "        #...input altitude in km and stepsize of altitude bins required\n",
    "        alt_step = altitude_bins[1] - altitude_bins[0]\n",
    "        chem.Set_Inital_Ionization(unix_time[slice_n],\n",
    "                                   pfrr_lat, pfrr_lon,\n",
    "                                   min(altitude_bins)/1000,\n",
    "                                   max(altitude_bins)/1000,\n",
    "                                   alt_step/1000)\n",
    "\n",
    "        # Run chemistry code to convert density to ionization rate.\n",
    "        #...make sure to run initial ionziation code first\n",
    "        #...input should be in km and 1/cm^3\n",
    "        #...this will output in units of cgs\n",
    "        q_estimate = chem.Calculate_Ionization_From_Ne(altitude_bins/1000,\n",
    "                                pfisr_density_interp(altitude_bins)/1e6,\n",
    "                                chem.DregionChem)\n",
    "\n",
    "        # Add back in negatives and convert to SI\n",
    "        q_estimate = q_estimate * pfisr_signs * 1e6\n",
    "\n",
    "        # Calculate the extracted effective recombination coefficient\n",
    "        alphas = q_estimate / pfisr_density_interp(altitude_bins)**2\n",
    "        \n",
    "        # Match Gledhill above 90 km\n",
    "        e_region_cond = altitude_bins >= 90e3\n",
    "        alphas[e_region_cond] = [recombination_coeff(z/1000,\n",
    "                                               alpha_type='gledhill')\n",
    "                                 for z in altitude_bins[e_region_cond]]\n",
    "        \n",
    "        # Recalculate ion production rate\n",
    "        q_estimate = alphas * pfisr_density_interp(altitude_bins)**2\n",
    "\n",
    "        # Get error dq = 2*alpha*n*dn\n",
    "        dq_estimate = (2 * alphas\n",
    "                       * pfisr_density_interp(altitude_bins)\n",
    "                       * pfisr_error_interp(altitude_bins))\n",
    "        dq_estimate = abs(dq_estimate)\n",
    "        \n",
    "    else:\n",
    "        print('Enter good alpha type.')\n",
    "\n",
    "    \n",
    "    return q_estimate, dq_estimate, alphas\n",
    "\n",
    "def mass_distance(z_i, I=0):\n",
    "    \"\"\"Function to mass distance of particle traveling some distance\n",
    "    into the atmosphere. Denoted s in the derivations.\n",
    "    Using trapezoid rule for this, which seems to be good enough\n",
    "    INPUT\n",
    "    z\n",
    "        type: int\n",
    "        about: index of altitude that particle reached to\n",
    "    I=0\n",
    "        type: float\n",
    "        about: angle of magnetic inclination at measuring site in radians\n",
    "    OUTPUT\n",
    "    s\n",
    "        type: float\n",
    "        about: mass distance in kg m^-2\n",
    "    \"\"\"\n",
    "    \n",
    "    # Calculate mass distance traveled \n",
    "    s = (1/np.cos(I)) * trapezoid(total_msis_density[z_i:],\n",
    "                                  total_msis_alt[z_i:])\n",
    "    \n",
    "    return s\n",
    "\n",
    "def maximum_entropy_iteration(initial_num_flux, altitude_bins,\n",
    "                              energy_bins,matrix_A,\n",
    "                              q_estimate, dq_estimate):\n",
    "    \"\"\"Function to peform the maximum entropy iterative process to\n",
    "    approximate inversion of matrix A. \n",
    "    Process is outlined in Semeter & Kamalabadi 2005.\n",
    "    INPUT\n",
    "    initial_num_flux\n",
    "        type: array of float\n",
    "        about: initial guess of number flux for each energy bin \n",
    "               in m^-2 s^-1\n",
    "    altitude_bins\n",
    "        type: array of float\n",
    "        about: altitude values in meters defining altitude bins\n",
    "    energy_bins\n",
    "        type: array of float\n",
    "        about: energy values in eV defining energy bins\n",
    "    matrix_A\n",
    "        type: array of float\n",
    "        about: matrix that iteration is trying to invert\n",
    "    q_estimate\n",
    "        type: array of float\n",
    "        about: estimated ion production rate from ISR m^-2 s^-1\n",
    "    dq_estimate\n",
    "        type: array of float\n",
    "        about: error in ion production rate of ISR\n",
    "    OUTPUT\n",
    "    new_num_flux\n",
    "        type: array of float\n",
    "        about: estimated number flux for energy bins in m^-2 s^-1\n",
    "    reduced_chi_square\n",
    "        type: float\n",
    "        about: error in modeled fit\n",
    "    good_alt_index\n",
    "        type: int\n",
    "        about: lower than this won't be good data\n",
    "    \"\"\"\n",
    "    \n",
    "    # Set previous value to initial at start\n",
    "    old_num_flux = initial_num_flux\n",
    "    new_num_flux = np.zeros(len(initial_num_flux))  \n",
    "    \n",
    "    # Create array to store all minimum j values\n",
    "    min_js = np.zeros(len(altitude_bins), dtype=int)\n",
    "\n",
    "    # Find all nonzero indices of A matrix\n",
    "    nonzero_args = np.argwhere(matrix_A > 0)\n",
    "\n",
    "    for i in range(len(min_js)):\n",
    "\n",
    "        non_zeros = nonzero_args[nonzero_args[:, 0] == i]\n",
    "\n",
    "        # If there are no non zero values in row, then set to \n",
    "        #...first instance\n",
    "        if len(non_zeros) == 0:\n",
    "            min_js[i] = 0\n",
    "\n",
    "        # Otherwise find the minimum j\n",
    "        else:\n",
    "            min_js[i] = min(non_zeros[:, 1])\n",
    "\n",
    "    # Initialize values\n",
    "    old_chi_square = 1e3\n",
    "    chi_square = 0\n",
    "    old_chi2_diff = 1e9\n",
    "    converged = True\n",
    "    count = 0\n",
    "\n",
    "    # Run interations until convergence or count is met\n",
    "    while (old_chi2_diff > convergence):\n",
    "\n",
    "        # Check count\n",
    "        if count > max_iterations:\n",
    "            print('Slice: {slice_n}. '\n",
    "                  'Unable to converge. '\n",
    "                  'Max iterations reached with chi2 = {chi2}'\n",
    "                  .format(slice_n=slice_n,\n",
    "                          chi2=round(chi_square, 2)))\n",
    "            break\n",
    "\n",
    "        # Construct the t vector\n",
    "        t = 1/np.dot(matrix_A[:, min_js], old_num_flux[min_js])\n",
    "\n",
    "        # Adjust for infinite values in regions without a nonzero j\n",
    "        t[t == np.inf] = 0        \n",
    "\n",
    "        for j in range(len(energy_bins)):\n",
    "\n",
    "            # Construct c vector\n",
    "            frac = np.inner(matrix_A, old_num_flux)/q_estimate\n",
    "            c = 20 * (1 - frac) * t\n",
    "\n",
    "            # Account for nan and infinite values\n",
    "            #...this is why warning is raised\n",
    "            c[np.isnan(c)] = 0\n",
    "            c[c == -np.inf] = 0\n",
    "            c[c == np.inf] = 0\n",
    "\n",
    "            # Define w constant\n",
    "            w = np.ones(len(altitude_bins))/len(altitude_bins)\n",
    "\n",
    "            # Summation of matrix elements\n",
    "            i_sum = np.sum(w*c*matrix_A[:, j])\n",
    "\n",
    "            # New guess\n",
    "            new_num_flux[j] = old_num_flux[j]/(1-old_num_flux[j]*i_sum)\n",
    "\n",
    "        # Check chi squared, but only on altitudes that A is defined for\n",
    "        diff=q_estimate-np.dot(matrix_A, new_num_flux)\n",
    "        chi_square_array = diff**2/dq_estimate**2\n",
    "\n",
    "        # Set undefined values to zero\n",
    "        chi_square_array[np.isnan(chi_square_array)] = 0\n",
    "        chi_square_array[chi_square_array == np.inf] = 0\n",
    "        chi_square_array[chi_square_array == -np.inf] = 0\n",
    "        \n",
    "        # Get the chi squared value\n",
    "        chi_square = np.sum(chi_square_array)\n",
    "        \n",
    "        # Do a convergence test, make sure it isn't blowing up\n",
    "        if (old_chi2_diff \n",
    "            < abs(old_chi_square - chi_square)) & (count > 1000):\n",
    "            print('Slice: {slice_n}. '\n",
    "                  'Not converging. Stopping. '\n",
    "                  'chi2 = {chi2}'\n",
    "                  .format(slice_n=slice_n,\n",
    "                          chi2=round(chi_square, 2)))\n",
    "            converged = False\n",
    "            break \n",
    "\n",
    "        # Set old values to new\n",
    "        old_num_flux = np.copy(new_num_flux)\n",
    "        old_chi2_diff = abs(old_chi_square - chi_square)\n",
    "        old_chi_square = chi_square\n",
    "\n",
    "        # Set count\n",
    "        count = count + 1\n",
    "        \n",
    "    # Get reduced chi square, which should be around 1\n",
    "    diff=q_estimate-np.dot(matrix_A, new_num_flux)\n",
    "    dof = len(q_estimate[dq_estimate < q_estimate]) - matrix_A.shape[1]\n",
    "    \n",
    "    # Notify of convergence\n",
    "    if ((count < max_iterations) & (converged == True)):\n",
    "        print('Slice: {slice_n}. '\n",
    "              'Convergence reached. '\n",
    "              'Iterations: {count}. '\n",
    "              'reduced chi2: {chi2}'.format(slice_n=slice_n, \n",
    "                                            count=count-1,\n",
    "                                            chi2=round(chi_square/dof, 2))\n",
    "             )\n",
    "        \n",
    "    return new_num_flux, chi_square, dof, converged\n",
    "\n",
    "def recombination_coeff(z, alpha_type='vickrey'):\n",
    "    \"\"\"Function defining recombination coefficient\n",
    "    INPUT\n",
    "    z\n",
    "        type:float\n",
    "        about: altitude in kilometers\n",
    "    alpha_type = 'vickrey'\n",
    "        type: string\n",
    "        about: what recombination coefficient to use\n",
    "                other option: osepian, gledhill\n",
    "    OUTPUT\n",
    "    alpha\n",
    "        type: float\n",
    "        about: recombination coefficient in m^3/s\n",
    "    \"\"\"\n",
    "    \n",
    "    if alpha_type == 'vickrey':\n",
    "        \n",
    "        alpha = 2.5e-12 * np.exp(-z/51.2)\n",
    "    \n",
    "    if alpha_type == 'osepian':\n",
    "        \n",
    "        # Read in file with effective recombination coefficient values\n",
    "        alpha_filename = 'effective-recombination-coefficient.txt'\n",
    "        alpha_data = np.loadtxt(alpha_filename, skiprows=6)\n",
    "\n",
    "        # Get altitude and coeff from data\n",
    "        alpha_alt = alpha_data[:, 0]\n",
    "        alpha_coeff = alpha_data[:, 1]*1e-6\n",
    "\n",
    "        # Append formula value at 144 km\n",
    "        alpha_alt = np.append(alpha_alt, 144)\n",
    "        alpha_coeff = np.append(alpha_coeff, recombination_coeff(144))\n",
    "\n",
    "        # Create an interpolated function from this\n",
    "        #...values outside set to 0\n",
    "        alpha_interp = interp1d(alpha_alt, alpha_coeff,\n",
    "                                 bounds_error=False, fill_value=0)  \n",
    "        \n",
    "        alpha = alpha_interp(z)\n",
    "    \n",
    "    if alpha_type == 'gledhill':\n",
    "        \n",
    "        alpha = (4.3e-6 * np.exp(-2.42e-2 * z) \n",
    "                 + 8.16e12 * np.exp(-0.524 * z))\n",
    "        \n",
    "        # Convert to m^3\n",
    "        alpha = alpha * 1e-6\n",
    "    \n",
    "    return alpha\n",
    "\n",
    "def save_inversion_density_plot(inversion_results, run_time, output_dir):\n",
    "    \"\"\"Function to create and save a plot of the inversion \n",
    "    electron density.\n",
    "    INPUT\n",
    "    inversion_results\n",
    "        type: dictionary\n",
    "        about: dictionary of inversion results\n",
    "    run_time\n",
    "        type: datetime\n",
    "        about: time to create plot for\n",
    "    output_dir\n",
    "        type: str\n",
    "        about: where to store the images\n",
    "    OUTPUT\n",
    "    none\n",
    "    \"\"\"\n",
    "    # Get altitude values\n",
    "    altitude_bins = inversion_results[run_time]['altitude']\n",
    "\n",
    "    # Get measured density\n",
    "    pfisr_density_plot = inversion_results[run_time]['measured_density']\n",
    "    pfisr_density_plot = pfisr_density_plot\n",
    "\n",
    "    # Initial guess\n",
    "    initial_guess_plot = inversion_results[run_time]['initial_density']\n",
    "    initial_guess_plot = initial_guess_plot\n",
    "    \n",
    "    # Finally modeled guess\n",
    "    final_guess_plot = inversion_results[run_time]['modeled_density']\n",
    "    final_guess_plot = final_guess_plot\n",
    "    \n",
    "    # Get reduced chi2\n",
    "    chi2 = inversion_results[run_time]['chi2']\n",
    "    dof = inversion_results[run_time]['dof']\n",
    "    reduced_chi2 = chi2/dof\n",
    "\n",
    "    # Plot figure of initial guess, real data and fit\n",
    "    fig, ax = plt.subplots()\n",
    "\n",
    "    # Titles and axis labels\n",
    "    ax.set_title(str(run_time) + r' $\\chi^2_{red}=$' \n",
    "                 + str(round(reduced_chi2, 2)),\n",
    "                 fontsize=14, fontweight='bold')\n",
    "\n",
    "    ax.set_ylabel('Altitude [km]', fontsize=14)\n",
    "    ax.set_xlabel(r'Electron Density [m$^{-3}$]', fontsize=14)\n",
    "\n",
    "    # Axis\n",
    "    ax.tick_params(axis='x', which='major', labelsize=14)\n",
    "    ax.tick_params(axis='y', which='major', labelsize=14)\n",
    "\n",
    "    ax.set_xscale('log')\n",
    "    #ax.set_xlim(1e10, 1e12)\n",
    "    #ax.set_ylim(75, 140)\n",
    "\n",
    "    # Plot PFISR data\n",
    "    ax.plot(pfisr_density_plot, altitude_bins/1000,\n",
    "            color='k', linewidth=2, label = 'PFISR')\n",
    "\n",
    "    # Plot initial guess\n",
    "    ax.plot(initial_guess_plot, altitude_bins/1000,\n",
    "            color='C2', linewidth=2, label = 'Initial Guess')\n",
    "\n",
    "    # Plot final guess\n",
    "    ax.plot(final_guess_plot, altitude_bins/1000,\n",
    "            color='C1', linewidth=2, label = 'Final Guess')\n",
    "    \n",
    "    ax.plot(np.sqrt(abs(dq_estimate/alphas)), altitude_bins/1000,\n",
    "            color='red')\n",
    "    \n",
    "    #ax.set_xlim(1e9, 1e12)\n",
    "\n",
    "    plt.legend()\n",
    "\n",
    "    plt.tight_layout()\n",
    "\n",
    "    \n",
    "    fig_filename = (output_dir + 'e-density-'\n",
    "                    + str(run_time.date())\n",
    "                    + '_' + str(run_time.hour).zfill(2)\n",
    "                    + '-' + str(run_time.minute).zfill(2)\n",
    "                    + '-' + str(run_time.second).zfill(2)\n",
    "                    + '.jpg')\n",
    "    plt.savefig(fig_filename, dpi=150)\n",
    "    \n",
    "    # Close the figure\n",
    "    #...axis\n",
    "    plt.cla()\n",
    "    #...figure\n",
    "    plt.clf()\n",
    "    #...figure windows\n",
    "    plt.close('all')\n",
    "    #...clear memory\n",
    "    gc.collect()\n",
    "\n",
    "def save_inversion_numflux_plot(inversion_results, run_time, output_dir):\n",
    "    \"\"\"Function to create and save a plot of the inversion \n",
    "    energy spectrum.\n",
    "    INPUT\n",
    "    inversion_results\n",
    "        type: dictionary\n",
    "        about: dictionary of inversion results\n",
    "    run_time\n",
    "        type: datetime\n",
    "        about: time to create plot for\n",
    "    output_dir\n",
    "        type: str\n",
    "        about: where to store the images\n",
    "    OUTPUT\n",
    "    none\n",
    "    \"\"\"\n",
    "    # Get energy values\n",
    "    energy_bins = inversion_results[run_time]['energy_bins']\n",
    "    \n",
    "    # Get modeled number flux values\n",
    "    num_flux = inversion_results[run_time]['modeled_flux']\n",
    "    \n",
    "    # Get differential number flux by multiplying by energy bin width\n",
    "    bin_widths = energy_bins - np.roll(energy_bins, shift=1)\n",
    "    \n",
    "    # Fix first value\n",
    "    bin_widths[0] = energy_bins[0] - 0\n",
    "    \n",
    "    num_flux = num_flux*bin_widths\n",
    "    \n",
    "    # Get reduced chi2\n",
    "    chi2 = inversion_results[run_time]['chi2']\n",
    "    dof = inversion_results[run_time]['dof']\n",
    "    reduced_chi2 = chi2/dof\n",
    "\n",
    "    # Plot figure of energy spectrum\n",
    "    fig, ax = plt.subplots()\n",
    "\n",
    "    # Titles and axis labels\n",
    "    ax.set_title(str(run_time) + r' $\\chi^2_{red}=$' \n",
    "                 + str(round(reduced_chi2, 2)),\n",
    "                 fontsize=14, fontweight='bold')\n",
    "\n",
    "    ax.set_ylabel(r'Number Flux [m$^{-2}$ s$^{-1}$ eV$^{-1}$]',\n",
    "                  fontsize=14)\n",
    "    ax.set_xlabel('Energy [eV]', fontsize=14)\n",
    "\n",
    "    # Axis\n",
    "    ax.tick_params(axis='x', which='major', labelsize=14)\n",
    "    ax.tick_params(axis='y', which='major', labelsize=14)\n",
    "\n",
    "    ax.set_xscale('log')\n",
    "    ax.set_yscale('log')\n",
    "\n",
    "    # Plot the energy\n",
    "    ax.plot(energy_bins, num_flux)\n",
    "\n",
    "    plt.tight_layout()\n",
    "    \n",
    "    fig_filename = (output_dir + 'number-flux-'\n",
    "                    + str(run_time.date())\n",
    "                    + '_' + str(run_time.hour).zfill(2)\n",
    "                    + '-' + str(run_time.minute).zfill(2)\n",
    "                    + '-' + str(run_time.second).zfill(2)\n",
    "                    + '.jpg')\n",
    "    plt.savefig(fig_filename, dpi=150)\n",
    "    \n",
    "    # Close the figure\n",
    "    #...axis\n",
    "    plt.cla()\n",
    "    #...figure\n",
    "    plt.clf()\n",
    "    #...figure windows\n",
    "    plt.close('all')\n",
    "    #...clear memory\n",
    "    gc.collect()"
   ]
  },
  {
   "cell_type": "code",
   "execution_count": 12,
   "id": "f96ad0bb",
   "metadata": {
    "scrolled": true
   },
   "outputs": [
    {
     "name": "stdout",
     "output_type": "stream",
     "text": [
      "Starting: gledhill\n",
      "2022-03-05\n"
     ]
    },
    {
     "name": "stderr",
     "output_type": "stream",
     "text": [
      "/home/jmcle/anaconda3/lib/python3.9/site-packages/geomagindices/base.py:37: FutureWarning: Passing method to DatetimeIndex.get_loc is deprecated and will raise in a future version. Use index.get_indexer([item], method=...) instead.\n",
      "  i = [dat.index.get_loc(t, method=\"nearest\") for t in dtime]\n",
      "/home/jmcle/anaconda3/lib/python3.9/site-packages/geomagindices/base.py:37: FutureWarning: Passing method to DatetimeIndex.get_loc is deprecated and will raise in a future version. Use index.get_indexer([item], method=...) instead.\n",
      "  i = [dat.index.get_loc(t, method=\"nearest\") for t in dtime]\n"
     ]
    },
    {
     "name": "stdout",
     "output_type": "stream",
     "text": [
      "Slice: 0. Convergence reached. Iterations: 142. reduced chi2: 1.89\n"
     ]
    },
    {
     "name": "stderr",
     "output_type": "stream",
     "text": [
      "/home/jmcle/anaconda3/lib/python3.9/site-packages/geomagindices/base.py:37: FutureWarning: Passing method to DatetimeIndex.get_loc is deprecated and will raise in a future version. Use index.get_indexer([item], method=...) instead.\n",
      "  i = [dat.index.get_loc(t, method=\"nearest\") for t in dtime]\n",
      "/home/jmcle/anaconda3/lib/python3.9/site-packages/geomagindices/base.py:37: FutureWarning: Passing method to DatetimeIndex.get_loc is deprecated and will raise in a future version. Use index.get_indexer([item], method=...) instead.\n",
      "  i = [dat.index.get_loc(t, method=\"nearest\") for t in dtime]\n"
     ]
    },
    {
     "name": "stdout",
     "output_type": "stream",
     "text": [
      "Slice: 1. Convergence reached. Iterations: 80. reduced chi2: 3.39\n"
     ]
    },
    {
     "name": "stderr",
     "output_type": "stream",
     "text": [
      "/home/jmcle/anaconda3/lib/python3.9/site-packages/geomagindices/base.py:37: FutureWarning: Passing method to DatetimeIndex.get_loc is deprecated and will raise in a future version. Use index.get_indexer([item], method=...) instead.\n",
      "  i = [dat.index.get_loc(t, method=\"nearest\") for t in dtime]\n",
      "/home/jmcle/anaconda3/lib/python3.9/site-packages/geomagindices/base.py:37: FutureWarning: Passing method to DatetimeIndex.get_loc is deprecated and will raise in a future version. Use index.get_indexer([item], method=...) instead.\n",
      "  i = [dat.index.get_loc(t, method=\"nearest\") for t in dtime]\n"
     ]
    },
    {
     "name": "stdout",
     "output_type": "stream",
     "text": [
      "Slice: 2. Convergence reached. Iterations: 81. reduced chi2: 3.1\n"
     ]
    },
    {
     "name": "stderr",
     "output_type": "stream",
     "text": [
      "/home/jmcle/anaconda3/lib/python3.9/site-packages/geomagindices/base.py:37: FutureWarning: Passing method to DatetimeIndex.get_loc is deprecated and will raise in a future version. Use index.get_indexer([item], method=...) instead.\n",
      "  i = [dat.index.get_loc(t, method=\"nearest\") for t in dtime]\n",
      "/home/jmcle/anaconda3/lib/python3.9/site-packages/geomagindices/base.py:37: FutureWarning: Passing method to DatetimeIndex.get_loc is deprecated and will raise in a future version. Use index.get_indexer([item], method=...) instead.\n",
      "  i = [dat.index.get_loc(t, method=\"nearest\") for t in dtime]\n"
     ]
    },
    {
     "name": "stdout",
     "output_type": "stream",
     "text": [
      "Slice: 3. Convergence reached. Iterations: 69. reduced chi2: 2.84\n"
     ]
    },
    {
     "name": "stderr",
     "output_type": "stream",
     "text": [
      "/home/jmcle/anaconda3/lib/python3.9/site-packages/geomagindices/base.py:37: FutureWarning: Passing method to DatetimeIndex.get_loc is deprecated and will raise in a future version. Use index.get_indexer([item], method=...) instead.\n",
      "  i = [dat.index.get_loc(t, method=\"nearest\") for t in dtime]\n",
      "/home/jmcle/anaconda3/lib/python3.9/site-packages/geomagindices/base.py:37: FutureWarning: Passing method to DatetimeIndex.get_loc is deprecated and will raise in a future version. Use index.get_indexer([item], method=...) instead.\n",
      "  i = [dat.index.get_loc(t, method=\"nearest\") for t in dtime]\n"
     ]
    },
    {
     "name": "stdout",
     "output_type": "stream",
     "text": [
      "Slice: 4. Convergence reached. Iterations: 184. reduced chi2: 2.62\n"
     ]
    },
    {
     "name": "stderr",
     "output_type": "stream",
     "text": [
      "/home/jmcle/anaconda3/lib/python3.9/site-packages/geomagindices/base.py:37: FutureWarning: Passing method to DatetimeIndex.get_loc is deprecated and will raise in a future version. Use index.get_indexer([item], method=...) instead.\n",
      "  i = [dat.index.get_loc(t, method=\"nearest\") for t in dtime]\n",
      "/home/jmcle/anaconda3/lib/python3.9/site-packages/geomagindices/base.py:37: FutureWarning: Passing method to DatetimeIndex.get_loc is deprecated and will raise in a future version. Use index.get_indexer([item], method=...) instead.\n",
      "  i = [dat.index.get_loc(t, method=\"nearest\") for t in dtime]\n"
     ]
    },
    {
     "name": "stdout",
     "output_type": "stream",
     "text": [
      "Slice: 5. Convergence reached. Iterations: 116. reduced chi2: 2.53\n"
     ]
    },
    {
     "name": "stderr",
     "output_type": "stream",
     "text": [
      "/home/jmcle/anaconda3/lib/python3.9/site-packages/geomagindices/base.py:37: FutureWarning: Passing method to DatetimeIndex.get_loc is deprecated and will raise in a future version. Use index.get_indexer([item], method=...) instead.\n",
      "  i = [dat.index.get_loc(t, method=\"nearest\") for t in dtime]\n",
      "/home/jmcle/anaconda3/lib/python3.9/site-packages/geomagindices/base.py:37: FutureWarning: Passing method to DatetimeIndex.get_loc is deprecated and will raise in a future version. Use index.get_indexer([item], method=...) instead.\n",
      "  i = [dat.index.get_loc(t, method=\"nearest\") for t in dtime]\n"
     ]
    },
    {
     "name": "stdout",
     "output_type": "stream",
     "text": [
      "Slice: 6. Convergence reached. Iterations: 78. reduced chi2: 3.05\n"
     ]
    },
    {
     "name": "stderr",
     "output_type": "stream",
     "text": [
      "/home/jmcle/anaconda3/lib/python3.9/site-packages/geomagindices/base.py:37: FutureWarning: Passing method to DatetimeIndex.get_loc is deprecated and will raise in a future version. Use index.get_indexer([item], method=...) instead.\n",
      "  i = [dat.index.get_loc(t, method=\"nearest\") for t in dtime]\n",
      "/home/jmcle/anaconda3/lib/python3.9/site-packages/geomagindices/base.py:37: FutureWarning: Passing method to DatetimeIndex.get_loc is deprecated and will raise in a future version. Use index.get_indexer([item], method=...) instead.\n",
      "  i = [dat.index.get_loc(t, method=\"nearest\") for t in dtime]\n"
     ]
    },
    {
     "name": "stdout",
     "output_type": "stream",
     "text": [
      "Slice: 7. Convergence reached. Iterations: 252. reduced chi2: 2.26\n"
     ]
    },
    {
     "name": "stderr",
     "output_type": "stream",
     "text": [
      "/home/jmcle/anaconda3/lib/python3.9/site-packages/geomagindices/base.py:37: FutureWarning: Passing method to DatetimeIndex.get_loc is deprecated and will raise in a future version. Use index.get_indexer([item], method=...) instead.\n",
      "  i = [dat.index.get_loc(t, method=\"nearest\") for t in dtime]\n",
      "/home/jmcle/anaconda3/lib/python3.9/site-packages/geomagindices/base.py:37: FutureWarning: Passing method to DatetimeIndex.get_loc is deprecated and will raise in a future version. Use index.get_indexer([item], method=...) instead.\n",
      "  i = [dat.index.get_loc(t, method=\"nearest\") for t in dtime]\n"
     ]
    },
    {
     "name": "stdout",
     "output_type": "stream",
     "text": [
      "Slice: 8. Convergence reached. Iterations: 168. reduced chi2: 2.17\n"
     ]
    },
    {
     "name": "stderr",
     "output_type": "stream",
     "text": [
      "/home/jmcle/anaconda3/lib/python3.9/site-packages/geomagindices/base.py:37: FutureWarning: Passing method to DatetimeIndex.get_loc is deprecated and will raise in a future version. Use index.get_indexer([item], method=...) instead.\n",
      "  i = [dat.index.get_loc(t, method=\"nearest\") for t in dtime]\n",
      "/home/jmcle/anaconda3/lib/python3.9/site-packages/geomagindices/base.py:37: FutureWarning: Passing method to DatetimeIndex.get_loc is deprecated and will raise in a future version. Use index.get_indexer([item], method=...) instead.\n",
      "  i = [dat.index.get_loc(t, method=\"nearest\") for t in dtime]\n"
     ]
    },
    {
     "name": "stdout",
     "output_type": "stream",
     "text": [
      "Slice: 9. Convergence reached. Iterations: 118. reduced chi2: 3.12\n"
     ]
    },
    {
     "name": "stderr",
     "output_type": "stream",
     "text": [
      "/home/jmcle/anaconda3/lib/python3.9/site-packages/geomagindices/base.py:37: FutureWarning: Passing method to DatetimeIndex.get_loc is deprecated and will raise in a future version. Use index.get_indexer([item], method=...) instead.\n",
      "  i = [dat.index.get_loc(t, method=\"nearest\") for t in dtime]\n",
      "/home/jmcle/anaconda3/lib/python3.9/site-packages/geomagindices/base.py:37: FutureWarning: Passing method to DatetimeIndex.get_loc is deprecated and will raise in a future version. Use index.get_indexer([item], method=...) instead.\n",
      "  i = [dat.index.get_loc(t, method=\"nearest\") for t in dtime]\n"
     ]
    },
    {
     "name": "stdout",
     "output_type": "stream",
     "text": [
      "Slice: 10. Convergence reached. Iterations: 322. reduced chi2: 2.08\n"
     ]
    },
    {
     "name": "stderr",
     "output_type": "stream",
     "text": [
      "/home/jmcle/anaconda3/lib/python3.9/site-packages/geomagindices/base.py:37: FutureWarning: Passing method to DatetimeIndex.get_loc is deprecated and will raise in a future version. Use index.get_indexer([item], method=...) instead.\n",
      "  i = [dat.index.get_loc(t, method=\"nearest\") for t in dtime]\n",
      "/home/jmcle/anaconda3/lib/python3.9/site-packages/geomagindices/base.py:37: FutureWarning: Passing method to DatetimeIndex.get_loc is deprecated and will raise in a future version. Use index.get_indexer([item], method=...) instead.\n",
      "  i = [dat.index.get_loc(t, method=\"nearest\") for t in dtime]\n"
     ]
    },
    {
     "name": "stdout",
     "output_type": "stream",
     "text": [
      "Slice: 11. Convergence reached. Iterations: 308. reduced chi2: 2.12\n"
     ]
    },
    {
     "name": "stderr",
     "output_type": "stream",
     "text": [
      "/home/jmcle/anaconda3/lib/python3.9/site-packages/geomagindices/base.py:37: FutureWarning: Passing method to DatetimeIndex.get_loc is deprecated and will raise in a future version. Use index.get_indexer([item], method=...) instead.\n",
      "  i = [dat.index.get_loc(t, method=\"nearest\") for t in dtime]\n",
      "/home/jmcle/anaconda3/lib/python3.9/site-packages/geomagindices/base.py:37: FutureWarning: Passing method to DatetimeIndex.get_loc is deprecated and will raise in a future version. Use index.get_indexer([item], method=...) instead.\n",
      "  i = [dat.index.get_loc(t, method=\"nearest\") for t in dtime]\n"
     ]
    },
    {
     "name": "stdout",
     "output_type": "stream",
     "text": [
      "Slice: 12. Convergence reached. Iterations: 143. reduced chi2: 3.04\n"
     ]
    },
    {
     "name": "stderr",
     "output_type": "stream",
     "text": [
      "/home/jmcle/anaconda3/lib/python3.9/site-packages/geomagindices/base.py:37: FutureWarning: Passing method to DatetimeIndex.get_loc is deprecated and will raise in a future version. Use index.get_indexer([item], method=...) instead.\n",
      "  i = [dat.index.get_loc(t, method=\"nearest\") for t in dtime]\n",
      "/home/jmcle/anaconda3/lib/python3.9/site-packages/geomagindices/base.py:37: FutureWarning: Passing method to DatetimeIndex.get_loc is deprecated and will raise in a future version. Use index.get_indexer([item], method=...) instead.\n",
      "  i = [dat.index.get_loc(t, method=\"nearest\") for t in dtime]\n"
     ]
    },
    {
     "name": "stdout",
     "output_type": "stream",
     "text": [
      "Slice: 13. Convergence reached. Iterations: 360. reduced chi2: 2.08\n"
     ]
    },
    {
     "name": "stderr",
     "output_type": "stream",
     "text": [
      "/home/jmcle/anaconda3/lib/python3.9/site-packages/geomagindices/base.py:37: FutureWarning: Passing method to DatetimeIndex.get_loc is deprecated and will raise in a future version. Use index.get_indexer([item], method=...) instead.\n",
      "  i = [dat.index.get_loc(t, method=\"nearest\") for t in dtime]\n",
      "/home/jmcle/anaconda3/lib/python3.9/site-packages/geomagindices/base.py:37: FutureWarning: Passing method to DatetimeIndex.get_loc is deprecated and will raise in a future version. Use index.get_indexer([item], method=...) instead.\n",
      "  i = [dat.index.get_loc(t, method=\"nearest\") for t in dtime]\n"
     ]
    },
    {
     "name": "stdout",
     "output_type": "stream",
     "text": [
      "Slice: 14. Convergence reached. Iterations: 100. reduced chi2: 2.27\n"
     ]
    },
    {
     "name": "stderr",
     "output_type": "stream",
     "text": [
      "/home/jmcle/anaconda3/lib/python3.9/site-packages/geomagindices/base.py:37: FutureWarning: Passing method to DatetimeIndex.get_loc is deprecated and will raise in a future version. Use index.get_indexer([item], method=...) instead.\n",
      "  i = [dat.index.get_loc(t, method=\"nearest\") for t in dtime]\n",
      "/home/jmcle/anaconda3/lib/python3.9/site-packages/geomagindices/base.py:37: FutureWarning: Passing method to DatetimeIndex.get_loc is deprecated and will raise in a future version. Use index.get_indexer([item], method=...) instead.\n",
      "  i = [dat.index.get_loc(t, method=\"nearest\") for t in dtime]\n"
     ]
    },
    {
     "name": "stdout",
     "output_type": "stream",
     "text": [
      "Slice: 15. Convergence reached. Iterations: 229. reduced chi2: 2.0\n"
     ]
    },
    {
     "name": "stderr",
     "output_type": "stream",
     "text": [
      "/home/jmcle/anaconda3/lib/python3.9/site-packages/geomagindices/base.py:37: FutureWarning: Passing method to DatetimeIndex.get_loc is deprecated and will raise in a future version. Use index.get_indexer([item], method=...) instead.\n",
      "  i = [dat.index.get_loc(t, method=\"nearest\") for t in dtime]\n",
      "/home/jmcle/anaconda3/lib/python3.9/site-packages/geomagindices/base.py:37: FutureWarning: Passing method to DatetimeIndex.get_loc is deprecated and will raise in a future version. Use index.get_indexer([item], method=...) instead.\n",
      "  i = [dat.index.get_loc(t, method=\"nearest\") for t in dtime]\n"
     ]
    },
    {
     "name": "stdout",
     "output_type": "stream",
     "text": [
      "Slice: 16. Convergence reached. Iterations: 170. reduced chi2: 1.72\n"
     ]
    },
    {
     "name": "stderr",
     "output_type": "stream",
     "text": [
      "/home/jmcle/anaconda3/lib/python3.9/site-packages/geomagindices/base.py:37: FutureWarning: Passing method to DatetimeIndex.get_loc is deprecated and will raise in a future version. Use index.get_indexer([item], method=...) instead.\n",
      "  i = [dat.index.get_loc(t, method=\"nearest\") for t in dtime]\n",
      "/home/jmcle/anaconda3/lib/python3.9/site-packages/geomagindices/base.py:37: FutureWarning: Passing method to DatetimeIndex.get_loc is deprecated and will raise in a future version. Use index.get_indexer([item], method=...) instead.\n",
      "  i = [dat.index.get_loc(t, method=\"nearest\") for t in dtime]\n"
     ]
    },
    {
     "name": "stdout",
     "output_type": "stream",
     "text": [
      "Slice: 17. Convergence reached. Iterations: 291. reduced chi2: 2.34\n"
     ]
    },
    {
     "name": "stderr",
     "output_type": "stream",
     "text": [
      "/home/jmcle/anaconda3/lib/python3.9/site-packages/geomagindices/base.py:37: FutureWarning: Passing method to DatetimeIndex.get_loc is deprecated and will raise in a future version. Use index.get_indexer([item], method=...) instead.\n",
      "  i = [dat.index.get_loc(t, method=\"nearest\") for t in dtime]\n",
      "/home/jmcle/anaconda3/lib/python3.9/site-packages/geomagindices/base.py:37: FutureWarning: Passing method to DatetimeIndex.get_loc is deprecated and will raise in a future version. Use index.get_indexer([item], method=...) instead.\n",
      "  i = [dat.index.get_loc(t, method=\"nearest\") for t in dtime]\n"
     ]
    },
    {
     "name": "stdout",
     "output_type": "stream",
     "text": [
      "Slice: 18. Convergence reached. Iterations: 140. reduced chi2: 2.24\n"
     ]
    },
    {
     "name": "stderr",
     "output_type": "stream",
     "text": [
      "/home/jmcle/anaconda3/lib/python3.9/site-packages/geomagindices/base.py:37: FutureWarning: Passing method to DatetimeIndex.get_loc is deprecated and will raise in a future version. Use index.get_indexer([item], method=...) instead.\n",
      "  i = [dat.index.get_loc(t, method=\"nearest\") for t in dtime]\n",
      "/home/jmcle/anaconda3/lib/python3.9/site-packages/geomagindices/base.py:37: FutureWarning: Passing method to DatetimeIndex.get_loc is deprecated and will raise in a future version. Use index.get_indexer([item], method=...) instead.\n",
      "  i = [dat.index.get_loc(t, method=\"nearest\") for t in dtime]\n"
     ]
    },
    {
     "name": "stdout",
     "output_type": "stream",
     "text": [
      "Slice: 19. Convergence reached. Iterations: 165. reduced chi2: 2.97\n"
     ]
    },
    {
     "name": "stderr",
     "output_type": "stream",
     "text": [
      "/home/jmcle/anaconda3/lib/python3.9/site-packages/geomagindices/base.py:37: FutureWarning: Passing method to DatetimeIndex.get_loc is deprecated and will raise in a future version. Use index.get_indexer([item], method=...) instead.\n",
      "  i = [dat.index.get_loc(t, method=\"nearest\") for t in dtime]\n",
      "/home/jmcle/anaconda3/lib/python3.9/site-packages/geomagindices/base.py:37: FutureWarning: Passing method to DatetimeIndex.get_loc is deprecated and will raise in a future version. Use index.get_indexer([item], method=...) instead.\n",
      "  i = [dat.index.get_loc(t, method=\"nearest\") for t in dtime]\n"
     ]
    },
    {
     "name": "stdout",
     "output_type": "stream",
     "text": [
      "Slice: 20. Convergence reached. Iterations: 217. reduced chi2: 1.75\n"
     ]
    },
    {
     "name": "stderr",
     "output_type": "stream",
     "text": [
      "/home/jmcle/anaconda3/lib/python3.9/site-packages/geomagindices/base.py:37: FutureWarning: Passing method to DatetimeIndex.get_loc is deprecated and will raise in a future version. Use index.get_indexer([item], method=...) instead.\n",
      "  i = [dat.index.get_loc(t, method=\"nearest\") for t in dtime]\n",
      "/home/jmcle/anaconda3/lib/python3.9/site-packages/geomagindices/base.py:37: FutureWarning: Passing method to DatetimeIndex.get_loc is deprecated and will raise in a future version. Use index.get_indexer([item], method=...) instead.\n",
      "  i = [dat.index.get_loc(t, method=\"nearest\") for t in dtime]\n"
     ]
    },
    {
     "name": "stdout",
     "output_type": "stream",
     "text": [
      "Slice: 21. Convergence reached. Iterations: 170. reduced chi2: 3.45\n"
     ]
    },
    {
     "name": "stderr",
     "output_type": "stream",
     "text": [
      "/home/jmcle/anaconda3/lib/python3.9/site-packages/geomagindices/base.py:37: FutureWarning: Passing method to DatetimeIndex.get_loc is deprecated and will raise in a future version. Use index.get_indexer([item], method=...) instead.\n",
      "  i = [dat.index.get_loc(t, method=\"nearest\") for t in dtime]\n",
      "/home/jmcle/anaconda3/lib/python3.9/site-packages/geomagindices/base.py:37: FutureWarning: Passing method to DatetimeIndex.get_loc is deprecated and will raise in a future version. Use index.get_indexer([item], method=...) instead.\n",
      "  i = [dat.index.get_loc(t, method=\"nearest\") for t in dtime]\n"
     ]
    },
    {
     "name": "stdout",
     "output_type": "stream",
     "text": [
      "Slice: 22. Convergence reached. Iterations: 125. reduced chi2: 2.99\n"
     ]
    },
    {
     "name": "stderr",
     "output_type": "stream",
     "text": [
      "/home/jmcle/anaconda3/lib/python3.9/site-packages/geomagindices/base.py:37: FutureWarning: Passing method to DatetimeIndex.get_loc is deprecated and will raise in a future version. Use index.get_indexer([item], method=...) instead.\n",
      "  i = [dat.index.get_loc(t, method=\"nearest\") for t in dtime]\n",
      "/home/jmcle/anaconda3/lib/python3.9/site-packages/geomagindices/base.py:37: FutureWarning: Passing method to DatetimeIndex.get_loc is deprecated and will raise in a future version. Use index.get_indexer([item], method=...) instead.\n",
      "  i = [dat.index.get_loc(t, method=\"nearest\") for t in dtime]\n"
     ]
    },
    {
     "name": "stdout",
     "output_type": "stream",
     "text": [
      "Slice: 23. Convergence reached. Iterations: 348. reduced chi2: 4.68\n"
     ]
    },
    {
     "name": "stderr",
     "output_type": "stream",
     "text": [
      "/home/jmcle/anaconda3/lib/python3.9/site-packages/geomagindices/base.py:37: FutureWarning: Passing method to DatetimeIndex.get_loc is deprecated and will raise in a future version. Use index.get_indexer([item], method=...) instead.\n",
      "  i = [dat.index.get_loc(t, method=\"nearest\") for t in dtime]\n",
      "/home/jmcle/anaconda3/lib/python3.9/site-packages/geomagindices/base.py:37: FutureWarning: Passing method to DatetimeIndex.get_loc is deprecated and will raise in a future version. Use index.get_indexer([item], method=...) instead.\n",
      "  i = [dat.index.get_loc(t, method=\"nearest\") for t in dtime]\n"
     ]
    },
    {
     "name": "stdout",
     "output_type": "stream",
     "text": [
      "Slice: 24. Convergence reached. Iterations: 410. reduced chi2: 2.56\n"
     ]
    },
    {
     "name": "stderr",
     "output_type": "stream",
     "text": [
      "/home/jmcle/anaconda3/lib/python3.9/site-packages/geomagindices/base.py:37: FutureWarning: Passing method to DatetimeIndex.get_loc is deprecated and will raise in a future version. Use index.get_indexer([item], method=...) instead.\n",
      "  i = [dat.index.get_loc(t, method=\"nearest\") for t in dtime]\n",
      "/home/jmcle/anaconda3/lib/python3.9/site-packages/geomagindices/base.py:37: FutureWarning: Passing method to DatetimeIndex.get_loc is deprecated and will raise in a future version. Use index.get_indexer([item], method=...) instead.\n",
      "  i = [dat.index.get_loc(t, method=\"nearest\") for t in dtime]\n"
     ]
    },
    {
     "name": "stdout",
     "output_type": "stream",
     "text": [
      "Slice: 25. Convergence reached. Iterations: 90. reduced chi2: 2.43\n"
     ]
    },
    {
     "name": "stderr",
     "output_type": "stream",
     "text": [
      "/home/jmcle/anaconda3/lib/python3.9/site-packages/geomagindices/base.py:37: FutureWarning: Passing method to DatetimeIndex.get_loc is deprecated and will raise in a future version. Use index.get_indexer([item], method=...) instead.\n",
      "  i = [dat.index.get_loc(t, method=\"nearest\") for t in dtime]\n",
      "/home/jmcle/anaconda3/lib/python3.9/site-packages/geomagindices/base.py:37: FutureWarning: Passing method to DatetimeIndex.get_loc is deprecated and will raise in a future version. Use index.get_indexer([item], method=...) instead.\n",
      "  i = [dat.index.get_loc(t, method=\"nearest\") for t in dtime]\n"
     ]
    },
    {
     "name": "stdout",
     "output_type": "stream",
     "text": [
      "Slice: 26. Convergence reached. Iterations: 84. reduced chi2: 2.4\n"
     ]
    },
    {
     "name": "stderr",
     "output_type": "stream",
     "text": [
      "/home/jmcle/anaconda3/lib/python3.9/site-packages/geomagindices/base.py:37: FutureWarning: Passing method to DatetimeIndex.get_loc is deprecated and will raise in a future version. Use index.get_indexer([item], method=...) instead.\n",
      "  i = [dat.index.get_loc(t, method=\"nearest\") for t in dtime]\n",
      "/home/jmcle/anaconda3/lib/python3.9/site-packages/geomagindices/base.py:37: FutureWarning: Passing method to DatetimeIndex.get_loc is deprecated and will raise in a future version. Use index.get_indexer([item], method=...) instead.\n",
      "  i = [dat.index.get_loc(t, method=\"nearest\") for t in dtime]\n"
     ]
    },
    {
     "name": "stdout",
     "output_type": "stream",
     "text": [
      "Slice: 27. Convergence reached. Iterations: 106. reduced chi2: 2.13\n"
     ]
    },
    {
     "name": "stderr",
     "output_type": "stream",
     "text": [
      "/home/jmcle/anaconda3/lib/python3.9/site-packages/geomagindices/base.py:37: FutureWarning: Passing method to DatetimeIndex.get_loc is deprecated and will raise in a future version. Use index.get_indexer([item], method=...) instead.\n",
      "  i = [dat.index.get_loc(t, method=\"nearest\") for t in dtime]\n",
      "/home/jmcle/anaconda3/lib/python3.9/site-packages/geomagindices/base.py:37: FutureWarning: Passing method to DatetimeIndex.get_loc is deprecated and will raise in a future version. Use index.get_indexer([item], method=...) instead.\n",
      "  i = [dat.index.get_loc(t, method=\"nearest\") for t in dtime]\n"
     ]
    },
    {
     "name": "stdout",
     "output_type": "stream",
     "text": [
      "Slice: 28. Convergence reached. Iterations: 96. reduced chi2: 3.55\n"
     ]
    },
    {
     "name": "stderr",
     "output_type": "stream",
     "text": [
      "/home/jmcle/anaconda3/lib/python3.9/site-packages/geomagindices/base.py:37: FutureWarning: Passing method to DatetimeIndex.get_loc is deprecated and will raise in a future version. Use index.get_indexer([item], method=...) instead.\n",
      "  i = [dat.index.get_loc(t, method=\"nearest\") for t in dtime]\n",
      "/home/jmcle/anaconda3/lib/python3.9/site-packages/geomagindices/base.py:37: FutureWarning: Passing method to DatetimeIndex.get_loc is deprecated and will raise in a future version. Use index.get_indexer([item], method=...) instead.\n",
      "  i = [dat.index.get_loc(t, method=\"nearest\") for t in dtime]\n"
     ]
    },
    {
     "name": "stdout",
     "output_type": "stream",
     "text": [
      "Slice: 29. Convergence reached. Iterations: 159. reduced chi2: 1.75\n"
     ]
    },
    {
     "name": "stderr",
     "output_type": "stream",
     "text": [
      "/home/jmcle/anaconda3/lib/python3.9/site-packages/geomagindices/base.py:37: FutureWarning: Passing method to DatetimeIndex.get_loc is deprecated and will raise in a future version. Use index.get_indexer([item], method=...) instead.\n",
      "  i = [dat.index.get_loc(t, method=\"nearest\") for t in dtime]\n",
      "/home/jmcle/anaconda3/lib/python3.9/site-packages/geomagindices/base.py:37: FutureWarning: Passing method to DatetimeIndex.get_loc is deprecated and will raise in a future version. Use index.get_indexer([item], method=...) instead.\n",
      "  i = [dat.index.get_loc(t, method=\"nearest\") for t in dtime]\n"
     ]
    },
    {
     "name": "stdout",
     "output_type": "stream",
     "text": [
      "Slice: 30. Convergence reached. Iterations: 102. reduced chi2: 2.72\n"
     ]
    },
    {
     "name": "stderr",
     "output_type": "stream",
     "text": [
      "/home/jmcle/anaconda3/lib/python3.9/site-packages/geomagindices/base.py:37: FutureWarning: Passing method to DatetimeIndex.get_loc is deprecated and will raise in a future version. Use index.get_indexer([item], method=...) instead.\n",
      "  i = [dat.index.get_loc(t, method=\"nearest\") for t in dtime]\n",
      "/home/jmcle/anaconda3/lib/python3.9/site-packages/geomagindices/base.py:37: FutureWarning: Passing method to DatetimeIndex.get_loc is deprecated and will raise in a future version. Use index.get_indexer([item], method=...) instead.\n",
      "  i = [dat.index.get_loc(t, method=\"nearest\") for t in dtime]\n"
     ]
    },
    {
     "name": "stdout",
     "output_type": "stream",
     "text": [
      "Slice: 31. Convergence reached. Iterations: 370. reduced chi2: 2.94\n"
     ]
    },
    {
     "name": "stderr",
     "output_type": "stream",
     "text": [
      "/home/jmcle/anaconda3/lib/python3.9/site-packages/geomagindices/base.py:37: FutureWarning: Passing method to DatetimeIndex.get_loc is deprecated and will raise in a future version. Use index.get_indexer([item], method=...) instead.\n",
      "  i = [dat.index.get_loc(t, method=\"nearest\") for t in dtime]\n",
      "/home/jmcle/anaconda3/lib/python3.9/site-packages/geomagindices/base.py:37: FutureWarning: Passing method to DatetimeIndex.get_loc is deprecated and will raise in a future version. Use index.get_indexer([item], method=...) instead.\n",
      "  i = [dat.index.get_loc(t, method=\"nearest\") for t in dtime]\n"
     ]
    },
    {
     "name": "stdout",
     "output_type": "stream",
     "text": [
      "Slice: 32. Convergence reached. Iterations: 276. reduced chi2: 3.13\n"
     ]
    },
    {
     "name": "stderr",
     "output_type": "stream",
     "text": [
      "/home/jmcle/anaconda3/lib/python3.9/site-packages/geomagindices/base.py:37: FutureWarning: Passing method to DatetimeIndex.get_loc is deprecated and will raise in a future version. Use index.get_indexer([item], method=...) instead.\n",
      "  i = [dat.index.get_loc(t, method=\"nearest\") for t in dtime]\n",
      "/home/jmcle/anaconda3/lib/python3.9/site-packages/geomagindices/base.py:37: FutureWarning: Passing method to DatetimeIndex.get_loc is deprecated and will raise in a future version. Use index.get_indexer([item], method=...) instead.\n",
      "  i = [dat.index.get_loc(t, method=\"nearest\") for t in dtime]\n"
     ]
    },
    {
     "name": "stdout",
     "output_type": "stream",
     "text": [
      "Slice: 33. Convergence reached. Iterations: 163. reduced chi2: 2.32\n"
     ]
    },
    {
     "name": "stderr",
     "output_type": "stream",
     "text": [
      "/home/jmcle/anaconda3/lib/python3.9/site-packages/geomagindices/base.py:37: FutureWarning: Passing method to DatetimeIndex.get_loc is deprecated and will raise in a future version. Use index.get_indexer([item], method=...) instead.\n",
      "  i = [dat.index.get_loc(t, method=\"nearest\") for t in dtime]\n",
      "/home/jmcle/anaconda3/lib/python3.9/site-packages/geomagindices/base.py:37: FutureWarning: Passing method to DatetimeIndex.get_loc is deprecated and will raise in a future version. Use index.get_indexer([item], method=...) instead.\n",
      "  i = [dat.index.get_loc(t, method=\"nearest\") for t in dtime]\n"
     ]
    },
    {
     "name": "stdout",
     "output_type": "stream",
     "text": [
      "Slice: 34. Not converging. Stopping. chi2 = 121.43\n"
     ]
    },
    {
     "name": "stderr",
     "output_type": "stream",
     "text": [
      "/home/jmcle/anaconda3/lib/python3.9/site-packages/geomagindices/base.py:37: FutureWarning: Passing method to DatetimeIndex.get_loc is deprecated and will raise in a future version. Use index.get_indexer([item], method=...) instead.\n",
      "  i = [dat.index.get_loc(t, method=\"nearest\") for t in dtime]\n",
      "/home/jmcle/anaconda3/lib/python3.9/site-packages/geomagindices/base.py:37: FutureWarning: Passing method to DatetimeIndex.get_loc is deprecated and will raise in a future version. Use index.get_indexer([item], method=...) instead.\n",
      "  i = [dat.index.get_loc(t, method=\"nearest\") for t in dtime]\n"
     ]
    },
    {
     "name": "stdout",
     "output_type": "stream",
     "text": [
      "Slice: 35. Convergence reached. Iterations: 151. reduced chi2: 2.67\n"
     ]
    },
    {
     "name": "stderr",
     "output_type": "stream",
     "text": [
      "/home/jmcle/anaconda3/lib/python3.9/site-packages/geomagindices/base.py:37: FutureWarning: Passing method to DatetimeIndex.get_loc is deprecated and will raise in a future version. Use index.get_indexer([item], method=...) instead.\n",
      "  i = [dat.index.get_loc(t, method=\"nearest\") for t in dtime]\n",
      "/home/jmcle/anaconda3/lib/python3.9/site-packages/geomagindices/base.py:37: FutureWarning: Passing method to DatetimeIndex.get_loc is deprecated and will raise in a future version. Use index.get_indexer([item], method=...) instead.\n",
      "  i = [dat.index.get_loc(t, method=\"nearest\") for t in dtime]\n"
     ]
    },
    {
     "name": "stdout",
     "output_type": "stream",
     "text": [
      "Slice: 36. Convergence reached. Iterations: 135. reduced chi2: 2.77\n"
     ]
    },
    {
     "name": "stderr",
     "output_type": "stream",
     "text": [
      "/home/jmcle/anaconda3/lib/python3.9/site-packages/geomagindices/base.py:37: FutureWarning: Passing method to DatetimeIndex.get_loc is deprecated and will raise in a future version. Use index.get_indexer([item], method=...) instead.\n",
      "  i = [dat.index.get_loc(t, method=\"nearest\") for t in dtime]\n",
      "/home/jmcle/anaconda3/lib/python3.9/site-packages/geomagindices/base.py:37: FutureWarning: Passing method to DatetimeIndex.get_loc is deprecated and will raise in a future version. Use index.get_indexer([item], method=...) instead.\n",
      "  i = [dat.index.get_loc(t, method=\"nearest\") for t in dtime]\n"
     ]
    },
    {
     "name": "stdout",
     "output_type": "stream",
     "text": [
      "Slice: 37. Convergence reached. Iterations: 458. reduced chi2: 2.89\n"
     ]
    },
    {
     "name": "stderr",
     "output_type": "stream",
     "text": [
      "/home/jmcle/anaconda3/lib/python3.9/site-packages/geomagindices/base.py:37: FutureWarning: Passing method to DatetimeIndex.get_loc is deprecated and will raise in a future version. Use index.get_indexer([item], method=...) instead.\n",
      "  i = [dat.index.get_loc(t, method=\"nearest\") for t in dtime]\n",
      "/home/jmcle/anaconda3/lib/python3.9/site-packages/geomagindices/base.py:37: FutureWarning: Passing method to DatetimeIndex.get_loc is deprecated and will raise in a future version. Use index.get_indexer([item], method=...) instead.\n",
      "  i = [dat.index.get_loc(t, method=\"nearest\") for t in dtime]\n"
     ]
    },
    {
     "name": "stdout",
     "output_type": "stream",
     "text": [
      "Slice: 38. Convergence reached. Iterations: 86. reduced chi2: 2.33\n"
     ]
    },
    {
     "name": "stderr",
     "output_type": "stream",
     "text": [
      "/home/jmcle/anaconda3/lib/python3.9/site-packages/geomagindices/base.py:37: FutureWarning: Passing method to DatetimeIndex.get_loc is deprecated and will raise in a future version. Use index.get_indexer([item], method=...) instead.\n",
      "  i = [dat.index.get_loc(t, method=\"nearest\") for t in dtime]\n",
      "/home/jmcle/anaconda3/lib/python3.9/site-packages/geomagindices/base.py:37: FutureWarning: Passing method to DatetimeIndex.get_loc is deprecated and will raise in a future version. Use index.get_indexer([item], method=...) instead.\n",
      "  i = [dat.index.get_loc(t, method=\"nearest\") for t in dtime]\n"
     ]
    },
    {
     "name": "stdout",
     "output_type": "stream",
     "text": [
      "Slice: 39. Convergence reached. Iterations: 110. reduced chi2: 2.86\n"
     ]
    },
    {
     "name": "stderr",
     "output_type": "stream",
     "text": [
      "/home/jmcle/anaconda3/lib/python3.9/site-packages/geomagindices/base.py:37: FutureWarning: Passing method to DatetimeIndex.get_loc is deprecated and will raise in a future version. Use index.get_indexer([item], method=...) instead.\n",
      "  i = [dat.index.get_loc(t, method=\"nearest\") for t in dtime]\n",
      "/home/jmcle/anaconda3/lib/python3.9/site-packages/geomagindices/base.py:37: FutureWarning: Passing method to DatetimeIndex.get_loc is deprecated and will raise in a future version. Use index.get_indexer([item], method=...) instead.\n",
      "  i = [dat.index.get_loc(t, method=\"nearest\") for t in dtime]\n"
     ]
    },
    {
     "name": "stdout",
     "output_type": "stream",
     "text": [
      "Slice: 40. Convergence reached. Iterations: 325. reduced chi2: 1.58\n"
     ]
    },
    {
     "name": "stderr",
     "output_type": "stream",
     "text": [
      "/home/jmcle/anaconda3/lib/python3.9/site-packages/geomagindices/base.py:37: FutureWarning: Passing method to DatetimeIndex.get_loc is deprecated and will raise in a future version. Use index.get_indexer([item], method=...) instead.\n",
      "  i = [dat.index.get_loc(t, method=\"nearest\") for t in dtime]\n",
      "/home/jmcle/anaconda3/lib/python3.9/site-packages/geomagindices/base.py:37: FutureWarning: Passing method to DatetimeIndex.get_loc is deprecated and will raise in a future version. Use index.get_indexer([item], method=...) instead.\n",
      "  i = [dat.index.get_loc(t, method=\"nearest\") for t in dtime]\n"
     ]
    },
    {
     "name": "stdout",
     "output_type": "stream",
     "text": [
      "Slice: 41. Convergence reached. Iterations: 90. reduced chi2: 3.45\n"
     ]
    },
    {
     "name": "stderr",
     "output_type": "stream",
     "text": [
      "/home/jmcle/anaconda3/lib/python3.9/site-packages/geomagindices/base.py:37: FutureWarning: Passing method to DatetimeIndex.get_loc is deprecated and will raise in a future version. Use index.get_indexer([item], method=...) instead.\n",
      "  i = [dat.index.get_loc(t, method=\"nearest\") for t in dtime]\n",
      "/home/jmcle/anaconda3/lib/python3.9/site-packages/geomagindices/base.py:37: FutureWarning: Passing method to DatetimeIndex.get_loc is deprecated and will raise in a future version. Use index.get_indexer([item], method=...) instead.\n",
      "  i = [dat.index.get_loc(t, method=\"nearest\") for t in dtime]\n"
     ]
    },
    {
     "name": "stdout",
     "output_type": "stream",
     "text": [
      "Slice: 42. Convergence reached. Iterations: 108. reduced chi2: 3.35\n"
     ]
    },
    {
     "name": "stderr",
     "output_type": "stream",
     "text": [
      "/home/jmcle/anaconda3/lib/python3.9/site-packages/geomagindices/base.py:37: FutureWarning: Passing method to DatetimeIndex.get_loc is deprecated and will raise in a future version. Use index.get_indexer([item], method=...) instead.\n",
      "  i = [dat.index.get_loc(t, method=\"nearest\") for t in dtime]\n",
      "/home/jmcle/anaconda3/lib/python3.9/site-packages/geomagindices/base.py:37: FutureWarning: Passing method to DatetimeIndex.get_loc is deprecated and will raise in a future version. Use index.get_indexer([item], method=...) instead.\n",
      "  i = [dat.index.get_loc(t, method=\"nearest\") for t in dtime]\n"
     ]
    },
    {
     "name": "stdout",
     "output_type": "stream",
     "text": [
      "Slice: 43. Convergence reached. Iterations: 107. reduced chi2: 3.14\n"
     ]
    },
    {
     "name": "stderr",
     "output_type": "stream",
     "text": [
      "/home/jmcle/anaconda3/lib/python3.9/site-packages/geomagindices/base.py:37: FutureWarning: Passing method to DatetimeIndex.get_loc is deprecated and will raise in a future version. Use index.get_indexer([item], method=...) instead.\n",
      "  i = [dat.index.get_loc(t, method=\"nearest\") for t in dtime]\n",
      "/home/jmcle/anaconda3/lib/python3.9/site-packages/geomagindices/base.py:37: FutureWarning: Passing method to DatetimeIndex.get_loc is deprecated and will raise in a future version. Use index.get_indexer([item], method=...) instead.\n",
      "  i = [dat.index.get_loc(t, method=\"nearest\") for t in dtime]\n"
     ]
    },
    {
     "name": "stdout",
     "output_type": "stream",
     "text": [
      "Slice: 44. Convergence reached. Iterations: 152. reduced chi2: 2.24\n"
     ]
    },
    {
     "name": "stderr",
     "output_type": "stream",
     "text": [
      "/home/jmcle/anaconda3/lib/python3.9/site-packages/geomagindices/base.py:37: FutureWarning: Passing method to DatetimeIndex.get_loc is deprecated and will raise in a future version. Use index.get_indexer([item], method=...) instead.\n",
      "  i = [dat.index.get_loc(t, method=\"nearest\") for t in dtime]\n",
      "/home/jmcle/anaconda3/lib/python3.9/site-packages/geomagindices/base.py:37: FutureWarning: Passing method to DatetimeIndex.get_loc is deprecated and will raise in a future version. Use index.get_indexer([item], method=...) instead.\n",
      "  i = [dat.index.get_loc(t, method=\"nearest\") for t in dtime]\n"
     ]
    },
    {
     "name": "stdout",
     "output_type": "stream",
     "text": [
      "Slice: 45. Convergence reached. Iterations: 261. reduced chi2: 1.99\n"
     ]
    },
    {
     "name": "stderr",
     "output_type": "stream",
     "text": [
      "/home/jmcle/anaconda3/lib/python3.9/site-packages/geomagindices/base.py:37: FutureWarning: Passing method to DatetimeIndex.get_loc is deprecated and will raise in a future version. Use index.get_indexer([item], method=...) instead.\n",
      "  i = [dat.index.get_loc(t, method=\"nearest\") for t in dtime]\n",
      "/home/jmcle/anaconda3/lib/python3.9/site-packages/geomagindices/base.py:37: FutureWarning: Passing method to DatetimeIndex.get_loc is deprecated and will raise in a future version. Use index.get_indexer([item], method=...) instead.\n",
      "  i = [dat.index.get_loc(t, method=\"nearest\") for t in dtime]\n"
     ]
    },
    {
     "name": "stdout",
     "output_type": "stream",
     "text": [
      "Slice: 46. Convergence reached. Iterations: 111. reduced chi2: 2.83\n"
     ]
    },
    {
     "name": "stderr",
     "output_type": "stream",
     "text": [
      "/home/jmcle/anaconda3/lib/python3.9/site-packages/geomagindices/base.py:37: FutureWarning: Passing method to DatetimeIndex.get_loc is deprecated and will raise in a future version. Use index.get_indexer([item], method=...) instead.\n",
      "  i = [dat.index.get_loc(t, method=\"nearest\") for t in dtime]\n",
      "/home/jmcle/anaconda3/lib/python3.9/site-packages/geomagindices/base.py:37: FutureWarning: Passing method to DatetimeIndex.get_loc is deprecated and will raise in a future version. Use index.get_indexer([item], method=...) instead.\n",
      "  i = [dat.index.get_loc(t, method=\"nearest\") for t in dtime]\n"
     ]
    },
    {
     "name": "stdout",
     "output_type": "stream",
     "text": [
      "Slice: 47. Convergence reached. Iterations: 90. reduced chi2: 2.11\n"
     ]
    },
    {
     "name": "stderr",
     "output_type": "stream",
     "text": [
      "/home/jmcle/anaconda3/lib/python3.9/site-packages/geomagindices/base.py:37: FutureWarning: Passing method to DatetimeIndex.get_loc is deprecated and will raise in a future version. Use index.get_indexer([item], method=...) instead.\n",
      "  i = [dat.index.get_loc(t, method=\"nearest\") for t in dtime]\n",
      "/home/jmcle/anaconda3/lib/python3.9/site-packages/geomagindices/base.py:37: FutureWarning: Passing method to DatetimeIndex.get_loc is deprecated and will raise in a future version. Use index.get_indexer([item], method=...) instead.\n",
      "  i = [dat.index.get_loc(t, method=\"nearest\") for t in dtime]\n"
     ]
    },
    {
     "name": "stdout",
     "output_type": "stream",
     "text": [
      "Slice: 48. Convergence reached. Iterations: 128. reduced chi2: 2.57\n"
     ]
    },
    {
     "name": "stderr",
     "output_type": "stream",
     "text": [
      "/home/jmcle/anaconda3/lib/python3.9/site-packages/geomagindices/base.py:37: FutureWarning: Passing method to DatetimeIndex.get_loc is deprecated and will raise in a future version. Use index.get_indexer([item], method=...) instead.\n",
      "  i = [dat.index.get_loc(t, method=\"nearest\") for t in dtime]\n",
      "/home/jmcle/anaconda3/lib/python3.9/site-packages/geomagindices/base.py:37: FutureWarning: Passing method to DatetimeIndex.get_loc is deprecated and will raise in a future version. Use index.get_indexer([item], method=...) instead.\n",
      "  i = [dat.index.get_loc(t, method=\"nearest\") for t in dtime]\n"
     ]
    },
    {
     "name": "stdout",
     "output_type": "stream",
     "text": [
      "Slice: 49. Convergence reached. Iterations: 111. reduced chi2: 1.96\n"
     ]
    },
    {
     "name": "stderr",
     "output_type": "stream",
     "text": [
      "/home/jmcle/anaconda3/lib/python3.9/site-packages/geomagindices/base.py:37: FutureWarning: Passing method to DatetimeIndex.get_loc is deprecated and will raise in a future version. Use index.get_indexer([item], method=...) instead.\n",
      "  i = [dat.index.get_loc(t, method=\"nearest\") for t in dtime]\n",
      "/home/jmcle/anaconda3/lib/python3.9/site-packages/geomagindices/base.py:37: FutureWarning: Passing method to DatetimeIndex.get_loc is deprecated and will raise in a future version. Use index.get_indexer([item], method=...) instead.\n",
      "  i = [dat.index.get_loc(t, method=\"nearest\") for t in dtime]\n"
     ]
    },
    {
     "name": "stdout",
     "output_type": "stream",
     "text": [
      "Slice: 50. Convergence reached. Iterations: 375. reduced chi2: 1.85\n"
     ]
    },
    {
     "name": "stderr",
     "output_type": "stream",
     "text": [
      "/home/jmcle/anaconda3/lib/python3.9/site-packages/geomagindices/base.py:37: FutureWarning: Passing method to DatetimeIndex.get_loc is deprecated and will raise in a future version. Use index.get_indexer([item], method=...) instead.\n",
      "  i = [dat.index.get_loc(t, method=\"nearest\") for t in dtime]\n",
      "/home/jmcle/anaconda3/lib/python3.9/site-packages/geomagindices/base.py:37: FutureWarning: Passing method to DatetimeIndex.get_loc is deprecated and will raise in a future version. Use index.get_indexer([item], method=...) instead.\n",
      "  i = [dat.index.get_loc(t, method=\"nearest\") for t in dtime]\n"
     ]
    },
    {
     "name": "stdout",
     "output_type": "stream",
     "text": [
      "Slice: 51. Convergence reached. Iterations: 83. reduced chi2: 1.45\n"
     ]
    },
    {
     "name": "stderr",
     "output_type": "stream",
     "text": [
      "/home/jmcle/anaconda3/lib/python3.9/site-packages/geomagindices/base.py:37: FutureWarning: Passing method to DatetimeIndex.get_loc is deprecated and will raise in a future version. Use index.get_indexer([item], method=...) instead.\n",
      "  i = [dat.index.get_loc(t, method=\"nearest\") for t in dtime]\n",
      "/home/jmcle/anaconda3/lib/python3.9/site-packages/geomagindices/base.py:37: FutureWarning: Passing method to DatetimeIndex.get_loc is deprecated and will raise in a future version. Use index.get_indexer([item], method=...) instead.\n",
      "  i = [dat.index.get_loc(t, method=\"nearest\") for t in dtime]\n"
     ]
    },
    {
     "name": "stdout",
     "output_type": "stream",
     "text": [
      "Slice: 52. Convergence reached. Iterations: 123. reduced chi2: 2.4\n"
     ]
    },
    {
     "name": "stderr",
     "output_type": "stream",
     "text": [
      "/home/jmcle/anaconda3/lib/python3.9/site-packages/geomagindices/base.py:37: FutureWarning: Passing method to DatetimeIndex.get_loc is deprecated and will raise in a future version. Use index.get_indexer([item], method=...) instead.\n",
      "  i = [dat.index.get_loc(t, method=\"nearest\") for t in dtime]\n",
      "/home/jmcle/anaconda3/lib/python3.9/site-packages/geomagindices/base.py:37: FutureWarning: Passing method to DatetimeIndex.get_loc is deprecated and will raise in a future version. Use index.get_indexer([item], method=...) instead.\n",
      "  i = [dat.index.get_loc(t, method=\"nearest\") for t in dtime]\n"
     ]
    },
    {
     "name": "stdout",
     "output_type": "stream",
     "text": [
      "Slice: 53. Convergence reached. Iterations: 162. reduced chi2: 1.54\n"
     ]
    },
    {
     "name": "stderr",
     "output_type": "stream",
     "text": [
      "/home/jmcle/anaconda3/lib/python3.9/site-packages/geomagindices/base.py:37: FutureWarning: Passing method to DatetimeIndex.get_loc is deprecated and will raise in a future version. Use index.get_indexer([item], method=...) instead.\n",
      "  i = [dat.index.get_loc(t, method=\"nearest\") for t in dtime]\n",
      "/home/jmcle/anaconda3/lib/python3.9/site-packages/geomagindices/base.py:37: FutureWarning: Passing method to DatetimeIndex.get_loc is deprecated and will raise in a future version. Use index.get_indexer([item], method=...) instead.\n",
      "  i = [dat.index.get_loc(t, method=\"nearest\") for t in dtime]\n"
     ]
    },
    {
     "name": "stdout",
     "output_type": "stream",
     "text": [
      "Slice: 54. Convergence reached. Iterations: 199. reduced chi2: 2.28\n"
     ]
    },
    {
     "name": "stderr",
     "output_type": "stream",
     "text": [
      "/home/jmcle/anaconda3/lib/python3.9/site-packages/geomagindices/base.py:37: FutureWarning: Passing method to DatetimeIndex.get_loc is deprecated and will raise in a future version. Use index.get_indexer([item], method=...) instead.\n",
      "  i = [dat.index.get_loc(t, method=\"nearest\") for t in dtime]\n",
      "/home/jmcle/anaconda3/lib/python3.9/site-packages/geomagindices/base.py:37: FutureWarning: Passing method to DatetimeIndex.get_loc is deprecated and will raise in a future version. Use index.get_indexer([item], method=...) instead.\n",
      "  i = [dat.index.get_loc(t, method=\"nearest\") for t in dtime]\n"
     ]
    },
    {
     "name": "stdout",
     "output_type": "stream",
     "text": [
      "Slice: 55. Convergence reached. Iterations: 156. reduced chi2: 1.46\n"
     ]
    },
    {
     "name": "stderr",
     "output_type": "stream",
     "text": [
      "/home/jmcle/anaconda3/lib/python3.9/site-packages/geomagindices/base.py:37: FutureWarning: Passing method to DatetimeIndex.get_loc is deprecated and will raise in a future version. Use index.get_indexer([item], method=...) instead.\n",
      "  i = [dat.index.get_loc(t, method=\"nearest\") for t in dtime]\n",
      "/home/jmcle/anaconda3/lib/python3.9/site-packages/geomagindices/base.py:37: FutureWarning: Passing method to DatetimeIndex.get_loc is deprecated and will raise in a future version. Use index.get_indexer([item], method=...) instead.\n",
      "  i = [dat.index.get_loc(t, method=\"nearest\") for t in dtime]\n"
     ]
    },
    {
     "name": "stdout",
     "output_type": "stream",
     "text": [
      "Slice: 56. Convergence reached. Iterations: 92. reduced chi2: 1.94\n"
     ]
    },
    {
     "name": "stderr",
     "output_type": "stream",
     "text": [
      "/home/jmcle/anaconda3/lib/python3.9/site-packages/geomagindices/base.py:37: FutureWarning: Passing method to DatetimeIndex.get_loc is deprecated and will raise in a future version. Use index.get_indexer([item], method=...) instead.\n",
      "  i = [dat.index.get_loc(t, method=\"nearest\") for t in dtime]\n",
      "/home/jmcle/anaconda3/lib/python3.9/site-packages/geomagindices/base.py:37: FutureWarning: Passing method to DatetimeIndex.get_loc is deprecated and will raise in a future version. Use index.get_indexer([item], method=...) instead.\n",
      "  i = [dat.index.get_loc(t, method=\"nearest\") for t in dtime]\n"
     ]
    },
    {
     "name": "stdout",
     "output_type": "stream",
     "text": [
      "Slice: 57. Convergence reached. Iterations: 124. reduced chi2: 2.02\n"
     ]
    },
    {
     "name": "stderr",
     "output_type": "stream",
     "text": [
      "/home/jmcle/anaconda3/lib/python3.9/site-packages/geomagindices/base.py:37: FutureWarning: Passing method to DatetimeIndex.get_loc is deprecated and will raise in a future version. Use index.get_indexer([item], method=...) instead.\n",
      "  i = [dat.index.get_loc(t, method=\"nearest\") for t in dtime]\n",
      "/home/jmcle/anaconda3/lib/python3.9/site-packages/geomagindices/base.py:37: FutureWarning: Passing method to DatetimeIndex.get_loc is deprecated and will raise in a future version. Use index.get_indexer([item], method=...) instead.\n",
      "  i = [dat.index.get_loc(t, method=\"nearest\") for t in dtime]\n"
     ]
    },
    {
     "name": "stdout",
     "output_type": "stream",
     "text": [
      "Slice: 58. Convergence reached. Iterations: 109. reduced chi2: 1.72\n"
     ]
    },
    {
     "name": "stderr",
     "output_type": "stream",
     "text": [
      "/home/jmcle/anaconda3/lib/python3.9/site-packages/geomagindices/base.py:37: FutureWarning: Passing method to DatetimeIndex.get_loc is deprecated and will raise in a future version. Use index.get_indexer([item], method=...) instead.\n",
      "  i = [dat.index.get_loc(t, method=\"nearest\") for t in dtime]\n",
      "/home/jmcle/anaconda3/lib/python3.9/site-packages/geomagindices/base.py:37: FutureWarning: Passing method to DatetimeIndex.get_loc is deprecated and will raise in a future version. Use index.get_indexer([item], method=...) instead.\n",
      "  i = [dat.index.get_loc(t, method=\"nearest\") for t in dtime]\n"
     ]
    },
    {
     "name": "stdout",
     "output_type": "stream",
     "text": [
      "Slice: 59. Convergence reached. Iterations: 86. reduced chi2: 2.69\n"
     ]
    },
    {
     "name": "stderr",
     "output_type": "stream",
     "text": [
      "/home/jmcle/anaconda3/lib/python3.9/site-packages/geomagindices/base.py:37: FutureWarning: Passing method to DatetimeIndex.get_loc is deprecated and will raise in a future version. Use index.get_indexer([item], method=...) instead.\n",
      "  i = [dat.index.get_loc(t, method=\"nearest\") for t in dtime]\n",
      "/home/jmcle/anaconda3/lib/python3.9/site-packages/geomagindices/base.py:37: FutureWarning: Passing method to DatetimeIndex.get_loc is deprecated and will raise in a future version. Use index.get_indexer([item], method=...) instead.\n",
      "  i = [dat.index.get_loc(t, method=\"nearest\") for t in dtime]\n"
     ]
    },
    {
     "name": "stdout",
     "output_type": "stream",
     "text": [
      "Slice: 60. Convergence reached. Iterations: 253. reduced chi2: 2.5\n"
     ]
    },
    {
     "name": "stderr",
     "output_type": "stream",
     "text": [
      "/home/jmcle/anaconda3/lib/python3.9/site-packages/geomagindices/base.py:37: FutureWarning: Passing method to DatetimeIndex.get_loc is deprecated and will raise in a future version. Use index.get_indexer([item], method=...) instead.\n",
      "  i = [dat.index.get_loc(t, method=\"nearest\") for t in dtime]\n",
      "/home/jmcle/anaconda3/lib/python3.9/site-packages/geomagindices/base.py:37: FutureWarning: Passing method to DatetimeIndex.get_loc is deprecated and will raise in a future version. Use index.get_indexer([item], method=...) instead.\n",
      "  i = [dat.index.get_loc(t, method=\"nearest\") for t in dtime]\n"
     ]
    },
    {
     "name": "stdout",
     "output_type": "stream",
     "text": [
      "Slice: 61. Convergence reached. Iterations: 225. reduced chi2: 2.19\n"
     ]
    },
    {
     "name": "stderr",
     "output_type": "stream",
     "text": [
      "/home/jmcle/anaconda3/lib/python3.9/site-packages/geomagindices/base.py:37: FutureWarning: Passing method to DatetimeIndex.get_loc is deprecated and will raise in a future version. Use index.get_indexer([item], method=...) instead.\n",
      "  i = [dat.index.get_loc(t, method=\"nearest\") for t in dtime]\n",
      "/home/jmcle/anaconda3/lib/python3.9/site-packages/geomagindices/base.py:37: FutureWarning: Passing method to DatetimeIndex.get_loc is deprecated and will raise in a future version. Use index.get_indexer([item], method=...) instead.\n",
      "  i = [dat.index.get_loc(t, method=\"nearest\") for t in dtime]\n"
     ]
    },
    {
     "name": "stdout",
     "output_type": "stream",
     "text": [
      "Slice: 62. Convergence reached. Iterations: 201. reduced chi2: 1.67\n"
     ]
    },
    {
     "name": "stderr",
     "output_type": "stream",
     "text": [
      "/home/jmcle/anaconda3/lib/python3.9/site-packages/geomagindices/base.py:37: FutureWarning: Passing method to DatetimeIndex.get_loc is deprecated and will raise in a future version. Use index.get_indexer([item], method=...) instead.\n",
      "  i = [dat.index.get_loc(t, method=\"nearest\") for t in dtime]\n",
      "/home/jmcle/anaconda3/lib/python3.9/site-packages/geomagindices/base.py:37: FutureWarning: Passing method to DatetimeIndex.get_loc is deprecated and will raise in a future version. Use index.get_indexer([item], method=...) instead.\n",
      "  i = [dat.index.get_loc(t, method=\"nearest\") for t in dtime]\n"
     ]
    },
    {
     "name": "stdout",
     "output_type": "stream",
     "text": [
      "Slice: 63. Convergence reached. Iterations: 161. reduced chi2: 2.0\n"
     ]
    },
    {
     "name": "stderr",
     "output_type": "stream",
     "text": [
      "/home/jmcle/anaconda3/lib/python3.9/site-packages/geomagindices/base.py:37: FutureWarning: Passing method to DatetimeIndex.get_loc is deprecated and will raise in a future version. Use index.get_indexer([item], method=...) instead.\n",
      "  i = [dat.index.get_loc(t, method=\"nearest\") for t in dtime]\n",
      "/home/jmcle/anaconda3/lib/python3.9/site-packages/geomagindices/base.py:37: FutureWarning: Passing method to DatetimeIndex.get_loc is deprecated and will raise in a future version. Use index.get_indexer([item], method=...) instead.\n",
      "  i = [dat.index.get_loc(t, method=\"nearest\") for t in dtime]\n"
     ]
    },
    {
     "name": "stdout",
     "output_type": "stream",
     "text": [
      "Slice: 64. Convergence reached. Iterations: 113. reduced chi2: 2.14\n"
     ]
    },
    {
     "name": "stderr",
     "output_type": "stream",
     "text": [
      "/home/jmcle/anaconda3/lib/python3.9/site-packages/geomagindices/base.py:37: FutureWarning: Passing method to DatetimeIndex.get_loc is deprecated and will raise in a future version. Use index.get_indexer([item], method=...) instead.\n",
      "  i = [dat.index.get_loc(t, method=\"nearest\") for t in dtime]\n",
      "/home/jmcle/anaconda3/lib/python3.9/site-packages/geomagindices/base.py:37: FutureWarning: Passing method to DatetimeIndex.get_loc is deprecated and will raise in a future version. Use index.get_indexer([item], method=...) instead.\n",
      "  i = [dat.index.get_loc(t, method=\"nearest\") for t in dtime]\n"
     ]
    },
    {
     "name": "stdout",
     "output_type": "stream",
     "text": [
      "Slice: 65. Convergence reached. Iterations: 270. reduced chi2: 2.19\n"
     ]
    },
    {
     "name": "stderr",
     "output_type": "stream",
     "text": [
      "/home/jmcle/anaconda3/lib/python3.9/site-packages/geomagindices/base.py:37: FutureWarning: Passing method to DatetimeIndex.get_loc is deprecated and will raise in a future version. Use index.get_indexer([item], method=...) instead.\n",
      "  i = [dat.index.get_loc(t, method=\"nearest\") for t in dtime]\n",
      "/home/jmcle/anaconda3/lib/python3.9/site-packages/geomagindices/base.py:37: FutureWarning: Passing method to DatetimeIndex.get_loc is deprecated and will raise in a future version. Use index.get_indexer([item], method=...) instead.\n",
      "  i = [dat.index.get_loc(t, method=\"nearest\") for t in dtime]\n"
     ]
    },
    {
     "name": "stdout",
     "output_type": "stream",
     "text": [
      "Slice: 66. Convergence reached. Iterations: 116. reduced chi2: 1.71\n"
     ]
    },
    {
     "name": "stderr",
     "output_type": "stream",
     "text": [
      "/home/jmcle/anaconda3/lib/python3.9/site-packages/geomagindices/base.py:37: FutureWarning: Passing method to DatetimeIndex.get_loc is deprecated and will raise in a future version. Use index.get_indexer([item], method=...) instead.\n",
      "  i = [dat.index.get_loc(t, method=\"nearest\") for t in dtime]\n",
      "/home/jmcle/anaconda3/lib/python3.9/site-packages/geomagindices/base.py:37: FutureWarning: Passing method to DatetimeIndex.get_loc is deprecated and will raise in a future version. Use index.get_indexer([item], method=...) instead.\n",
      "  i = [dat.index.get_loc(t, method=\"nearest\") for t in dtime]\n"
     ]
    },
    {
     "name": "stdout",
     "output_type": "stream",
     "text": [
      "Slice: 67. Convergence reached. Iterations: 254. reduced chi2: 2.74\n"
     ]
    },
    {
     "name": "stderr",
     "output_type": "stream",
     "text": [
      "/home/jmcle/anaconda3/lib/python3.9/site-packages/geomagindices/base.py:37: FutureWarning: Passing method to DatetimeIndex.get_loc is deprecated and will raise in a future version. Use index.get_indexer([item], method=...) instead.\n",
      "  i = [dat.index.get_loc(t, method=\"nearest\") for t in dtime]\n",
      "/home/jmcle/anaconda3/lib/python3.9/site-packages/geomagindices/base.py:37: FutureWarning: Passing method to DatetimeIndex.get_loc is deprecated and will raise in a future version. Use index.get_indexer([item], method=...) instead.\n",
      "  i = [dat.index.get_loc(t, method=\"nearest\") for t in dtime]\n"
     ]
    },
    {
     "name": "stdout",
     "output_type": "stream",
     "text": [
      "Slice: 68. Convergence reached. Iterations: 153. reduced chi2: 2.43\n"
     ]
    },
    {
     "name": "stderr",
     "output_type": "stream",
     "text": [
      "/home/jmcle/anaconda3/lib/python3.9/site-packages/geomagindices/base.py:37: FutureWarning: Passing method to DatetimeIndex.get_loc is deprecated and will raise in a future version. Use index.get_indexer([item], method=...) instead.\n",
      "  i = [dat.index.get_loc(t, method=\"nearest\") for t in dtime]\n",
      "/home/jmcle/anaconda3/lib/python3.9/site-packages/geomagindices/base.py:37: FutureWarning: Passing method to DatetimeIndex.get_loc is deprecated and will raise in a future version. Use index.get_indexer([item], method=...) instead.\n",
      "  i = [dat.index.get_loc(t, method=\"nearest\") for t in dtime]\n"
     ]
    },
    {
     "name": "stdout",
     "output_type": "stream",
     "text": [
      "Slice: 69. Convergence reached. Iterations: 168. reduced chi2: 1.79\n"
     ]
    },
    {
     "name": "stderr",
     "output_type": "stream",
     "text": [
      "/home/jmcle/anaconda3/lib/python3.9/site-packages/geomagindices/base.py:37: FutureWarning: Passing method to DatetimeIndex.get_loc is deprecated and will raise in a future version. Use index.get_indexer([item], method=...) instead.\n",
      "  i = [dat.index.get_loc(t, method=\"nearest\") for t in dtime]\n",
      "/home/jmcle/anaconda3/lib/python3.9/site-packages/geomagindices/base.py:37: FutureWarning: Passing method to DatetimeIndex.get_loc is deprecated and will raise in a future version. Use index.get_indexer([item], method=...) instead.\n",
      "  i = [dat.index.get_loc(t, method=\"nearest\") for t in dtime]\n"
     ]
    },
    {
     "name": "stdout",
     "output_type": "stream",
     "text": [
      "Slice: 70. Convergence reached. Iterations: 115. reduced chi2: 1.71\n"
     ]
    },
    {
     "name": "stderr",
     "output_type": "stream",
     "text": [
      "/home/jmcle/anaconda3/lib/python3.9/site-packages/geomagindices/base.py:37: FutureWarning: Passing method to DatetimeIndex.get_loc is deprecated and will raise in a future version. Use index.get_indexer([item], method=...) instead.\n",
      "  i = [dat.index.get_loc(t, method=\"nearest\") for t in dtime]\n",
      "/home/jmcle/anaconda3/lib/python3.9/site-packages/geomagindices/base.py:37: FutureWarning: Passing method to DatetimeIndex.get_loc is deprecated and will raise in a future version. Use index.get_indexer([item], method=...) instead.\n",
      "  i = [dat.index.get_loc(t, method=\"nearest\") for t in dtime]\n"
     ]
    },
    {
     "name": "stdout",
     "output_type": "stream",
     "text": [
      "Slice: 71. Convergence reached. Iterations: 136. reduced chi2: 2.02\n"
     ]
    },
    {
     "name": "stderr",
     "output_type": "stream",
     "text": [
      "/home/jmcle/anaconda3/lib/python3.9/site-packages/geomagindices/base.py:37: FutureWarning: Passing method to DatetimeIndex.get_loc is deprecated and will raise in a future version. Use index.get_indexer([item], method=...) instead.\n",
      "  i = [dat.index.get_loc(t, method=\"nearest\") for t in dtime]\n",
      "/home/jmcle/anaconda3/lib/python3.9/site-packages/geomagindices/base.py:37: FutureWarning: Passing method to DatetimeIndex.get_loc is deprecated and will raise in a future version. Use index.get_indexer([item], method=...) instead.\n",
      "  i = [dat.index.get_loc(t, method=\"nearest\") for t in dtime]\n"
     ]
    },
    {
     "name": "stdout",
     "output_type": "stream",
     "text": [
      "Slice: 72. Convergence reached. Iterations: 174. reduced chi2: 1.77\n"
     ]
    },
    {
     "name": "stderr",
     "output_type": "stream",
     "text": [
      "/home/jmcle/anaconda3/lib/python3.9/site-packages/geomagindices/base.py:37: FutureWarning: Passing method to DatetimeIndex.get_loc is deprecated and will raise in a future version. Use index.get_indexer([item], method=...) instead.\n",
      "  i = [dat.index.get_loc(t, method=\"nearest\") for t in dtime]\n",
      "/home/jmcle/anaconda3/lib/python3.9/site-packages/geomagindices/base.py:37: FutureWarning: Passing method to DatetimeIndex.get_loc is deprecated and will raise in a future version. Use index.get_indexer([item], method=...) instead.\n",
      "  i = [dat.index.get_loc(t, method=\"nearest\") for t in dtime]\n"
     ]
    },
    {
     "name": "stdout",
     "output_type": "stream",
     "text": [
      "Slice: 73. Convergence reached. Iterations: 67. reduced chi2: 2.01\n"
     ]
    },
    {
     "name": "stderr",
     "output_type": "stream",
     "text": [
      "/home/jmcle/anaconda3/lib/python3.9/site-packages/geomagindices/base.py:37: FutureWarning: Passing method to DatetimeIndex.get_loc is deprecated and will raise in a future version. Use index.get_indexer([item], method=...) instead.\n",
      "  i = [dat.index.get_loc(t, method=\"nearest\") for t in dtime]\n",
      "/home/jmcle/anaconda3/lib/python3.9/site-packages/geomagindices/base.py:37: FutureWarning: Passing method to DatetimeIndex.get_loc is deprecated and will raise in a future version. Use index.get_indexer([item], method=...) instead.\n",
      "  i = [dat.index.get_loc(t, method=\"nearest\") for t in dtime]\n"
     ]
    },
    {
     "name": "stdout",
     "output_type": "stream",
     "text": [
      "Slice: 74. Convergence reached. Iterations: 153. reduced chi2: 1.69\n"
     ]
    },
    {
     "name": "stderr",
     "output_type": "stream",
     "text": [
      "/home/jmcle/anaconda3/lib/python3.9/site-packages/geomagindices/base.py:37: FutureWarning: Passing method to DatetimeIndex.get_loc is deprecated and will raise in a future version. Use index.get_indexer([item], method=...) instead.\n",
      "  i = [dat.index.get_loc(t, method=\"nearest\") for t in dtime]\n",
      "/home/jmcle/anaconda3/lib/python3.9/site-packages/geomagindices/base.py:37: FutureWarning: Passing method to DatetimeIndex.get_loc is deprecated and will raise in a future version. Use index.get_indexer([item], method=...) instead.\n",
      "  i = [dat.index.get_loc(t, method=\"nearest\") for t in dtime]\n"
     ]
    },
    {
     "name": "stdout",
     "output_type": "stream",
     "text": [
      "Slice: 75. Convergence reached. Iterations: 320. reduced chi2: 1.82\n"
     ]
    },
    {
     "name": "stderr",
     "output_type": "stream",
     "text": [
      "/home/jmcle/anaconda3/lib/python3.9/site-packages/geomagindices/base.py:37: FutureWarning: Passing method to DatetimeIndex.get_loc is deprecated and will raise in a future version. Use index.get_indexer([item], method=...) instead.\n",
      "  i = [dat.index.get_loc(t, method=\"nearest\") for t in dtime]\n",
      "/home/jmcle/anaconda3/lib/python3.9/site-packages/geomagindices/base.py:37: FutureWarning: Passing method to DatetimeIndex.get_loc is deprecated and will raise in a future version. Use index.get_indexer([item], method=...) instead.\n",
      "  i = [dat.index.get_loc(t, method=\"nearest\") for t in dtime]\n"
     ]
    },
    {
     "name": "stdout",
     "output_type": "stream",
     "text": [
      "Slice: 76. Convergence reached. Iterations: 149. reduced chi2: 2.3\n"
     ]
    },
    {
     "name": "stderr",
     "output_type": "stream",
     "text": [
      "/home/jmcle/anaconda3/lib/python3.9/site-packages/geomagindices/base.py:37: FutureWarning: Passing method to DatetimeIndex.get_loc is deprecated and will raise in a future version. Use index.get_indexer([item], method=...) instead.\n",
      "  i = [dat.index.get_loc(t, method=\"nearest\") for t in dtime]\n",
      "/home/jmcle/anaconda3/lib/python3.9/site-packages/geomagindices/base.py:37: FutureWarning: Passing method to DatetimeIndex.get_loc is deprecated and will raise in a future version. Use index.get_indexer([item], method=...) instead.\n",
      "  i = [dat.index.get_loc(t, method=\"nearest\") for t in dtime]\n"
     ]
    },
    {
     "name": "stdout",
     "output_type": "stream",
     "text": [
      "Slice: 77. Convergence reached. Iterations: 171. reduced chi2: 1.91\n"
     ]
    },
    {
     "name": "stderr",
     "output_type": "stream",
     "text": [
      "/home/jmcle/anaconda3/lib/python3.9/site-packages/geomagindices/base.py:37: FutureWarning: Passing method to DatetimeIndex.get_loc is deprecated and will raise in a future version. Use index.get_indexer([item], method=...) instead.\n",
      "  i = [dat.index.get_loc(t, method=\"nearest\") for t in dtime]\n",
      "/home/jmcle/anaconda3/lib/python3.9/site-packages/geomagindices/base.py:37: FutureWarning: Passing method to DatetimeIndex.get_loc is deprecated and will raise in a future version. Use index.get_indexer([item], method=...) instead.\n",
      "  i = [dat.index.get_loc(t, method=\"nearest\") for t in dtime]\n"
     ]
    },
    {
     "name": "stdout",
     "output_type": "stream",
     "text": [
      "Slice: 78. Convergence reached. Iterations: 397. reduced chi2: 3.6\n"
     ]
    },
    {
     "name": "stderr",
     "output_type": "stream",
     "text": [
      "/home/jmcle/anaconda3/lib/python3.9/site-packages/geomagindices/base.py:37: FutureWarning: Passing method to DatetimeIndex.get_loc is deprecated and will raise in a future version. Use index.get_indexer([item], method=...) instead.\n",
      "  i = [dat.index.get_loc(t, method=\"nearest\") for t in dtime]\n",
      "/home/jmcle/anaconda3/lib/python3.9/site-packages/geomagindices/base.py:37: FutureWarning: Passing method to DatetimeIndex.get_loc is deprecated and will raise in a future version. Use index.get_indexer([item], method=...) instead.\n",
      "  i = [dat.index.get_loc(t, method=\"nearest\") for t in dtime]\n"
     ]
    },
    {
     "name": "stdout",
     "output_type": "stream",
     "text": [
      "Slice: 79. Convergence reached. Iterations: 563. reduced chi2: 2.48\n"
     ]
    },
    {
     "name": "stderr",
     "output_type": "stream",
     "text": [
      "/home/jmcle/anaconda3/lib/python3.9/site-packages/geomagindices/base.py:37: FutureWarning: Passing method to DatetimeIndex.get_loc is deprecated and will raise in a future version. Use index.get_indexer([item], method=...) instead.\n",
      "  i = [dat.index.get_loc(t, method=\"nearest\") for t in dtime]\n",
      "/home/jmcle/anaconda3/lib/python3.9/site-packages/geomagindices/base.py:37: FutureWarning: Passing method to DatetimeIndex.get_loc is deprecated and will raise in a future version. Use index.get_indexer([item], method=...) instead.\n",
      "  i = [dat.index.get_loc(t, method=\"nearest\") for t in dtime]\n"
     ]
    },
    {
     "name": "stdout",
     "output_type": "stream",
     "text": [
      "Slice: 80. Convergence reached. Iterations: 364. reduced chi2: 3.01\n"
     ]
    },
    {
     "name": "stderr",
     "output_type": "stream",
     "text": [
      "/home/jmcle/anaconda3/lib/python3.9/site-packages/geomagindices/base.py:37: FutureWarning: Passing method to DatetimeIndex.get_loc is deprecated and will raise in a future version. Use index.get_indexer([item], method=...) instead.\n",
      "  i = [dat.index.get_loc(t, method=\"nearest\") for t in dtime]\n",
      "/home/jmcle/anaconda3/lib/python3.9/site-packages/geomagindices/base.py:37: FutureWarning: Passing method to DatetimeIndex.get_loc is deprecated and will raise in a future version. Use index.get_indexer([item], method=...) instead.\n",
      "  i = [dat.index.get_loc(t, method=\"nearest\") for t in dtime]\n"
     ]
    },
    {
     "name": "stdout",
     "output_type": "stream",
     "text": [
      "Slice: 81. Convergence reached. Iterations: 433. reduced chi2: 2.11\n"
     ]
    },
    {
     "name": "stderr",
     "output_type": "stream",
     "text": [
      "/home/jmcle/anaconda3/lib/python3.9/site-packages/geomagindices/base.py:37: FutureWarning: Passing method to DatetimeIndex.get_loc is deprecated and will raise in a future version. Use index.get_indexer([item], method=...) instead.\n",
      "  i = [dat.index.get_loc(t, method=\"nearest\") for t in dtime]\n",
      "/home/jmcle/anaconda3/lib/python3.9/site-packages/geomagindices/base.py:37: FutureWarning: Passing method to DatetimeIndex.get_loc is deprecated and will raise in a future version. Use index.get_indexer([item], method=...) instead.\n",
      "  i = [dat.index.get_loc(t, method=\"nearest\") for t in dtime]\n"
     ]
    },
    {
     "name": "stdout",
     "output_type": "stream",
     "text": [
      "Slice: 82. Convergence reached. Iterations: 102. reduced chi2: 2.18\n"
     ]
    },
    {
     "name": "stderr",
     "output_type": "stream",
     "text": [
      "/home/jmcle/anaconda3/lib/python3.9/site-packages/geomagindices/base.py:37: FutureWarning: Passing method to DatetimeIndex.get_loc is deprecated and will raise in a future version. Use index.get_indexer([item], method=...) instead.\n",
      "  i = [dat.index.get_loc(t, method=\"nearest\") for t in dtime]\n",
      "/home/jmcle/anaconda3/lib/python3.9/site-packages/geomagindices/base.py:37: FutureWarning: Passing method to DatetimeIndex.get_loc is deprecated and will raise in a future version. Use index.get_indexer([item], method=...) instead.\n",
      "  i = [dat.index.get_loc(t, method=\"nearest\") for t in dtime]\n"
     ]
    },
    {
     "name": "stdout",
     "output_type": "stream",
     "text": [
      "Slice: 83. Convergence reached. Iterations: 157. reduced chi2: 2.44\n"
     ]
    },
    {
     "name": "stderr",
     "output_type": "stream",
     "text": [
      "/home/jmcle/anaconda3/lib/python3.9/site-packages/geomagindices/base.py:37: FutureWarning: Passing method to DatetimeIndex.get_loc is deprecated and will raise in a future version. Use index.get_indexer([item], method=...) instead.\n",
      "  i = [dat.index.get_loc(t, method=\"nearest\") for t in dtime]\n",
      "/home/jmcle/anaconda3/lib/python3.9/site-packages/geomagindices/base.py:37: FutureWarning: Passing method to DatetimeIndex.get_loc is deprecated and will raise in a future version. Use index.get_indexer([item], method=...) instead.\n",
      "  i = [dat.index.get_loc(t, method=\"nearest\") for t in dtime]\n"
     ]
    },
    {
     "name": "stdout",
     "output_type": "stream",
     "text": [
      "Slice: 84. Convergence reached. Iterations: 166. reduced chi2: 2.76\n"
     ]
    },
    {
     "name": "stderr",
     "output_type": "stream",
     "text": [
      "/home/jmcle/anaconda3/lib/python3.9/site-packages/geomagindices/base.py:37: FutureWarning: Passing method to DatetimeIndex.get_loc is deprecated and will raise in a future version. Use index.get_indexer([item], method=...) instead.\n",
      "  i = [dat.index.get_loc(t, method=\"nearest\") for t in dtime]\n",
      "/home/jmcle/anaconda3/lib/python3.9/site-packages/geomagindices/base.py:37: FutureWarning: Passing method to DatetimeIndex.get_loc is deprecated and will raise in a future version. Use index.get_indexer([item], method=...) instead.\n",
      "  i = [dat.index.get_loc(t, method=\"nearest\") for t in dtime]\n"
     ]
    },
    {
     "name": "stdout",
     "output_type": "stream",
     "text": [
      "Slice: 85. Convergence reached. Iterations: 209. reduced chi2: 1.67\n"
     ]
    },
    {
     "name": "stderr",
     "output_type": "stream",
     "text": [
      "/home/jmcle/anaconda3/lib/python3.9/site-packages/geomagindices/base.py:37: FutureWarning: Passing method to DatetimeIndex.get_loc is deprecated and will raise in a future version. Use index.get_indexer([item], method=...) instead.\n",
      "  i = [dat.index.get_loc(t, method=\"nearest\") for t in dtime]\n",
      "/home/jmcle/anaconda3/lib/python3.9/site-packages/geomagindices/base.py:37: FutureWarning: Passing method to DatetimeIndex.get_loc is deprecated and will raise in a future version. Use index.get_indexer([item], method=...) instead.\n",
      "  i = [dat.index.get_loc(t, method=\"nearest\") for t in dtime]\n"
     ]
    },
    {
     "name": "stdout",
     "output_type": "stream",
     "text": [
      "Slice: 86. Convergence reached. Iterations: 83. reduced chi2: 2.19\n"
     ]
    },
    {
     "name": "stderr",
     "output_type": "stream",
     "text": [
      "/home/jmcle/anaconda3/lib/python3.9/site-packages/geomagindices/base.py:37: FutureWarning: Passing method to DatetimeIndex.get_loc is deprecated and will raise in a future version. Use index.get_indexer([item], method=...) instead.\n",
      "  i = [dat.index.get_loc(t, method=\"nearest\") for t in dtime]\n",
      "/home/jmcle/anaconda3/lib/python3.9/site-packages/geomagindices/base.py:37: FutureWarning: Passing method to DatetimeIndex.get_loc is deprecated and will raise in a future version. Use index.get_indexer([item], method=...) instead.\n",
      "  i = [dat.index.get_loc(t, method=\"nearest\") for t in dtime]\n"
     ]
    },
    {
     "name": "stdout",
     "output_type": "stream",
     "text": [
      "Slice: 87. Convergence reached. Iterations: 115. reduced chi2: 2.04\n"
     ]
    },
    {
     "name": "stderr",
     "output_type": "stream",
     "text": [
      "/home/jmcle/anaconda3/lib/python3.9/site-packages/geomagindices/base.py:37: FutureWarning: Passing method to DatetimeIndex.get_loc is deprecated and will raise in a future version. Use index.get_indexer([item], method=...) instead.\n",
      "  i = [dat.index.get_loc(t, method=\"nearest\") for t in dtime]\n",
      "/home/jmcle/anaconda3/lib/python3.9/site-packages/geomagindices/base.py:37: FutureWarning: Passing method to DatetimeIndex.get_loc is deprecated and will raise in a future version. Use index.get_indexer([item], method=...) instead.\n",
      "  i = [dat.index.get_loc(t, method=\"nearest\") for t in dtime]\n"
     ]
    },
    {
     "name": "stdout",
     "output_type": "stream",
     "text": [
      "Slice: 88. Convergence reached. Iterations: 229. reduced chi2: 1.76\n"
     ]
    },
    {
     "name": "stderr",
     "output_type": "stream",
     "text": [
      "/home/jmcle/anaconda3/lib/python3.9/site-packages/geomagindices/base.py:37: FutureWarning: Passing method to DatetimeIndex.get_loc is deprecated and will raise in a future version. Use index.get_indexer([item], method=...) instead.\n",
      "  i = [dat.index.get_loc(t, method=\"nearest\") for t in dtime]\n",
      "/home/jmcle/anaconda3/lib/python3.9/site-packages/geomagindices/base.py:37: FutureWarning: Passing method to DatetimeIndex.get_loc is deprecated and will raise in a future version. Use index.get_indexer([item], method=...) instead.\n",
      "  i = [dat.index.get_loc(t, method=\"nearest\") for t in dtime]\n"
     ]
    },
    {
     "name": "stdout",
     "output_type": "stream",
     "text": [
      "Slice: 89. Convergence reached. Iterations: 265. reduced chi2: 1.8\n"
     ]
    },
    {
     "name": "stderr",
     "output_type": "stream",
     "text": [
      "/home/jmcle/anaconda3/lib/python3.9/site-packages/geomagindices/base.py:37: FutureWarning: Passing method to DatetimeIndex.get_loc is deprecated and will raise in a future version. Use index.get_indexer([item], method=...) instead.\n",
      "  i = [dat.index.get_loc(t, method=\"nearest\") for t in dtime]\n",
      "/home/jmcle/anaconda3/lib/python3.9/site-packages/geomagindices/base.py:37: FutureWarning: Passing method to DatetimeIndex.get_loc is deprecated and will raise in a future version. Use index.get_indexer([item], method=...) instead.\n",
      "  i = [dat.index.get_loc(t, method=\"nearest\") for t in dtime]\n"
     ]
    },
    {
     "name": "stdout",
     "output_type": "stream",
     "text": [
      "Slice: 90. Convergence reached. Iterations: 53. reduced chi2: 2.0\n"
     ]
    },
    {
     "name": "stderr",
     "output_type": "stream",
     "text": [
      "/home/jmcle/anaconda3/lib/python3.9/site-packages/geomagindices/base.py:37: FutureWarning: Passing method to DatetimeIndex.get_loc is deprecated and will raise in a future version. Use index.get_indexer([item], method=...) instead.\n",
      "  i = [dat.index.get_loc(t, method=\"nearest\") for t in dtime]\n",
      "/home/jmcle/anaconda3/lib/python3.9/site-packages/geomagindices/base.py:37: FutureWarning: Passing method to DatetimeIndex.get_loc is deprecated and will raise in a future version. Use index.get_indexer([item], method=...) instead.\n",
      "  i = [dat.index.get_loc(t, method=\"nearest\") for t in dtime]\n"
     ]
    },
    {
     "name": "stdout",
     "output_type": "stream",
     "text": [
      "Slice: 91. Convergence reached. Iterations: 422. reduced chi2: 2.11\n"
     ]
    },
    {
     "name": "stderr",
     "output_type": "stream",
     "text": [
      "/home/jmcle/anaconda3/lib/python3.9/site-packages/geomagindices/base.py:37: FutureWarning: Passing method to DatetimeIndex.get_loc is deprecated and will raise in a future version. Use index.get_indexer([item], method=...) instead.\n",
      "  i = [dat.index.get_loc(t, method=\"nearest\") for t in dtime]\n",
      "/home/jmcle/anaconda3/lib/python3.9/site-packages/geomagindices/base.py:37: FutureWarning: Passing method to DatetimeIndex.get_loc is deprecated and will raise in a future version. Use index.get_indexer([item], method=...) instead.\n",
      "  i = [dat.index.get_loc(t, method=\"nearest\") for t in dtime]\n"
     ]
    },
    {
     "name": "stdout",
     "output_type": "stream",
     "text": [
      "Slice: 92. Convergence reached. Iterations: 77. reduced chi2: 1.57\n"
     ]
    },
    {
     "name": "stderr",
     "output_type": "stream",
     "text": [
      "/home/jmcle/anaconda3/lib/python3.9/site-packages/geomagindices/base.py:37: FutureWarning: Passing method to DatetimeIndex.get_loc is deprecated and will raise in a future version. Use index.get_indexer([item], method=...) instead.\n",
      "  i = [dat.index.get_loc(t, method=\"nearest\") for t in dtime]\n",
      "/home/jmcle/anaconda3/lib/python3.9/site-packages/geomagindices/base.py:37: FutureWarning: Passing method to DatetimeIndex.get_loc is deprecated and will raise in a future version. Use index.get_indexer([item], method=...) instead.\n",
      "  i = [dat.index.get_loc(t, method=\"nearest\") for t in dtime]\n"
     ]
    },
    {
     "name": "stdout",
     "output_type": "stream",
     "text": [
      "Slice: 93. Convergence reached. Iterations: 187. reduced chi2: 1.96\n"
     ]
    },
    {
     "name": "stderr",
     "output_type": "stream",
     "text": [
      "/home/jmcle/anaconda3/lib/python3.9/site-packages/geomagindices/base.py:37: FutureWarning: Passing method to DatetimeIndex.get_loc is deprecated and will raise in a future version. Use index.get_indexer([item], method=...) instead.\n",
      "  i = [dat.index.get_loc(t, method=\"nearest\") for t in dtime]\n",
      "/home/jmcle/anaconda3/lib/python3.9/site-packages/geomagindices/base.py:37: FutureWarning: Passing method to DatetimeIndex.get_loc is deprecated and will raise in a future version. Use index.get_indexer([item], method=...) instead.\n",
      "  i = [dat.index.get_loc(t, method=\"nearest\") for t in dtime]\n"
     ]
    },
    {
     "name": "stdout",
     "output_type": "stream",
     "text": [
      "Slice: 94. Convergence reached. Iterations: 109. reduced chi2: 1.34\n"
     ]
    },
    {
     "name": "stderr",
     "output_type": "stream",
     "text": [
      "/home/jmcle/anaconda3/lib/python3.9/site-packages/geomagindices/base.py:37: FutureWarning: Passing method to DatetimeIndex.get_loc is deprecated and will raise in a future version. Use index.get_indexer([item], method=...) instead.\n",
      "  i = [dat.index.get_loc(t, method=\"nearest\") for t in dtime]\n",
      "/home/jmcle/anaconda3/lib/python3.9/site-packages/geomagindices/base.py:37: FutureWarning: Passing method to DatetimeIndex.get_loc is deprecated and will raise in a future version. Use index.get_indexer([item], method=...) instead.\n",
      "  i = [dat.index.get_loc(t, method=\"nearest\") for t in dtime]\n"
     ]
    },
    {
     "name": "stdout",
     "output_type": "stream",
     "text": [
      "Slice: 95. Convergence reached. Iterations: 62. reduced chi2: 2.56\n"
     ]
    },
    {
     "name": "stderr",
     "output_type": "stream",
     "text": [
      "/home/jmcle/anaconda3/lib/python3.9/site-packages/geomagindices/base.py:37: FutureWarning: Passing method to DatetimeIndex.get_loc is deprecated and will raise in a future version. Use index.get_indexer([item], method=...) instead.\n",
      "  i = [dat.index.get_loc(t, method=\"nearest\") for t in dtime]\n",
      "/home/jmcle/anaconda3/lib/python3.9/site-packages/geomagindices/base.py:37: FutureWarning: Passing method to DatetimeIndex.get_loc is deprecated and will raise in a future version. Use index.get_indexer([item], method=...) instead.\n",
      "  i = [dat.index.get_loc(t, method=\"nearest\") for t in dtime]\n"
     ]
    },
    {
     "name": "stdout",
     "output_type": "stream",
     "text": [
      "Slice: 96. Convergence reached. Iterations: 95. reduced chi2: 1.6\n"
     ]
    },
    {
     "name": "stderr",
     "output_type": "stream",
     "text": [
      "/home/jmcle/anaconda3/lib/python3.9/site-packages/geomagindices/base.py:37: FutureWarning: Passing method to DatetimeIndex.get_loc is deprecated and will raise in a future version. Use index.get_indexer([item], method=...) instead.\n",
      "  i = [dat.index.get_loc(t, method=\"nearest\") for t in dtime]\n",
      "/home/jmcle/anaconda3/lib/python3.9/site-packages/geomagindices/base.py:37: FutureWarning: Passing method to DatetimeIndex.get_loc is deprecated and will raise in a future version. Use index.get_indexer([item], method=...) instead.\n",
      "  i = [dat.index.get_loc(t, method=\"nearest\") for t in dtime]\n"
     ]
    },
    {
     "name": "stdout",
     "output_type": "stream",
     "text": [
      "Slice: 97. Convergence reached. Iterations: 115. reduced chi2: 1.71\n"
     ]
    },
    {
     "name": "stderr",
     "output_type": "stream",
     "text": [
      "/home/jmcle/anaconda3/lib/python3.9/site-packages/geomagindices/base.py:37: FutureWarning: Passing method to DatetimeIndex.get_loc is deprecated and will raise in a future version. Use index.get_indexer([item], method=...) instead.\n",
      "  i = [dat.index.get_loc(t, method=\"nearest\") for t in dtime]\n",
      "/home/jmcle/anaconda3/lib/python3.9/site-packages/geomagindices/base.py:37: FutureWarning: Passing method to DatetimeIndex.get_loc is deprecated and will raise in a future version. Use index.get_indexer([item], method=...) instead.\n",
      "  i = [dat.index.get_loc(t, method=\"nearest\") for t in dtime]\n"
     ]
    },
    {
     "name": "stdout",
     "output_type": "stream",
     "text": [
      "Slice: 98. Convergence reached. Iterations: 287. reduced chi2: 2.63\n"
     ]
    },
    {
     "name": "stderr",
     "output_type": "stream",
     "text": [
      "/home/jmcle/anaconda3/lib/python3.9/site-packages/geomagindices/base.py:37: FutureWarning: Passing method to DatetimeIndex.get_loc is deprecated and will raise in a future version. Use index.get_indexer([item], method=...) instead.\n",
      "  i = [dat.index.get_loc(t, method=\"nearest\") for t in dtime]\n",
      "/home/jmcle/anaconda3/lib/python3.9/site-packages/geomagindices/base.py:37: FutureWarning: Passing method to DatetimeIndex.get_loc is deprecated and will raise in a future version. Use index.get_indexer([item], method=...) instead.\n",
      "  i = [dat.index.get_loc(t, method=\"nearest\") for t in dtime]\n"
     ]
    },
    {
     "name": "stdout",
     "output_type": "stream",
     "text": [
      "Slice: 99. Convergence reached. Iterations: 118. reduced chi2: 2.14\n"
     ]
    },
    {
     "name": "stderr",
     "output_type": "stream",
     "text": [
      "/home/jmcle/anaconda3/lib/python3.9/site-packages/geomagindices/base.py:37: FutureWarning: Passing method to DatetimeIndex.get_loc is deprecated and will raise in a future version. Use index.get_indexer([item], method=...) instead.\n",
      "  i = [dat.index.get_loc(t, method=\"nearest\") for t in dtime]\n",
      "/home/jmcle/anaconda3/lib/python3.9/site-packages/geomagindices/base.py:37: FutureWarning: Passing method to DatetimeIndex.get_loc is deprecated and will raise in a future version. Use index.get_indexer([item], method=...) instead.\n",
      "  i = [dat.index.get_loc(t, method=\"nearest\") for t in dtime]\n"
     ]
    },
    {
     "name": "stdout",
     "output_type": "stream",
     "text": [
      "Slice: 100. Convergence reached. Iterations: 335. reduced chi2: 2.27\n"
     ]
    },
    {
     "name": "stderr",
     "output_type": "stream",
     "text": [
      "/home/jmcle/anaconda3/lib/python3.9/site-packages/geomagindices/base.py:37: FutureWarning: Passing method to DatetimeIndex.get_loc is deprecated and will raise in a future version. Use index.get_indexer([item], method=...) instead.\n",
      "  i = [dat.index.get_loc(t, method=\"nearest\") for t in dtime]\n",
      "/home/jmcle/anaconda3/lib/python3.9/site-packages/geomagindices/base.py:37: FutureWarning: Passing method to DatetimeIndex.get_loc is deprecated and will raise in a future version. Use index.get_indexer([item], method=...) instead.\n",
      "  i = [dat.index.get_loc(t, method=\"nearest\") for t in dtime]\n"
     ]
    },
    {
     "name": "stdout",
     "output_type": "stream",
     "text": [
      "Slice: 101. Convergence reached. Iterations: 303. reduced chi2: 2.34\n"
     ]
    },
    {
     "name": "stderr",
     "output_type": "stream",
     "text": [
      "/home/jmcle/anaconda3/lib/python3.9/site-packages/geomagindices/base.py:37: FutureWarning: Passing method to DatetimeIndex.get_loc is deprecated and will raise in a future version. Use index.get_indexer([item], method=...) instead.\n",
      "  i = [dat.index.get_loc(t, method=\"nearest\") for t in dtime]\n",
      "/home/jmcle/anaconda3/lib/python3.9/site-packages/geomagindices/base.py:37: FutureWarning: Passing method to DatetimeIndex.get_loc is deprecated and will raise in a future version. Use index.get_indexer([item], method=...) instead.\n",
      "  i = [dat.index.get_loc(t, method=\"nearest\") for t in dtime]\n"
     ]
    },
    {
     "name": "stdout",
     "output_type": "stream",
     "text": [
      "Slice: 102. Convergence reached. Iterations: 165. reduced chi2: 1.84\n"
     ]
    },
    {
     "name": "stderr",
     "output_type": "stream",
     "text": [
      "/home/jmcle/anaconda3/lib/python3.9/site-packages/geomagindices/base.py:37: FutureWarning: Passing method to DatetimeIndex.get_loc is deprecated and will raise in a future version. Use index.get_indexer([item], method=...) instead.\n",
      "  i = [dat.index.get_loc(t, method=\"nearest\") for t in dtime]\n",
      "/home/jmcle/anaconda3/lib/python3.9/site-packages/geomagindices/base.py:37: FutureWarning: Passing method to DatetimeIndex.get_loc is deprecated and will raise in a future version. Use index.get_indexer([item], method=...) instead.\n",
      "  i = [dat.index.get_loc(t, method=\"nearest\") for t in dtime]\n"
     ]
    },
    {
     "name": "stdout",
     "output_type": "stream",
     "text": [
      "Slice: 103. Convergence reached. Iterations: 318. reduced chi2: 2.16\n"
     ]
    },
    {
     "name": "stderr",
     "output_type": "stream",
     "text": [
      "/home/jmcle/anaconda3/lib/python3.9/site-packages/geomagindices/base.py:37: FutureWarning: Passing method to DatetimeIndex.get_loc is deprecated and will raise in a future version. Use index.get_indexer([item], method=...) instead.\n",
      "  i = [dat.index.get_loc(t, method=\"nearest\") for t in dtime]\n",
      "/home/jmcle/anaconda3/lib/python3.9/site-packages/geomagindices/base.py:37: FutureWarning: Passing method to DatetimeIndex.get_loc is deprecated and will raise in a future version. Use index.get_indexer([item], method=...) instead.\n",
      "  i = [dat.index.get_loc(t, method=\"nearest\") for t in dtime]\n"
     ]
    },
    {
     "name": "stdout",
     "output_type": "stream",
     "text": [
      "Slice: 104. Convergence reached. Iterations: 674. reduced chi2: 2.86\n"
     ]
    },
    {
     "name": "stderr",
     "output_type": "stream",
     "text": [
      "/home/jmcle/anaconda3/lib/python3.9/site-packages/geomagindices/base.py:37: FutureWarning: Passing method to DatetimeIndex.get_loc is deprecated and will raise in a future version. Use index.get_indexer([item], method=...) instead.\n",
      "  i = [dat.index.get_loc(t, method=\"nearest\") for t in dtime]\n",
      "/home/jmcle/anaconda3/lib/python3.9/site-packages/geomagindices/base.py:37: FutureWarning: Passing method to DatetimeIndex.get_loc is deprecated and will raise in a future version. Use index.get_indexer([item], method=...) instead.\n",
      "  i = [dat.index.get_loc(t, method=\"nearest\") for t in dtime]\n"
     ]
    },
    {
     "name": "stdout",
     "output_type": "stream",
     "text": [
      "Slice: 105. Convergence reached. Iterations: 128. reduced chi2: 2.44\n"
     ]
    },
    {
     "name": "stderr",
     "output_type": "stream",
     "text": [
      "/home/jmcle/anaconda3/lib/python3.9/site-packages/geomagindices/base.py:37: FutureWarning: Passing method to DatetimeIndex.get_loc is deprecated and will raise in a future version. Use index.get_indexer([item], method=...) instead.\n",
      "  i = [dat.index.get_loc(t, method=\"nearest\") for t in dtime]\n",
      "/home/jmcle/anaconda3/lib/python3.9/site-packages/geomagindices/base.py:37: FutureWarning: Passing method to DatetimeIndex.get_loc is deprecated and will raise in a future version. Use index.get_indexer([item], method=...) instead.\n",
      "  i = [dat.index.get_loc(t, method=\"nearest\") for t in dtime]\n"
     ]
    },
    {
     "name": "stdout",
     "output_type": "stream",
     "text": [
      "Slice: 106. Convergence reached. Iterations: 210. reduced chi2: 2.38\n"
     ]
    },
    {
     "name": "stderr",
     "output_type": "stream",
     "text": [
      "/home/jmcle/anaconda3/lib/python3.9/site-packages/geomagindices/base.py:37: FutureWarning: Passing method to DatetimeIndex.get_loc is deprecated and will raise in a future version. Use index.get_indexer([item], method=...) instead.\n",
      "  i = [dat.index.get_loc(t, method=\"nearest\") for t in dtime]\n",
      "/home/jmcle/anaconda3/lib/python3.9/site-packages/geomagindices/base.py:37: FutureWarning: Passing method to DatetimeIndex.get_loc is deprecated and will raise in a future version. Use index.get_indexer([item], method=...) instead.\n",
      "  i = [dat.index.get_loc(t, method=\"nearest\") for t in dtime]\n"
     ]
    },
    {
     "name": "stdout",
     "output_type": "stream",
     "text": [
      "Slice: 107. Convergence reached. Iterations: 337. reduced chi2: 2.27\n"
     ]
    },
    {
     "name": "stderr",
     "output_type": "stream",
     "text": [
      "/home/jmcle/anaconda3/lib/python3.9/site-packages/geomagindices/base.py:37: FutureWarning: Passing method to DatetimeIndex.get_loc is deprecated and will raise in a future version. Use index.get_indexer([item], method=...) instead.\n",
      "  i = [dat.index.get_loc(t, method=\"nearest\") for t in dtime]\n",
      "/home/jmcle/anaconda3/lib/python3.9/site-packages/geomagindices/base.py:37: FutureWarning: Passing method to DatetimeIndex.get_loc is deprecated and will raise in a future version. Use index.get_indexer([item], method=...) instead.\n",
      "  i = [dat.index.get_loc(t, method=\"nearest\") for t in dtime]\n"
     ]
    },
    {
     "name": "stdout",
     "output_type": "stream",
     "text": [
      "Slice: 108. Convergence reached. Iterations: 137. reduced chi2: 3.24\n"
     ]
    },
    {
     "name": "stderr",
     "output_type": "stream",
     "text": [
      "/home/jmcle/anaconda3/lib/python3.9/site-packages/geomagindices/base.py:37: FutureWarning: Passing method to DatetimeIndex.get_loc is deprecated and will raise in a future version. Use index.get_indexer([item], method=...) instead.\n",
      "  i = [dat.index.get_loc(t, method=\"nearest\") for t in dtime]\n",
      "/home/jmcle/anaconda3/lib/python3.9/site-packages/geomagindices/base.py:37: FutureWarning: Passing method to DatetimeIndex.get_loc is deprecated and will raise in a future version. Use index.get_indexer([item], method=...) instead.\n",
      "  i = [dat.index.get_loc(t, method=\"nearest\") for t in dtime]\n"
     ]
    },
    {
     "name": "stdout",
     "output_type": "stream",
     "text": [
      "Slice: 109. Convergence reached. Iterations: 61. reduced chi2: 2.31\n"
     ]
    },
    {
     "name": "stderr",
     "output_type": "stream",
     "text": [
      "/home/jmcle/anaconda3/lib/python3.9/site-packages/geomagindices/base.py:37: FutureWarning: Passing method to DatetimeIndex.get_loc is deprecated and will raise in a future version. Use index.get_indexer([item], method=...) instead.\n",
      "  i = [dat.index.get_loc(t, method=\"nearest\") for t in dtime]\n",
      "/home/jmcle/anaconda3/lib/python3.9/site-packages/geomagindices/base.py:37: FutureWarning: Passing method to DatetimeIndex.get_loc is deprecated and will raise in a future version. Use index.get_indexer([item], method=...) instead.\n",
      "  i = [dat.index.get_loc(t, method=\"nearest\") for t in dtime]\n"
     ]
    },
    {
     "name": "stdout",
     "output_type": "stream",
     "text": [
      "Slice: 110. Convergence reached. Iterations: 234. reduced chi2: 1.84\n"
     ]
    },
    {
     "name": "stderr",
     "output_type": "stream",
     "text": [
      "/home/jmcle/anaconda3/lib/python3.9/site-packages/geomagindices/base.py:37: FutureWarning: Passing method to DatetimeIndex.get_loc is deprecated and will raise in a future version. Use index.get_indexer([item], method=...) instead.\n",
      "  i = [dat.index.get_loc(t, method=\"nearest\") for t in dtime]\n",
      "/home/jmcle/anaconda3/lib/python3.9/site-packages/geomagindices/base.py:37: FutureWarning: Passing method to DatetimeIndex.get_loc is deprecated and will raise in a future version. Use index.get_indexer([item], method=...) instead.\n",
      "  i = [dat.index.get_loc(t, method=\"nearest\") for t in dtime]\n"
     ]
    },
    {
     "name": "stdout",
     "output_type": "stream",
     "text": [
      "Slice: 111. Convergence reached. Iterations: 63. reduced chi2: 1.57\n"
     ]
    },
    {
     "name": "stderr",
     "output_type": "stream",
     "text": [
      "/home/jmcle/anaconda3/lib/python3.9/site-packages/geomagindices/base.py:37: FutureWarning: Passing method to DatetimeIndex.get_loc is deprecated and will raise in a future version. Use index.get_indexer([item], method=...) instead.\n",
      "  i = [dat.index.get_loc(t, method=\"nearest\") for t in dtime]\n",
      "/home/jmcle/anaconda3/lib/python3.9/site-packages/geomagindices/base.py:37: FutureWarning: Passing method to DatetimeIndex.get_loc is deprecated and will raise in a future version. Use index.get_indexer([item], method=...) instead.\n",
      "  i = [dat.index.get_loc(t, method=\"nearest\") for t in dtime]\n"
     ]
    },
    {
     "name": "stdout",
     "output_type": "stream",
     "text": [
      "Slice: 112. Convergence reached. Iterations: 264. reduced chi2: 2.21\n"
     ]
    },
    {
     "name": "stderr",
     "output_type": "stream",
     "text": [
      "/home/jmcle/anaconda3/lib/python3.9/site-packages/geomagindices/base.py:37: FutureWarning: Passing method to DatetimeIndex.get_loc is deprecated and will raise in a future version. Use index.get_indexer([item], method=...) instead.\n",
      "  i = [dat.index.get_loc(t, method=\"nearest\") for t in dtime]\n",
      "/home/jmcle/anaconda3/lib/python3.9/site-packages/geomagindices/base.py:37: FutureWarning: Passing method to DatetimeIndex.get_loc is deprecated and will raise in a future version. Use index.get_indexer([item], method=...) instead.\n",
      "  i = [dat.index.get_loc(t, method=\"nearest\") for t in dtime]\n"
     ]
    },
    {
     "name": "stdout",
     "output_type": "stream",
     "text": [
      "Slice: 113. Convergence reached. Iterations: 302. reduced chi2: 2.58\n"
     ]
    },
    {
     "name": "stderr",
     "output_type": "stream",
     "text": [
      "/home/jmcle/anaconda3/lib/python3.9/site-packages/geomagindices/base.py:37: FutureWarning: Passing method to DatetimeIndex.get_loc is deprecated and will raise in a future version. Use index.get_indexer([item], method=...) instead.\n",
      "  i = [dat.index.get_loc(t, method=\"nearest\") for t in dtime]\n",
      "/home/jmcle/anaconda3/lib/python3.9/site-packages/geomagindices/base.py:37: FutureWarning: Passing method to DatetimeIndex.get_loc is deprecated and will raise in a future version. Use index.get_indexer([item], method=...) instead.\n",
      "  i = [dat.index.get_loc(t, method=\"nearest\") for t in dtime]\n"
     ]
    },
    {
     "name": "stdout",
     "output_type": "stream",
     "text": [
      "Slice: 114. Convergence reached. Iterations: 455. reduced chi2: 3.26\n"
     ]
    },
    {
     "name": "stderr",
     "output_type": "stream",
     "text": [
      "/home/jmcle/anaconda3/lib/python3.9/site-packages/geomagindices/base.py:37: FutureWarning: Passing method to DatetimeIndex.get_loc is deprecated and will raise in a future version. Use index.get_indexer([item], method=...) instead.\n",
      "  i = [dat.index.get_loc(t, method=\"nearest\") for t in dtime]\n",
      "/home/jmcle/anaconda3/lib/python3.9/site-packages/geomagindices/base.py:37: FutureWarning: Passing method to DatetimeIndex.get_loc is deprecated and will raise in a future version. Use index.get_indexer([item], method=...) instead.\n",
      "  i = [dat.index.get_loc(t, method=\"nearest\") for t in dtime]\n"
     ]
    },
    {
     "name": "stdout",
     "output_type": "stream",
     "text": [
      "Slice: 115. Convergence reached. Iterations: 218. reduced chi2: 2.44\n"
     ]
    },
    {
     "name": "stderr",
     "output_type": "stream",
     "text": [
      "/home/jmcle/anaconda3/lib/python3.9/site-packages/geomagindices/base.py:37: FutureWarning: Passing method to DatetimeIndex.get_loc is deprecated and will raise in a future version. Use index.get_indexer([item], method=...) instead.\n",
      "  i = [dat.index.get_loc(t, method=\"nearest\") for t in dtime]\n",
      "/home/jmcle/anaconda3/lib/python3.9/site-packages/geomagindices/base.py:37: FutureWarning: Passing method to DatetimeIndex.get_loc is deprecated and will raise in a future version. Use index.get_indexer([item], method=...) instead.\n",
      "  i = [dat.index.get_loc(t, method=\"nearest\") for t in dtime]\n"
     ]
    },
    {
     "name": "stdout",
     "output_type": "stream",
     "text": [
      "Slice: 116. Convergence reached. Iterations: 267. reduced chi2: 1.81\n"
     ]
    },
    {
     "name": "stderr",
     "output_type": "stream",
     "text": [
      "/home/jmcle/anaconda3/lib/python3.9/site-packages/geomagindices/base.py:37: FutureWarning: Passing method to DatetimeIndex.get_loc is deprecated and will raise in a future version. Use index.get_indexer([item], method=...) instead.\n",
      "  i = [dat.index.get_loc(t, method=\"nearest\") for t in dtime]\n",
      "/home/jmcle/anaconda3/lib/python3.9/site-packages/geomagindices/base.py:37: FutureWarning: Passing method to DatetimeIndex.get_loc is deprecated and will raise in a future version. Use index.get_indexer([item], method=...) instead.\n",
      "  i = [dat.index.get_loc(t, method=\"nearest\") for t in dtime]\n"
     ]
    },
    {
     "name": "stdout",
     "output_type": "stream",
     "text": [
      "Slice: 117. Convergence reached. Iterations: 256. reduced chi2: 2.3\n"
     ]
    },
    {
     "name": "stderr",
     "output_type": "stream",
     "text": [
      "/home/jmcle/anaconda3/lib/python3.9/site-packages/geomagindices/base.py:37: FutureWarning: Passing method to DatetimeIndex.get_loc is deprecated and will raise in a future version. Use index.get_indexer([item], method=...) instead.\n",
      "  i = [dat.index.get_loc(t, method=\"nearest\") for t in dtime]\n",
      "/home/jmcle/anaconda3/lib/python3.9/site-packages/geomagindices/base.py:37: FutureWarning: Passing method to DatetimeIndex.get_loc is deprecated and will raise in a future version. Use index.get_indexer([item], method=...) instead.\n",
      "  i = [dat.index.get_loc(t, method=\"nearest\") for t in dtime]\n"
     ]
    },
    {
     "name": "stdout",
     "output_type": "stream",
     "text": [
      "Slice: 118. Convergence reached. Iterations: 190. reduced chi2: 2.12\n"
     ]
    },
    {
     "name": "stderr",
     "output_type": "stream",
     "text": [
      "/home/jmcle/anaconda3/lib/python3.9/site-packages/geomagindices/base.py:37: FutureWarning: Passing method to DatetimeIndex.get_loc is deprecated and will raise in a future version. Use index.get_indexer([item], method=...) instead.\n",
      "  i = [dat.index.get_loc(t, method=\"nearest\") for t in dtime]\n",
      "/home/jmcle/anaconda3/lib/python3.9/site-packages/geomagindices/base.py:37: FutureWarning: Passing method to DatetimeIndex.get_loc is deprecated and will raise in a future version. Use index.get_indexer([item], method=...) instead.\n",
      "  i = [dat.index.get_loc(t, method=\"nearest\") for t in dtime]\n"
     ]
    },
    {
     "name": "stdout",
     "output_type": "stream",
     "text": [
      "Slice: 119. Convergence reached. Iterations: 47. reduced chi2: 1.66\n"
     ]
    },
    {
     "name": "stderr",
     "output_type": "stream",
     "text": [
      "/home/jmcle/anaconda3/lib/python3.9/site-packages/geomagindices/base.py:37: FutureWarning: Passing method to DatetimeIndex.get_loc is deprecated and will raise in a future version. Use index.get_indexer([item], method=...) instead.\n",
      "  i = [dat.index.get_loc(t, method=\"nearest\") for t in dtime]\n",
      "/home/jmcle/anaconda3/lib/python3.9/site-packages/geomagindices/base.py:37: FutureWarning: Passing method to DatetimeIndex.get_loc is deprecated and will raise in a future version. Use index.get_indexer([item], method=...) instead.\n",
      "  i = [dat.index.get_loc(t, method=\"nearest\") for t in dtime]\n"
     ]
    },
    {
     "name": "stdout",
     "output_type": "stream",
     "text": [
      "Slice: 120. Convergence reached. Iterations: 21. reduced chi2: 2.41\n"
     ]
    },
    {
     "name": "stderr",
     "output_type": "stream",
     "text": [
      "/home/jmcle/anaconda3/lib/python3.9/site-packages/geomagindices/base.py:37: FutureWarning: Passing method to DatetimeIndex.get_loc is deprecated and will raise in a future version. Use index.get_indexer([item], method=...) instead.\n",
      "  i = [dat.index.get_loc(t, method=\"nearest\") for t in dtime]\n",
      "/home/jmcle/anaconda3/lib/python3.9/site-packages/geomagindices/base.py:37: FutureWarning: Passing method to DatetimeIndex.get_loc is deprecated and will raise in a future version. Use index.get_indexer([item], method=...) instead.\n",
      "  i = [dat.index.get_loc(t, method=\"nearest\") for t in dtime]\n"
     ]
    },
    {
     "name": "stdout",
     "output_type": "stream",
     "text": [
      "Slice: 121. Convergence reached. Iterations: 333. reduced chi2: 1.93\n"
     ]
    },
    {
     "name": "stderr",
     "output_type": "stream",
     "text": [
      "/home/jmcle/anaconda3/lib/python3.9/site-packages/geomagindices/base.py:37: FutureWarning: Passing method to DatetimeIndex.get_loc is deprecated and will raise in a future version. Use index.get_indexer([item], method=...) instead.\n",
      "  i = [dat.index.get_loc(t, method=\"nearest\") for t in dtime]\n",
      "/home/jmcle/anaconda3/lib/python3.9/site-packages/geomagindices/base.py:37: FutureWarning: Passing method to DatetimeIndex.get_loc is deprecated and will raise in a future version. Use index.get_indexer([item], method=...) instead.\n",
      "  i = [dat.index.get_loc(t, method=\"nearest\") for t in dtime]\n"
     ]
    },
    {
     "name": "stdout",
     "output_type": "stream",
     "text": [
      "Slice: 122. Convergence reached. Iterations: 109. reduced chi2: 2.3\n"
     ]
    },
    {
     "name": "stderr",
     "output_type": "stream",
     "text": [
      "/home/jmcle/anaconda3/lib/python3.9/site-packages/geomagindices/base.py:37: FutureWarning: Passing method to DatetimeIndex.get_loc is deprecated and will raise in a future version. Use index.get_indexer([item], method=...) instead.\n",
      "  i = [dat.index.get_loc(t, method=\"nearest\") for t in dtime]\n",
      "/home/jmcle/anaconda3/lib/python3.9/site-packages/geomagindices/base.py:37: FutureWarning: Passing method to DatetimeIndex.get_loc is deprecated and will raise in a future version. Use index.get_indexer([item], method=...) instead.\n",
      "  i = [dat.index.get_loc(t, method=\"nearest\") for t in dtime]\n"
     ]
    },
    {
     "name": "stdout",
     "output_type": "stream",
     "text": [
      "Slice: 123. Convergence reached. Iterations: 127. reduced chi2: 1.78\n"
     ]
    },
    {
     "name": "stderr",
     "output_type": "stream",
     "text": [
      "/home/jmcle/anaconda3/lib/python3.9/site-packages/geomagindices/base.py:37: FutureWarning: Passing method to DatetimeIndex.get_loc is deprecated and will raise in a future version. Use index.get_indexer([item], method=...) instead.\n",
      "  i = [dat.index.get_loc(t, method=\"nearest\") for t in dtime]\n",
      "/home/jmcle/anaconda3/lib/python3.9/site-packages/geomagindices/base.py:37: FutureWarning: Passing method to DatetimeIndex.get_loc is deprecated and will raise in a future version. Use index.get_indexer([item], method=...) instead.\n",
      "  i = [dat.index.get_loc(t, method=\"nearest\") for t in dtime]\n"
     ]
    },
    {
     "name": "stdout",
     "output_type": "stream",
     "text": [
      "Slice: 124. Convergence reached. Iterations: 160. reduced chi2: 3.31\n"
     ]
    },
    {
     "name": "stderr",
     "output_type": "stream",
     "text": [
      "/home/jmcle/anaconda3/lib/python3.9/site-packages/geomagindices/base.py:37: FutureWarning: Passing method to DatetimeIndex.get_loc is deprecated and will raise in a future version. Use index.get_indexer([item], method=...) instead.\n",
      "  i = [dat.index.get_loc(t, method=\"nearest\") for t in dtime]\n",
      "/home/jmcle/anaconda3/lib/python3.9/site-packages/geomagindices/base.py:37: FutureWarning: Passing method to DatetimeIndex.get_loc is deprecated and will raise in a future version. Use index.get_indexer([item], method=...) instead.\n",
      "  i = [dat.index.get_loc(t, method=\"nearest\") for t in dtime]\n"
     ]
    },
    {
     "name": "stdout",
     "output_type": "stream",
     "text": [
      "Slice: 125. Convergence reached. Iterations: 121. reduced chi2: 1.62\n"
     ]
    },
    {
     "name": "stderr",
     "output_type": "stream",
     "text": [
      "/home/jmcle/anaconda3/lib/python3.9/site-packages/geomagindices/base.py:37: FutureWarning: Passing method to DatetimeIndex.get_loc is deprecated and will raise in a future version. Use index.get_indexer([item], method=...) instead.\n",
      "  i = [dat.index.get_loc(t, method=\"nearest\") for t in dtime]\n",
      "/home/jmcle/anaconda3/lib/python3.9/site-packages/geomagindices/base.py:37: FutureWarning: Passing method to DatetimeIndex.get_loc is deprecated and will raise in a future version. Use index.get_indexer([item], method=...) instead.\n",
      "  i = [dat.index.get_loc(t, method=\"nearest\") for t in dtime]\n"
     ]
    },
    {
     "name": "stdout",
     "output_type": "stream",
     "text": [
      "Slice: 126. Convergence reached. Iterations: 219. reduced chi2: 1.97\n"
     ]
    },
    {
     "name": "stderr",
     "output_type": "stream",
     "text": [
      "/home/jmcle/anaconda3/lib/python3.9/site-packages/geomagindices/base.py:37: FutureWarning: Passing method to DatetimeIndex.get_loc is deprecated and will raise in a future version. Use index.get_indexer([item], method=...) instead.\n",
      "  i = [dat.index.get_loc(t, method=\"nearest\") for t in dtime]\n",
      "/home/jmcle/anaconda3/lib/python3.9/site-packages/geomagindices/base.py:37: FutureWarning: Passing method to DatetimeIndex.get_loc is deprecated and will raise in a future version. Use index.get_indexer([item], method=...) instead.\n",
      "  i = [dat.index.get_loc(t, method=\"nearest\") for t in dtime]\n"
     ]
    },
    {
     "name": "stdout",
     "output_type": "stream",
     "text": [
      "Slice: 127. Convergence reached. Iterations: 129. reduced chi2: 1.52\n"
     ]
    },
    {
     "name": "stderr",
     "output_type": "stream",
     "text": [
      "/home/jmcle/anaconda3/lib/python3.9/site-packages/geomagindices/base.py:37: FutureWarning: Passing method to DatetimeIndex.get_loc is deprecated and will raise in a future version. Use index.get_indexer([item], method=...) instead.\n",
      "  i = [dat.index.get_loc(t, method=\"nearest\") for t in dtime]\n",
      "/home/jmcle/anaconda3/lib/python3.9/site-packages/geomagindices/base.py:37: FutureWarning: Passing method to DatetimeIndex.get_loc is deprecated and will raise in a future version. Use index.get_indexer([item], method=...) instead.\n",
      "  i = [dat.index.get_loc(t, method=\"nearest\") for t in dtime]\n"
     ]
    },
    {
     "name": "stdout",
     "output_type": "stream",
     "text": [
      "Slice: 128. Convergence reached. Iterations: 323. reduced chi2: 2.48\n"
     ]
    },
    {
     "name": "stderr",
     "output_type": "stream",
     "text": [
      "/home/jmcle/anaconda3/lib/python3.9/site-packages/geomagindices/base.py:37: FutureWarning: Passing method to DatetimeIndex.get_loc is deprecated and will raise in a future version. Use index.get_indexer([item], method=...) instead.\n",
      "  i = [dat.index.get_loc(t, method=\"nearest\") for t in dtime]\n",
      "/home/jmcle/anaconda3/lib/python3.9/site-packages/geomagindices/base.py:37: FutureWarning: Passing method to DatetimeIndex.get_loc is deprecated and will raise in a future version. Use index.get_indexer([item], method=...) instead.\n",
      "  i = [dat.index.get_loc(t, method=\"nearest\") for t in dtime]\n"
     ]
    },
    {
     "name": "stdout",
     "output_type": "stream",
     "text": [
      "Slice: 129. Convergence reached. Iterations: 157. reduced chi2: 2.37\n"
     ]
    },
    {
     "name": "stderr",
     "output_type": "stream",
     "text": [
      "/home/jmcle/anaconda3/lib/python3.9/site-packages/geomagindices/base.py:37: FutureWarning: Passing method to DatetimeIndex.get_loc is deprecated and will raise in a future version. Use index.get_indexer([item], method=...) instead.\n",
      "  i = [dat.index.get_loc(t, method=\"nearest\") for t in dtime]\n",
      "/home/jmcle/anaconda3/lib/python3.9/site-packages/geomagindices/base.py:37: FutureWarning: Passing method to DatetimeIndex.get_loc is deprecated and will raise in a future version. Use index.get_indexer([item], method=...) instead.\n",
      "  i = [dat.index.get_loc(t, method=\"nearest\") for t in dtime]\n"
     ]
    },
    {
     "name": "stdout",
     "output_type": "stream",
     "text": [
      "Slice: 130. Convergence reached. Iterations: 90. reduced chi2: 2.07\n"
     ]
    },
    {
     "name": "stderr",
     "output_type": "stream",
     "text": [
      "/home/jmcle/anaconda3/lib/python3.9/site-packages/geomagindices/base.py:37: FutureWarning: Passing method to DatetimeIndex.get_loc is deprecated and will raise in a future version. Use index.get_indexer([item], method=...) instead.\n",
      "  i = [dat.index.get_loc(t, method=\"nearest\") for t in dtime]\n",
      "/home/jmcle/anaconda3/lib/python3.9/site-packages/geomagindices/base.py:37: FutureWarning: Passing method to DatetimeIndex.get_loc is deprecated and will raise in a future version. Use index.get_indexer([item], method=...) instead.\n",
      "  i = [dat.index.get_loc(t, method=\"nearest\") for t in dtime]\n"
     ]
    },
    {
     "name": "stdout",
     "output_type": "stream",
     "text": [
      "Slice: 131. Convergence reached. Iterations: 155. reduced chi2: 2.6\n"
     ]
    },
    {
     "name": "stderr",
     "output_type": "stream",
     "text": [
      "/home/jmcle/anaconda3/lib/python3.9/site-packages/geomagindices/base.py:37: FutureWarning: Passing method to DatetimeIndex.get_loc is deprecated and will raise in a future version. Use index.get_indexer([item], method=...) instead.\n",
      "  i = [dat.index.get_loc(t, method=\"nearest\") for t in dtime]\n",
      "/home/jmcle/anaconda3/lib/python3.9/site-packages/geomagindices/base.py:37: FutureWarning: Passing method to DatetimeIndex.get_loc is deprecated and will raise in a future version. Use index.get_indexer([item], method=...) instead.\n",
      "  i = [dat.index.get_loc(t, method=\"nearest\") for t in dtime]\n"
     ]
    },
    {
     "name": "stdout",
     "output_type": "stream",
     "text": [
      "Slice: 132. Convergence reached. Iterations: 82. reduced chi2: 1.44\n"
     ]
    },
    {
     "name": "stderr",
     "output_type": "stream",
     "text": [
      "/home/jmcle/anaconda3/lib/python3.9/site-packages/geomagindices/base.py:37: FutureWarning: Passing method to DatetimeIndex.get_loc is deprecated and will raise in a future version. Use index.get_indexer([item], method=...) instead.\n",
      "  i = [dat.index.get_loc(t, method=\"nearest\") for t in dtime]\n",
      "/home/jmcle/anaconda3/lib/python3.9/site-packages/geomagindices/base.py:37: FutureWarning: Passing method to DatetimeIndex.get_loc is deprecated and will raise in a future version. Use index.get_indexer([item], method=...) instead.\n",
      "  i = [dat.index.get_loc(t, method=\"nearest\") for t in dtime]\n"
     ]
    },
    {
     "name": "stdout",
     "output_type": "stream",
     "text": [
      "Slice: 133. Convergence reached. Iterations: 148. reduced chi2: 2.15\n"
     ]
    },
    {
     "name": "stderr",
     "output_type": "stream",
     "text": [
      "/home/jmcle/anaconda3/lib/python3.9/site-packages/geomagindices/base.py:37: FutureWarning: Passing method to DatetimeIndex.get_loc is deprecated and will raise in a future version. Use index.get_indexer([item], method=...) instead.\n",
      "  i = [dat.index.get_loc(t, method=\"nearest\") for t in dtime]\n",
      "/home/jmcle/anaconda3/lib/python3.9/site-packages/geomagindices/base.py:37: FutureWarning: Passing method to DatetimeIndex.get_loc is deprecated and will raise in a future version. Use index.get_indexer([item], method=...) instead.\n",
      "  i = [dat.index.get_loc(t, method=\"nearest\") for t in dtime]\n"
     ]
    },
    {
     "name": "stdout",
     "output_type": "stream",
     "text": [
      "Slice: 134. Convergence reached. Iterations: 370. reduced chi2: 1.88\n"
     ]
    },
    {
     "name": "stderr",
     "output_type": "stream",
     "text": [
      "/home/jmcle/anaconda3/lib/python3.9/site-packages/geomagindices/base.py:37: FutureWarning: Passing method to DatetimeIndex.get_loc is deprecated and will raise in a future version. Use index.get_indexer([item], method=...) instead.\n",
      "  i = [dat.index.get_loc(t, method=\"nearest\") for t in dtime]\n",
      "/home/jmcle/anaconda3/lib/python3.9/site-packages/geomagindices/base.py:37: FutureWarning: Passing method to DatetimeIndex.get_loc is deprecated and will raise in a future version. Use index.get_indexer([item], method=...) instead.\n",
      "  i = [dat.index.get_loc(t, method=\"nearest\") for t in dtime]\n"
     ]
    },
    {
     "name": "stdout",
     "output_type": "stream",
     "text": [
      "Slice: 135. Convergence reached. Iterations: 168. reduced chi2: 1.98\n"
     ]
    },
    {
     "name": "stderr",
     "output_type": "stream",
     "text": [
      "/home/jmcle/anaconda3/lib/python3.9/site-packages/geomagindices/base.py:37: FutureWarning: Passing method to DatetimeIndex.get_loc is deprecated and will raise in a future version. Use index.get_indexer([item], method=...) instead.\n",
      "  i = [dat.index.get_loc(t, method=\"nearest\") for t in dtime]\n",
      "/home/jmcle/anaconda3/lib/python3.9/site-packages/geomagindices/base.py:37: FutureWarning: Passing method to DatetimeIndex.get_loc is deprecated and will raise in a future version. Use index.get_indexer([item], method=...) instead.\n",
      "  i = [dat.index.get_loc(t, method=\"nearest\") for t in dtime]\n"
     ]
    },
    {
     "name": "stdout",
     "output_type": "stream",
     "text": [
      "Slice: 136. Convergence reached. Iterations: 171. reduced chi2: 2.3\n"
     ]
    },
    {
     "name": "stderr",
     "output_type": "stream",
     "text": [
      "/home/jmcle/anaconda3/lib/python3.9/site-packages/geomagindices/base.py:37: FutureWarning: Passing method to DatetimeIndex.get_loc is deprecated and will raise in a future version. Use index.get_indexer([item], method=...) instead.\n",
      "  i = [dat.index.get_loc(t, method=\"nearest\") for t in dtime]\n",
      "/home/jmcle/anaconda3/lib/python3.9/site-packages/geomagindices/base.py:37: FutureWarning: Passing method to DatetimeIndex.get_loc is deprecated and will raise in a future version. Use index.get_indexer([item], method=...) instead.\n",
      "  i = [dat.index.get_loc(t, method=\"nearest\") for t in dtime]\n"
     ]
    },
    {
     "name": "stdout",
     "output_type": "stream",
     "text": [
      "Slice: 137. Convergence reached. Iterations: 159. reduced chi2: 2.06\n"
     ]
    },
    {
     "name": "stderr",
     "output_type": "stream",
     "text": [
      "/home/jmcle/anaconda3/lib/python3.9/site-packages/geomagindices/base.py:37: FutureWarning: Passing method to DatetimeIndex.get_loc is deprecated and will raise in a future version. Use index.get_indexer([item], method=...) instead.\n",
      "  i = [dat.index.get_loc(t, method=\"nearest\") for t in dtime]\n",
      "/home/jmcle/anaconda3/lib/python3.9/site-packages/geomagindices/base.py:37: FutureWarning: Passing method to DatetimeIndex.get_loc is deprecated and will raise in a future version. Use index.get_indexer([item], method=...) instead.\n",
      "  i = [dat.index.get_loc(t, method=\"nearest\") for t in dtime]\n"
     ]
    },
    {
     "name": "stdout",
     "output_type": "stream",
     "text": [
      "Slice: 138. Convergence reached. Iterations: 217. reduced chi2: 2.77\n"
     ]
    },
    {
     "name": "stderr",
     "output_type": "stream",
     "text": [
      "/home/jmcle/anaconda3/lib/python3.9/site-packages/geomagindices/base.py:37: FutureWarning: Passing method to DatetimeIndex.get_loc is deprecated and will raise in a future version. Use index.get_indexer([item], method=...) instead.\n",
      "  i = [dat.index.get_loc(t, method=\"nearest\") for t in dtime]\n",
      "/home/jmcle/anaconda3/lib/python3.9/site-packages/geomagindices/base.py:37: FutureWarning: Passing method to DatetimeIndex.get_loc is deprecated and will raise in a future version. Use index.get_indexer([item], method=...) instead.\n",
      "  i = [dat.index.get_loc(t, method=\"nearest\") for t in dtime]\n"
     ]
    },
    {
     "name": "stdout",
     "output_type": "stream",
     "text": [
      "Slice: 139. Convergence reached. Iterations: 272. reduced chi2: 1.55\n"
     ]
    },
    {
     "name": "stderr",
     "output_type": "stream",
     "text": [
      "/home/jmcle/anaconda3/lib/python3.9/site-packages/geomagindices/base.py:37: FutureWarning: Passing method to DatetimeIndex.get_loc is deprecated and will raise in a future version. Use index.get_indexer([item], method=...) instead.\n",
      "  i = [dat.index.get_loc(t, method=\"nearest\") for t in dtime]\n",
      "/home/jmcle/anaconda3/lib/python3.9/site-packages/geomagindices/base.py:37: FutureWarning: Passing method to DatetimeIndex.get_loc is deprecated and will raise in a future version. Use index.get_indexer([item], method=...) instead.\n",
      "  i = [dat.index.get_loc(t, method=\"nearest\") for t in dtime]\n"
     ]
    },
    {
     "name": "stdout",
     "output_type": "stream",
     "text": [
      "Slice: 140. Convergence reached. Iterations: 115. reduced chi2: 1.81\n"
     ]
    },
    {
     "name": "stderr",
     "output_type": "stream",
     "text": [
      "/home/jmcle/anaconda3/lib/python3.9/site-packages/geomagindices/base.py:37: FutureWarning: Passing method to DatetimeIndex.get_loc is deprecated and will raise in a future version. Use index.get_indexer([item], method=...) instead.\n",
      "  i = [dat.index.get_loc(t, method=\"nearest\") for t in dtime]\n",
      "/home/jmcle/anaconda3/lib/python3.9/site-packages/geomagindices/base.py:37: FutureWarning: Passing method to DatetimeIndex.get_loc is deprecated and will raise in a future version. Use index.get_indexer([item], method=...) instead.\n",
      "  i = [dat.index.get_loc(t, method=\"nearest\") for t in dtime]\n"
     ]
    },
    {
     "name": "stdout",
     "output_type": "stream",
     "text": [
      "Slice: 141. Convergence reached. Iterations: 403. reduced chi2: 1.51\n"
     ]
    },
    {
     "name": "stderr",
     "output_type": "stream",
     "text": [
      "/home/jmcle/anaconda3/lib/python3.9/site-packages/geomagindices/base.py:37: FutureWarning: Passing method to DatetimeIndex.get_loc is deprecated and will raise in a future version. Use index.get_indexer([item], method=...) instead.\n",
      "  i = [dat.index.get_loc(t, method=\"nearest\") for t in dtime]\n",
      "/home/jmcle/anaconda3/lib/python3.9/site-packages/geomagindices/base.py:37: FutureWarning: Passing method to DatetimeIndex.get_loc is deprecated and will raise in a future version. Use index.get_indexer([item], method=...) instead.\n",
      "  i = [dat.index.get_loc(t, method=\"nearest\") for t in dtime]\n"
     ]
    },
    {
     "name": "stdout",
     "output_type": "stream",
     "text": [
      "Slice: 142. Convergence reached. Iterations: 444. reduced chi2: 2.0\n"
     ]
    },
    {
     "name": "stderr",
     "output_type": "stream",
     "text": [
      "/home/jmcle/anaconda3/lib/python3.9/site-packages/geomagindices/base.py:37: FutureWarning: Passing method to DatetimeIndex.get_loc is deprecated and will raise in a future version. Use index.get_indexer([item], method=...) instead.\n",
      "  i = [dat.index.get_loc(t, method=\"nearest\") for t in dtime]\n",
      "/home/jmcle/anaconda3/lib/python3.9/site-packages/geomagindices/base.py:37: FutureWarning: Passing method to DatetimeIndex.get_loc is deprecated and will raise in a future version. Use index.get_indexer([item], method=...) instead.\n",
      "  i = [dat.index.get_loc(t, method=\"nearest\") for t in dtime]\n"
     ]
    },
    {
     "name": "stdout",
     "output_type": "stream",
     "text": [
      "Slice: 143. Convergence reached. Iterations: 298. reduced chi2: 0.89\n"
     ]
    },
    {
     "name": "stderr",
     "output_type": "stream",
     "text": [
      "/home/jmcle/anaconda3/lib/python3.9/site-packages/geomagindices/base.py:37: FutureWarning: Passing method to DatetimeIndex.get_loc is deprecated and will raise in a future version. Use index.get_indexer([item], method=...) instead.\n",
      "  i = [dat.index.get_loc(t, method=\"nearest\") for t in dtime]\n",
      "/home/jmcle/anaconda3/lib/python3.9/site-packages/geomagindices/base.py:37: FutureWarning: Passing method to DatetimeIndex.get_loc is deprecated and will raise in a future version. Use index.get_indexer([item], method=...) instead.\n",
      "  i = [dat.index.get_loc(t, method=\"nearest\") for t in dtime]\n"
     ]
    },
    {
     "name": "stdout",
     "output_type": "stream",
     "text": [
      "Slice: 144. Convergence reached. Iterations: 291. reduced chi2: 1.51\n"
     ]
    },
    {
     "name": "stderr",
     "output_type": "stream",
     "text": [
      "/home/jmcle/anaconda3/lib/python3.9/site-packages/geomagindices/base.py:37: FutureWarning: Passing method to DatetimeIndex.get_loc is deprecated and will raise in a future version. Use index.get_indexer([item], method=...) instead.\n",
      "  i = [dat.index.get_loc(t, method=\"nearest\") for t in dtime]\n",
      "/home/jmcle/anaconda3/lib/python3.9/site-packages/geomagindices/base.py:37: FutureWarning: Passing method to DatetimeIndex.get_loc is deprecated and will raise in a future version. Use index.get_indexer([item], method=...) instead.\n",
      "  i = [dat.index.get_loc(t, method=\"nearest\") for t in dtime]\n"
     ]
    },
    {
     "name": "stdout",
     "output_type": "stream",
     "text": [
      "Slice: 145. Convergence reached. Iterations: 214. reduced chi2: 1.36\n"
     ]
    },
    {
     "name": "stderr",
     "output_type": "stream",
     "text": [
      "/home/jmcle/anaconda3/lib/python3.9/site-packages/geomagindices/base.py:37: FutureWarning: Passing method to DatetimeIndex.get_loc is deprecated and will raise in a future version. Use index.get_indexer([item], method=...) instead.\n",
      "  i = [dat.index.get_loc(t, method=\"nearest\") for t in dtime]\n",
      "/home/jmcle/anaconda3/lib/python3.9/site-packages/geomagindices/base.py:37: FutureWarning: Passing method to DatetimeIndex.get_loc is deprecated and will raise in a future version. Use index.get_indexer([item], method=...) instead.\n",
      "  i = [dat.index.get_loc(t, method=\"nearest\") for t in dtime]\n"
     ]
    },
    {
     "name": "stdout",
     "output_type": "stream",
     "text": [
      "Slice: 146. Convergence reached. Iterations: 80. reduced chi2: 2.07\n"
     ]
    },
    {
     "name": "stderr",
     "output_type": "stream",
     "text": [
      "/home/jmcle/anaconda3/lib/python3.9/site-packages/geomagindices/base.py:37: FutureWarning: Passing method to DatetimeIndex.get_loc is deprecated and will raise in a future version. Use index.get_indexer([item], method=...) instead.\n",
      "  i = [dat.index.get_loc(t, method=\"nearest\") for t in dtime]\n",
      "/home/jmcle/anaconda3/lib/python3.9/site-packages/geomagindices/base.py:37: FutureWarning: Passing method to DatetimeIndex.get_loc is deprecated and will raise in a future version. Use index.get_indexer([item], method=...) instead.\n",
      "  i = [dat.index.get_loc(t, method=\"nearest\") for t in dtime]\n"
     ]
    },
    {
     "name": "stdout",
     "output_type": "stream",
     "text": [
      "Slice: 147. Convergence reached. Iterations: 245. reduced chi2: 1.49\n"
     ]
    },
    {
     "name": "stderr",
     "output_type": "stream",
     "text": [
      "/home/jmcle/anaconda3/lib/python3.9/site-packages/geomagindices/base.py:37: FutureWarning: Passing method to DatetimeIndex.get_loc is deprecated and will raise in a future version. Use index.get_indexer([item], method=...) instead.\n",
      "  i = [dat.index.get_loc(t, method=\"nearest\") for t in dtime]\n",
      "/home/jmcle/anaconda3/lib/python3.9/site-packages/geomagindices/base.py:37: FutureWarning: Passing method to DatetimeIndex.get_loc is deprecated and will raise in a future version. Use index.get_indexer([item], method=...) instead.\n",
      "  i = [dat.index.get_loc(t, method=\"nearest\") for t in dtime]\n"
     ]
    },
    {
     "name": "stdout",
     "output_type": "stream",
     "text": [
      "Slice: 148. Convergence reached. Iterations: 149. reduced chi2: 2.09\n"
     ]
    },
    {
     "name": "stderr",
     "output_type": "stream",
     "text": [
      "/home/jmcle/anaconda3/lib/python3.9/site-packages/geomagindices/base.py:37: FutureWarning: Passing method to DatetimeIndex.get_loc is deprecated and will raise in a future version. Use index.get_indexer([item], method=...) instead.\n",
      "  i = [dat.index.get_loc(t, method=\"nearest\") for t in dtime]\n",
      "/home/jmcle/anaconda3/lib/python3.9/site-packages/geomagindices/base.py:37: FutureWarning: Passing method to DatetimeIndex.get_loc is deprecated and will raise in a future version. Use index.get_indexer([item], method=...) instead.\n",
      "  i = [dat.index.get_loc(t, method=\"nearest\") for t in dtime]\n"
     ]
    },
    {
     "name": "stdout",
     "output_type": "stream",
     "text": [
      "Slice: 149. Convergence reached. Iterations: 54. reduced chi2: 1.61\n"
     ]
    },
    {
     "name": "stderr",
     "output_type": "stream",
     "text": [
      "/home/jmcle/anaconda3/lib/python3.9/site-packages/geomagindices/base.py:37: FutureWarning: Passing method to DatetimeIndex.get_loc is deprecated and will raise in a future version. Use index.get_indexer([item], method=...) instead.\n",
      "  i = [dat.index.get_loc(t, method=\"nearest\") for t in dtime]\n",
      "/home/jmcle/anaconda3/lib/python3.9/site-packages/geomagindices/base.py:37: FutureWarning: Passing method to DatetimeIndex.get_loc is deprecated and will raise in a future version. Use index.get_indexer([item], method=...) instead.\n",
      "  i = [dat.index.get_loc(t, method=\"nearest\") for t in dtime]\n"
     ]
    },
    {
     "name": "stdout",
     "output_type": "stream",
     "text": [
      "Slice: 150. Convergence reached. Iterations: 269. reduced chi2: 1.78\n"
     ]
    },
    {
     "name": "stderr",
     "output_type": "stream",
     "text": [
      "/home/jmcle/anaconda3/lib/python3.9/site-packages/geomagindices/base.py:37: FutureWarning: Passing method to DatetimeIndex.get_loc is deprecated and will raise in a future version. Use index.get_indexer([item], method=...) instead.\n",
      "  i = [dat.index.get_loc(t, method=\"nearest\") for t in dtime]\n",
      "/home/jmcle/anaconda3/lib/python3.9/site-packages/geomagindices/base.py:37: FutureWarning: Passing method to DatetimeIndex.get_loc is deprecated and will raise in a future version. Use index.get_indexer([item], method=...) instead.\n",
      "  i = [dat.index.get_loc(t, method=\"nearest\") for t in dtime]\n"
     ]
    },
    {
     "name": "stdout",
     "output_type": "stream",
     "text": [
      "Slice: 151. Convergence reached. Iterations: 78. reduced chi2: 2.36\n"
     ]
    },
    {
     "name": "stderr",
     "output_type": "stream",
     "text": [
      "/home/jmcle/anaconda3/lib/python3.9/site-packages/geomagindices/base.py:37: FutureWarning: Passing method to DatetimeIndex.get_loc is deprecated and will raise in a future version. Use index.get_indexer([item], method=...) instead.\n",
      "  i = [dat.index.get_loc(t, method=\"nearest\") for t in dtime]\n",
      "/home/jmcle/anaconda3/lib/python3.9/site-packages/geomagindices/base.py:37: FutureWarning: Passing method to DatetimeIndex.get_loc is deprecated and will raise in a future version. Use index.get_indexer([item], method=...) instead.\n",
      "  i = [dat.index.get_loc(t, method=\"nearest\") for t in dtime]\n"
     ]
    },
    {
     "name": "stdout",
     "output_type": "stream",
     "text": [
      "Slice: 152. Convergence reached. Iterations: 157. reduced chi2: 2.13\n"
     ]
    },
    {
     "name": "stderr",
     "output_type": "stream",
     "text": [
      "/home/jmcle/anaconda3/lib/python3.9/site-packages/geomagindices/base.py:37: FutureWarning: Passing method to DatetimeIndex.get_loc is deprecated and will raise in a future version. Use index.get_indexer([item], method=...) instead.\n",
      "  i = [dat.index.get_loc(t, method=\"nearest\") for t in dtime]\n",
      "/home/jmcle/anaconda3/lib/python3.9/site-packages/geomagindices/base.py:37: FutureWarning: Passing method to DatetimeIndex.get_loc is deprecated and will raise in a future version. Use index.get_indexer([item], method=...) instead.\n",
      "  i = [dat.index.get_loc(t, method=\"nearest\") for t in dtime]\n"
     ]
    },
    {
     "name": "stdout",
     "output_type": "stream",
     "text": [
      "Slice: 153. Convergence reached. Iterations: 58. reduced chi2: 1.2\n"
     ]
    },
    {
     "name": "stderr",
     "output_type": "stream",
     "text": [
      "/home/jmcle/anaconda3/lib/python3.9/site-packages/geomagindices/base.py:37: FutureWarning: Passing method to DatetimeIndex.get_loc is deprecated and will raise in a future version. Use index.get_indexer([item], method=...) instead.\n",
      "  i = [dat.index.get_loc(t, method=\"nearest\") for t in dtime]\n",
      "/home/jmcle/anaconda3/lib/python3.9/site-packages/geomagindices/base.py:37: FutureWarning: Passing method to DatetimeIndex.get_loc is deprecated and will raise in a future version. Use index.get_indexer([item], method=...) instead.\n",
      "  i = [dat.index.get_loc(t, method=\"nearest\") for t in dtime]\n"
     ]
    },
    {
     "name": "stdout",
     "output_type": "stream",
     "text": [
      "Slice: 154. Convergence reached. Iterations: 171. reduced chi2: 2.72\n"
     ]
    },
    {
     "name": "stderr",
     "output_type": "stream",
     "text": [
      "/home/jmcle/anaconda3/lib/python3.9/site-packages/geomagindices/base.py:37: FutureWarning: Passing method to DatetimeIndex.get_loc is deprecated and will raise in a future version. Use index.get_indexer([item], method=...) instead.\n",
      "  i = [dat.index.get_loc(t, method=\"nearest\") for t in dtime]\n",
      "/home/jmcle/anaconda3/lib/python3.9/site-packages/geomagindices/base.py:37: FutureWarning: Passing method to DatetimeIndex.get_loc is deprecated and will raise in a future version. Use index.get_indexer([item], method=...) instead.\n",
      "  i = [dat.index.get_loc(t, method=\"nearest\") for t in dtime]\n"
     ]
    },
    {
     "name": "stdout",
     "output_type": "stream",
     "text": [
      "Slice: 155. Convergence reached. Iterations: 262. reduced chi2: 2.63\n"
     ]
    },
    {
     "name": "stderr",
     "output_type": "stream",
     "text": [
      "/home/jmcle/anaconda3/lib/python3.9/site-packages/geomagindices/base.py:37: FutureWarning: Passing method to DatetimeIndex.get_loc is deprecated and will raise in a future version. Use index.get_indexer([item], method=...) instead.\n",
      "  i = [dat.index.get_loc(t, method=\"nearest\") for t in dtime]\n",
      "/home/jmcle/anaconda3/lib/python3.9/site-packages/geomagindices/base.py:37: FutureWarning: Passing method to DatetimeIndex.get_loc is deprecated and will raise in a future version. Use index.get_indexer([item], method=...) instead.\n",
      "  i = [dat.index.get_loc(t, method=\"nearest\") for t in dtime]\n"
     ]
    },
    {
     "name": "stdout",
     "output_type": "stream",
     "text": [
      "Slice: 156. Convergence reached. Iterations: 147. reduced chi2: 2.02\n"
     ]
    },
    {
     "name": "stderr",
     "output_type": "stream",
     "text": [
      "/home/jmcle/anaconda3/lib/python3.9/site-packages/geomagindices/base.py:37: FutureWarning: Passing method to DatetimeIndex.get_loc is deprecated and will raise in a future version. Use index.get_indexer([item], method=...) instead.\n",
      "  i = [dat.index.get_loc(t, method=\"nearest\") for t in dtime]\n",
      "/home/jmcle/anaconda3/lib/python3.9/site-packages/geomagindices/base.py:37: FutureWarning: Passing method to DatetimeIndex.get_loc is deprecated and will raise in a future version. Use index.get_indexer([item], method=...) instead.\n",
      "  i = [dat.index.get_loc(t, method=\"nearest\") for t in dtime]\n"
     ]
    },
    {
     "name": "stdout",
     "output_type": "stream",
     "text": [
      "Slice: 157. Convergence reached. Iterations: 88. reduced chi2: 2.53\n"
     ]
    },
    {
     "name": "stderr",
     "output_type": "stream",
     "text": [
      "/home/jmcle/anaconda3/lib/python3.9/site-packages/geomagindices/base.py:37: FutureWarning: Passing method to DatetimeIndex.get_loc is deprecated and will raise in a future version. Use index.get_indexer([item], method=...) instead.\n",
      "  i = [dat.index.get_loc(t, method=\"nearest\") for t in dtime]\n",
      "/home/jmcle/anaconda3/lib/python3.9/site-packages/geomagindices/base.py:37: FutureWarning: Passing method to DatetimeIndex.get_loc is deprecated and will raise in a future version. Use index.get_indexer([item], method=...) instead.\n",
      "  i = [dat.index.get_loc(t, method=\"nearest\") for t in dtime]\n"
     ]
    },
    {
     "name": "stdout",
     "output_type": "stream",
     "text": [
      "Slice: 158. Convergence reached. Iterations: 313. reduced chi2: 2.34\n"
     ]
    },
    {
     "name": "stderr",
     "output_type": "stream",
     "text": [
      "/home/jmcle/anaconda3/lib/python3.9/site-packages/geomagindices/base.py:37: FutureWarning: Passing method to DatetimeIndex.get_loc is deprecated and will raise in a future version. Use index.get_indexer([item], method=...) instead.\n",
      "  i = [dat.index.get_loc(t, method=\"nearest\") for t in dtime]\n",
      "/home/jmcle/anaconda3/lib/python3.9/site-packages/geomagindices/base.py:37: FutureWarning: Passing method to DatetimeIndex.get_loc is deprecated and will raise in a future version. Use index.get_indexer([item], method=...) instead.\n",
      "  i = [dat.index.get_loc(t, method=\"nearest\") for t in dtime]\n"
     ]
    },
    {
     "name": "stdout",
     "output_type": "stream",
     "text": [
      "Slice: 159. Convergence reached. Iterations: 271. reduced chi2: 1.69\n"
     ]
    },
    {
     "name": "stderr",
     "output_type": "stream",
     "text": [
      "/home/jmcle/anaconda3/lib/python3.9/site-packages/geomagindices/base.py:37: FutureWarning: Passing method to DatetimeIndex.get_loc is deprecated and will raise in a future version. Use index.get_indexer([item], method=...) instead.\n",
      "  i = [dat.index.get_loc(t, method=\"nearest\") for t in dtime]\n",
      "/home/jmcle/anaconda3/lib/python3.9/site-packages/geomagindices/base.py:37: FutureWarning: Passing method to DatetimeIndex.get_loc is deprecated and will raise in a future version. Use index.get_indexer([item], method=...) instead.\n",
      "  i = [dat.index.get_loc(t, method=\"nearest\") for t in dtime]\n"
     ]
    },
    {
     "name": "stdout",
     "output_type": "stream",
     "text": [
      "Slice: 160. Convergence reached. Iterations: 218. reduced chi2: 1.88\n"
     ]
    },
    {
     "name": "stderr",
     "output_type": "stream",
     "text": [
      "/home/jmcle/anaconda3/lib/python3.9/site-packages/geomagindices/base.py:37: FutureWarning: Passing method to DatetimeIndex.get_loc is deprecated and will raise in a future version. Use index.get_indexer([item], method=...) instead.\n",
      "  i = [dat.index.get_loc(t, method=\"nearest\") for t in dtime]\n",
      "/home/jmcle/anaconda3/lib/python3.9/site-packages/geomagindices/base.py:37: FutureWarning: Passing method to DatetimeIndex.get_loc is deprecated and will raise in a future version. Use index.get_indexer([item], method=...) instead.\n",
      "  i = [dat.index.get_loc(t, method=\"nearest\") for t in dtime]\n"
     ]
    },
    {
     "name": "stdout",
     "output_type": "stream",
     "text": [
      "Slice: 161. Convergence reached. Iterations: 206. reduced chi2: 1.9\n"
     ]
    },
    {
     "name": "stderr",
     "output_type": "stream",
     "text": [
      "/home/jmcle/anaconda3/lib/python3.9/site-packages/geomagindices/base.py:37: FutureWarning: Passing method to DatetimeIndex.get_loc is deprecated and will raise in a future version. Use index.get_indexer([item], method=...) instead.\n",
      "  i = [dat.index.get_loc(t, method=\"nearest\") for t in dtime]\n",
      "/home/jmcle/anaconda3/lib/python3.9/site-packages/geomagindices/base.py:37: FutureWarning: Passing method to DatetimeIndex.get_loc is deprecated and will raise in a future version. Use index.get_indexer([item], method=...) instead.\n",
      "  i = [dat.index.get_loc(t, method=\"nearest\") for t in dtime]\n"
     ]
    },
    {
     "name": "stdout",
     "output_type": "stream",
     "text": [
      "Slice: 162. Convergence reached. Iterations: 31. reduced chi2: 2.22\n"
     ]
    },
    {
     "name": "stderr",
     "output_type": "stream",
     "text": [
      "/home/jmcle/anaconda3/lib/python3.9/site-packages/geomagindices/base.py:37: FutureWarning: Passing method to DatetimeIndex.get_loc is deprecated and will raise in a future version. Use index.get_indexer([item], method=...) instead.\n",
      "  i = [dat.index.get_loc(t, method=\"nearest\") for t in dtime]\n",
      "/home/jmcle/anaconda3/lib/python3.9/site-packages/geomagindices/base.py:37: FutureWarning: Passing method to DatetimeIndex.get_loc is deprecated and will raise in a future version. Use index.get_indexer([item], method=...) instead.\n",
      "  i = [dat.index.get_loc(t, method=\"nearest\") for t in dtime]\n"
     ]
    },
    {
     "name": "stdout",
     "output_type": "stream",
     "text": [
      "Slice: 163. Convergence reached. Iterations: 115. reduced chi2: 2.21\n"
     ]
    },
    {
     "name": "stderr",
     "output_type": "stream",
     "text": [
      "/home/jmcle/anaconda3/lib/python3.9/site-packages/geomagindices/base.py:37: FutureWarning: Passing method to DatetimeIndex.get_loc is deprecated and will raise in a future version. Use index.get_indexer([item], method=...) instead.\n",
      "  i = [dat.index.get_loc(t, method=\"nearest\") for t in dtime]\n",
      "/home/jmcle/anaconda3/lib/python3.9/site-packages/geomagindices/base.py:37: FutureWarning: Passing method to DatetimeIndex.get_loc is deprecated and will raise in a future version. Use index.get_indexer([item], method=...) instead.\n",
      "  i = [dat.index.get_loc(t, method=\"nearest\") for t in dtime]\n"
     ]
    },
    {
     "name": "stdout",
     "output_type": "stream",
     "text": [
      "Slice: 164. Convergence reached. Iterations: 30. reduced chi2: 1.78\n"
     ]
    },
    {
     "name": "stderr",
     "output_type": "stream",
     "text": [
      "/home/jmcle/anaconda3/lib/python3.9/site-packages/geomagindices/base.py:37: FutureWarning: Passing method to DatetimeIndex.get_loc is deprecated and will raise in a future version. Use index.get_indexer([item], method=...) instead.\n",
      "  i = [dat.index.get_loc(t, method=\"nearest\") for t in dtime]\n",
      "/home/jmcle/anaconda3/lib/python3.9/site-packages/geomagindices/base.py:37: FutureWarning: Passing method to DatetimeIndex.get_loc is deprecated and will raise in a future version. Use index.get_indexer([item], method=...) instead.\n",
      "  i = [dat.index.get_loc(t, method=\"nearest\") for t in dtime]\n"
     ]
    },
    {
     "name": "stdout",
     "output_type": "stream",
     "text": [
      "Slice: 165. Convergence reached. Iterations: 38. reduced chi2: 2.24\n"
     ]
    },
    {
     "name": "stderr",
     "output_type": "stream",
     "text": [
      "/home/jmcle/anaconda3/lib/python3.9/site-packages/geomagindices/base.py:37: FutureWarning: Passing method to DatetimeIndex.get_loc is deprecated and will raise in a future version. Use index.get_indexer([item], method=...) instead.\n",
      "  i = [dat.index.get_loc(t, method=\"nearest\") for t in dtime]\n",
      "/home/jmcle/anaconda3/lib/python3.9/site-packages/geomagindices/base.py:37: FutureWarning: Passing method to DatetimeIndex.get_loc is deprecated and will raise in a future version. Use index.get_indexer([item], method=...) instead.\n",
      "  i = [dat.index.get_loc(t, method=\"nearest\") for t in dtime]\n"
     ]
    },
    {
     "name": "stdout",
     "output_type": "stream",
     "text": [
      "Slice: 166. Convergence reached. Iterations: 127. reduced chi2: 3.3\n"
     ]
    },
    {
     "name": "stderr",
     "output_type": "stream",
     "text": [
      "/home/jmcle/anaconda3/lib/python3.9/site-packages/geomagindices/base.py:37: FutureWarning: Passing method to DatetimeIndex.get_loc is deprecated and will raise in a future version. Use index.get_indexer([item], method=...) instead.\n",
      "  i = [dat.index.get_loc(t, method=\"nearest\") for t in dtime]\n",
      "/home/jmcle/anaconda3/lib/python3.9/site-packages/geomagindices/base.py:37: FutureWarning: Passing method to DatetimeIndex.get_loc is deprecated and will raise in a future version. Use index.get_indexer([item], method=...) instead.\n",
      "  i = [dat.index.get_loc(t, method=\"nearest\") for t in dtime]\n"
     ]
    },
    {
     "name": "stdout",
     "output_type": "stream",
     "text": [
      "Slice: 167. Convergence reached. Iterations: 157. reduced chi2: 4.0\n"
     ]
    },
    {
     "name": "stderr",
     "output_type": "stream",
     "text": [
      "/home/jmcle/anaconda3/lib/python3.9/site-packages/geomagindices/base.py:37: FutureWarning: Passing method to DatetimeIndex.get_loc is deprecated and will raise in a future version. Use index.get_indexer([item], method=...) instead.\n",
      "  i = [dat.index.get_loc(t, method=\"nearest\") for t in dtime]\n",
      "/home/jmcle/anaconda3/lib/python3.9/site-packages/geomagindices/base.py:37: FutureWarning: Passing method to DatetimeIndex.get_loc is deprecated and will raise in a future version. Use index.get_indexer([item], method=...) instead.\n",
      "  i = [dat.index.get_loc(t, method=\"nearest\") for t in dtime]\n"
     ]
    },
    {
     "name": "stdout",
     "output_type": "stream",
     "text": [
      "Slice: 168. Convergence reached. Iterations: 118. reduced chi2: 3.43\n"
     ]
    },
    {
     "name": "stderr",
     "output_type": "stream",
     "text": [
      "/home/jmcle/anaconda3/lib/python3.9/site-packages/geomagindices/base.py:37: FutureWarning: Passing method to DatetimeIndex.get_loc is deprecated and will raise in a future version. Use index.get_indexer([item], method=...) instead.\n",
      "  i = [dat.index.get_loc(t, method=\"nearest\") for t in dtime]\n",
      "/home/jmcle/anaconda3/lib/python3.9/site-packages/geomagindices/base.py:37: FutureWarning: Passing method to DatetimeIndex.get_loc is deprecated and will raise in a future version. Use index.get_indexer([item], method=...) instead.\n",
      "  i = [dat.index.get_loc(t, method=\"nearest\") for t in dtime]\n"
     ]
    },
    {
     "name": "stdout",
     "output_type": "stream",
     "text": [
      "Slice: 169. Convergence reached. Iterations: 239. reduced chi2: 3.53\n"
     ]
    },
    {
     "name": "stderr",
     "output_type": "stream",
     "text": [
      "/home/jmcle/anaconda3/lib/python3.9/site-packages/geomagindices/base.py:37: FutureWarning: Passing method to DatetimeIndex.get_loc is deprecated and will raise in a future version. Use index.get_indexer([item], method=...) instead.\n",
      "  i = [dat.index.get_loc(t, method=\"nearest\") for t in dtime]\n",
      "/home/jmcle/anaconda3/lib/python3.9/site-packages/geomagindices/base.py:37: FutureWarning: Passing method to DatetimeIndex.get_loc is deprecated and will raise in a future version. Use index.get_indexer([item], method=...) instead.\n",
      "  i = [dat.index.get_loc(t, method=\"nearest\") for t in dtime]\n"
     ]
    },
    {
     "name": "stdout",
     "output_type": "stream",
     "text": [
      "Slice: 170. Convergence reached. Iterations: 18. reduced chi2: 9.52\n"
     ]
    },
    {
     "name": "stderr",
     "output_type": "stream",
     "text": [
      "/home/jmcle/anaconda3/lib/python3.9/site-packages/geomagindices/base.py:37: FutureWarning: Passing method to DatetimeIndex.get_loc is deprecated and will raise in a future version. Use index.get_indexer([item], method=...) instead.\n",
      "  i = [dat.index.get_loc(t, method=\"nearest\") for t in dtime]\n",
      "/home/jmcle/anaconda3/lib/python3.9/site-packages/geomagindices/base.py:37: FutureWarning: Passing method to DatetimeIndex.get_loc is deprecated and will raise in a future version. Use index.get_indexer([item], method=...) instead.\n",
      "  i = [dat.index.get_loc(t, method=\"nearest\") for t in dtime]\n"
     ]
    },
    {
     "name": "stdout",
     "output_type": "stream",
     "text": [
      "Slice: 171. Convergence reached. Iterations: 250. reduced chi2: 3.9\n"
     ]
    },
    {
     "name": "stderr",
     "output_type": "stream",
     "text": [
      "/home/jmcle/anaconda3/lib/python3.9/site-packages/geomagindices/base.py:37: FutureWarning: Passing method to DatetimeIndex.get_loc is deprecated and will raise in a future version. Use index.get_indexer([item], method=...) instead.\n",
      "  i = [dat.index.get_loc(t, method=\"nearest\") for t in dtime]\n",
      "/home/jmcle/anaconda3/lib/python3.9/site-packages/geomagindices/base.py:37: FutureWarning: Passing method to DatetimeIndex.get_loc is deprecated and will raise in a future version. Use index.get_indexer([item], method=...) instead.\n",
      "  i = [dat.index.get_loc(t, method=\"nearest\") for t in dtime]\n"
     ]
    },
    {
     "name": "stdout",
     "output_type": "stream",
     "text": [
      "Slice: 172. Convergence reached. Iterations: 321. reduced chi2: 2.31\n"
     ]
    },
    {
     "name": "stderr",
     "output_type": "stream",
     "text": [
      "/home/jmcle/anaconda3/lib/python3.9/site-packages/geomagindices/base.py:37: FutureWarning: Passing method to DatetimeIndex.get_loc is deprecated and will raise in a future version. Use index.get_indexer([item], method=...) instead.\n",
      "  i = [dat.index.get_loc(t, method=\"nearest\") for t in dtime]\n",
      "/home/jmcle/anaconda3/lib/python3.9/site-packages/geomagindices/base.py:37: FutureWarning: Passing method to DatetimeIndex.get_loc is deprecated and will raise in a future version. Use index.get_indexer([item], method=...) instead.\n",
      "  i = [dat.index.get_loc(t, method=\"nearest\") for t in dtime]\n"
     ]
    },
    {
     "name": "stdout",
     "output_type": "stream",
     "text": [
      "Slice: 173. Convergence reached. Iterations: 77. reduced chi2: 4.23\n"
     ]
    },
    {
     "name": "stderr",
     "output_type": "stream",
     "text": [
      "/home/jmcle/anaconda3/lib/python3.9/site-packages/geomagindices/base.py:37: FutureWarning: Passing method to DatetimeIndex.get_loc is deprecated and will raise in a future version. Use index.get_indexer([item], method=...) instead.\n",
      "  i = [dat.index.get_loc(t, method=\"nearest\") for t in dtime]\n",
      "/home/jmcle/anaconda3/lib/python3.9/site-packages/geomagindices/base.py:37: FutureWarning: Passing method to DatetimeIndex.get_loc is deprecated and will raise in a future version. Use index.get_indexer([item], method=...) instead.\n",
      "  i = [dat.index.get_loc(t, method=\"nearest\") for t in dtime]\n"
     ]
    },
    {
     "name": "stdout",
     "output_type": "stream",
     "text": [
      "Slice: 174. Convergence reached. Iterations: 1467. reduced chi2: 3.91\n"
     ]
    },
    {
     "name": "stderr",
     "output_type": "stream",
     "text": [
      "/home/jmcle/anaconda3/lib/python3.9/site-packages/geomagindices/base.py:37: FutureWarning: Passing method to DatetimeIndex.get_loc is deprecated and will raise in a future version. Use index.get_indexer([item], method=...) instead.\n",
      "  i = [dat.index.get_loc(t, method=\"nearest\") for t in dtime]\n",
      "/home/jmcle/anaconda3/lib/python3.9/site-packages/geomagindices/base.py:37: FutureWarning: Passing method to DatetimeIndex.get_loc is deprecated and will raise in a future version. Use index.get_indexer([item], method=...) instead.\n",
      "  i = [dat.index.get_loc(t, method=\"nearest\") for t in dtime]\n"
     ]
    },
    {
     "name": "stdout",
     "output_type": "stream",
     "text": [
      "Slice: 175. Convergence reached. Iterations: 703. reduced chi2: 2.06\n"
     ]
    },
    {
     "name": "stderr",
     "output_type": "stream",
     "text": [
      "/home/jmcle/anaconda3/lib/python3.9/site-packages/geomagindices/base.py:37: FutureWarning: Passing method to DatetimeIndex.get_loc is deprecated and will raise in a future version. Use index.get_indexer([item], method=...) instead.\n",
      "  i = [dat.index.get_loc(t, method=\"nearest\") for t in dtime]\n",
      "/home/jmcle/anaconda3/lib/python3.9/site-packages/geomagindices/base.py:37: FutureWarning: Passing method to DatetimeIndex.get_loc is deprecated and will raise in a future version. Use index.get_indexer([item], method=...) instead.\n",
      "  i = [dat.index.get_loc(t, method=\"nearest\") for t in dtime]\n"
     ]
    },
    {
     "name": "stdout",
     "output_type": "stream",
     "text": [
      "Slice: 176. Convergence reached. Iterations: 1103. reduced chi2: 2.45\n"
     ]
    },
    {
     "name": "stderr",
     "output_type": "stream",
     "text": [
      "/home/jmcle/anaconda3/lib/python3.9/site-packages/geomagindices/base.py:37: FutureWarning: Passing method to DatetimeIndex.get_loc is deprecated and will raise in a future version. Use index.get_indexer([item], method=...) instead.\n",
      "  i = [dat.index.get_loc(t, method=\"nearest\") for t in dtime]\n",
      "/home/jmcle/anaconda3/lib/python3.9/site-packages/geomagindices/base.py:37: FutureWarning: Passing method to DatetimeIndex.get_loc is deprecated and will raise in a future version. Use index.get_indexer([item], method=...) instead.\n",
      "  i = [dat.index.get_loc(t, method=\"nearest\") for t in dtime]\n"
     ]
    },
    {
     "name": "stdout",
     "output_type": "stream",
     "text": [
      "Slice: 177. Convergence reached. Iterations: 1052. reduced chi2: 4.96\n"
     ]
    },
    {
     "name": "stderr",
     "output_type": "stream",
     "text": [
      "/home/jmcle/anaconda3/lib/python3.9/site-packages/geomagindices/base.py:37: FutureWarning: Passing method to DatetimeIndex.get_loc is deprecated and will raise in a future version. Use index.get_indexer([item], method=...) instead.\n",
      "  i = [dat.index.get_loc(t, method=\"nearest\") for t in dtime]\n",
      "/home/jmcle/anaconda3/lib/python3.9/site-packages/geomagindices/base.py:37: FutureWarning: Passing method to DatetimeIndex.get_loc is deprecated and will raise in a future version. Use index.get_indexer([item], method=...) instead.\n",
      "  i = [dat.index.get_loc(t, method=\"nearest\") for t in dtime]\n"
     ]
    },
    {
     "name": "stdout",
     "output_type": "stream",
     "text": [
      "Slice: 178. Convergence reached. Iterations: 463. reduced chi2: 1.53\n"
     ]
    },
    {
     "name": "stderr",
     "output_type": "stream",
     "text": [
      "/home/jmcle/anaconda3/lib/python3.9/site-packages/geomagindices/base.py:37: FutureWarning: Passing method to DatetimeIndex.get_loc is deprecated and will raise in a future version. Use index.get_indexer([item], method=...) instead.\n",
      "  i = [dat.index.get_loc(t, method=\"nearest\") for t in dtime]\n",
      "/home/jmcle/anaconda3/lib/python3.9/site-packages/geomagindices/base.py:37: FutureWarning: Passing method to DatetimeIndex.get_loc is deprecated and will raise in a future version. Use index.get_indexer([item], method=...) instead.\n",
      "  i = [dat.index.get_loc(t, method=\"nearest\") for t in dtime]\n"
     ]
    },
    {
     "name": "stdout",
     "output_type": "stream",
     "text": [
      "Slice: 179. Convergence reached. Iterations: 563. reduced chi2: 1.94\n"
     ]
    },
    {
     "name": "stderr",
     "output_type": "stream",
     "text": [
      "/home/jmcle/anaconda3/lib/python3.9/site-packages/geomagindices/base.py:37: FutureWarning: Passing method to DatetimeIndex.get_loc is deprecated and will raise in a future version. Use index.get_indexer([item], method=...) instead.\n",
      "  i = [dat.index.get_loc(t, method=\"nearest\") for t in dtime]\n",
      "/home/jmcle/anaconda3/lib/python3.9/site-packages/geomagindices/base.py:37: FutureWarning: Passing method to DatetimeIndex.get_loc is deprecated and will raise in a future version. Use index.get_indexer([item], method=...) instead.\n",
      "  i = [dat.index.get_loc(t, method=\"nearest\") for t in dtime]\n"
     ]
    },
    {
     "name": "stdout",
     "output_type": "stream",
     "text": [
      "Slice: 180. Convergence reached. Iterations: 361. reduced chi2: 2.02\n"
     ]
    },
    {
     "name": "stderr",
     "output_type": "stream",
     "text": [
      "/home/jmcle/anaconda3/lib/python3.9/site-packages/geomagindices/base.py:37: FutureWarning: Passing method to DatetimeIndex.get_loc is deprecated and will raise in a future version. Use index.get_indexer([item], method=...) instead.\n",
      "  i = [dat.index.get_loc(t, method=\"nearest\") for t in dtime]\n",
      "/home/jmcle/anaconda3/lib/python3.9/site-packages/geomagindices/base.py:37: FutureWarning: Passing method to DatetimeIndex.get_loc is deprecated and will raise in a future version. Use index.get_indexer([item], method=...) instead.\n",
      "  i = [dat.index.get_loc(t, method=\"nearest\") for t in dtime]\n"
     ]
    },
    {
     "name": "stdout",
     "output_type": "stream",
     "text": [
      "Slice: 181. Convergence reached. Iterations: 473. reduced chi2: 2.32\n"
     ]
    },
    {
     "name": "stderr",
     "output_type": "stream",
     "text": [
      "/home/jmcle/anaconda3/lib/python3.9/site-packages/geomagindices/base.py:37: FutureWarning: Passing method to DatetimeIndex.get_loc is deprecated and will raise in a future version. Use index.get_indexer([item], method=...) instead.\n",
      "  i = [dat.index.get_loc(t, method=\"nearest\") for t in dtime]\n",
      "/home/jmcle/anaconda3/lib/python3.9/site-packages/geomagindices/base.py:37: FutureWarning: Passing method to DatetimeIndex.get_loc is deprecated and will raise in a future version. Use index.get_indexer([item], method=...) instead.\n",
      "  i = [dat.index.get_loc(t, method=\"nearest\") for t in dtime]\n"
     ]
    },
    {
     "name": "stdout",
     "output_type": "stream",
     "text": [
      "Slice: 182. Convergence reached. Iterations: 685. reduced chi2: 1.45\n"
     ]
    },
    {
     "name": "stderr",
     "output_type": "stream",
     "text": [
      "/home/jmcle/anaconda3/lib/python3.9/site-packages/geomagindices/base.py:37: FutureWarning: Passing method to DatetimeIndex.get_loc is deprecated and will raise in a future version. Use index.get_indexer([item], method=...) instead.\n",
      "  i = [dat.index.get_loc(t, method=\"nearest\") for t in dtime]\n",
      "/home/jmcle/anaconda3/lib/python3.9/site-packages/geomagindices/base.py:37: FutureWarning: Passing method to DatetimeIndex.get_loc is deprecated and will raise in a future version. Use index.get_indexer([item], method=...) instead.\n",
      "  i = [dat.index.get_loc(t, method=\"nearest\") for t in dtime]\n"
     ]
    },
    {
     "name": "stdout",
     "output_type": "stream",
     "text": [
      "Slice: 183. Convergence reached. Iterations: 643. reduced chi2: 1.79\n"
     ]
    },
    {
     "name": "stderr",
     "output_type": "stream",
     "text": [
      "/home/jmcle/anaconda3/lib/python3.9/site-packages/geomagindices/base.py:37: FutureWarning: Passing method to DatetimeIndex.get_loc is deprecated and will raise in a future version. Use index.get_indexer([item], method=...) instead.\n",
      "  i = [dat.index.get_loc(t, method=\"nearest\") for t in dtime]\n",
      "/home/jmcle/anaconda3/lib/python3.9/site-packages/geomagindices/base.py:37: FutureWarning: Passing method to DatetimeIndex.get_loc is deprecated and will raise in a future version. Use index.get_indexer([item], method=...) instead.\n",
      "  i = [dat.index.get_loc(t, method=\"nearest\") for t in dtime]\n"
     ]
    },
    {
     "name": "stdout",
     "output_type": "stream",
     "text": [
      "Slice: 184. Convergence reached. Iterations: 866. reduced chi2: 2.7\n"
     ]
    },
    {
     "name": "stderr",
     "output_type": "stream",
     "text": [
      "/home/jmcle/anaconda3/lib/python3.9/site-packages/geomagindices/base.py:37: FutureWarning: Passing method to DatetimeIndex.get_loc is deprecated and will raise in a future version. Use index.get_indexer([item], method=...) instead.\n",
      "  i = [dat.index.get_loc(t, method=\"nearest\") for t in dtime]\n",
      "/home/jmcle/anaconda3/lib/python3.9/site-packages/geomagindices/base.py:37: FutureWarning: Passing method to DatetimeIndex.get_loc is deprecated and will raise in a future version. Use index.get_indexer([item], method=...) instead.\n",
      "  i = [dat.index.get_loc(t, method=\"nearest\") for t in dtime]\n"
     ]
    },
    {
     "name": "stdout",
     "output_type": "stream",
     "text": [
      "Slice: 185. Convergence reached. Iterations: 1672. reduced chi2: 2.96\n"
     ]
    },
    {
     "name": "stderr",
     "output_type": "stream",
     "text": [
      "/home/jmcle/anaconda3/lib/python3.9/site-packages/geomagindices/base.py:37: FutureWarning: Passing method to DatetimeIndex.get_loc is deprecated and will raise in a future version. Use index.get_indexer([item], method=...) instead.\n",
      "  i = [dat.index.get_loc(t, method=\"nearest\") for t in dtime]\n",
      "/home/jmcle/anaconda3/lib/python3.9/site-packages/geomagindices/base.py:37: FutureWarning: Passing method to DatetimeIndex.get_loc is deprecated and will raise in a future version. Use index.get_indexer([item], method=...) instead.\n",
      "  i = [dat.index.get_loc(t, method=\"nearest\") for t in dtime]\n"
     ]
    },
    {
     "name": "stdout",
     "output_type": "stream",
     "text": [
      "Slice: 186. Convergence reached. Iterations: 2312. reduced chi2: 5.16\n"
     ]
    },
    {
     "name": "stderr",
     "output_type": "stream",
     "text": [
      "/home/jmcle/anaconda3/lib/python3.9/site-packages/geomagindices/base.py:37: FutureWarning: Passing method to DatetimeIndex.get_loc is deprecated and will raise in a future version. Use index.get_indexer([item], method=...) instead.\n",
      "  i = [dat.index.get_loc(t, method=\"nearest\") for t in dtime]\n",
      "/home/jmcle/anaconda3/lib/python3.9/site-packages/geomagindices/base.py:37: FutureWarning: Passing method to DatetimeIndex.get_loc is deprecated and will raise in a future version. Use index.get_indexer([item], method=...) instead.\n",
      "  i = [dat.index.get_loc(t, method=\"nearest\") for t in dtime]\n"
     ]
    },
    {
     "name": "stdout",
     "output_type": "stream",
     "text": [
      "Slice: 187. Convergence reached. Iterations: 520. reduced chi2: 2.57\n"
     ]
    },
    {
     "name": "stderr",
     "output_type": "stream",
     "text": [
      "/home/jmcle/anaconda3/lib/python3.9/site-packages/geomagindices/base.py:37: FutureWarning: Passing method to DatetimeIndex.get_loc is deprecated and will raise in a future version. Use index.get_indexer([item], method=...) instead.\n",
      "  i = [dat.index.get_loc(t, method=\"nearest\") for t in dtime]\n",
      "/home/jmcle/anaconda3/lib/python3.9/site-packages/geomagindices/base.py:37: FutureWarning: Passing method to DatetimeIndex.get_loc is deprecated and will raise in a future version. Use index.get_indexer([item], method=...) instead.\n",
      "  i = [dat.index.get_loc(t, method=\"nearest\") for t in dtime]\n"
     ]
    },
    {
     "name": "stdout",
     "output_type": "stream",
     "text": [
      "Slice: 188. Convergence reached. Iterations: 540. reduced chi2: 2.8\n"
     ]
    },
    {
     "name": "stderr",
     "output_type": "stream",
     "text": [
      "/home/jmcle/anaconda3/lib/python3.9/site-packages/geomagindices/base.py:37: FutureWarning: Passing method to DatetimeIndex.get_loc is deprecated and will raise in a future version. Use index.get_indexer([item], method=...) instead.\n",
      "  i = [dat.index.get_loc(t, method=\"nearest\") for t in dtime]\n",
      "/home/jmcle/anaconda3/lib/python3.9/site-packages/geomagindices/base.py:37: FutureWarning: Passing method to DatetimeIndex.get_loc is deprecated and will raise in a future version. Use index.get_indexer([item], method=...) instead.\n",
      "  i = [dat.index.get_loc(t, method=\"nearest\") for t in dtime]\n"
     ]
    },
    {
     "name": "stdout",
     "output_type": "stream",
     "text": [
      "Slice: 189. Convergence reached. Iterations: 176. reduced chi2: 2.45\n"
     ]
    },
    {
     "name": "stderr",
     "output_type": "stream",
     "text": [
      "/home/jmcle/anaconda3/lib/python3.9/site-packages/geomagindices/base.py:37: FutureWarning: Passing method to DatetimeIndex.get_loc is deprecated and will raise in a future version. Use index.get_indexer([item], method=...) instead.\n",
      "  i = [dat.index.get_loc(t, method=\"nearest\") for t in dtime]\n",
      "/home/jmcle/anaconda3/lib/python3.9/site-packages/geomagindices/base.py:37: FutureWarning: Passing method to DatetimeIndex.get_loc is deprecated and will raise in a future version. Use index.get_indexer([item], method=...) instead.\n",
      "  i = [dat.index.get_loc(t, method=\"nearest\") for t in dtime]\n"
     ]
    },
    {
     "name": "stdout",
     "output_type": "stream",
     "text": [
      "Slice: 190. Convergence reached. Iterations: 1044. reduced chi2: 4.65\n"
     ]
    },
    {
     "name": "stderr",
     "output_type": "stream",
     "text": [
      "/home/jmcle/anaconda3/lib/python3.9/site-packages/geomagindices/base.py:37: FutureWarning: Passing method to DatetimeIndex.get_loc is deprecated and will raise in a future version. Use index.get_indexer([item], method=...) instead.\n",
      "  i = [dat.index.get_loc(t, method=\"nearest\") for t in dtime]\n",
      "/home/jmcle/anaconda3/lib/python3.9/site-packages/geomagindices/base.py:37: FutureWarning: Passing method to DatetimeIndex.get_loc is deprecated and will raise in a future version. Use index.get_indexer([item], method=...) instead.\n",
      "  i = [dat.index.get_loc(t, method=\"nearest\") for t in dtime]\n"
     ]
    },
    {
     "name": "stdout",
     "output_type": "stream",
     "text": [
      "Slice: 191. Convergence reached. Iterations: 1854. reduced chi2: 7.26\n"
     ]
    },
    {
     "name": "stderr",
     "output_type": "stream",
     "text": [
      "/home/jmcle/anaconda3/lib/python3.9/site-packages/geomagindices/base.py:37: FutureWarning: Passing method to DatetimeIndex.get_loc is deprecated and will raise in a future version. Use index.get_indexer([item], method=...) instead.\n",
      "  i = [dat.index.get_loc(t, method=\"nearest\") for t in dtime]\n",
      "/home/jmcle/anaconda3/lib/python3.9/site-packages/geomagindices/base.py:37: FutureWarning: Passing method to DatetimeIndex.get_loc is deprecated and will raise in a future version. Use index.get_indexer([item], method=...) instead.\n",
      "  i = [dat.index.get_loc(t, method=\"nearest\") for t in dtime]\n"
     ]
    },
    {
     "name": "stdout",
     "output_type": "stream",
     "text": [
      "Slice: 192. Convergence reached. Iterations: 822. reduced chi2: 2.25\n"
     ]
    },
    {
     "name": "stderr",
     "output_type": "stream",
     "text": [
      "/home/jmcle/anaconda3/lib/python3.9/site-packages/geomagindices/base.py:37: FutureWarning: Passing method to DatetimeIndex.get_loc is deprecated and will raise in a future version. Use index.get_indexer([item], method=...) instead.\n",
      "  i = [dat.index.get_loc(t, method=\"nearest\") for t in dtime]\n",
      "/home/jmcle/anaconda3/lib/python3.9/site-packages/geomagindices/base.py:37: FutureWarning: Passing method to DatetimeIndex.get_loc is deprecated and will raise in a future version. Use index.get_indexer([item], method=...) instead.\n",
      "  i = [dat.index.get_loc(t, method=\"nearest\") for t in dtime]\n"
     ]
    },
    {
     "name": "stdout",
     "output_type": "stream",
     "text": [
      "Slice: 193. Convergence reached. Iterations: 2017. reduced chi2: 5.36\n"
     ]
    },
    {
     "name": "stderr",
     "output_type": "stream",
     "text": [
      "/home/jmcle/anaconda3/lib/python3.9/site-packages/geomagindices/base.py:37: FutureWarning: Passing method to DatetimeIndex.get_loc is deprecated and will raise in a future version. Use index.get_indexer([item], method=...) instead.\n",
      "  i = [dat.index.get_loc(t, method=\"nearest\") for t in dtime]\n",
      "/home/jmcle/anaconda3/lib/python3.9/site-packages/geomagindices/base.py:37: FutureWarning: Passing method to DatetimeIndex.get_loc is deprecated and will raise in a future version. Use index.get_indexer([item], method=...) instead.\n",
      "  i = [dat.index.get_loc(t, method=\"nearest\") for t in dtime]\n"
     ]
    },
    {
     "name": "stdout",
     "output_type": "stream",
     "text": [
      "Slice: 194. Convergence reached. Iterations: 608. reduced chi2: 2.27\n"
     ]
    },
    {
     "name": "stderr",
     "output_type": "stream",
     "text": [
      "/home/jmcle/anaconda3/lib/python3.9/site-packages/geomagindices/base.py:37: FutureWarning: Passing method to DatetimeIndex.get_loc is deprecated and will raise in a future version. Use index.get_indexer([item], method=...) instead.\n",
      "  i = [dat.index.get_loc(t, method=\"nearest\") for t in dtime]\n",
      "/home/jmcle/anaconda3/lib/python3.9/site-packages/geomagindices/base.py:37: FutureWarning: Passing method to DatetimeIndex.get_loc is deprecated and will raise in a future version. Use index.get_indexer([item], method=...) instead.\n",
      "  i = [dat.index.get_loc(t, method=\"nearest\") for t in dtime]\n"
     ]
    },
    {
     "name": "stdout",
     "output_type": "stream",
     "text": [
      "Slice: 195. Convergence reached. Iterations: 2199. reduced chi2: 3.68\n"
     ]
    },
    {
     "name": "stderr",
     "output_type": "stream",
     "text": [
      "/home/jmcle/anaconda3/lib/python3.9/site-packages/geomagindices/base.py:37: FutureWarning: Passing method to DatetimeIndex.get_loc is deprecated and will raise in a future version. Use index.get_indexer([item], method=...) instead.\n",
      "  i = [dat.index.get_loc(t, method=\"nearest\") for t in dtime]\n",
      "/home/jmcle/anaconda3/lib/python3.9/site-packages/geomagindices/base.py:37: FutureWarning: Passing method to DatetimeIndex.get_loc is deprecated and will raise in a future version. Use index.get_indexer([item], method=...) instead.\n",
      "  i = [dat.index.get_loc(t, method=\"nearest\") for t in dtime]\n"
     ]
    },
    {
     "name": "stdout",
     "output_type": "stream",
     "text": [
      "Slice: 196. Convergence reached. Iterations: 1478. reduced chi2: 1.98\n"
     ]
    },
    {
     "name": "stderr",
     "output_type": "stream",
     "text": [
      "/home/jmcle/anaconda3/lib/python3.9/site-packages/geomagindices/base.py:37: FutureWarning: Passing method to DatetimeIndex.get_loc is deprecated and will raise in a future version. Use index.get_indexer([item], method=...) instead.\n",
      "  i = [dat.index.get_loc(t, method=\"nearest\") for t in dtime]\n",
      "/home/jmcle/anaconda3/lib/python3.9/site-packages/geomagindices/base.py:37: FutureWarning: Passing method to DatetimeIndex.get_loc is deprecated and will raise in a future version. Use index.get_indexer([item], method=...) instead.\n",
      "  i = [dat.index.get_loc(t, method=\"nearest\") for t in dtime]\n"
     ]
    },
    {
     "name": "stdout",
     "output_type": "stream",
     "text": [
      "Slice: 197. Convergence reached. Iterations: 1042. reduced chi2: 4.22\n"
     ]
    },
    {
     "name": "stderr",
     "output_type": "stream",
     "text": [
      "/home/jmcle/anaconda3/lib/python3.9/site-packages/geomagindices/base.py:37: FutureWarning: Passing method to DatetimeIndex.get_loc is deprecated and will raise in a future version. Use index.get_indexer([item], method=...) instead.\n",
      "  i = [dat.index.get_loc(t, method=\"nearest\") for t in dtime]\n",
      "/home/jmcle/anaconda3/lib/python3.9/site-packages/geomagindices/base.py:37: FutureWarning: Passing method to DatetimeIndex.get_loc is deprecated and will raise in a future version. Use index.get_indexer([item], method=...) instead.\n",
      "  i = [dat.index.get_loc(t, method=\"nearest\") for t in dtime]\n"
     ]
    },
    {
     "name": "stdout",
     "output_type": "stream",
     "text": [
      "Slice: 198. Convergence reached. Iterations: 1681. reduced chi2: 1.39\n"
     ]
    },
    {
     "name": "stderr",
     "output_type": "stream",
     "text": [
      "/home/jmcle/anaconda3/lib/python3.9/site-packages/geomagindices/base.py:37: FutureWarning: Passing method to DatetimeIndex.get_loc is deprecated and will raise in a future version. Use index.get_indexer([item], method=...) instead.\n",
      "  i = [dat.index.get_loc(t, method=\"nearest\") for t in dtime]\n",
      "/home/jmcle/anaconda3/lib/python3.9/site-packages/geomagindices/base.py:37: FutureWarning: Passing method to DatetimeIndex.get_loc is deprecated and will raise in a future version. Use index.get_indexer([item], method=...) instead.\n",
      "  i = [dat.index.get_loc(t, method=\"nearest\") for t in dtime]\n"
     ]
    },
    {
     "name": "stdout",
     "output_type": "stream",
     "text": [
      "Slice: 199. Convergence reached. Iterations: 706. reduced chi2: 1.87\n"
     ]
    },
    {
     "name": "stderr",
     "output_type": "stream",
     "text": [
      "/home/jmcle/anaconda3/lib/python3.9/site-packages/geomagindices/base.py:37: FutureWarning: Passing method to DatetimeIndex.get_loc is deprecated and will raise in a future version. Use index.get_indexer([item], method=...) instead.\n",
      "  i = [dat.index.get_loc(t, method=\"nearest\") for t in dtime]\n",
      "/home/jmcle/anaconda3/lib/python3.9/site-packages/geomagindices/base.py:37: FutureWarning: Passing method to DatetimeIndex.get_loc is deprecated and will raise in a future version. Use index.get_indexer([item], method=...) instead.\n",
      "  i = [dat.index.get_loc(t, method=\"nearest\") for t in dtime]\n"
     ]
    },
    {
     "name": "stdout",
     "output_type": "stream",
     "text": [
      "Slice: 200. Convergence reached. Iterations: 895. reduced chi2: 2.53\n"
     ]
    },
    {
     "name": "stderr",
     "output_type": "stream",
     "text": [
      "/home/jmcle/anaconda3/lib/python3.9/site-packages/geomagindices/base.py:37: FutureWarning: Passing method to DatetimeIndex.get_loc is deprecated and will raise in a future version. Use index.get_indexer([item], method=...) instead.\n",
      "  i = [dat.index.get_loc(t, method=\"nearest\") for t in dtime]\n",
      "/home/jmcle/anaconda3/lib/python3.9/site-packages/geomagindices/base.py:37: FutureWarning: Passing method to DatetimeIndex.get_loc is deprecated and will raise in a future version. Use index.get_indexer([item], method=...) instead.\n",
      "  i = [dat.index.get_loc(t, method=\"nearest\") for t in dtime]\n"
     ]
    },
    {
     "name": "stdout",
     "output_type": "stream",
     "text": [
      "Slice: 201. Convergence reached. Iterations: 437. reduced chi2: 1.86\n"
     ]
    },
    {
     "name": "stderr",
     "output_type": "stream",
     "text": [
      "/home/jmcle/anaconda3/lib/python3.9/site-packages/geomagindices/base.py:37: FutureWarning: Passing method to DatetimeIndex.get_loc is deprecated and will raise in a future version. Use index.get_indexer([item], method=...) instead.\n",
      "  i = [dat.index.get_loc(t, method=\"nearest\") for t in dtime]\n",
      "/home/jmcle/anaconda3/lib/python3.9/site-packages/geomagindices/base.py:37: FutureWarning: Passing method to DatetimeIndex.get_loc is deprecated and will raise in a future version. Use index.get_indexer([item], method=...) instead.\n",
      "  i = [dat.index.get_loc(t, method=\"nearest\") for t in dtime]\n"
     ]
    },
    {
     "name": "stdout",
     "output_type": "stream",
     "text": [
      "Slice: 202. Convergence reached. Iterations: 410. reduced chi2: 1.53\n"
     ]
    },
    {
     "name": "stderr",
     "output_type": "stream",
     "text": [
      "/home/jmcle/anaconda3/lib/python3.9/site-packages/geomagindices/base.py:37: FutureWarning: Passing method to DatetimeIndex.get_loc is deprecated and will raise in a future version. Use index.get_indexer([item], method=...) instead.\n",
      "  i = [dat.index.get_loc(t, method=\"nearest\") for t in dtime]\n",
      "/home/jmcle/anaconda3/lib/python3.9/site-packages/geomagindices/base.py:37: FutureWarning: Passing method to DatetimeIndex.get_loc is deprecated and will raise in a future version. Use index.get_indexer([item], method=...) instead.\n",
      "  i = [dat.index.get_loc(t, method=\"nearest\") for t in dtime]\n"
     ]
    },
    {
     "name": "stdout",
     "output_type": "stream",
     "text": [
      "Slice: 203. Convergence reached. Iterations: 1950. reduced chi2: 2.84\n"
     ]
    },
    {
     "name": "stderr",
     "output_type": "stream",
     "text": [
      "/home/jmcle/anaconda3/lib/python3.9/site-packages/geomagindices/base.py:37: FutureWarning: Passing method to DatetimeIndex.get_loc is deprecated and will raise in a future version. Use index.get_indexer([item], method=...) instead.\n",
      "  i = [dat.index.get_loc(t, method=\"nearest\") for t in dtime]\n",
      "/home/jmcle/anaconda3/lib/python3.9/site-packages/geomagindices/base.py:37: FutureWarning: Passing method to DatetimeIndex.get_loc is deprecated and will raise in a future version. Use index.get_indexer([item], method=...) instead.\n",
      "  i = [dat.index.get_loc(t, method=\"nearest\") for t in dtime]\n"
     ]
    },
    {
     "name": "stdout",
     "output_type": "stream",
     "text": [
      "Slice: 204. Convergence reached. Iterations: 1176. reduced chi2: 4.14\n"
     ]
    },
    {
     "name": "stderr",
     "output_type": "stream",
     "text": [
      "/home/jmcle/anaconda3/lib/python3.9/site-packages/geomagindices/base.py:37: FutureWarning: Passing method to DatetimeIndex.get_loc is deprecated and will raise in a future version. Use index.get_indexer([item], method=...) instead.\n",
      "  i = [dat.index.get_loc(t, method=\"nearest\") for t in dtime]\n",
      "/home/jmcle/anaconda3/lib/python3.9/site-packages/geomagindices/base.py:37: FutureWarning: Passing method to DatetimeIndex.get_loc is deprecated and will raise in a future version. Use index.get_indexer([item], method=...) instead.\n",
      "  i = [dat.index.get_loc(t, method=\"nearest\") for t in dtime]\n"
     ]
    },
    {
     "name": "stdout",
     "output_type": "stream",
     "text": [
      "Slice: 205. Convergence reached. Iterations: 1243. reduced chi2: 2.41\n"
     ]
    },
    {
     "name": "stderr",
     "output_type": "stream",
     "text": [
      "/home/jmcle/anaconda3/lib/python3.9/site-packages/geomagindices/base.py:37: FutureWarning: Passing method to DatetimeIndex.get_loc is deprecated and will raise in a future version. Use index.get_indexer([item], method=...) instead.\n",
      "  i = [dat.index.get_loc(t, method=\"nearest\") for t in dtime]\n",
      "/home/jmcle/anaconda3/lib/python3.9/site-packages/geomagindices/base.py:37: FutureWarning: Passing method to DatetimeIndex.get_loc is deprecated and will raise in a future version. Use index.get_indexer([item], method=...) instead.\n",
      "  i = [dat.index.get_loc(t, method=\"nearest\") for t in dtime]\n"
     ]
    },
    {
     "name": "stdout",
     "output_type": "stream",
     "text": [
      "Slice: 206. Convergence reached. Iterations: 1198. reduced chi2: 1.49\n"
     ]
    },
    {
     "name": "stderr",
     "output_type": "stream",
     "text": [
      "/home/jmcle/anaconda3/lib/python3.9/site-packages/geomagindices/base.py:37: FutureWarning: Passing method to DatetimeIndex.get_loc is deprecated and will raise in a future version. Use index.get_indexer([item], method=...) instead.\n",
      "  i = [dat.index.get_loc(t, method=\"nearest\") for t in dtime]\n",
      "/home/jmcle/anaconda3/lib/python3.9/site-packages/geomagindices/base.py:37: FutureWarning: Passing method to DatetimeIndex.get_loc is deprecated and will raise in a future version. Use index.get_indexer([item], method=...) instead.\n",
      "  i = [dat.index.get_loc(t, method=\"nearest\") for t in dtime]\n"
     ]
    },
    {
     "name": "stdout",
     "output_type": "stream",
     "text": [
      "Slice: 207. Convergence reached. Iterations: 742. reduced chi2: 1.67\n"
     ]
    },
    {
     "name": "stderr",
     "output_type": "stream",
     "text": [
      "/home/jmcle/anaconda3/lib/python3.9/site-packages/geomagindices/base.py:37: FutureWarning: Passing method to DatetimeIndex.get_loc is deprecated and will raise in a future version. Use index.get_indexer([item], method=...) instead.\n",
      "  i = [dat.index.get_loc(t, method=\"nearest\") for t in dtime]\n",
      "/home/jmcle/anaconda3/lib/python3.9/site-packages/geomagindices/base.py:37: FutureWarning: Passing method to DatetimeIndex.get_loc is deprecated and will raise in a future version. Use index.get_indexer([item], method=...) instead.\n",
      "  i = [dat.index.get_loc(t, method=\"nearest\") for t in dtime]\n"
     ]
    },
    {
     "name": "stdout",
     "output_type": "stream",
     "text": [
      "Slice: 208. Convergence reached. Iterations: 1071. reduced chi2: 1.43\n"
     ]
    },
    {
     "name": "stderr",
     "output_type": "stream",
     "text": [
      "/home/jmcle/anaconda3/lib/python3.9/site-packages/geomagindices/base.py:37: FutureWarning: Passing method to DatetimeIndex.get_loc is deprecated and will raise in a future version. Use index.get_indexer([item], method=...) instead.\n",
      "  i = [dat.index.get_loc(t, method=\"nearest\") for t in dtime]\n",
      "/home/jmcle/anaconda3/lib/python3.9/site-packages/geomagindices/base.py:37: FutureWarning: Passing method to DatetimeIndex.get_loc is deprecated and will raise in a future version. Use index.get_indexer([item], method=...) instead.\n",
      "  i = [dat.index.get_loc(t, method=\"nearest\") for t in dtime]\n"
     ]
    },
    {
     "name": "stdout",
     "output_type": "stream",
     "text": [
      "Slice: 209. Convergence reached. Iterations: 719. reduced chi2: 1.61\n"
     ]
    },
    {
     "name": "stderr",
     "output_type": "stream",
     "text": [
      "/home/jmcle/anaconda3/lib/python3.9/site-packages/geomagindices/base.py:37: FutureWarning: Passing method to DatetimeIndex.get_loc is deprecated and will raise in a future version. Use index.get_indexer([item], method=...) instead.\n",
      "  i = [dat.index.get_loc(t, method=\"nearest\") for t in dtime]\n",
      "/home/jmcle/anaconda3/lib/python3.9/site-packages/geomagindices/base.py:37: FutureWarning: Passing method to DatetimeIndex.get_loc is deprecated and will raise in a future version. Use index.get_indexer([item], method=...) instead.\n",
      "  i = [dat.index.get_loc(t, method=\"nearest\") for t in dtime]\n"
     ]
    },
    {
     "name": "stdout",
     "output_type": "stream",
     "text": [
      "Slice: 210. Convergence reached. Iterations: 807. reduced chi2: 1.78\n"
     ]
    },
    {
     "name": "stderr",
     "output_type": "stream",
     "text": [
      "/home/jmcle/anaconda3/lib/python3.9/site-packages/geomagindices/base.py:37: FutureWarning: Passing method to DatetimeIndex.get_loc is deprecated and will raise in a future version. Use index.get_indexer([item], method=...) instead.\n",
      "  i = [dat.index.get_loc(t, method=\"nearest\") for t in dtime]\n",
      "/home/jmcle/anaconda3/lib/python3.9/site-packages/geomagindices/base.py:37: FutureWarning: Passing method to DatetimeIndex.get_loc is deprecated and will raise in a future version. Use index.get_indexer([item], method=...) instead.\n",
      "  i = [dat.index.get_loc(t, method=\"nearest\") for t in dtime]\n"
     ]
    },
    {
     "name": "stdout",
     "output_type": "stream",
     "text": [
      "Slice: 211. Convergence reached. Iterations: 878. reduced chi2: 1.79\n"
     ]
    },
    {
     "name": "stderr",
     "output_type": "stream",
     "text": [
      "/home/jmcle/anaconda3/lib/python3.9/site-packages/geomagindices/base.py:37: FutureWarning: Passing method to DatetimeIndex.get_loc is deprecated and will raise in a future version. Use index.get_indexer([item], method=...) instead.\n",
      "  i = [dat.index.get_loc(t, method=\"nearest\") for t in dtime]\n",
      "/home/jmcle/anaconda3/lib/python3.9/site-packages/geomagindices/base.py:37: FutureWarning: Passing method to DatetimeIndex.get_loc is deprecated and will raise in a future version. Use index.get_indexer([item], method=...) instead.\n",
      "  i = [dat.index.get_loc(t, method=\"nearest\") for t in dtime]\n"
     ]
    },
    {
     "name": "stdout",
     "output_type": "stream",
     "text": [
      "Slice: 212. Convergence reached. Iterations: 690. reduced chi2: 1.91\n"
     ]
    },
    {
     "name": "stderr",
     "output_type": "stream",
     "text": [
      "/home/jmcle/anaconda3/lib/python3.9/site-packages/geomagindices/base.py:37: FutureWarning: Passing method to DatetimeIndex.get_loc is deprecated and will raise in a future version. Use index.get_indexer([item], method=...) instead.\n",
      "  i = [dat.index.get_loc(t, method=\"nearest\") for t in dtime]\n",
      "/home/jmcle/anaconda3/lib/python3.9/site-packages/geomagindices/base.py:37: FutureWarning: Passing method to DatetimeIndex.get_loc is deprecated and will raise in a future version. Use index.get_indexer([item], method=...) instead.\n",
      "  i = [dat.index.get_loc(t, method=\"nearest\") for t in dtime]\n"
     ]
    },
    {
     "name": "stdout",
     "output_type": "stream",
     "text": [
      "Slice: 213. Convergence reached. Iterations: 552. reduced chi2: 1.7\n"
     ]
    },
    {
     "name": "stderr",
     "output_type": "stream",
     "text": [
      "/home/jmcle/anaconda3/lib/python3.9/site-packages/geomagindices/base.py:37: FutureWarning: Passing method to DatetimeIndex.get_loc is deprecated and will raise in a future version. Use index.get_indexer([item], method=...) instead.\n",
      "  i = [dat.index.get_loc(t, method=\"nearest\") for t in dtime]\n",
      "/home/jmcle/anaconda3/lib/python3.9/site-packages/geomagindices/base.py:37: FutureWarning: Passing method to DatetimeIndex.get_loc is deprecated and will raise in a future version. Use index.get_indexer([item], method=...) instead.\n",
      "  i = [dat.index.get_loc(t, method=\"nearest\") for t in dtime]\n"
     ]
    },
    {
     "name": "stdout",
     "output_type": "stream",
     "text": [
      "Slice: 214. Convergence reached. Iterations: 696. reduced chi2: 1.72\n"
     ]
    },
    {
     "name": "stderr",
     "output_type": "stream",
     "text": [
      "/home/jmcle/anaconda3/lib/python3.9/site-packages/geomagindices/base.py:37: FutureWarning: Passing method to DatetimeIndex.get_loc is deprecated and will raise in a future version. Use index.get_indexer([item], method=...) instead.\n",
      "  i = [dat.index.get_loc(t, method=\"nearest\") for t in dtime]\n",
      "/home/jmcle/anaconda3/lib/python3.9/site-packages/geomagindices/base.py:37: FutureWarning: Passing method to DatetimeIndex.get_loc is deprecated and will raise in a future version. Use index.get_indexer([item], method=...) instead.\n",
      "  i = [dat.index.get_loc(t, method=\"nearest\") for t in dtime]\n"
     ]
    },
    {
     "name": "stdout",
     "output_type": "stream",
     "text": [
      "Slice: 215. Convergence reached. Iterations: 604. reduced chi2: 1.26\n"
     ]
    },
    {
     "name": "stderr",
     "output_type": "stream",
     "text": [
      "/home/jmcle/anaconda3/lib/python3.9/site-packages/geomagindices/base.py:37: FutureWarning: Passing method to DatetimeIndex.get_loc is deprecated and will raise in a future version. Use index.get_indexer([item], method=...) instead.\n",
      "  i = [dat.index.get_loc(t, method=\"nearest\") for t in dtime]\n",
      "/home/jmcle/anaconda3/lib/python3.9/site-packages/geomagindices/base.py:37: FutureWarning: Passing method to DatetimeIndex.get_loc is deprecated and will raise in a future version. Use index.get_indexer([item], method=...) instead.\n",
      "  i = [dat.index.get_loc(t, method=\"nearest\") for t in dtime]\n"
     ]
    },
    {
     "name": "stdout",
     "output_type": "stream",
     "text": [
      "Slice: 216. Convergence reached. Iterations: 634. reduced chi2: 1.73\n"
     ]
    },
    {
     "name": "stderr",
     "output_type": "stream",
     "text": [
      "/home/jmcle/anaconda3/lib/python3.9/site-packages/geomagindices/base.py:37: FutureWarning: Passing method to DatetimeIndex.get_loc is deprecated and will raise in a future version. Use index.get_indexer([item], method=...) instead.\n",
      "  i = [dat.index.get_loc(t, method=\"nearest\") for t in dtime]\n",
      "/home/jmcle/anaconda3/lib/python3.9/site-packages/geomagindices/base.py:37: FutureWarning: Passing method to DatetimeIndex.get_loc is deprecated and will raise in a future version. Use index.get_indexer([item], method=...) instead.\n",
      "  i = [dat.index.get_loc(t, method=\"nearest\") for t in dtime]\n"
     ]
    },
    {
     "name": "stdout",
     "output_type": "stream",
     "text": [
      "Slice: 217. Convergence reached. Iterations: 292. reduced chi2: 1.76\n"
     ]
    },
    {
     "name": "stderr",
     "output_type": "stream",
     "text": [
      "/home/jmcle/anaconda3/lib/python3.9/site-packages/geomagindices/base.py:37: FutureWarning: Passing method to DatetimeIndex.get_loc is deprecated and will raise in a future version. Use index.get_indexer([item], method=...) instead.\n",
      "  i = [dat.index.get_loc(t, method=\"nearest\") for t in dtime]\n",
      "/home/jmcle/anaconda3/lib/python3.9/site-packages/geomagindices/base.py:37: FutureWarning: Passing method to DatetimeIndex.get_loc is deprecated and will raise in a future version. Use index.get_indexer([item], method=...) instead.\n",
      "  i = [dat.index.get_loc(t, method=\"nearest\") for t in dtime]\n"
     ]
    },
    {
     "name": "stdout",
     "output_type": "stream",
     "text": [
      "Slice: 218. Convergence reached. Iterations: 600. reduced chi2: 2.72\n"
     ]
    },
    {
     "name": "stderr",
     "output_type": "stream",
     "text": [
      "/home/jmcle/anaconda3/lib/python3.9/site-packages/geomagindices/base.py:37: FutureWarning: Passing method to DatetimeIndex.get_loc is deprecated and will raise in a future version. Use index.get_indexer([item], method=...) instead.\n",
      "  i = [dat.index.get_loc(t, method=\"nearest\") for t in dtime]\n",
      "/home/jmcle/anaconda3/lib/python3.9/site-packages/geomagindices/base.py:37: FutureWarning: Passing method to DatetimeIndex.get_loc is deprecated and will raise in a future version. Use index.get_indexer([item], method=...) instead.\n",
      "  i = [dat.index.get_loc(t, method=\"nearest\") for t in dtime]\n"
     ]
    },
    {
     "name": "stdout",
     "output_type": "stream",
     "text": [
      "Slice: 219. Convergence reached. Iterations: 646. reduced chi2: 2.22\n"
     ]
    },
    {
     "name": "stderr",
     "output_type": "stream",
     "text": [
      "/home/jmcle/anaconda3/lib/python3.9/site-packages/geomagindices/base.py:37: FutureWarning: Passing method to DatetimeIndex.get_loc is deprecated and will raise in a future version. Use index.get_indexer([item], method=...) instead.\n",
      "  i = [dat.index.get_loc(t, method=\"nearest\") for t in dtime]\n",
      "/home/jmcle/anaconda3/lib/python3.9/site-packages/geomagindices/base.py:37: FutureWarning: Passing method to DatetimeIndex.get_loc is deprecated and will raise in a future version. Use index.get_indexer([item], method=...) instead.\n",
      "  i = [dat.index.get_loc(t, method=\"nearest\") for t in dtime]\n"
     ]
    },
    {
     "name": "stdout",
     "output_type": "stream",
     "text": [
      "Slice: 220. Convergence reached. Iterations: 1408. reduced chi2: 4.29\n"
     ]
    },
    {
     "name": "stderr",
     "output_type": "stream",
     "text": [
      "/home/jmcle/anaconda3/lib/python3.9/site-packages/geomagindices/base.py:37: FutureWarning: Passing method to DatetimeIndex.get_loc is deprecated and will raise in a future version. Use index.get_indexer([item], method=...) instead.\n",
      "  i = [dat.index.get_loc(t, method=\"nearest\") for t in dtime]\n",
      "/home/jmcle/anaconda3/lib/python3.9/site-packages/geomagindices/base.py:37: FutureWarning: Passing method to DatetimeIndex.get_loc is deprecated and will raise in a future version. Use index.get_indexer([item], method=...) instead.\n",
      "  i = [dat.index.get_loc(t, method=\"nearest\") for t in dtime]\n"
     ]
    },
    {
     "name": "stdout",
     "output_type": "stream",
     "text": [
      "Slice: 221. Convergence reached. Iterations: 217. reduced chi2: 1.34\n"
     ]
    },
    {
     "name": "stderr",
     "output_type": "stream",
     "text": [
      "/home/jmcle/anaconda3/lib/python3.9/site-packages/geomagindices/base.py:37: FutureWarning: Passing method to DatetimeIndex.get_loc is deprecated and will raise in a future version. Use index.get_indexer([item], method=...) instead.\n",
      "  i = [dat.index.get_loc(t, method=\"nearest\") for t in dtime]\n",
      "/home/jmcle/anaconda3/lib/python3.9/site-packages/geomagindices/base.py:37: FutureWarning: Passing method to DatetimeIndex.get_loc is deprecated and will raise in a future version. Use index.get_indexer([item], method=...) instead.\n",
      "  i = [dat.index.get_loc(t, method=\"nearest\") for t in dtime]\n"
     ]
    },
    {
     "name": "stdout",
     "output_type": "stream",
     "text": [
      "Slice: 222. Convergence reached. Iterations: 886. reduced chi2: 2.26\n"
     ]
    },
    {
     "name": "stderr",
     "output_type": "stream",
     "text": [
      "/home/jmcle/anaconda3/lib/python3.9/site-packages/geomagindices/base.py:37: FutureWarning: Passing method to DatetimeIndex.get_loc is deprecated and will raise in a future version. Use index.get_indexer([item], method=...) instead.\n",
      "  i = [dat.index.get_loc(t, method=\"nearest\") for t in dtime]\n",
      "/home/jmcle/anaconda3/lib/python3.9/site-packages/geomagindices/base.py:37: FutureWarning: Passing method to DatetimeIndex.get_loc is deprecated and will raise in a future version. Use index.get_indexer([item], method=...) instead.\n",
      "  i = [dat.index.get_loc(t, method=\"nearest\") for t in dtime]\n"
     ]
    },
    {
     "name": "stdout",
     "output_type": "stream",
     "text": [
      "Slice: 223. Convergence reached. Iterations: 365. reduced chi2: 1.31\n"
     ]
    },
    {
     "name": "stderr",
     "output_type": "stream",
     "text": [
      "/home/jmcle/anaconda3/lib/python3.9/site-packages/geomagindices/base.py:37: FutureWarning: Passing method to DatetimeIndex.get_loc is deprecated and will raise in a future version. Use index.get_indexer([item], method=...) instead.\n",
      "  i = [dat.index.get_loc(t, method=\"nearest\") for t in dtime]\n",
      "/home/jmcle/anaconda3/lib/python3.9/site-packages/geomagindices/base.py:37: FutureWarning: Passing method to DatetimeIndex.get_loc is deprecated and will raise in a future version. Use index.get_indexer([item], method=...) instead.\n",
      "  i = [dat.index.get_loc(t, method=\"nearest\") for t in dtime]\n"
     ]
    },
    {
     "name": "stdout",
     "output_type": "stream",
     "text": [
      "Slice: 224. Convergence reached. Iterations: 361. reduced chi2: 1.47\n"
     ]
    },
    {
     "name": "stderr",
     "output_type": "stream",
     "text": [
      "/home/jmcle/anaconda3/lib/python3.9/site-packages/geomagindices/base.py:37: FutureWarning: Passing method to DatetimeIndex.get_loc is deprecated and will raise in a future version. Use index.get_indexer([item], method=...) instead.\n",
      "  i = [dat.index.get_loc(t, method=\"nearest\") for t in dtime]\n",
      "/home/jmcle/anaconda3/lib/python3.9/site-packages/geomagindices/base.py:37: FutureWarning: Passing method to DatetimeIndex.get_loc is deprecated and will raise in a future version. Use index.get_indexer([item], method=...) instead.\n",
      "  i = [dat.index.get_loc(t, method=\"nearest\") for t in dtime]\n"
     ]
    },
    {
     "name": "stdout",
     "output_type": "stream",
     "text": [
      "Slice: 225. Convergence reached. Iterations: 1380. reduced chi2: 1.95\n"
     ]
    },
    {
     "name": "stderr",
     "output_type": "stream",
     "text": [
      "/home/jmcle/anaconda3/lib/python3.9/site-packages/geomagindices/base.py:37: FutureWarning: Passing method to DatetimeIndex.get_loc is deprecated and will raise in a future version. Use index.get_indexer([item], method=...) instead.\n",
      "  i = [dat.index.get_loc(t, method=\"nearest\") for t in dtime]\n",
      "/home/jmcle/anaconda3/lib/python3.9/site-packages/geomagindices/base.py:37: FutureWarning: Passing method to DatetimeIndex.get_loc is deprecated and will raise in a future version. Use index.get_indexer([item], method=...) instead.\n",
      "  i = [dat.index.get_loc(t, method=\"nearest\") for t in dtime]\n"
     ]
    },
    {
     "name": "stdout",
     "output_type": "stream",
     "text": [
      "Slice: 226. Convergence reached. Iterations: 656. reduced chi2: 1.89\n"
     ]
    },
    {
     "name": "stderr",
     "output_type": "stream",
     "text": [
      "/home/jmcle/anaconda3/lib/python3.9/site-packages/geomagindices/base.py:37: FutureWarning: Passing method to DatetimeIndex.get_loc is deprecated and will raise in a future version. Use index.get_indexer([item], method=...) instead.\n",
      "  i = [dat.index.get_loc(t, method=\"nearest\") for t in dtime]\n",
      "/home/jmcle/anaconda3/lib/python3.9/site-packages/geomagindices/base.py:37: FutureWarning: Passing method to DatetimeIndex.get_loc is deprecated and will raise in a future version. Use index.get_indexer([item], method=...) instead.\n",
      "  i = [dat.index.get_loc(t, method=\"nearest\") for t in dtime]\n"
     ]
    },
    {
     "name": "stdout",
     "output_type": "stream",
     "text": [
      "Slice: 227. Convergence reached. Iterations: 243. reduced chi2: 1.02\n"
     ]
    },
    {
     "name": "stderr",
     "output_type": "stream",
     "text": [
      "/home/jmcle/anaconda3/lib/python3.9/site-packages/geomagindices/base.py:37: FutureWarning: Passing method to DatetimeIndex.get_loc is deprecated and will raise in a future version. Use index.get_indexer([item], method=...) instead.\n",
      "  i = [dat.index.get_loc(t, method=\"nearest\") for t in dtime]\n",
      "/home/jmcle/anaconda3/lib/python3.9/site-packages/geomagindices/base.py:37: FutureWarning: Passing method to DatetimeIndex.get_loc is deprecated and will raise in a future version. Use index.get_indexer([item], method=...) instead.\n",
      "  i = [dat.index.get_loc(t, method=\"nearest\") for t in dtime]\n"
     ]
    },
    {
     "name": "stdout",
     "output_type": "stream",
     "text": [
      "Slice: 228. Convergence reached. Iterations: 612. reduced chi2: 1.64\n"
     ]
    },
    {
     "name": "stderr",
     "output_type": "stream",
     "text": [
      "/home/jmcle/anaconda3/lib/python3.9/site-packages/geomagindices/base.py:37: FutureWarning: Passing method to DatetimeIndex.get_loc is deprecated and will raise in a future version. Use index.get_indexer([item], method=...) instead.\n",
      "  i = [dat.index.get_loc(t, method=\"nearest\") for t in dtime]\n",
      "/home/jmcle/anaconda3/lib/python3.9/site-packages/geomagindices/base.py:37: FutureWarning: Passing method to DatetimeIndex.get_loc is deprecated and will raise in a future version. Use index.get_indexer([item], method=...) instead.\n",
      "  i = [dat.index.get_loc(t, method=\"nearest\") for t in dtime]\n"
     ]
    },
    {
     "name": "stdout",
     "output_type": "stream",
     "text": [
      "Slice: 229. Convergence reached. Iterations: 322. reduced chi2: 1.98\n"
     ]
    },
    {
     "name": "stderr",
     "output_type": "stream",
     "text": [
      "/home/jmcle/anaconda3/lib/python3.9/site-packages/geomagindices/base.py:37: FutureWarning: Passing method to DatetimeIndex.get_loc is deprecated and will raise in a future version. Use index.get_indexer([item], method=...) instead.\n",
      "  i = [dat.index.get_loc(t, method=\"nearest\") for t in dtime]\n",
      "/home/jmcle/anaconda3/lib/python3.9/site-packages/geomagindices/base.py:37: FutureWarning: Passing method to DatetimeIndex.get_loc is deprecated and will raise in a future version. Use index.get_indexer([item], method=...) instead.\n",
      "  i = [dat.index.get_loc(t, method=\"nearest\") for t in dtime]\n"
     ]
    },
    {
     "name": "stdout",
     "output_type": "stream",
     "text": [
      "Slice: 230. Convergence reached. Iterations: 269. reduced chi2: 2.81\n"
     ]
    },
    {
     "name": "stderr",
     "output_type": "stream",
     "text": [
      "/home/jmcle/anaconda3/lib/python3.9/site-packages/geomagindices/base.py:37: FutureWarning: Passing method to DatetimeIndex.get_loc is deprecated and will raise in a future version. Use index.get_indexer([item], method=...) instead.\n",
      "  i = [dat.index.get_loc(t, method=\"nearest\") for t in dtime]\n",
      "/home/jmcle/anaconda3/lib/python3.9/site-packages/geomagindices/base.py:37: FutureWarning: Passing method to DatetimeIndex.get_loc is deprecated and will raise in a future version. Use index.get_indexer([item], method=...) instead.\n",
      "  i = [dat.index.get_loc(t, method=\"nearest\") for t in dtime]\n"
     ]
    },
    {
     "name": "stdout",
     "output_type": "stream",
     "text": [
      "Slice: 231. Convergence reached. Iterations: 771. reduced chi2: 3.1\n"
     ]
    },
    {
     "name": "stderr",
     "output_type": "stream",
     "text": [
      "/home/jmcle/anaconda3/lib/python3.9/site-packages/geomagindices/base.py:37: FutureWarning: Passing method to DatetimeIndex.get_loc is deprecated and will raise in a future version. Use index.get_indexer([item], method=...) instead.\n",
      "  i = [dat.index.get_loc(t, method=\"nearest\") for t in dtime]\n",
      "/home/jmcle/anaconda3/lib/python3.9/site-packages/geomagindices/base.py:37: FutureWarning: Passing method to DatetimeIndex.get_loc is deprecated and will raise in a future version. Use index.get_indexer([item], method=...) instead.\n",
      "  i = [dat.index.get_loc(t, method=\"nearest\") for t in dtime]\n"
     ]
    },
    {
     "name": "stdout",
     "output_type": "stream",
     "text": [
      "Slice: 232. Convergence reached. Iterations: 512. reduced chi2: 1.72\n"
     ]
    },
    {
     "name": "stderr",
     "output_type": "stream",
     "text": [
      "/home/jmcle/anaconda3/lib/python3.9/site-packages/geomagindices/base.py:37: FutureWarning: Passing method to DatetimeIndex.get_loc is deprecated and will raise in a future version. Use index.get_indexer([item], method=...) instead.\n",
      "  i = [dat.index.get_loc(t, method=\"nearest\") for t in dtime]\n",
      "/home/jmcle/anaconda3/lib/python3.9/site-packages/geomagindices/base.py:37: FutureWarning: Passing method to DatetimeIndex.get_loc is deprecated and will raise in a future version. Use index.get_indexer([item], method=...) instead.\n",
      "  i = [dat.index.get_loc(t, method=\"nearest\") for t in dtime]\n"
     ]
    },
    {
     "name": "stdout",
     "output_type": "stream",
     "text": [
      "Slice: 233. Convergence reached. Iterations: 880. reduced chi2: 1.97\n"
     ]
    },
    {
     "name": "stderr",
     "output_type": "stream",
     "text": [
      "/home/jmcle/anaconda3/lib/python3.9/site-packages/geomagindices/base.py:37: FutureWarning: Passing method to DatetimeIndex.get_loc is deprecated and will raise in a future version. Use index.get_indexer([item], method=...) instead.\n",
      "  i = [dat.index.get_loc(t, method=\"nearest\") for t in dtime]\n",
      "/home/jmcle/anaconda3/lib/python3.9/site-packages/geomagindices/base.py:37: FutureWarning: Passing method to DatetimeIndex.get_loc is deprecated and will raise in a future version. Use index.get_indexer([item], method=...) instead.\n",
      "  i = [dat.index.get_loc(t, method=\"nearest\") for t in dtime]\n"
     ]
    },
    {
     "name": "stdout",
     "output_type": "stream",
     "text": [
      "Slice: 234. Convergence reached. Iterations: 596. reduced chi2: 1.26\n"
     ]
    },
    {
     "name": "stderr",
     "output_type": "stream",
     "text": [
      "/home/jmcle/anaconda3/lib/python3.9/site-packages/geomagindices/base.py:37: FutureWarning: Passing method to DatetimeIndex.get_loc is deprecated and will raise in a future version. Use index.get_indexer([item], method=...) instead.\n",
      "  i = [dat.index.get_loc(t, method=\"nearest\") for t in dtime]\n",
      "/home/jmcle/anaconda3/lib/python3.9/site-packages/geomagindices/base.py:37: FutureWarning: Passing method to DatetimeIndex.get_loc is deprecated and will raise in a future version. Use index.get_indexer([item], method=...) instead.\n",
      "  i = [dat.index.get_loc(t, method=\"nearest\") for t in dtime]\n"
     ]
    },
    {
     "name": "stdout",
     "output_type": "stream",
     "text": [
      "Slice: 235. Convergence reached. Iterations: 229. reduced chi2: 1.28\n"
     ]
    },
    {
     "name": "stderr",
     "output_type": "stream",
     "text": [
      "/home/jmcle/anaconda3/lib/python3.9/site-packages/geomagindices/base.py:37: FutureWarning: Passing method to DatetimeIndex.get_loc is deprecated and will raise in a future version. Use index.get_indexer([item], method=...) instead.\n",
      "  i = [dat.index.get_loc(t, method=\"nearest\") for t in dtime]\n",
      "/home/jmcle/anaconda3/lib/python3.9/site-packages/geomagindices/base.py:37: FutureWarning: Passing method to DatetimeIndex.get_loc is deprecated and will raise in a future version. Use index.get_indexer([item], method=...) instead.\n",
      "  i = [dat.index.get_loc(t, method=\"nearest\") for t in dtime]\n"
     ]
    },
    {
     "name": "stdout",
     "output_type": "stream",
     "text": [
      "Slice: 236. Convergence reached. Iterations: 387. reduced chi2: 1.85\n"
     ]
    },
    {
     "name": "stderr",
     "output_type": "stream",
     "text": [
      "/home/jmcle/anaconda3/lib/python3.9/site-packages/geomagindices/base.py:37: FutureWarning: Passing method to DatetimeIndex.get_loc is deprecated and will raise in a future version. Use index.get_indexer([item], method=...) instead.\n",
      "  i = [dat.index.get_loc(t, method=\"nearest\") for t in dtime]\n",
      "/home/jmcle/anaconda3/lib/python3.9/site-packages/geomagindices/base.py:37: FutureWarning: Passing method to DatetimeIndex.get_loc is deprecated and will raise in a future version. Use index.get_indexer([item], method=...) instead.\n",
      "  i = [dat.index.get_loc(t, method=\"nearest\") for t in dtime]\n"
     ]
    },
    {
     "name": "stdout",
     "output_type": "stream",
     "text": [
      "Slice: 237. Convergence reached. Iterations: 357. reduced chi2: 1.9\n"
     ]
    },
    {
     "name": "stderr",
     "output_type": "stream",
     "text": [
      "/home/jmcle/anaconda3/lib/python3.9/site-packages/geomagindices/base.py:37: FutureWarning: Passing method to DatetimeIndex.get_loc is deprecated and will raise in a future version. Use index.get_indexer([item], method=...) instead.\n",
      "  i = [dat.index.get_loc(t, method=\"nearest\") for t in dtime]\n",
      "/home/jmcle/anaconda3/lib/python3.9/site-packages/geomagindices/base.py:37: FutureWarning: Passing method to DatetimeIndex.get_loc is deprecated and will raise in a future version. Use index.get_indexer([item], method=...) instead.\n",
      "  i = [dat.index.get_loc(t, method=\"nearest\") for t in dtime]\n"
     ]
    },
    {
     "name": "stdout",
     "output_type": "stream",
     "text": [
      "Slice: 238. Convergence reached. Iterations: 838. reduced chi2: 1.99\n"
     ]
    },
    {
     "name": "stderr",
     "output_type": "stream",
     "text": [
      "/home/jmcle/anaconda3/lib/python3.9/site-packages/geomagindices/base.py:37: FutureWarning: Passing method to DatetimeIndex.get_loc is deprecated and will raise in a future version. Use index.get_indexer([item], method=...) instead.\n",
      "  i = [dat.index.get_loc(t, method=\"nearest\") for t in dtime]\n",
      "/home/jmcle/anaconda3/lib/python3.9/site-packages/geomagindices/base.py:37: FutureWarning: Passing method to DatetimeIndex.get_loc is deprecated and will raise in a future version. Use index.get_indexer([item], method=...) instead.\n",
      "  i = [dat.index.get_loc(t, method=\"nearest\") for t in dtime]\n"
     ]
    },
    {
     "name": "stdout",
     "output_type": "stream",
     "text": [
      "Slice: 239. Convergence reached. Iterations: 1010. reduced chi2: 1.96\n"
     ]
    },
    {
     "name": "stderr",
     "output_type": "stream",
     "text": [
      "/home/jmcle/anaconda3/lib/python3.9/site-packages/geomagindices/base.py:37: FutureWarning: Passing method to DatetimeIndex.get_loc is deprecated and will raise in a future version. Use index.get_indexer([item], method=...) instead.\n",
      "  i = [dat.index.get_loc(t, method=\"nearest\") for t in dtime]\n",
      "/home/jmcle/anaconda3/lib/python3.9/site-packages/geomagindices/base.py:37: FutureWarning: Passing method to DatetimeIndex.get_loc is deprecated and will raise in a future version. Use index.get_indexer([item], method=...) instead.\n",
      "  i = [dat.index.get_loc(t, method=\"nearest\") for t in dtime]\n"
     ]
    },
    {
     "name": "stdout",
     "output_type": "stream",
     "text": [
      "Slice: 240. Convergence reached. Iterations: 856. reduced chi2: 3.51\n"
     ]
    },
    {
     "name": "stderr",
     "output_type": "stream",
     "text": [
      "/home/jmcle/anaconda3/lib/python3.9/site-packages/geomagindices/base.py:37: FutureWarning: Passing method to DatetimeIndex.get_loc is deprecated and will raise in a future version. Use index.get_indexer([item], method=...) instead.\n",
      "  i = [dat.index.get_loc(t, method=\"nearest\") for t in dtime]\n",
      "/home/jmcle/anaconda3/lib/python3.9/site-packages/geomagindices/base.py:37: FutureWarning: Passing method to DatetimeIndex.get_loc is deprecated and will raise in a future version. Use index.get_indexer([item], method=...) instead.\n",
      "  i = [dat.index.get_loc(t, method=\"nearest\") for t in dtime]\n"
     ]
    },
    {
     "name": "stdout",
     "output_type": "stream",
     "text": [
      "Slice: 241. Convergence reached. Iterations: 543. reduced chi2: 3.63\n"
     ]
    },
    {
     "name": "stderr",
     "output_type": "stream",
     "text": [
      "/home/jmcle/anaconda3/lib/python3.9/site-packages/geomagindices/base.py:37: FutureWarning: Passing method to DatetimeIndex.get_loc is deprecated and will raise in a future version. Use index.get_indexer([item], method=...) instead.\n",
      "  i = [dat.index.get_loc(t, method=\"nearest\") for t in dtime]\n",
      "/home/jmcle/anaconda3/lib/python3.9/site-packages/geomagindices/base.py:37: FutureWarning: Passing method to DatetimeIndex.get_loc is deprecated and will raise in a future version. Use index.get_indexer([item], method=...) instead.\n",
      "  i = [dat.index.get_loc(t, method=\"nearest\") for t in dtime]\n"
     ]
    },
    {
     "name": "stdout",
     "output_type": "stream",
     "text": [
      "Slice: 242. Convergence reached. Iterations: 611. reduced chi2: 2.01\n"
     ]
    },
    {
     "name": "stderr",
     "output_type": "stream",
     "text": [
      "/home/jmcle/anaconda3/lib/python3.9/site-packages/geomagindices/base.py:37: FutureWarning: Passing method to DatetimeIndex.get_loc is deprecated and will raise in a future version. Use index.get_indexer([item], method=...) instead.\n",
      "  i = [dat.index.get_loc(t, method=\"nearest\") for t in dtime]\n",
      "/home/jmcle/anaconda3/lib/python3.9/site-packages/geomagindices/base.py:37: FutureWarning: Passing method to DatetimeIndex.get_loc is deprecated and will raise in a future version. Use index.get_indexer([item], method=...) instead.\n",
      "  i = [dat.index.get_loc(t, method=\"nearest\") for t in dtime]\n"
     ]
    },
    {
     "name": "stdout",
     "output_type": "stream",
     "text": [
      "Slice: 243. Convergence reached. Iterations: 518. reduced chi2: 2.16\n"
     ]
    },
    {
     "name": "stderr",
     "output_type": "stream",
     "text": [
      "/home/jmcle/anaconda3/lib/python3.9/site-packages/geomagindices/base.py:37: FutureWarning: Passing method to DatetimeIndex.get_loc is deprecated and will raise in a future version. Use index.get_indexer([item], method=...) instead.\n",
      "  i = [dat.index.get_loc(t, method=\"nearest\") for t in dtime]\n",
      "/home/jmcle/anaconda3/lib/python3.9/site-packages/geomagindices/base.py:37: FutureWarning: Passing method to DatetimeIndex.get_loc is deprecated and will raise in a future version. Use index.get_indexer([item], method=...) instead.\n",
      "  i = [dat.index.get_loc(t, method=\"nearest\") for t in dtime]\n"
     ]
    },
    {
     "name": "stdout",
     "output_type": "stream",
     "text": [
      "Slice: 244. Convergence reached. Iterations: 919. reduced chi2: 3.5\n"
     ]
    },
    {
     "name": "stderr",
     "output_type": "stream",
     "text": [
      "/home/jmcle/anaconda3/lib/python3.9/site-packages/geomagindices/base.py:37: FutureWarning: Passing method to DatetimeIndex.get_loc is deprecated and will raise in a future version. Use index.get_indexer([item], method=...) instead.\n",
      "  i = [dat.index.get_loc(t, method=\"nearest\") for t in dtime]\n",
      "/home/jmcle/anaconda3/lib/python3.9/site-packages/geomagindices/base.py:37: FutureWarning: Passing method to DatetimeIndex.get_loc is deprecated and will raise in a future version. Use index.get_indexer([item], method=...) instead.\n",
      "  i = [dat.index.get_loc(t, method=\"nearest\") for t in dtime]\n"
     ]
    },
    {
     "name": "stdout",
     "output_type": "stream",
     "text": [
      "Slice: 245. Convergence reached. Iterations: 1165. reduced chi2: 2.51\n"
     ]
    },
    {
     "name": "stderr",
     "output_type": "stream",
     "text": [
      "/home/jmcle/anaconda3/lib/python3.9/site-packages/geomagindices/base.py:37: FutureWarning: Passing method to DatetimeIndex.get_loc is deprecated and will raise in a future version. Use index.get_indexer([item], method=...) instead.\n",
      "  i = [dat.index.get_loc(t, method=\"nearest\") for t in dtime]\n",
      "/home/jmcle/anaconda3/lib/python3.9/site-packages/geomagindices/base.py:37: FutureWarning: Passing method to DatetimeIndex.get_loc is deprecated and will raise in a future version. Use index.get_indexer([item], method=...) instead.\n",
      "  i = [dat.index.get_loc(t, method=\"nearest\") for t in dtime]\n"
     ]
    },
    {
     "name": "stdout",
     "output_type": "stream",
     "text": [
      "Slice: 246. Convergence reached. Iterations: 849. reduced chi2: 2.82\n"
     ]
    },
    {
     "name": "stderr",
     "output_type": "stream",
     "text": [
      "/home/jmcle/anaconda3/lib/python3.9/site-packages/geomagindices/base.py:37: FutureWarning: Passing method to DatetimeIndex.get_loc is deprecated and will raise in a future version. Use index.get_indexer([item], method=...) instead.\n",
      "  i = [dat.index.get_loc(t, method=\"nearest\") for t in dtime]\n",
      "/home/jmcle/anaconda3/lib/python3.9/site-packages/geomagindices/base.py:37: FutureWarning: Passing method to DatetimeIndex.get_loc is deprecated and will raise in a future version. Use index.get_indexer([item], method=...) instead.\n",
      "  i = [dat.index.get_loc(t, method=\"nearest\") for t in dtime]\n"
     ]
    },
    {
     "name": "stdout",
     "output_type": "stream",
     "text": [
      "Slice: 247. Convergence reached. Iterations: 661. reduced chi2: 1.84\n"
     ]
    },
    {
     "name": "stderr",
     "output_type": "stream",
     "text": [
      "/home/jmcle/anaconda3/lib/python3.9/site-packages/geomagindices/base.py:37: FutureWarning: Passing method to DatetimeIndex.get_loc is deprecated and will raise in a future version. Use index.get_indexer([item], method=...) instead.\n",
      "  i = [dat.index.get_loc(t, method=\"nearest\") for t in dtime]\n",
      "/home/jmcle/anaconda3/lib/python3.9/site-packages/geomagindices/base.py:37: FutureWarning: Passing method to DatetimeIndex.get_loc is deprecated and will raise in a future version. Use index.get_indexer([item], method=...) instead.\n",
      "  i = [dat.index.get_loc(t, method=\"nearest\") for t in dtime]\n"
     ]
    },
    {
     "name": "stdout",
     "output_type": "stream",
     "text": [
      "Slice: 248. Convergence reached. Iterations: 696. reduced chi2: 1.57\n"
     ]
    },
    {
     "name": "stderr",
     "output_type": "stream",
     "text": [
      "/home/jmcle/anaconda3/lib/python3.9/site-packages/geomagindices/base.py:37: FutureWarning: Passing method to DatetimeIndex.get_loc is deprecated and will raise in a future version. Use index.get_indexer([item], method=...) instead.\n",
      "  i = [dat.index.get_loc(t, method=\"nearest\") for t in dtime]\n",
      "/home/jmcle/anaconda3/lib/python3.9/site-packages/geomagindices/base.py:37: FutureWarning: Passing method to DatetimeIndex.get_loc is deprecated and will raise in a future version. Use index.get_indexer([item], method=...) instead.\n",
      "  i = [dat.index.get_loc(t, method=\"nearest\") for t in dtime]\n"
     ]
    },
    {
     "name": "stdout",
     "output_type": "stream",
     "text": [
      "Slice: 249. Convergence reached. Iterations: 1212. reduced chi2: 2.46\n"
     ]
    },
    {
     "name": "stderr",
     "output_type": "stream",
     "text": [
      "/home/jmcle/anaconda3/lib/python3.9/site-packages/geomagindices/base.py:37: FutureWarning: Passing method to DatetimeIndex.get_loc is deprecated and will raise in a future version. Use index.get_indexer([item], method=...) instead.\n",
      "  i = [dat.index.get_loc(t, method=\"nearest\") for t in dtime]\n",
      "/home/jmcle/anaconda3/lib/python3.9/site-packages/geomagindices/base.py:37: FutureWarning: Passing method to DatetimeIndex.get_loc is deprecated and will raise in a future version. Use index.get_indexer([item], method=...) instead.\n",
      "  i = [dat.index.get_loc(t, method=\"nearest\") for t in dtime]\n"
     ]
    },
    {
     "name": "stdout",
     "output_type": "stream",
     "text": [
      "Slice: 250. Convergence reached. Iterations: 1135. reduced chi2: 1.41\n"
     ]
    },
    {
     "name": "stderr",
     "output_type": "stream",
     "text": [
      "/home/jmcle/anaconda3/lib/python3.9/site-packages/geomagindices/base.py:37: FutureWarning: Passing method to DatetimeIndex.get_loc is deprecated and will raise in a future version. Use index.get_indexer([item], method=...) instead.\n",
      "  i = [dat.index.get_loc(t, method=\"nearest\") for t in dtime]\n",
      "/home/jmcle/anaconda3/lib/python3.9/site-packages/geomagindices/base.py:37: FutureWarning: Passing method to DatetimeIndex.get_loc is deprecated and will raise in a future version. Use index.get_indexer([item], method=...) instead.\n",
      "  i = [dat.index.get_loc(t, method=\"nearest\") for t in dtime]\n"
     ]
    },
    {
     "name": "stdout",
     "output_type": "stream",
     "text": [
      "Slice: 251. Convergence reached. Iterations: 1018. reduced chi2: 2.67\n"
     ]
    },
    {
     "name": "stderr",
     "output_type": "stream",
     "text": [
      "/home/jmcle/anaconda3/lib/python3.9/site-packages/geomagindices/base.py:37: FutureWarning: Passing method to DatetimeIndex.get_loc is deprecated and will raise in a future version. Use index.get_indexer([item], method=...) instead.\n",
      "  i = [dat.index.get_loc(t, method=\"nearest\") for t in dtime]\n",
      "/home/jmcle/anaconda3/lib/python3.9/site-packages/geomagindices/base.py:37: FutureWarning: Passing method to DatetimeIndex.get_loc is deprecated and will raise in a future version. Use index.get_indexer([item], method=...) instead.\n",
      "  i = [dat.index.get_loc(t, method=\"nearest\") for t in dtime]\n"
     ]
    },
    {
     "name": "stdout",
     "output_type": "stream",
     "text": [
      "Slice: 252. Convergence reached. Iterations: 995. reduced chi2: 2.01\n"
     ]
    },
    {
     "name": "stderr",
     "output_type": "stream",
     "text": [
      "/home/jmcle/anaconda3/lib/python3.9/site-packages/geomagindices/base.py:37: FutureWarning: Passing method to DatetimeIndex.get_loc is deprecated and will raise in a future version. Use index.get_indexer([item], method=...) instead.\n",
      "  i = [dat.index.get_loc(t, method=\"nearest\") for t in dtime]\n",
      "/home/jmcle/anaconda3/lib/python3.9/site-packages/geomagindices/base.py:37: FutureWarning: Passing method to DatetimeIndex.get_loc is deprecated and will raise in a future version. Use index.get_indexer([item], method=...) instead.\n",
      "  i = [dat.index.get_loc(t, method=\"nearest\") for t in dtime]\n"
     ]
    },
    {
     "name": "stdout",
     "output_type": "stream",
     "text": [
      "Slice: 253. Convergence reached. Iterations: 922. reduced chi2: 1.94\n"
     ]
    },
    {
     "name": "stderr",
     "output_type": "stream",
     "text": [
      "/home/jmcle/anaconda3/lib/python3.9/site-packages/geomagindices/base.py:37: FutureWarning: Passing method to DatetimeIndex.get_loc is deprecated and will raise in a future version. Use index.get_indexer([item], method=...) instead.\n",
      "  i = [dat.index.get_loc(t, method=\"nearest\") for t in dtime]\n",
      "/home/jmcle/anaconda3/lib/python3.9/site-packages/geomagindices/base.py:37: FutureWarning: Passing method to DatetimeIndex.get_loc is deprecated and will raise in a future version. Use index.get_indexer([item], method=...) instead.\n",
      "  i = [dat.index.get_loc(t, method=\"nearest\") for t in dtime]\n"
     ]
    },
    {
     "name": "stdout",
     "output_type": "stream",
     "text": [
      "Slice: 254. Convergence reached. Iterations: 1021. reduced chi2: 1.77\n"
     ]
    },
    {
     "name": "stderr",
     "output_type": "stream",
     "text": [
      "/home/jmcle/anaconda3/lib/python3.9/site-packages/geomagindices/base.py:37: FutureWarning: Passing method to DatetimeIndex.get_loc is deprecated and will raise in a future version. Use index.get_indexer([item], method=...) instead.\n",
      "  i = [dat.index.get_loc(t, method=\"nearest\") for t in dtime]\n",
      "/home/jmcle/anaconda3/lib/python3.9/site-packages/geomagindices/base.py:37: FutureWarning: Passing method to DatetimeIndex.get_loc is deprecated and will raise in a future version. Use index.get_indexer([item], method=...) instead.\n",
      "  i = [dat.index.get_loc(t, method=\"nearest\") for t in dtime]\n"
     ]
    },
    {
     "name": "stdout",
     "output_type": "stream",
     "text": [
      "Slice: 255. Convergence reached. Iterations: 1794. reduced chi2: 2.76\n"
     ]
    },
    {
     "name": "stderr",
     "output_type": "stream",
     "text": [
      "/home/jmcle/anaconda3/lib/python3.9/site-packages/geomagindices/base.py:37: FutureWarning: Passing method to DatetimeIndex.get_loc is deprecated and will raise in a future version. Use index.get_indexer([item], method=...) instead.\n",
      "  i = [dat.index.get_loc(t, method=\"nearest\") for t in dtime]\n",
      "/home/jmcle/anaconda3/lib/python3.9/site-packages/geomagindices/base.py:37: FutureWarning: Passing method to DatetimeIndex.get_loc is deprecated and will raise in a future version. Use index.get_indexer([item], method=...) instead.\n",
      "  i = [dat.index.get_loc(t, method=\"nearest\") for t in dtime]\n"
     ]
    },
    {
     "name": "stdout",
     "output_type": "stream",
     "text": [
      "Slice: 256. Convergence reached. Iterations: 640. reduced chi2: 1.56\n"
     ]
    },
    {
     "name": "stderr",
     "output_type": "stream",
     "text": [
      "/home/jmcle/anaconda3/lib/python3.9/site-packages/geomagindices/base.py:37: FutureWarning: Passing method to DatetimeIndex.get_loc is deprecated and will raise in a future version. Use index.get_indexer([item], method=...) instead.\n",
      "  i = [dat.index.get_loc(t, method=\"nearest\") for t in dtime]\n",
      "/home/jmcle/anaconda3/lib/python3.9/site-packages/geomagindices/base.py:37: FutureWarning: Passing method to DatetimeIndex.get_loc is deprecated and will raise in a future version. Use index.get_indexer([item], method=...) instead.\n",
      "  i = [dat.index.get_loc(t, method=\"nearest\") for t in dtime]\n"
     ]
    },
    {
     "name": "stdout",
     "output_type": "stream",
     "text": [
      "Slice: 257. Convergence reached. Iterations: 373. reduced chi2: 1.16\n"
     ]
    },
    {
     "name": "stderr",
     "output_type": "stream",
     "text": [
      "/home/jmcle/anaconda3/lib/python3.9/site-packages/geomagindices/base.py:37: FutureWarning: Passing method to DatetimeIndex.get_loc is deprecated and will raise in a future version. Use index.get_indexer([item], method=...) instead.\n",
      "  i = [dat.index.get_loc(t, method=\"nearest\") for t in dtime]\n",
      "/home/jmcle/anaconda3/lib/python3.9/site-packages/geomagindices/base.py:37: FutureWarning: Passing method to DatetimeIndex.get_loc is deprecated and will raise in a future version. Use index.get_indexer([item], method=...) instead.\n",
      "  i = [dat.index.get_loc(t, method=\"nearest\") for t in dtime]\n"
     ]
    },
    {
     "name": "stdout",
     "output_type": "stream",
     "text": [
      "Slice: 258. Convergence reached. Iterations: 432. reduced chi2: 1.38\n"
     ]
    },
    {
     "name": "stderr",
     "output_type": "stream",
     "text": [
      "/home/jmcle/anaconda3/lib/python3.9/site-packages/geomagindices/base.py:37: FutureWarning: Passing method to DatetimeIndex.get_loc is deprecated and will raise in a future version. Use index.get_indexer([item], method=...) instead.\n",
      "  i = [dat.index.get_loc(t, method=\"nearest\") for t in dtime]\n",
      "/home/jmcle/anaconda3/lib/python3.9/site-packages/geomagindices/base.py:37: FutureWarning: Passing method to DatetimeIndex.get_loc is deprecated and will raise in a future version. Use index.get_indexer([item], method=...) instead.\n",
      "  i = [dat.index.get_loc(t, method=\"nearest\") for t in dtime]\n"
     ]
    },
    {
     "name": "stdout",
     "output_type": "stream",
     "text": [
      "Slice: 259. Convergence reached. Iterations: 471. reduced chi2: 1.66\n"
     ]
    },
    {
     "name": "stderr",
     "output_type": "stream",
     "text": [
      "/home/jmcle/anaconda3/lib/python3.9/site-packages/geomagindices/base.py:37: FutureWarning: Passing method to DatetimeIndex.get_loc is deprecated and will raise in a future version. Use index.get_indexer([item], method=...) instead.\n",
      "  i = [dat.index.get_loc(t, method=\"nearest\") for t in dtime]\n",
      "/home/jmcle/anaconda3/lib/python3.9/site-packages/geomagindices/base.py:37: FutureWarning: Passing method to DatetimeIndex.get_loc is deprecated and will raise in a future version. Use index.get_indexer([item], method=...) instead.\n",
      "  i = [dat.index.get_loc(t, method=\"nearest\") for t in dtime]\n"
     ]
    },
    {
     "name": "stdout",
     "output_type": "stream",
     "text": [
      "Slice: 260. Convergence reached. Iterations: 250. reduced chi2: 1.58\n"
     ]
    },
    {
     "name": "stderr",
     "output_type": "stream",
     "text": [
      "/home/jmcle/anaconda3/lib/python3.9/site-packages/geomagindices/base.py:37: FutureWarning: Passing method to DatetimeIndex.get_loc is deprecated and will raise in a future version. Use index.get_indexer([item], method=...) instead.\n",
      "  i = [dat.index.get_loc(t, method=\"nearest\") for t in dtime]\n",
      "/home/jmcle/anaconda3/lib/python3.9/site-packages/geomagindices/base.py:37: FutureWarning: Passing method to DatetimeIndex.get_loc is deprecated and will raise in a future version. Use index.get_indexer([item], method=...) instead.\n",
      "  i = [dat.index.get_loc(t, method=\"nearest\") for t in dtime]\n"
     ]
    },
    {
     "name": "stdout",
     "output_type": "stream",
     "text": [
      "Slice: 261. Convergence reached. Iterations: 178. reduced chi2: 1.58\n"
     ]
    },
    {
     "name": "stderr",
     "output_type": "stream",
     "text": [
      "/home/jmcle/anaconda3/lib/python3.9/site-packages/geomagindices/base.py:37: FutureWarning: Passing method to DatetimeIndex.get_loc is deprecated and will raise in a future version. Use index.get_indexer([item], method=...) instead.\n",
      "  i = [dat.index.get_loc(t, method=\"nearest\") for t in dtime]\n",
      "/home/jmcle/anaconda3/lib/python3.9/site-packages/geomagindices/base.py:37: FutureWarning: Passing method to DatetimeIndex.get_loc is deprecated and will raise in a future version. Use index.get_indexer([item], method=...) instead.\n",
      "  i = [dat.index.get_loc(t, method=\"nearest\") for t in dtime]\n"
     ]
    },
    {
     "name": "stdout",
     "output_type": "stream",
     "text": [
      "Slice: 262. Convergence reached. Iterations: 171. reduced chi2: 1.55\n"
     ]
    },
    {
     "name": "stderr",
     "output_type": "stream",
     "text": [
      "/home/jmcle/anaconda3/lib/python3.9/site-packages/geomagindices/base.py:37: FutureWarning: Passing method to DatetimeIndex.get_loc is deprecated and will raise in a future version. Use index.get_indexer([item], method=...) instead.\n",
      "  i = [dat.index.get_loc(t, method=\"nearest\") for t in dtime]\n",
      "/home/jmcle/anaconda3/lib/python3.9/site-packages/geomagindices/base.py:37: FutureWarning: Passing method to DatetimeIndex.get_loc is deprecated and will raise in a future version. Use index.get_indexer([item], method=...) instead.\n",
      "  i = [dat.index.get_loc(t, method=\"nearest\") for t in dtime]\n"
     ]
    },
    {
     "name": "stdout",
     "output_type": "stream",
     "text": [
      "Slice: 263. Convergence reached. Iterations: 402. reduced chi2: 2.3\n"
     ]
    },
    {
     "name": "stderr",
     "output_type": "stream",
     "text": [
      "/home/jmcle/anaconda3/lib/python3.9/site-packages/geomagindices/base.py:37: FutureWarning: Passing method to DatetimeIndex.get_loc is deprecated and will raise in a future version. Use index.get_indexer([item], method=...) instead.\n",
      "  i = [dat.index.get_loc(t, method=\"nearest\") for t in dtime]\n",
      "/home/jmcle/anaconda3/lib/python3.9/site-packages/geomagindices/base.py:37: FutureWarning: Passing method to DatetimeIndex.get_loc is deprecated and will raise in a future version. Use index.get_indexer([item], method=...) instead.\n",
      "  i = [dat.index.get_loc(t, method=\"nearest\") for t in dtime]\n"
     ]
    },
    {
     "name": "stdout",
     "output_type": "stream",
     "text": [
      "Slice: 264. Convergence reached. Iterations: 163. reduced chi2: 1.34\n"
     ]
    },
    {
     "name": "stderr",
     "output_type": "stream",
     "text": [
      "/home/jmcle/anaconda3/lib/python3.9/site-packages/geomagindices/base.py:37: FutureWarning: Passing method to DatetimeIndex.get_loc is deprecated and will raise in a future version. Use index.get_indexer([item], method=...) instead.\n",
      "  i = [dat.index.get_loc(t, method=\"nearest\") for t in dtime]\n",
      "/home/jmcle/anaconda3/lib/python3.9/site-packages/geomagindices/base.py:37: FutureWarning: Passing method to DatetimeIndex.get_loc is deprecated and will raise in a future version. Use index.get_indexer([item], method=...) instead.\n",
      "  i = [dat.index.get_loc(t, method=\"nearest\") for t in dtime]\n"
     ]
    },
    {
     "name": "stdout",
     "output_type": "stream",
     "text": [
      "Slice: 265. Convergence reached. Iterations: 502. reduced chi2: 2.5\n"
     ]
    },
    {
     "name": "stderr",
     "output_type": "stream",
     "text": [
      "/home/jmcle/anaconda3/lib/python3.9/site-packages/geomagindices/base.py:37: FutureWarning: Passing method to DatetimeIndex.get_loc is deprecated and will raise in a future version. Use index.get_indexer([item], method=...) instead.\n",
      "  i = [dat.index.get_loc(t, method=\"nearest\") for t in dtime]\n",
      "/home/jmcle/anaconda3/lib/python3.9/site-packages/geomagindices/base.py:37: FutureWarning: Passing method to DatetimeIndex.get_loc is deprecated and will raise in a future version. Use index.get_indexer([item], method=...) instead.\n",
      "  i = [dat.index.get_loc(t, method=\"nearest\") for t in dtime]\n"
     ]
    },
    {
     "name": "stdout",
     "output_type": "stream",
     "text": [
      "Slice: 266. Convergence reached. Iterations: 926. reduced chi2: 2.47\n"
     ]
    },
    {
     "name": "stderr",
     "output_type": "stream",
     "text": [
      "/home/jmcle/anaconda3/lib/python3.9/site-packages/geomagindices/base.py:37: FutureWarning: Passing method to DatetimeIndex.get_loc is deprecated and will raise in a future version. Use index.get_indexer([item], method=...) instead.\n",
      "  i = [dat.index.get_loc(t, method=\"nearest\") for t in dtime]\n",
      "/home/jmcle/anaconda3/lib/python3.9/site-packages/geomagindices/base.py:37: FutureWarning: Passing method to DatetimeIndex.get_loc is deprecated and will raise in a future version. Use index.get_indexer([item], method=...) instead.\n",
      "  i = [dat.index.get_loc(t, method=\"nearest\") for t in dtime]\n"
     ]
    },
    {
     "name": "stdout",
     "output_type": "stream",
     "text": [
      "Slice: 267. Convergence reached. Iterations: 892. reduced chi2: 3.06\n"
     ]
    },
    {
     "name": "stderr",
     "output_type": "stream",
     "text": [
      "/home/jmcle/anaconda3/lib/python3.9/site-packages/geomagindices/base.py:37: FutureWarning: Passing method to DatetimeIndex.get_loc is deprecated and will raise in a future version. Use index.get_indexer([item], method=...) instead.\n",
      "  i = [dat.index.get_loc(t, method=\"nearest\") for t in dtime]\n",
      "/home/jmcle/anaconda3/lib/python3.9/site-packages/geomagindices/base.py:37: FutureWarning: Passing method to DatetimeIndex.get_loc is deprecated and will raise in a future version. Use index.get_indexer([item], method=...) instead.\n",
      "  i = [dat.index.get_loc(t, method=\"nearest\") for t in dtime]\n"
     ]
    },
    {
     "name": "stdout",
     "output_type": "stream",
     "text": [
      "Slice: 268. Convergence reached. Iterations: 732. reduced chi2: 2.49\n"
     ]
    },
    {
     "name": "stderr",
     "output_type": "stream",
     "text": [
      "/home/jmcle/anaconda3/lib/python3.9/site-packages/geomagindices/base.py:37: FutureWarning: Passing method to DatetimeIndex.get_loc is deprecated and will raise in a future version. Use index.get_indexer([item], method=...) instead.\n",
      "  i = [dat.index.get_loc(t, method=\"nearest\") for t in dtime]\n",
      "/home/jmcle/anaconda3/lib/python3.9/site-packages/geomagindices/base.py:37: FutureWarning: Passing method to DatetimeIndex.get_loc is deprecated and will raise in a future version. Use index.get_indexer([item], method=...) instead.\n",
      "  i = [dat.index.get_loc(t, method=\"nearest\") for t in dtime]\n"
     ]
    },
    {
     "name": "stdout",
     "output_type": "stream",
     "text": [
      "Slice: 269. Convergence reached. Iterations: 1236. reduced chi2: 2.35\n"
     ]
    },
    {
     "name": "stderr",
     "output_type": "stream",
     "text": [
      "/home/jmcle/anaconda3/lib/python3.9/site-packages/geomagindices/base.py:37: FutureWarning: Passing method to DatetimeIndex.get_loc is deprecated and will raise in a future version. Use index.get_indexer([item], method=...) instead.\n",
      "  i = [dat.index.get_loc(t, method=\"nearest\") for t in dtime]\n",
      "/home/jmcle/anaconda3/lib/python3.9/site-packages/geomagindices/base.py:37: FutureWarning: Passing method to DatetimeIndex.get_loc is deprecated and will raise in a future version. Use index.get_indexer([item], method=...) instead.\n",
      "  i = [dat.index.get_loc(t, method=\"nearest\") for t in dtime]\n"
     ]
    },
    {
     "name": "stdout",
     "output_type": "stream",
     "text": [
      "Slice: 270. Convergence reached. Iterations: 1331. reduced chi2: 1.88\n"
     ]
    },
    {
     "name": "stderr",
     "output_type": "stream",
     "text": [
      "/home/jmcle/anaconda3/lib/python3.9/site-packages/geomagindices/base.py:37: FutureWarning: Passing method to DatetimeIndex.get_loc is deprecated and will raise in a future version. Use index.get_indexer([item], method=...) instead.\n",
      "  i = [dat.index.get_loc(t, method=\"nearest\") for t in dtime]\n",
      "/home/jmcle/anaconda3/lib/python3.9/site-packages/geomagindices/base.py:37: FutureWarning: Passing method to DatetimeIndex.get_loc is deprecated and will raise in a future version. Use index.get_indexer([item], method=...) instead.\n",
      "  i = [dat.index.get_loc(t, method=\"nearest\") for t in dtime]\n"
     ]
    },
    {
     "name": "stdout",
     "output_type": "stream",
     "text": [
      "Slice: 271. Convergence reached. Iterations: 1210. reduced chi2: 2.91\n"
     ]
    },
    {
     "name": "stderr",
     "output_type": "stream",
     "text": [
      "/home/jmcle/anaconda3/lib/python3.9/site-packages/geomagindices/base.py:37: FutureWarning: Passing method to DatetimeIndex.get_loc is deprecated and will raise in a future version. Use index.get_indexer([item], method=...) instead.\n",
      "  i = [dat.index.get_loc(t, method=\"nearest\") for t in dtime]\n",
      "/home/jmcle/anaconda3/lib/python3.9/site-packages/geomagindices/base.py:37: FutureWarning: Passing method to DatetimeIndex.get_loc is deprecated and will raise in a future version. Use index.get_indexer([item], method=...) instead.\n",
      "  i = [dat.index.get_loc(t, method=\"nearest\") for t in dtime]\n"
     ]
    },
    {
     "name": "stdout",
     "output_type": "stream",
     "text": [
      "Slice: 272. Convergence reached. Iterations: 903. reduced chi2: 2.2\n"
     ]
    },
    {
     "name": "stderr",
     "output_type": "stream",
     "text": [
      "/home/jmcle/anaconda3/lib/python3.9/site-packages/geomagindices/base.py:37: FutureWarning: Passing method to DatetimeIndex.get_loc is deprecated and will raise in a future version. Use index.get_indexer([item], method=...) instead.\n",
      "  i = [dat.index.get_loc(t, method=\"nearest\") for t in dtime]\n",
      "/home/jmcle/anaconda3/lib/python3.9/site-packages/geomagindices/base.py:37: FutureWarning: Passing method to DatetimeIndex.get_loc is deprecated and will raise in a future version. Use index.get_indexer([item], method=...) instead.\n",
      "  i = [dat.index.get_loc(t, method=\"nearest\") for t in dtime]\n"
     ]
    },
    {
     "name": "stdout",
     "output_type": "stream",
     "text": [
      "Slice: 273. Convergence reached. Iterations: 628. reduced chi2: 1.47\n"
     ]
    },
    {
     "name": "stderr",
     "output_type": "stream",
     "text": [
      "/home/jmcle/anaconda3/lib/python3.9/site-packages/geomagindices/base.py:37: FutureWarning: Passing method to DatetimeIndex.get_loc is deprecated and will raise in a future version. Use index.get_indexer([item], method=...) instead.\n",
      "  i = [dat.index.get_loc(t, method=\"nearest\") for t in dtime]\n",
      "/home/jmcle/anaconda3/lib/python3.9/site-packages/geomagindices/base.py:37: FutureWarning: Passing method to DatetimeIndex.get_loc is deprecated and will raise in a future version. Use index.get_indexer([item], method=...) instead.\n",
      "  i = [dat.index.get_loc(t, method=\"nearest\") for t in dtime]\n"
     ]
    },
    {
     "name": "stdout",
     "output_type": "stream",
     "text": [
      "Slice: 274. Convergence reached. Iterations: 675. reduced chi2: 2.41\n"
     ]
    },
    {
     "name": "stderr",
     "output_type": "stream",
     "text": [
      "/home/jmcle/anaconda3/lib/python3.9/site-packages/geomagindices/base.py:37: FutureWarning: Passing method to DatetimeIndex.get_loc is deprecated and will raise in a future version. Use index.get_indexer([item], method=...) instead.\n",
      "  i = [dat.index.get_loc(t, method=\"nearest\") for t in dtime]\n",
      "/home/jmcle/anaconda3/lib/python3.9/site-packages/geomagindices/base.py:37: FutureWarning: Passing method to DatetimeIndex.get_loc is deprecated and will raise in a future version. Use index.get_indexer([item], method=...) instead.\n",
      "  i = [dat.index.get_loc(t, method=\"nearest\") for t in dtime]\n"
     ]
    },
    {
     "name": "stdout",
     "output_type": "stream",
     "text": [
      "Slice: 275. Convergence reached. Iterations: 640. reduced chi2: 1.79\n"
     ]
    },
    {
     "name": "stderr",
     "output_type": "stream",
     "text": [
      "/home/jmcle/anaconda3/lib/python3.9/site-packages/geomagindices/base.py:37: FutureWarning: Passing method to DatetimeIndex.get_loc is deprecated and will raise in a future version. Use index.get_indexer([item], method=...) instead.\n",
      "  i = [dat.index.get_loc(t, method=\"nearest\") for t in dtime]\n",
      "/home/jmcle/anaconda3/lib/python3.9/site-packages/geomagindices/base.py:37: FutureWarning: Passing method to DatetimeIndex.get_loc is deprecated and will raise in a future version. Use index.get_indexer([item], method=...) instead.\n",
      "  i = [dat.index.get_loc(t, method=\"nearest\") for t in dtime]\n"
     ]
    },
    {
     "name": "stdout",
     "output_type": "stream",
     "text": [
      "Slice: 276. Convergence reached. Iterations: 1363. reduced chi2: 1.86\n"
     ]
    },
    {
     "name": "stderr",
     "output_type": "stream",
     "text": [
      "/home/jmcle/anaconda3/lib/python3.9/site-packages/geomagindices/base.py:37: FutureWarning: Passing method to DatetimeIndex.get_loc is deprecated and will raise in a future version. Use index.get_indexer([item], method=...) instead.\n",
      "  i = [dat.index.get_loc(t, method=\"nearest\") for t in dtime]\n",
      "/home/jmcle/anaconda3/lib/python3.9/site-packages/geomagindices/base.py:37: FutureWarning: Passing method to DatetimeIndex.get_loc is deprecated and will raise in a future version. Use index.get_indexer([item], method=...) instead.\n",
      "  i = [dat.index.get_loc(t, method=\"nearest\") for t in dtime]\n"
     ]
    },
    {
     "name": "stdout",
     "output_type": "stream",
     "text": [
      "Slice: 277. Not converging. Stopping. chi2 = 157.11\n"
     ]
    },
    {
     "name": "stderr",
     "output_type": "stream",
     "text": [
      "/home/jmcle/anaconda3/lib/python3.9/site-packages/geomagindices/base.py:37: FutureWarning: Passing method to DatetimeIndex.get_loc is deprecated and will raise in a future version. Use index.get_indexer([item], method=...) instead.\n",
      "  i = [dat.index.get_loc(t, method=\"nearest\") for t in dtime]\n",
      "/home/jmcle/anaconda3/lib/python3.9/site-packages/geomagindices/base.py:37: FutureWarning: Passing method to DatetimeIndex.get_loc is deprecated and will raise in a future version. Use index.get_indexer([item], method=...) instead.\n",
      "  i = [dat.index.get_loc(t, method=\"nearest\") for t in dtime]\n"
     ]
    },
    {
     "name": "stdout",
     "output_type": "stream",
     "text": [
      "Slice: 278. Convergence reached. Iterations: 1798. reduced chi2: 45.08\n"
     ]
    },
    {
     "name": "stderr",
     "output_type": "stream",
     "text": [
      "/home/jmcle/anaconda3/lib/python3.9/site-packages/geomagindices/base.py:37: FutureWarning: Passing method to DatetimeIndex.get_loc is deprecated and will raise in a future version. Use index.get_indexer([item], method=...) instead.\n",
      "  i = [dat.index.get_loc(t, method=\"nearest\") for t in dtime]\n",
      "/home/jmcle/anaconda3/lib/python3.9/site-packages/geomagindices/base.py:37: FutureWarning: Passing method to DatetimeIndex.get_loc is deprecated and will raise in a future version. Use index.get_indexer([item], method=...) instead.\n",
      "  i = [dat.index.get_loc(t, method=\"nearest\") for t in dtime]\n"
     ]
    },
    {
     "name": "stdout",
     "output_type": "stream",
     "text": [
      "Slice: 279. Convergence reached. Iterations: 734. reduced chi2: 2.59\n"
     ]
    },
    {
     "name": "stderr",
     "output_type": "stream",
     "text": [
      "/home/jmcle/anaconda3/lib/python3.9/site-packages/geomagindices/base.py:37: FutureWarning: Passing method to DatetimeIndex.get_loc is deprecated and will raise in a future version. Use index.get_indexer([item], method=...) instead.\n",
      "  i = [dat.index.get_loc(t, method=\"nearest\") for t in dtime]\n",
      "/home/jmcle/anaconda3/lib/python3.9/site-packages/geomagindices/base.py:37: FutureWarning: Passing method to DatetimeIndex.get_loc is deprecated and will raise in a future version. Use index.get_indexer([item], method=...) instead.\n",
      "  i = [dat.index.get_loc(t, method=\"nearest\") for t in dtime]\n"
     ]
    },
    {
     "name": "stdout",
     "output_type": "stream",
     "text": [
      "Slice: 280. Convergence reached. Iterations: 537. reduced chi2: 3.25\n"
     ]
    },
    {
     "name": "stderr",
     "output_type": "stream",
     "text": [
      "/home/jmcle/anaconda3/lib/python3.9/site-packages/geomagindices/base.py:37: FutureWarning: Passing method to DatetimeIndex.get_loc is deprecated and will raise in a future version. Use index.get_indexer([item], method=...) instead.\n",
      "  i = [dat.index.get_loc(t, method=\"nearest\") for t in dtime]\n",
      "/home/jmcle/anaconda3/lib/python3.9/site-packages/geomagindices/base.py:37: FutureWarning: Passing method to DatetimeIndex.get_loc is deprecated and will raise in a future version. Use index.get_indexer([item], method=...) instead.\n",
      "  i = [dat.index.get_loc(t, method=\"nearest\") for t in dtime]\n"
     ]
    },
    {
     "name": "stdout",
     "output_type": "stream",
     "text": [
      "Slice: 281. Convergence reached. Iterations: 568. reduced chi2: 2.3\n"
     ]
    },
    {
     "name": "stderr",
     "output_type": "stream",
     "text": [
      "/home/jmcle/anaconda3/lib/python3.9/site-packages/geomagindices/base.py:37: FutureWarning: Passing method to DatetimeIndex.get_loc is deprecated and will raise in a future version. Use index.get_indexer([item], method=...) instead.\n",
      "  i = [dat.index.get_loc(t, method=\"nearest\") for t in dtime]\n",
      "/home/jmcle/anaconda3/lib/python3.9/site-packages/geomagindices/base.py:37: FutureWarning: Passing method to DatetimeIndex.get_loc is deprecated and will raise in a future version. Use index.get_indexer([item], method=...) instead.\n",
      "  i = [dat.index.get_loc(t, method=\"nearest\") for t in dtime]\n"
     ]
    },
    {
     "name": "stdout",
     "output_type": "stream",
     "text": [
      "Slice: 282. Convergence reached. Iterations: 487. reduced chi2: 2.02\n"
     ]
    },
    {
     "name": "stderr",
     "output_type": "stream",
     "text": [
      "/home/jmcle/anaconda3/lib/python3.9/site-packages/geomagindices/base.py:37: FutureWarning: Passing method to DatetimeIndex.get_loc is deprecated and will raise in a future version. Use index.get_indexer([item], method=...) instead.\n",
      "  i = [dat.index.get_loc(t, method=\"nearest\") for t in dtime]\n",
      "/home/jmcle/anaconda3/lib/python3.9/site-packages/geomagindices/base.py:37: FutureWarning: Passing method to DatetimeIndex.get_loc is deprecated and will raise in a future version. Use index.get_indexer([item], method=...) instead.\n",
      "  i = [dat.index.get_loc(t, method=\"nearest\") for t in dtime]\n"
     ]
    },
    {
     "name": "stdout",
     "output_type": "stream",
     "text": [
      "Slice: 283. Convergence reached. Iterations: 597. reduced chi2: 1.7\n"
     ]
    },
    {
     "name": "stderr",
     "output_type": "stream",
     "text": [
      "/home/jmcle/anaconda3/lib/python3.9/site-packages/geomagindices/base.py:37: FutureWarning: Passing method to DatetimeIndex.get_loc is deprecated and will raise in a future version. Use index.get_indexer([item], method=...) instead.\n",
      "  i = [dat.index.get_loc(t, method=\"nearest\") for t in dtime]\n",
      "/home/jmcle/anaconda3/lib/python3.9/site-packages/geomagindices/base.py:37: FutureWarning: Passing method to DatetimeIndex.get_loc is deprecated and will raise in a future version. Use index.get_indexer([item], method=...) instead.\n",
      "  i = [dat.index.get_loc(t, method=\"nearest\") for t in dtime]\n"
     ]
    },
    {
     "name": "stdout",
     "output_type": "stream",
     "text": [
      "Slice: 284. Convergence reached. Iterations: 282. reduced chi2: 1.78\n"
     ]
    },
    {
     "name": "stderr",
     "output_type": "stream",
     "text": [
      "/home/jmcle/anaconda3/lib/python3.9/site-packages/geomagindices/base.py:37: FutureWarning: Passing method to DatetimeIndex.get_loc is deprecated and will raise in a future version. Use index.get_indexer([item], method=...) instead.\n",
      "  i = [dat.index.get_loc(t, method=\"nearest\") for t in dtime]\n",
      "/home/jmcle/anaconda3/lib/python3.9/site-packages/geomagindices/base.py:37: FutureWarning: Passing method to DatetimeIndex.get_loc is deprecated and will raise in a future version. Use index.get_indexer([item], method=...) instead.\n",
      "  i = [dat.index.get_loc(t, method=\"nearest\") for t in dtime]\n"
     ]
    },
    {
     "name": "stdout",
     "output_type": "stream",
     "text": [
      "Slice: 285. Convergence reached. Iterations: 225. reduced chi2: 1.39\n"
     ]
    },
    {
     "name": "stderr",
     "output_type": "stream",
     "text": [
      "/home/jmcle/anaconda3/lib/python3.9/site-packages/geomagindices/base.py:37: FutureWarning: Passing method to DatetimeIndex.get_loc is deprecated and will raise in a future version. Use index.get_indexer([item], method=...) instead.\n",
      "  i = [dat.index.get_loc(t, method=\"nearest\") for t in dtime]\n",
      "/home/jmcle/anaconda3/lib/python3.9/site-packages/geomagindices/base.py:37: FutureWarning: Passing method to DatetimeIndex.get_loc is deprecated and will raise in a future version. Use index.get_indexer([item], method=...) instead.\n",
      "  i = [dat.index.get_loc(t, method=\"nearest\") for t in dtime]\n"
     ]
    },
    {
     "name": "stdout",
     "output_type": "stream",
     "text": [
      "Slice: 286. Convergence reached. Iterations: 207. reduced chi2: 1.75\n"
     ]
    },
    {
     "name": "stderr",
     "output_type": "stream",
     "text": [
      "/home/jmcle/anaconda3/lib/python3.9/site-packages/geomagindices/base.py:37: FutureWarning: Passing method to DatetimeIndex.get_loc is deprecated and will raise in a future version. Use index.get_indexer([item], method=...) instead.\n",
      "  i = [dat.index.get_loc(t, method=\"nearest\") for t in dtime]\n",
      "/home/jmcle/anaconda3/lib/python3.9/site-packages/geomagindices/base.py:37: FutureWarning: Passing method to DatetimeIndex.get_loc is deprecated and will raise in a future version. Use index.get_indexer([item], method=...) instead.\n",
      "  i = [dat.index.get_loc(t, method=\"nearest\") for t in dtime]\n"
     ]
    },
    {
     "name": "stdout",
     "output_type": "stream",
     "text": [
      "Slice: 287. Convergence reached. Iterations: 253. reduced chi2: 2.27\n"
     ]
    },
    {
     "name": "stderr",
     "output_type": "stream",
     "text": [
      "/home/jmcle/anaconda3/lib/python3.9/site-packages/geomagindices/base.py:37: FutureWarning: Passing method to DatetimeIndex.get_loc is deprecated and will raise in a future version. Use index.get_indexer([item], method=...) instead.\n",
      "  i = [dat.index.get_loc(t, method=\"nearest\") for t in dtime]\n",
      "/home/jmcle/anaconda3/lib/python3.9/site-packages/geomagindices/base.py:37: FutureWarning: Passing method to DatetimeIndex.get_loc is deprecated and will raise in a future version. Use index.get_indexer([item], method=...) instead.\n",
      "  i = [dat.index.get_loc(t, method=\"nearest\") for t in dtime]\n"
     ]
    },
    {
     "name": "stdout",
     "output_type": "stream",
     "text": [
      "Slice: 288. Convergence reached. Iterations: 369. reduced chi2: 1.63\n"
     ]
    },
    {
     "name": "stderr",
     "output_type": "stream",
     "text": [
      "/home/jmcle/anaconda3/lib/python3.9/site-packages/geomagindices/base.py:37: FutureWarning: Passing method to DatetimeIndex.get_loc is deprecated and will raise in a future version. Use index.get_indexer([item], method=...) instead.\n",
      "  i = [dat.index.get_loc(t, method=\"nearest\") for t in dtime]\n",
      "/home/jmcle/anaconda3/lib/python3.9/site-packages/geomagindices/base.py:37: FutureWarning: Passing method to DatetimeIndex.get_loc is deprecated and will raise in a future version. Use index.get_indexer([item], method=...) instead.\n",
      "  i = [dat.index.get_loc(t, method=\"nearest\") for t in dtime]\n"
     ]
    },
    {
     "name": "stdout",
     "output_type": "stream",
     "text": [
      "Slice: 289. Convergence reached. Iterations: 613. reduced chi2: 1.46\n"
     ]
    },
    {
     "name": "stderr",
     "output_type": "stream",
     "text": [
      "/home/jmcle/anaconda3/lib/python3.9/site-packages/geomagindices/base.py:37: FutureWarning: Passing method to DatetimeIndex.get_loc is deprecated and will raise in a future version. Use index.get_indexer([item], method=...) instead.\n",
      "  i = [dat.index.get_loc(t, method=\"nearest\") for t in dtime]\n",
      "/home/jmcle/anaconda3/lib/python3.9/site-packages/geomagindices/base.py:37: FutureWarning: Passing method to DatetimeIndex.get_loc is deprecated and will raise in a future version. Use index.get_indexer([item], method=...) instead.\n",
      "  i = [dat.index.get_loc(t, method=\"nearest\") for t in dtime]\n"
     ]
    },
    {
     "name": "stdout",
     "output_type": "stream",
     "text": [
      "Slice: 290. Convergence reached. Iterations: 732. reduced chi2: 2.36\n"
     ]
    },
    {
     "name": "stderr",
     "output_type": "stream",
     "text": [
      "/home/jmcle/anaconda3/lib/python3.9/site-packages/geomagindices/base.py:37: FutureWarning: Passing method to DatetimeIndex.get_loc is deprecated and will raise in a future version. Use index.get_indexer([item], method=...) instead.\n",
      "  i = [dat.index.get_loc(t, method=\"nearest\") for t in dtime]\n",
      "/home/jmcle/anaconda3/lib/python3.9/site-packages/geomagindices/base.py:37: FutureWarning: Passing method to DatetimeIndex.get_loc is deprecated and will raise in a future version. Use index.get_indexer([item], method=...) instead.\n",
      "  i = [dat.index.get_loc(t, method=\"nearest\") for t in dtime]\n"
     ]
    },
    {
     "name": "stdout",
     "output_type": "stream",
     "text": [
      "Slice: 291. Convergence reached. Iterations: 824. reduced chi2: 2.5\n"
     ]
    },
    {
     "name": "stderr",
     "output_type": "stream",
     "text": [
      "/home/jmcle/anaconda3/lib/python3.9/site-packages/geomagindices/base.py:37: FutureWarning: Passing method to DatetimeIndex.get_loc is deprecated and will raise in a future version. Use index.get_indexer([item], method=...) instead.\n",
      "  i = [dat.index.get_loc(t, method=\"nearest\") for t in dtime]\n",
      "/home/jmcle/anaconda3/lib/python3.9/site-packages/geomagindices/base.py:37: FutureWarning: Passing method to DatetimeIndex.get_loc is deprecated and will raise in a future version. Use index.get_indexer([item], method=...) instead.\n",
      "  i = [dat.index.get_loc(t, method=\"nearest\") for t in dtime]\n"
     ]
    },
    {
     "name": "stdout",
     "output_type": "stream",
     "text": [
      "Slice: 292. Convergence reached. Iterations: 966. reduced chi2: 1.44\n"
     ]
    },
    {
     "name": "stderr",
     "output_type": "stream",
     "text": [
      "/home/jmcle/anaconda3/lib/python3.9/site-packages/geomagindices/base.py:37: FutureWarning: Passing method to DatetimeIndex.get_loc is deprecated and will raise in a future version. Use index.get_indexer([item], method=...) instead.\n",
      "  i = [dat.index.get_loc(t, method=\"nearest\") for t in dtime]\n",
      "/home/jmcle/anaconda3/lib/python3.9/site-packages/geomagindices/base.py:37: FutureWarning: Passing method to DatetimeIndex.get_loc is deprecated and will raise in a future version. Use index.get_indexer([item], method=...) instead.\n",
      "  i = [dat.index.get_loc(t, method=\"nearest\") for t in dtime]\n"
     ]
    },
    {
     "name": "stdout",
     "output_type": "stream",
     "text": [
      "Slice: 293. Convergence reached. Iterations: 336. reduced chi2: 1.26\n"
     ]
    },
    {
     "name": "stderr",
     "output_type": "stream",
     "text": [
      "/home/jmcle/anaconda3/lib/python3.9/site-packages/geomagindices/base.py:37: FutureWarning: Passing method to DatetimeIndex.get_loc is deprecated and will raise in a future version. Use index.get_indexer([item], method=...) instead.\n",
      "  i = [dat.index.get_loc(t, method=\"nearest\") for t in dtime]\n",
      "/home/jmcle/anaconda3/lib/python3.9/site-packages/geomagindices/base.py:37: FutureWarning: Passing method to DatetimeIndex.get_loc is deprecated and will raise in a future version. Use index.get_indexer([item], method=...) instead.\n",
      "  i = [dat.index.get_loc(t, method=\"nearest\") for t in dtime]\n"
     ]
    },
    {
     "name": "stdout",
     "output_type": "stream",
     "text": [
      "Slice: 294. Convergence reached. Iterations: 361. reduced chi2: 1.17\n"
     ]
    },
    {
     "name": "stderr",
     "output_type": "stream",
     "text": [
      "/home/jmcle/anaconda3/lib/python3.9/site-packages/geomagindices/base.py:37: FutureWarning: Passing method to DatetimeIndex.get_loc is deprecated and will raise in a future version. Use index.get_indexer([item], method=...) instead.\n",
      "  i = [dat.index.get_loc(t, method=\"nearest\") for t in dtime]\n",
      "/home/jmcle/anaconda3/lib/python3.9/site-packages/geomagindices/base.py:37: FutureWarning: Passing method to DatetimeIndex.get_loc is deprecated and will raise in a future version. Use index.get_indexer([item], method=...) instead.\n",
      "  i = [dat.index.get_loc(t, method=\"nearest\") for t in dtime]\n"
     ]
    },
    {
     "name": "stdout",
     "output_type": "stream",
     "text": [
      "Slice: 295. Convergence reached. Iterations: 729. reduced chi2: 2.38\n"
     ]
    },
    {
     "name": "stderr",
     "output_type": "stream",
     "text": [
      "/home/jmcle/anaconda3/lib/python3.9/site-packages/geomagindices/base.py:37: FutureWarning: Passing method to DatetimeIndex.get_loc is deprecated and will raise in a future version. Use index.get_indexer([item], method=...) instead.\n",
      "  i = [dat.index.get_loc(t, method=\"nearest\") for t in dtime]\n",
      "/home/jmcle/anaconda3/lib/python3.9/site-packages/geomagindices/base.py:37: FutureWarning: Passing method to DatetimeIndex.get_loc is deprecated and will raise in a future version. Use index.get_indexer([item], method=...) instead.\n",
      "  i = [dat.index.get_loc(t, method=\"nearest\") for t in dtime]\n"
     ]
    },
    {
     "name": "stdout",
     "output_type": "stream",
     "text": [
      "Slice: 296. Convergence reached. Iterations: 424. reduced chi2: 2.6\n"
     ]
    },
    {
     "name": "stderr",
     "output_type": "stream",
     "text": [
      "/home/jmcle/anaconda3/lib/python3.9/site-packages/geomagindices/base.py:37: FutureWarning: Passing method to DatetimeIndex.get_loc is deprecated and will raise in a future version. Use index.get_indexer([item], method=...) instead.\n",
      "  i = [dat.index.get_loc(t, method=\"nearest\") for t in dtime]\n",
      "/home/jmcle/anaconda3/lib/python3.9/site-packages/geomagindices/base.py:37: FutureWarning: Passing method to DatetimeIndex.get_loc is deprecated and will raise in a future version. Use index.get_indexer([item], method=...) instead.\n",
      "  i = [dat.index.get_loc(t, method=\"nearest\") for t in dtime]\n"
     ]
    },
    {
     "name": "stdout",
     "output_type": "stream",
     "text": [
      "Slice: 297. Convergence reached. Iterations: 428. reduced chi2: 1.6\n"
     ]
    },
    {
     "name": "stderr",
     "output_type": "stream",
     "text": [
      "/home/jmcle/anaconda3/lib/python3.9/site-packages/geomagindices/base.py:37: FutureWarning: Passing method to DatetimeIndex.get_loc is deprecated and will raise in a future version. Use index.get_indexer([item], method=...) instead.\n",
      "  i = [dat.index.get_loc(t, method=\"nearest\") for t in dtime]\n",
      "/home/jmcle/anaconda3/lib/python3.9/site-packages/geomagindices/base.py:37: FutureWarning: Passing method to DatetimeIndex.get_loc is deprecated and will raise in a future version. Use index.get_indexer([item], method=...) instead.\n",
      "  i = [dat.index.get_loc(t, method=\"nearest\") for t in dtime]\n"
     ]
    },
    {
     "name": "stdout",
     "output_type": "stream",
     "text": [
      "Slice: 298. Convergence reached. Iterations: 467. reduced chi2: 1.6\n"
     ]
    },
    {
     "name": "stderr",
     "output_type": "stream",
     "text": [
      "/home/jmcle/anaconda3/lib/python3.9/site-packages/geomagindices/base.py:37: FutureWarning: Passing method to DatetimeIndex.get_loc is deprecated and will raise in a future version. Use index.get_indexer([item], method=...) instead.\n",
      "  i = [dat.index.get_loc(t, method=\"nearest\") for t in dtime]\n",
      "/home/jmcle/anaconda3/lib/python3.9/site-packages/geomagindices/base.py:37: FutureWarning: Passing method to DatetimeIndex.get_loc is deprecated and will raise in a future version. Use index.get_indexer([item], method=...) instead.\n",
      "  i = [dat.index.get_loc(t, method=\"nearest\") for t in dtime]\n"
     ]
    },
    {
     "name": "stdout",
     "output_type": "stream",
     "text": [
      "Slice: 299. Convergence reached. Iterations: 615. reduced chi2: 1.58\n"
     ]
    },
    {
     "name": "stderr",
     "output_type": "stream",
     "text": [
      "/home/jmcle/anaconda3/lib/python3.9/site-packages/geomagindices/base.py:37: FutureWarning: Passing method to DatetimeIndex.get_loc is deprecated and will raise in a future version. Use index.get_indexer([item], method=...) instead.\n",
      "  i = [dat.index.get_loc(t, method=\"nearest\") for t in dtime]\n",
      "/home/jmcle/anaconda3/lib/python3.9/site-packages/geomagindices/base.py:37: FutureWarning: Passing method to DatetimeIndex.get_loc is deprecated and will raise in a future version. Use index.get_indexer([item], method=...) instead.\n",
      "  i = [dat.index.get_loc(t, method=\"nearest\") for t in dtime]\n"
     ]
    },
    {
     "name": "stdout",
     "output_type": "stream",
     "text": [
      "Slice: 300. Convergence reached. Iterations: 444. reduced chi2: 1.51\n"
     ]
    },
    {
     "name": "stderr",
     "output_type": "stream",
     "text": [
      "/home/jmcle/anaconda3/lib/python3.9/site-packages/geomagindices/base.py:37: FutureWarning: Passing method to DatetimeIndex.get_loc is deprecated and will raise in a future version. Use index.get_indexer([item], method=...) instead.\n",
      "  i = [dat.index.get_loc(t, method=\"nearest\") for t in dtime]\n",
      "/home/jmcle/anaconda3/lib/python3.9/site-packages/geomagindices/base.py:37: FutureWarning: Passing method to DatetimeIndex.get_loc is deprecated and will raise in a future version. Use index.get_indexer([item], method=...) instead.\n",
      "  i = [dat.index.get_loc(t, method=\"nearest\") for t in dtime]\n"
     ]
    },
    {
     "name": "stdout",
     "output_type": "stream",
     "text": [
      "Slice: 301. Convergence reached. Iterations: 365. reduced chi2: 1.8\n"
     ]
    },
    {
     "name": "stderr",
     "output_type": "stream",
     "text": [
      "/home/jmcle/anaconda3/lib/python3.9/site-packages/geomagindices/base.py:37: FutureWarning: Passing method to DatetimeIndex.get_loc is deprecated and will raise in a future version. Use index.get_indexer([item], method=...) instead.\n",
      "  i = [dat.index.get_loc(t, method=\"nearest\") for t in dtime]\n",
      "/home/jmcle/anaconda3/lib/python3.9/site-packages/geomagindices/base.py:37: FutureWarning: Passing method to DatetimeIndex.get_loc is deprecated and will raise in a future version. Use index.get_indexer([item], method=...) instead.\n",
      "  i = [dat.index.get_loc(t, method=\"nearest\") for t in dtime]\n"
     ]
    },
    {
     "name": "stdout",
     "output_type": "stream",
     "text": [
      "Slice: 302. Convergence reached. Iterations: 303. reduced chi2: 1.55\n"
     ]
    },
    {
     "name": "stderr",
     "output_type": "stream",
     "text": [
      "/home/jmcle/anaconda3/lib/python3.9/site-packages/geomagindices/base.py:37: FutureWarning: Passing method to DatetimeIndex.get_loc is deprecated and will raise in a future version. Use index.get_indexer([item], method=...) instead.\n",
      "  i = [dat.index.get_loc(t, method=\"nearest\") for t in dtime]\n",
      "/home/jmcle/anaconda3/lib/python3.9/site-packages/geomagindices/base.py:37: FutureWarning: Passing method to DatetimeIndex.get_loc is deprecated and will raise in a future version. Use index.get_indexer([item], method=...) instead.\n",
      "  i = [dat.index.get_loc(t, method=\"nearest\") for t in dtime]\n"
     ]
    },
    {
     "name": "stdout",
     "output_type": "stream",
     "text": [
      "Slice: 303. Convergence reached. Iterations: 34. reduced chi2: 1.84\n"
     ]
    },
    {
     "name": "stderr",
     "output_type": "stream",
     "text": [
      "/home/jmcle/anaconda3/lib/python3.9/site-packages/geomagindices/base.py:37: FutureWarning: Passing method to DatetimeIndex.get_loc is deprecated and will raise in a future version. Use index.get_indexer([item], method=...) instead.\n",
      "  i = [dat.index.get_loc(t, method=\"nearest\") for t in dtime]\n",
      "/home/jmcle/anaconda3/lib/python3.9/site-packages/geomagindices/base.py:37: FutureWarning: Passing method to DatetimeIndex.get_loc is deprecated and will raise in a future version. Use index.get_indexer([item], method=...) instead.\n",
      "  i = [dat.index.get_loc(t, method=\"nearest\") for t in dtime]\n"
     ]
    },
    {
     "name": "stdout",
     "output_type": "stream",
     "text": [
      "Slice: 304. Convergence reached. Iterations: 32. reduced chi2: 1.93\n"
     ]
    },
    {
     "name": "stderr",
     "output_type": "stream",
     "text": [
      "/home/jmcle/anaconda3/lib/python3.9/site-packages/geomagindices/base.py:37: FutureWarning: Passing method to DatetimeIndex.get_loc is deprecated and will raise in a future version. Use index.get_indexer([item], method=...) instead.\n",
      "  i = [dat.index.get_loc(t, method=\"nearest\") for t in dtime]\n",
      "/home/jmcle/anaconda3/lib/python3.9/site-packages/geomagindices/base.py:37: FutureWarning: Passing method to DatetimeIndex.get_loc is deprecated and will raise in a future version. Use index.get_indexer([item], method=...) instead.\n",
      "  i = [dat.index.get_loc(t, method=\"nearest\") for t in dtime]\n"
     ]
    },
    {
     "name": "stdout",
     "output_type": "stream",
     "text": [
      "Slice: 305. Convergence reached. Iterations: 27. reduced chi2: 3.8\n"
     ]
    },
    {
     "name": "stderr",
     "output_type": "stream",
     "text": [
      "/home/jmcle/anaconda3/lib/python3.9/site-packages/geomagindices/base.py:37: FutureWarning: Passing method to DatetimeIndex.get_loc is deprecated and will raise in a future version. Use index.get_indexer([item], method=...) instead.\n",
      "  i = [dat.index.get_loc(t, method=\"nearest\") for t in dtime]\n",
      "/home/jmcle/anaconda3/lib/python3.9/site-packages/geomagindices/base.py:37: FutureWarning: Passing method to DatetimeIndex.get_loc is deprecated and will raise in a future version. Use index.get_indexer([item], method=...) instead.\n",
      "  i = [dat.index.get_loc(t, method=\"nearest\") for t in dtime]\n"
     ]
    },
    {
     "name": "stdout",
     "output_type": "stream",
     "text": [
      "Slice: 306. Convergence reached. Iterations: 207. reduced chi2: 3.21\n"
     ]
    },
    {
     "name": "stderr",
     "output_type": "stream",
     "text": [
      "/home/jmcle/anaconda3/lib/python3.9/site-packages/geomagindices/base.py:37: FutureWarning: Passing method to DatetimeIndex.get_loc is deprecated and will raise in a future version. Use index.get_indexer([item], method=...) instead.\n",
      "  i = [dat.index.get_loc(t, method=\"nearest\") for t in dtime]\n",
      "/home/jmcle/anaconda3/lib/python3.9/site-packages/geomagindices/base.py:37: FutureWarning: Passing method to DatetimeIndex.get_loc is deprecated and will raise in a future version. Use index.get_indexer([item], method=...) instead.\n",
      "  i = [dat.index.get_loc(t, method=\"nearest\") for t in dtime]\n"
     ]
    },
    {
     "name": "stdout",
     "output_type": "stream",
     "text": [
      "Slice: 307. Convergence reached. Iterations: 623. reduced chi2: 1.6\n"
     ]
    },
    {
     "name": "stderr",
     "output_type": "stream",
     "text": [
      "/home/jmcle/anaconda3/lib/python3.9/site-packages/geomagindices/base.py:37: FutureWarning: Passing method to DatetimeIndex.get_loc is deprecated and will raise in a future version. Use index.get_indexer([item], method=...) instead.\n",
      "  i = [dat.index.get_loc(t, method=\"nearest\") for t in dtime]\n",
      "/home/jmcle/anaconda3/lib/python3.9/site-packages/geomagindices/base.py:37: FutureWarning: Passing method to DatetimeIndex.get_loc is deprecated and will raise in a future version. Use index.get_indexer([item], method=...) instead.\n",
      "  i = [dat.index.get_loc(t, method=\"nearest\") for t in dtime]\n"
     ]
    },
    {
     "name": "stdout",
     "output_type": "stream",
     "text": [
      "Slice: 308. Convergence reached. Iterations: 677. reduced chi2: 3.22\n"
     ]
    },
    {
     "name": "stderr",
     "output_type": "stream",
     "text": [
      "/home/jmcle/anaconda3/lib/python3.9/site-packages/geomagindices/base.py:37: FutureWarning: Passing method to DatetimeIndex.get_loc is deprecated and will raise in a future version. Use index.get_indexer([item], method=...) instead.\n",
      "  i = [dat.index.get_loc(t, method=\"nearest\") for t in dtime]\n",
      "/home/jmcle/anaconda3/lib/python3.9/site-packages/geomagindices/base.py:37: FutureWarning: Passing method to DatetimeIndex.get_loc is deprecated and will raise in a future version. Use index.get_indexer([item], method=...) instead.\n",
      "  i = [dat.index.get_loc(t, method=\"nearest\") for t in dtime]\n"
     ]
    },
    {
     "name": "stdout",
     "output_type": "stream",
     "text": [
      "Slice: 309. Convergence reached. Iterations: 296. reduced chi2: 6.85\n"
     ]
    },
    {
     "name": "stderr",
     "output_type": "stream",
     "text": [
      "/home/jmcle/anaconda3/lib/python3.9/site-packages/geomagindices/base.py:37: FutureWarning: Passing method to DatetimeIndex.get_loc is deprecated and will raise in a future version. Use index.get_indexer([item], method=...) instead.\n",
      "  i = [dat.index.get_loc(t, method=\"nearest\") for t in dtime]\n",
      "/home/jmcle/anaconda3/lib/python3.9/site-packages/geomagindices/base.py:37: FutureWarning: Passing method to DatetimeIndex.get_loc is deprecated and will raise in a future version. Use index.get_indexer([item], method=...) instead.\n",
      "  i = [dat.index.get_loc(t, method=\"nearest\") for t in dtime]\n"
     ]
    },
    {
     "name": "stdout",
     "output_type": "stream",
     "text": [
      "Slice: 310. Convergence reached. Iterations: 203. reduced chi2: 1.89\n"
     ]
    },
    {
     "name": "stderr",
     "output_type": "stream",
     "text": [
      "/home/jmcle/anaconda3/lib/python3.9/site-packages/geomagindices/base.py:37: FutureWarning: Passing method to DatetimeIndex.get_loc is deprecated and will raise in a future version. Use index.get_indexer([item], method=...) instead.\n",
      "  i = [dat.index.get_loc(t, method=\"nearest\") for t in dtime]\n",
      "/home/jmcle/anaconda3/lib/python3.9/site-packages/geomagindices/base.py:37: FutureWarning: Passing method to DatetimeIndex.get_loc is deprecated and will raise in a future version. Use index.get_indexer([item], method=...) instead.\n",
      "  i = [dat.index.get_loc(t, method=\"nearest\") for t in dtime]\n"
     ]
    },
    {
     "name": "stdout",
     "output_type": "stream",
     "text": [
      "Slice: 311. Convergence reached. Iterations: 535. reduced chi2: 1.74\n"
     ]
    },
    {
     "name": "stderr",
     "output_type": "stream",
     "text": [
      "/home/jmcle/anaconda3/lib/python3.9/site-packages/geomagindices/base.py:37: FutureWarning: Passing method to DatetimeIndex.get_loc is deprecated and will raise in a future version. Use index.get_indexer([item], method=...) instead.\n",
      "  i = [dat.index.get_loc(t, method=\"nearest\") for t in dtime]\n",
      "/home/jmcle/anaconda3/lib/python3.9/site-packages/geomagindices/base.py:37: FutureWarning: Passing method to DatetimeIndex.get_loc is deprecated and will raise in a future version. Use index.get_indexer([item], method=...) instead.\n",
      "  i = [dat.index.get_loc(t, method=\"nearest\") for t in dtime]\n"
     ]
    },
    {
     "name": "stdout",
     "output_type": "stream",
     "text": [
      "Slice: 312. Convergence reached. Iterations: 1036. reduced chi2: 3.36\n"
     ]
    },
    {
     "name": "stderr",
     "output_type": "stream",
     "text": [
      "/home/jmcle/anaconda3/lib/python3.9/site-packages/geomagindices/base.py:37: FutureWarning: Passing method to DatetimeIndex.get_loc is deprecated and will raise in a future version. Use index.get_indexer([item], method=...) instead.\n",
      "  i = [dat.index.get_loc(t, method=\"nearest\") for t in dtime]\n",
      "/home/jmcle/anaconda3/lib/python3.9/site-packages/geomagindices/base.py:37: FutureWarning: Passing method to DatetimeIndex.get_loc is deprecated and will raise in a future version. Use index.get_indexer([item], method=...) instead.\n",
      "  i = [dat.index.get_loc(t, method=\"nearest\") for t in dtime]\n"
     ]
    },
    {
     "name": "stdout",
     "output_type": "stream",
     "text": [
      "Slice: 313. Convergence reached. Iterations: 1452. reduced chi2: 1.77\n"
     ]
    },
    {
     "name": "stderr",
     "output_type": "stream",
     "text": [
      "/home/jmcle/anaconda3/lib/python3.9/site-packages/geomagindices/base.py:37: FutureWarning: Passing method to DatetimeIndex.get_loc is deprecated and will raise in a future version. Use index.get_indexer([item], method=...) instead.\n",
      "  i = [dat.index.get_loc(t, method=\"nearest\") for t in dtime]\n",
      "/home/jmcle/anaconda3/lib/python3.9/site-packages/geomagindices/base.py:37: FutureWarning: Passing method to DatetimeIndex.get_loc is deprecated and will raise in a future version. Use index.get_indexer([item], method=...) instead.\n",
      "  i = [dat.index.get_loc(t, method=\"nearest\") for t in dtime]\n"
     ]
    },
    {
     "name": "stdout",
     "output_type": "stream",
     "text": [
      "Slice: 314. Convergence reached. Iterations: 992. reduced chi2: 1.57\n"
     ]
    },
    {
     "name": "stderr",
     "output_type": "stream",
     "text": [
      "/home/jmcle/anaconda3/lib/python3.9/site-packages/geomagindices/base.py:37: FutureWarning: Passing method to DatetimeIndex.get_loc is deprecated and will raise in a future version. Use index.get_indexer([item], method=...) instead.\n",
      "  i = [dat.index.get_loc(t, method=\"nearest\") for t in dtime]\n",
      "/home/jmcle/anaconda3/lib/python3.9/site-packages/geomagindices/base.py:37: FutureWarning: Passing method to DatetimeIndex.get_loc is deprecated and will raise in a future version. Use index.get_indexer([item], method=...) instead.\n",
      "  i = [dat.index.get_loc(t, method=\"nearest\") for t in dtime]\n"
     ]
    },
    {
     "name": "stdout",
     "output_type": "stream",
     "text": [
      "Slice: 315. Convergence reached. Iterations: 1682. reduced chi2: 2.96\n"
     ]
    },
    {
     "name": "stderr",
     "output_type": "stream",
     "text": [
      "/home/jmcle/anaconda3/lib/python3.9/site-packages/geomagindices/base.py:37: FutureWarning: Passing method to DatetimeIndex.get_loc is deprecated and will raise in a future version. Use index.get_indexer([item], method=...) instead.\n",
      "  i = [dat.index.get_loc(t, method=\"nearest\") for t in dtime]\n",
      "/home/jmcle/anaconda3/lib/python3.9/site-packages/geomagindices/base.py:37: FutureWarning: Passing method to DatetimeIndex.get_loc is deprecated and will raise in a future version. Use index.get_indexer([item], method=...) instead.\n",
      "  i = [dat.index.get_loc(t, method=\"nearest\") for t in dtime]\n"
     ]
    },
    {
     "name": "stdout",
     "output_type": "stream",
     "text": [
      "Slice: 316. Convergence reached. Iterations: 1242. reduced chi2: 2.42\n"
     ]
    },
    {
     "name": "stderr",
     "output_type": "stream",
     "text": [
      "/home/jmcle/anaconda3/lib/python3.9/site-packages/geomagindices/base.py:37: FutureWarning: Passing method to DatetimeIndex.get_loc is deprecated and will raise in a future version. Use index.get_indexer([item], method=...) instead.\n",
      "  i = [dat.index.get_loc(t, method=\"nearest\") for t in dtime]\n",
      "/home/jmcle/anaconda3/lib/python3.9/site-packages/geomagindices/base.py:37: FutureWarning: Passing method to DatetimeIndex.get_loc is deprecated and will raise in a future version. Use index.get_indexer([item], method=...) instead.\n",
      "  i = [dat.index.get_loc(t, method=\"nearest\") for t in dtime]\n"
     ]
    },
    {
     "name": "stdout",
     "output_type": "stream",
     "text": [
      "Slice: 317. Convergence reached. Iterations: 775. reduced chi2: 2.13\n"
     ]
    },
    {
     "name": "stderr",
     "output_type": "stream",
     "text": [
      "/home/jmcle/anaconda3/lib/python3.9/site-packages/geomagindices/base.py:37: FutureWarning: Passing method to DatetimeIndex.get_loc is deprecated and will raise in a future version. Use index.get_indexer([item], method=...) instead.\n",
      "  i = [dat.index.get_loc(t, method=\"nearest\") for t in dtime]\n",
      "/home/jmcle/anaconda3/lib/python3.9/site-packages/geomagindices/base.py:37: FutureWarning: Passing method to DatetimeIndex.get_loc is deprecated and will raise in a future version. Use index.get_indexer([item], method=...) instead.\n",
      "  i = [dat.index.get_loc(t, method=\"nearest\") for t in dtime]\n"
     ]
    },
    {
     "name": "stdout",
     "output_type": "stream",
     "text": [
      "Slice: 318. Convergence reached. Iterations: 1209. reduced chi2: 2.56\n"
     ]
    },
    {
     "name": "stderr",
     "output_type": "stream",
     "text": [
      "/home/jmcle/anaconda3/lib/python3.9/site-packages/geomagindices/base.py:37: FutureWarning: Passing method to DatetimeIndex.get_loc is deprecated and will raise in a future version. Use index.get_indexer([item], method=...) instead.\n",
      "  i = [dat.index.get_loc(t, method=\"nearest\") for t in dtime]\n",
      "/home/jmcle/anaconda3/lib/python3.9/site-packages/geomagindices/base.py:37: FutureWarning: Passing method to DatetimeIndex.get_loc is deprecated and will raise in a future version. Use index.get_indexer([item], method=...) instead.\n",
      "  i = [dat.index.get_loc(t, method=\"nearest\") for t in dtime]\n"
     ]
    },
    {
     "name": "stdout",
     "output_type": "stream",
     "text": [
      "Slice: 319. Convergence reached. Iterations: 1112. reduced chi2: 2.38\n"
     ]
    },
    {
     "name": "stderr",
     "output_type": "stream",
     "text": [
      "/home/jmcle/anaconda3/lib/python3.9/site-packages/geomagindices/base.py:37: FutureWarning: Passing method to DatetimeIndex.get_loc is deprecated and will raise in a future version. Use index.get_indexer([item], method=...) instead.\n",
      "  i = [dat.index.get_loc(t, method=\"nearest\") for t in dtime]\n",
      "/home/jmcle/anaconda3/lib/python3.9/site-packages/geomagindices/base.py:37: FutureWarning: Passing method to DatetimeIndex.get_loc is deprecated and will raise in a future version. Use index.get_indexer([item], method=...) instead.\n",
      "  i = [dat.index.get_loc(t, method=\"nearest\") for t in dtime]\n"
     ]
    },
    {
     "name": "stdout",
     "output_type": "stream",
     "text": [
      "Slice: 320. Convergence reached. Iterations: 1385. reduced chi2: 2.15\n"
     ]
    },
    {
     "name": "stderr",
     "output_type": "stream",
     "text": [
      "/home/jmcle/anaconda3/lib/python3.9/site-packages/geomagindices/base.py:37: FutureWarning: Passing method to DatetimeIndex.get_loc is deprecated and will raise in a future version. Use index.get_indexer([item], method=...) instead.\n",
      "  i = [dat.index.get_loc(t, method=\"nearest\") for t in dtime]\n",
      "/home/jmcle/anaconda3/lib/python3.9/site-packages/geomagindices/base.py:37: FutureWarning: Passing method to DatetimeIndex.get_loc is deprecated and will raise in a future version. Use index.get_indexer([item], method=...) instead.\n",
      "  i = [dat.index.get_loc(t, method=\"nearest\") for t in dtime]\n"
     ]
    },
    {
     "name": "stdout",
     "output_type": "stream",
     "text": [
      "Slice: 321. Convergence reached. Iterations: 947. reduced chi2: 1.47\n"
     ]
    },
    {
     "name": "stderr",
     "output_type": "stream",
     "text": [
      "/home/jmcle/anaconda3/lib/python3.9/site-packages/geomagindices/base.py:37: FutureWarning: Passing method to DatetimeIndex.get_loc is deprecated and will raise in a future version. Use index.get_indexer([item], method=...) instead.\n",
      "  i = [dat.index.get_loc(t, method=\"nearest\") for t in dtime]\n",
      "/home/jmcle/anaconda3/lib/python3.9/site-packages/geomagindices/base.py:37: FutureWarning: Passing method to DatetimeIndex.get_loc is deprecated and will raise in a future version. Use index.get_indexer([item], method=...) instead.\n",
      "  i = [dat.index.get_loc(t, method=\"nearest\") for t in dtime]\n"
     ]
    },
    {
     "name": "stdout",
     "output_type": "stream",
     "text": [
      "Slice: 322. Convergence reached. Iterations: 1698. reduced chi2: 3.06\n"
     ]
    },
    {
     "name": "stderr",
     "output_type": "stream",
     "text": [
      "/home/jmcle/anaconda3/lib/python3.9/site-packages/geomagindices/base.py:37: FutureWarning: Passing method to DatetimeIndex.get_loc is deprecated and will raise in a future version. Use index.get_indexer([item], method=...) instead.\n",
      "  i = [dat.index.get_loc(t, method=\"nearest\") for t in dtime]\n",
      "/home/jmcle/anaconda3/lib/python3.9/site-packages/geomagindices/base.py:37: FutureWarning: Passing method to DatetimeIndex.get_loc is deprecated and will raise in a future version. Use index.get_indexer([item], method=...) instead.\n",
      "  i = [dat.index.get_loc(t, method=\"nearest\") for t in dtime]\n"
     ]
    },
    {
     "name": "stdout",
     "output_type": "stream",
     "text": [
      "Slice: 323. Convergence reached. Iterations: 1004. reduced chi2: 2.07\n"
     ]
    },
    {
     "name": "stderr",
     "output_type": "stream",
     "text": [
      "/home/jmcle/anaconda3/lib/python3.9/site-packages/geomagindices/base.py:37: FutureWarning: Passing method to DatetimeIndex.get_loc is deprecated and will raise in a future version. Use index.get_indexer([item], method=...) instead.\n",
      "  i = [dat.index.get_loc(t, method=\"nearest\") for t in dtime]\n",
      "/home/jmcle/anaconda3/lib/python3.9/site-packages/geomagindices/base.py:37: FutureWarning: Passing method to DatetimeIndex.get_loc is deprecated and will raise in a future version. Use index.get_indexer([item], method=...) instead.\n",
      "  i = [dat.index.get_loc(t, method=\"nearest\") for t in dtime]\n"
     ]
    },
    {
     "name": "stdout",
     "output_type": "stream",
     "text": [
      "Slice: 324. Convergence reached. Iterations: 1306. reduced chi2: 2.22\n"
     ]
    },
    {
     "name": "stderr",
     "output_type": "stream",
     "text": [
      "/home/jmcle/anaconda3/lib/python3.9/site-packages/geomagindices/base.py:37: FutureWarning: Passing method to DatetimeIndex.get_loc is deprecated and will raise in a future version. Use index.get_indexer([item], method=...) instead.\n",
      "  i = [dat.index.get_loc(t, method=\"nearest\") for t in dtime]\n",
      "/home/jmcle/anaconda3/lib/python3.9/site-packages/geomagindices/base.py:37: FutureWarning: Passing method to DatetimeIndex.get_loc is deprecated and will raise in a future version. Use index.get_indexer([item], method=...) instead.\n",
      "  i = [dat.index.get_loc(t, method=\"nearest\") for t in dtime]\n"
     ]
    },
    {
     "name": "stdout",
     "output_type": "stream",
     "text": [
      "Slice: 325. Convergence reached. Iterations: 807. reduced chi2: 2.84\n"
     ]
    },
    {
     "name": "stderr",
     "output_type": "stream",
     "text": [
      "/home/jmcle/anaconda3/lib/python3.9/site-packages/geomagindices/base.py:37: FutureWarning: Passing method to DatetimeIndex.get_loc is deprecated and will raise in a future version. Use index.get_indexer([item], method=...) instead.\n",
      "  i = [dat.index.get_loc(t, method=\"nearest\") for t in dtime]\n",
      "/home/jmcle/anaconda3/lib/python3.9/site-packages/geomagindices/base.py:37: FutureWarning: Passing method to DatetimeIndex.get_loc is deprecated and will raise in a future version. Use index.get_indexer([item], method=...) instead.\n",
      "  i = [dat.index.get_loc(t, method=\"nearest\") for t in dtime]\n"
     ]
    },
    {
     "name": "stdout",
     "output_type": "stream",
     "text": [
      "Slice: 326. Convergence reached. Iterations: 1084. reduced chi2: 2.28\n"
     ]
    },
    {
     "name": "stderr",
     "output_type": "stream",
     "text": [
      "/home/jmcle/anaconda3/lib/python3.9/site-packages/geomagindices/base.py:37: FutureWarning: Passing method to DatetimeIndex.get_loc is deprecated and will raise in a future version. Use index.get_indexer([item], method=...) instead.\n",
      "  i = [dat.index.get_loc(t, method=\"nearest\") for t in dtime]\n",
      "/home/jmcle/anaconda3/lib/python3.9/site-packages/geomagindices/base.py:37: FutureWarning: Passing method to DatetimeIndex.get_loc is deprecated and will raise in a future version. Use index.get_indexer([item], method=...) instead.\n",
      "  i = [dat.index.get_loc(t, method=\"nearest\") for t in dtime]\n"
     ]
    },
    {
     "name": "stdout",
     "output_type": "stream",
     "text": [
      "Slice: 327. Convergence reached. Iterations: 1184. reduced chi2: 1.7\n"
     ]
    },
    {
     "name": "stderr",
     "output_type": "stream",
     "text": [
      "/home/jmcle/anaconda3/lib/python3.9/site-packages/geomagindices/base.py:37: FutureWarning: Passing method to DatetimeIndex.get_loc is deprecated and will raise in a future version. Use index.get_indexer([item], method=...) instead.\n",
      "  i = [dat.index.get_loc(t, method=\"nearest\") for t in dtime]\n",
      "/home/jmcle/anaconda3/lib/python3.9/site-packages/geomagindices/base.py:37: FutureWarning: Passing method to DatetimeIndex.get_loc is deprecated and will raise in a future version. Use index.get_indexer([item], method=...) instead.\n",
      "  i = [dat.index.get_loc(t, method=\"nearest\") for t in dtime]\n"
     ]
    },
    {
     "name": "stdout",
     "output_type": "stream",
     "text": [
      "Slice: 328. Convergence reached. Iterations: 1031. reduced chi2: 1.83\n"
     ]
    },
    {
     "name": "stderr",
     "output_type": "stream",
     "text": [
      "/home/jmcle/anaconda3/lib/python3.9/site-packages/geomagindices/base.py:37: FutureWarning: Passing method to DatetimeIndex.get_loc is deprecated and will raise in a future version. Use index.get_indexer([item], method=...) instead.\n",
      "  i = [dat.index.get_loc(t, method=\"nearest\") for t in dtime]\n",
      "/home/jmcle/anaconda3/lib/python3.9/site-packages/geomagindices/base.py:37: FutureWarning: Passing method to DatetimeIndex.get_loc is deprecated and will raise in a future version. Use index.get_indexer([item], method=...) instead.\n",
      "  i = [dat.index.get_loc(t, method=\"nearest\") for t in dtime]\n"
     ]
    },
    {
     "name": "stdout",
     "output_type": "stream",
     "text": [
      "Slice: 329. Convergence reached. Iterations: 1291. reduced chi2: 2.3\n"
     ]
    },
    {
     "name": "stderr",
     "output_type": "stream",
     "text": [
      "/home/jmcle/anaconda3/lib/python3.9/site-packages/geomagindices/base.py:37: FutureWarning: Passing method to DatetimeIndex.get_loc is deprecated and will raise in a future version. Use index.get_indexer([item], method=...) instead.\n",
      "  i = [dat.index.get_loc(t, method=\"nearest\") for t in dtime]\n",
      "/home/jmcle/anaconda3/lib/python3.9/site-packages/geomagindices/base.py:37: FutureWarning: Passing method to DatetimeIndex.get_loc is deprecated and will raise in a future version. Use index.get_indexer([item], method=...) instead.\n",
      "  i = [dat.index.get_loc(t, method=\"nearest\") for t in dtime]\n"
     ]
    },
    {
     "name": "stdout",
     "output_type": "stream",
     "text": [
      "Slice: 330. Convergence reached. Iterations: 1137. reduced chi2: 1.99\n"
     ]
    },
    {
     "name": "stderr",
     "output_type": "stream",
     "text": [
      "/home/jmcle/anaconda3/lib/python3.9/site-packages/geomagindices/base.py:37: FutureWarning: Passing method to DatetimeIndex.get_loc is deprecated and will raise in a future version. Use index.get_indexer([item], method=...) instead.\n",
      "  i = [dat.index.get_loc(t, method=\"nearest\") for t in dtime]\n",
      "/home/jmcle/anaconda3/lib/python3.9/site-packages/geomagindices/base.py:37: FutureWarning: Passing method to DatetimeIndex.get_loc is deprecated and will raise in a future version. Use index.get_indexer([item], method=...) instead.\n",
      "  i = [dat.index.get_loc(t, method=\"nearest\") for t in dtime]\n"
     ]
    },
    {
     "name": "stdout",
     "output_type": "stream",
     "text": [
      "Slice: 331. Convergence reached. Iterations: 584. reduced chi2: 2.3\n"
     ]
    },
    {
     "name": "stderr",
     "output_type": "stream",
     "text": [
      "/home/jmcle/anaconda3/lib/python3.9/site-packages/geomagindices/base.py:37: FutureWarning: Passing method to DatetimeIndex.get_loc is deprecated and will raise in a future version. Use index.get_indexer([item], method=...) instead.\n",
      "  i = [dat.index.get_loc(t, method=\"nearest\") for t in dtime]\n",
      "/home/jmcle/anaconda3/lib/python3.9/site-packages/geomagindices/base.py:37: FutureWarning: Passing method to DatetimeIndex.get_loc is deprecated and will raise in a future version. Use index.get_indexer([item], method=...) instead.\n",
      "  i = [dat.index.get_loc(t, method=\"nearest\") for t in dtime]\n"
     ]
    },
    {
     "name": "stdout",
     "output_type": "stream",
     "text": [
      "Slice: 332. Convergence reached. Iterations: 1293. reduced chi2: 2.29\n"
     ]
    },
    {
     "name": "stderr",
     "output_type": "stream",
     "text": [
      "/home/jmcle/anaconda3/lib/python3.9/site-packages/geomagindices/base.py:37: FutureWarning: Passing method to DatetimeIndex.get_loc is deprecated and will raise in a future version. Use index.get_indexer([item], method=...) instead.\n",
      "  i = [dat.index.get_loc(t, method=\"nearest\") for t in dtime]\n",
      "/home/jmcle/anaconda3/lib/python3.9/site-packages/geomagindices/base.py:37: FutureWarning: Passing method to DatetimeIndex.get_loc is deprecated and will raise in a future version. Use index.get_indexer([item], method=...) instead.\n",
      "  i = [dat.index.get_loc(t, method=\"nearest\") for t in dtime]\n"
     ]
    },
    {
     "name": "stdout",
     "output_type": "stream",
     "text": [
      "Slice: 333. Convergence reached. Iterations: 985. reduced chi2: 1.75\n"
     ]
    },
    {
     "name": "stderr",
     "output_type": "stream",
     "text": [
      "/home/jmcle/anaconda3/lib/python3.9/site-packages/geomagindices/base.py:37: FutureWarning: Passing method to DatetimeIndex.get_loc is deprecated and will raise in a future version. Use index.get_indexer([item], method=...) instead.\n",
      "  i = [dat.index.get_loc(t, method=\"nearest\") for t in dtime]\n",
      "/home/jmcle/anaconda3/lib/python3.9/site-packages/geomagindices/base.py:37: FutureWarning: Passing method to DatetimeIndex.get_loc is deprecated and will raise in a future version. Use index.get_indexer([item], method=...) instead.\n",
      "  i = [dat.index.get_loc(t, method=\"nearest\") for t in dtime]\n"
     ]
    },
    {
     "name": "stdout",
     "output_type": "stream",
     "text": [
      "Slice: 334. Convergence reached. Iterations: 1395. reduced chi2: 2.24\n"
     ]
    },
    {
     "name": "stderr",
     "output_type": "stream",
     "text": [
      "/home/jmcle/anaconda3/lib/python3.9/site-packages/geomagindices/base.py:37: FutureWarning: Passing method to DatetimeIndex.get_loc is deprecated and will raise in a future version. Use index.get_indexer([item], method=...) instead.\n",
      "  i = [dat.index.get_loc(t, method=\"nearest\") for t in dtime]\n",
      "/home/jmcle/anaconda3/lib/python3.9/site-packages/geomagindices/base.py:37: FutureWarning: Passing method to DatetimeIndex.get_loc is deprecated and will raise in a future version. Use index.get_indexer([item], method=...) instead.\n",
      "  i = [dat.index.get_loc(t, method=\"nearest\") for t in dtime]\n"
     ]
    },
    {
     "name": "stdout",
     "output_type": "stream",
     "text": [
      "Slice: 335. Convergence reached. Iterations: 661. reduced chi2: 1.07\n"
     ]
    },
    {
     "name": "stderr",
     "output_type": "stream",
     "text": [
      "/home/jmcle/anaconda3/lib/python3.9/site-packages/geomagindices/base.py:37: FutureWarning: Passing method to DatetimeIndex.get_loc is deprecated and will raise in a future version. Use index.get_indexer([item], method=...) instead.\n",
      "  i = [dat.index.get_loc(t, method=\"nearest\") for t in dtime]\n",
      "/home/jmcle/anaconda3/lib/python3.9/site-packages/geomagindices/base.py:37: FutureWarning: Passing method to DatetimeIndex.get_loc is deprecated and will raise in a future version. Use index.get_indexer([item], method=...) instead.\n",
      "  i = [dat.index.get_loc(t, method=\"nearest\") for t in dtime]\n"
     ]
    },
    {
     "name": "stdout",
     "output_type": "stream",
     "text": [
      "Slice: 336. Convergence reached. Iterations: 1127. reduced chi2: 1.61\n"
     ]
    },
    {
     "name": "stderr",
     "output_type": "stream",
     "text": [
      "/home/jmcle/anaconda3/lib/python3.9/site-packages/geomagindices/base.py:37: FutureWarning: Passing method to DatetimeIndex.get_loc is deprecated and will raise in a future version. Use index.get_indexer([item], method=...) instead.\n",
      "  i = [dat.index.get_loc(t, method=\"nearest\") for t in dtime]\n",
      "/home/jmcle/anaconda3/lib/python3.9/site-packages/geomagindices/base.py:37: FutureWarning: Passing method to DatetimeIndex.get_loc is deprecated and will raise in a future version. Use index.get_indexer([item], method=...) instead.\n",
      "  i = [dat.index.get_loc(t, method=\"nearest\") for t in dtime]\n"
     ]
    },
    {
     "name": "stdout",
     "output_type": "stream",
     "text": [
      "Slice: 337. Convergence reached. Iterations: 1689. reduced chi2: 2.28\n"
     ]
    },
    {
     "name": "stderr",
     "output_type": "stream",
     "text": [
      "/home/jmcle/anaconda3/lib/python3.9/site-packages/geomagindices/base.py:37: FutureWarning: Passing method to DatetimeIndex.get_loc is deprecated and will raise in a future version. Use index.get_indexer([item], method=...) instead.\n",
      "  i = [dat.index.get_loc(t, method=\"nearest\") for t in dtime]\n",
      "/home/jmcle/anaconda3/lib/python3.9/site-packages/geomagindices/base.py:37: FutureWarning: Passing method to DatetimeIndex.get_loc is deprecated and will raise in a future version. Use index.get_indexer([item], method=...) instead.\n",
      "  i = [dat.index.get_loc(t, method=\"nearest\") for t in dtime]\n"
     ]
    },
    {
     "name": "stdout",
     "output_type": "stream",
     "text": [
      "Slice: 338. Convergence reached. Iterations: 803. reduced chi2: 2.62\n"
     ]
    },
    {
     "name": "stderr",
     "output_type": "stream",
     "text": [
      "/home/jmcle/anaconda3/lib/python3.9/site-packages/geomagindices/base.py:37: FutureWarning: Passing method to DatetimeIndex.get_loc is deprecated and will raise in a future version. Use index.get_indexer([item], method=...) instead.\n",
      "  i = [dat.index.get_loc(t, method=\"nearest\") for t in dtime]\n",
      "/home/jmcle/anaconda3/lib/python3.9/site-packages/geomagindices/base.py:37: FutureWarning: Passing method to DatetimeIndex.get_loc is deprecated and will raise in a future version. Use index.get_indexer([item], method=...) instead.\n",
      "  i = [dat.index.get_loc(t, method=\"nearest\") for t in dtime]\n"
     ]
    },
    {
     "name": "stdout",
     "output_type": "stream",
     "text": [
      "Slice: 339. Convergence reached. Iterations: 792. reduced chi2: 1.87\n"
     ]
    },
    {
     "name": "stderr",
     "output_type": "stream",
     "text": [
      "/home/jmcle/anaconda3/lib/python3.9/site-packages/geomagindices/base.py:37: FutureWarning: Passing method to DatetimeIndex.get_loc is deprecated and will raise in a future version. Use index.get_indexer([item], method=...) instead.\n",
      "  i = [dat.index.get_loc(t, method=\"nearest\") for t in dtime]\n",
      "/home/jmcle/anaconda3/lib/python3.9/site-packages/geomagindices/base.py:37: FutureWarning: Passing method to DatetimeIndex.get_loc is deprecated and will raise in a future version. Use index.get_indexer([item], method=...) instead.\n",
      "  i = [dat.index.get_loc(t, method=\"nearest\") for t in dtime]\n"
     ]
    },
    {
     "name": "stdout",
     "output_type": "stream",
     "text": [
      "Slice: 340. Convergence reached. Iterations: 1281. reduced chi2: 4.0\n"
     ]
    },
    {
     "name": "stderr",
     "output_type": "stream",
     "text": [
      "/home/jmcle/anaconda3/lib/python3.9/site-packages/geomagindices/base.py:37: FutureWarning: Passing method to DatetimeIndex.get_loc is deprecated and will raise in a future version. Use index.get_indexer([item], method=...) instead.\n",
      "  i = [dat.index.get_loc(t, method=\"nearest\") for t in dtime]\n",
      "/home/jmcle/anaconda3/lib/python3.9/site-packages/geomagindices/base.py:37: FutureWarning: Passing method to DatetimeIndex.get_loc is deprecated and will raise in a future version. Use index.get_indexer([item], method=...) instead.\n",
      "  i = [dat.index.get_loc(t, method=\"nearest\") for t in dtime]\n"
     ]
    },
    {
     "name": "stdout",
     "output_type": "stream",
     "text": [
      "Slice: 341. Convergence reached. Iterations: 1093. reduced chi2: 2.54\n"
     ]
    },
    {
     "name": "stderr",
     "output_type": "stream",
     "text": [
      "/home/jmcle/anaconda3/lib/python3.9/site-packages/geomagindices/base.py:37: FutureWarning: Passing method to DatetimeIndex.get_loc is deprecated and will raise in a future version. Use index.get_indexer([item], method=...) instead.\n",
      "  i = [dat.index.get_loc(t, method=\"nearest\") for t in dtime]\n",
      "/home/jmcle/anaconda3/lib/python3.9/site-packages/geomagindices/base.py:37: FutureWarning: Passing method to DatetimeIndex.get_loc is deprecated and will raise in a future version. Use index.get_indexer([item], method=...) instead.\n",
      "  i = [dat.index.get_loc(t, method=\"nearest\") for t in dtime]\n"
     ]
    },
    {
     "name": "stdout",
     "output_type": "stream",
     "text": [
      "Slice: 342. Convergence reached. Iterations: 691. reduced chi2: 2.36\n"
     ]
    },
    {
     "name": "stderr",
     "output_type": "stream",
     "text": [
      "/home/jmcle/anaconda3/lib/python3.9/site-packages/geomagindices/base.py:37: FutureWarning: Passing method to DatetimeIndex.get_loc is deprecated and will raise in a future version. Use index.get_indexer([item], method=...) instead.\n",
      "  i = [dat.index.get_loc(t, method=\"nearest\") for t in dtime]\n",
      "/home/jmcle/anaconda3/lib/python3.9/site-packages/geomagindices/base.py:37: FutureWarning: Passing method to DatetimeIndex.get_loc is deprecated and will raise in a future version. Use index.get_indexer([item], method=...) instead.\n",
      "  i = [dat.index.get_loc(t, method=\"nearest\") for t in dtime]\n"
     ]
    },
    {
     "name": "stdout",
     "output_type": "stream",
     "text": [
      "Slice: 343. Convergence reached. Iterations: 1347. reduced chi2: 3.07\n"
     ]
    },
    {
     "name": "stderr",
     "output_type": "stream",
     "text": [
      "/home/jmcle/anaconda3/lib/python3.9/site-packages/geomagindices/base.py:37: FutureWarning: Passing method to DatetimeIndex.get_loc is deprecated and will raise in a future version. Use index.get_indexer([item], method=...) instead.\n",
      "  i = [dat.index.get_loc(t, method=\"nearest\") for t in dtime]\n",
      "/home/jmcle/anaconda3/lib/python3.9/site-packages/geomagindices/base.py:37: FutureWarning: Passing method to DatetimeIndex.get_loc is deprecated and will raise in a future version. Use index.get_indexer([item], method=...) instead.\n",
      "  i = [dat.index.get_loc(t, method=\"nearest\") for t in dtime]\n"
     ]
    },
    {
     "name": "stdout",
     "output_type": "stream",
     "text": [
      "Slice: 344. Convergence reached. Iterations: 1693. reduced chi2: 2.33\n"
     ]
    },
    {
     "name": "stderr",
     "output_type": "stream",
     "text": [
      "/home/jmcle/anaconda3/lib/python3.9/site-packages/geomagindices/base.py:37: FutureWarning: Passing method to DatetimeIndex.get_loc is deprecated and will raise in a future version. Use index.get_indexer([item], method=...) instead.\n",
      "  i = [dat.index.get_loc(t, method=\"nearest\") for t in dtime]\n",
      "/home/jmcle/anaconda3/lib/python3.9/site-packages/geomagindices/base.py:37: FutureWarning: Passing method to DatetimeIndex.get_loc is deprecated and will raise in a future version. Use index.get_indexer([item], method=...) instead.\n",
      "  i = [dat.index.get_loc(t, method=\"nearest\") for t in dtime]\n"
     ]
    },
    {
     "name": "stdout",
     "output_type": "stream",
     "text": [
      "Slice: 345. Convergence reached. Iterations: 1897. reduced chi2: 2.06\n"
     ]
    },
    {
     "name": "stderr",
     "output_type": "stream",
     "text": [
      "/home/jmcle/anaconda3/lib/python3.9/site-packages/geomagindices/base.py:37: FutureWarning: Passing method to DatetimeIndex.get_loc is deprecated and will raise in a future version. Use index.get_indexer([item], method=...) instead.\n",
      "  i = [dat.index.get_loc(t, method=\"nearest\") for t in dtime]\n",
      "/home/jmcle/anaconda3/lib/python3.9/site-packages/geomagindices/base.py:37: FutureWarning: Passing method to DatetimeIndex.get_loc is deprecated and will raise in a future version. Use index.get_indexer([item], method=...) instead.\n",
      "  i = [dat.index.get_loc(t, method=\"nearest\") for t in dtime]\n"
     ]
    },
    {
     "name": "stdout",
     "output_type": "stream",
     "text": [
      "Slice: 346. Convergence reached. Iterations: 2538. reduced chi2: 3.05\n"
     ]
    },
    {
     "name": "stderr",
     "output_type": "stream",
     "text": [
      "/home/jmcle/anaconda3/lib/python3.9/site-packages/geomagindices/base.py:37: FutureWarning: Passing method to DatetimeIndex.get_loc is deprecated and will raise in a future version. Use index.get_indexer([item], method=...) instead.\n",
      "  i = [dat.index.get_loc(t, method=\"nearest\") for t in dtime]\n",
      "/home/jmcle/anaconda3/lib/python3.9/site-packages/geomagindices/base.py:37: FutureWarning: Passing method to DatetimeIndex.get_loc is deprecated and will raise in a future version. Use index.get_indexer([item], method=...) instead.\n",
      "  i = [dat.index.get_loc(t, method=\"nearest\") for t in dtime]\n"
     ]
    },
    {
     "name": "stdout",
     "output_type": "stream",
     "text": [
      "Slice: 347. Convergence reached. Iterations: 1729. reduced chi2: 2.22\n"
     ]
    },
    {
     "name": "stderr",
     "output_type": "stream",
     "text": [
      "/home/jmcle/anaconda3/lib/python3.9/site-packages/geomagindices/base.py:37: FutureWarning: Passing method to DatetimeIndex.get_loc is deprecated and will raise in a future version. Use index.get_indexer([item], method=...) instead.\n",
      "  i = [dat.index.get_loc(t, method=\"nearest\") for t in dtime]\n",
      "/home/jmcle/anaconda3/lib/python3.9/site-packages/geomagindices/base.py:37: FutureWarning: Passing method to DatetimeIndex.get_loc is deprecated and will raise in a future version. Use index.get_indexer([item], method=...) instead.\n",
      "  i = [dat.index.get_loc(t, method=\"nearest\") for t in dtime]\n"
     ]
    },
    {
     "name": "stdout",
     "output_type": "stream",
     "text": [
      "Slice: 348. Convergence reached. Iterations: 1610. reduced chi2: 1.96\n"
     ]
    },
    {
     "name": "stderr",
     "output_type": "stream",
     "text": [
      "/home/jmcle/anaconda3/lib/python3.9/site-packages/geomagindices/base.py:37: FutureWarning: Passing method to DatetimeIndex.get_loc is deprecated and will raise in a future version. Use index.get_indexer([item], method=...) instead.\n",
      "  i = [dat.index.get_loc(t, method=\"nearest\") for t in dtime]\n",
      "/home/jmcle/anaconda3/lib/python3.9/site-packages/geomagindices/base.py:37: FutureWarning: Passing method to DatetimeIndex.get_loc is deprecated and will raise in a future version. Use index.get_indexer([item], method=...) instead.\n",
      "  i = [dat.index.get_loc(t, method=\"nearest\") for t in dtime]\n"
     ]
    },
    {
     "name": "stdout",
     "output_type": "stream",
     "text": [
      "Slice: 349. Convergence reached. Iterations: 2510. reduced chi2: 3.25\n"
     ]
    },
    {
     "name": "stderr",
     "output_type": "stream",
     "text": [
      "/home/jmcle/anaconda3/lib/python3.9/site-packages/geomagindices/base.py:37: FutureWarning: Passing method to DatetimeIndex.get_loc is deprecated and will raise in a future version. Use index.get_indexer([item], method=...) instead.\n",
      "  i = [dat.index.get_loc(t, method=\"nearest\") for t in dtime]\n",
      "/home/jmcle/anaconda3/lib/python3.9/site-packages/geomagindices/base.py:37: FutureWarning: Passing method to DatetimeIndex.get_loc is deprecated and will raise in a future version. Use index.get_indexer([item], method=...) instead.\n",
      "  i = [dat.index.get_loc(t, method=\"nearest\") for t in dtime]\n"
     ]
    },
    {
     "name": "stdout",
     "output_type": "stream",
     "text": [
      "Slice: 350. Convergence reached. Iterations: 2302. reduced chi2: 3.45\n"
     ]
    },
    {
     "name": "stderr",
     "output_type": "stream",
     "text": [
      "/home/jmcle/anaconda3/lib/python3.9/site-packages/geomagindices/base.py:37: FutureWarning: Passing method to DatetimeIndex.get_loc is deprecated and will raise in a future version. Use index.get_indexer([item], method=...) instead.\n",
      "  i = [dat.index.get_loc(t, method=\"nearest\") for t in dtime]\n",
      "/home/jmcle/anaconda3/lib/python3.9/site-packages/geomagindices/base.py:37: FutureWarning: Passing method to DatetimeIndex.get_loc is deprecated and will raise in a future version. Use index.get_indexer([item], method=...) instead.\n",
      "  i = [dat.index.get_loc(t, method=\"nearest\") for t in dtime]\n"
     ]
    },
    {
     "name": "stdout",
     "output_type": "stream",
     "text": [
      "Slice: 351. Convergence reached. Iterations: 727. reduced chi2: 2.03\n"
     ]
    },
    {
     "name": "stderr",
     "output_type": "stream",
     "text": [
      "/home/jmcle/anaconda3/lib/python3.9/site-packages/geomagindices/base.py:37: FutureWarning: Passing method to DatetimeIndex.get_loc is deprecated and will raise in a future version. Use index.get_indexer([item], method=...) instead.\n",
      "  i = [dat.index.get_loc(t, method=\"nearest\") for t in dtime]\n",
      "/home/jmcle/anaconda3/lib/python3.9/site-packages/geomagindices/base.py:37: FutureWarning: Passing method to DatetimeIndex.get_loc is deprecated and will raise in a future version. Use index.get_indexer([item], method=...) instead.\n",
      "  i = [dat.index.get_loc(t, method=\"nearest\") for t in dtime]\n"
     ]
    },
    {
     "name": "stdout",
     "output_type": "stream",
     "text": [
      "Slice: 352. Convergence reached. Iterations: 551. reduced chi2: 1.82\n"
     ]
    },
    {
     "name": "stderr",
     "output_type": "stream",
     "text": [
      "/home/jmcle/anaconda3/lib/python3.9/site-packages/geomagindices/base.py:37: FutureWarning: Passing method to DatetimeIndex.get_loc is deprecated and will raise in a future version. Use index.get_indexer([item], method=...) instead.\n",
      "  i = [dat.index.get_loc(t, method=\"nearest\") for t in dtime]\n",
      "/home/jmcle/anaconda3/lib/python3.9/site-packages/geomagindices/base.py:37: FutureWarning: Passing method to DatetimeIndex.get_loc is deprecated and will raise in a future version. Use index.get_indexer([item], method=...) instead.\n",
      "  i = [dat.index.get_loc(t, method=\"nearest\") for t in dtime]\n"
     ]
    },
    {
     "name": "stdout",
     "output_type": "stream",
     "text": [
      "Slice: 353. Convergence reached. Iterations: 430. reduced chi2: 2.25\n"
     ]
    },
    {
     "name": "stderr",
     "output_type": "stream",
     "text": [
      "/home/jmcle/anaconda3/lib/python3.9/site-packages/geomagindices/base.py:37: FutureWarning: Passing method to DatetimeIndex.get_loc is deprecated and will raise in a future version. Use index.get_indexer([item], method=...) instead.\n",
      "  i = [dat.index.get_loc(t, method=\"nearest\") for t in dtime]\n",
      "/home/jmcle/anaconda3/lib/python3.9/site-packages/geomagindices/base.py:37: FutureWarning: Passing method to DatetimeIndex.get_loc is deprecated and will raise in a future version. Use index.get_indexer([item], method=...) instead.\n",
      "  i = [dat.index.get_loc(t, method=\"nearest\") for t in dtime]\n"
     ]
    },
    {
     "name": "stdout",
     "output_type": "stream",
     "text": [
      "Slice: 354. Convergence reached. Iterations: 1441. reduced chi2: 2.08\n"
     ]
    },
    {
     "name": "stderr",
     "output_type": "stream",
     "text": [
      "/home/jmcle/anaconda3/lib/python3.9/site-packages/geomagindices/base.py:37: FutureWarning: Passing method to DatetimeIndex.get_loc is deprecated and will raise in a future version. Use index.get_indexer([item], method=...) instead.\n",
      "  i = [dat.index.get_loc(t, method=\"nearest\") for t in dtime]\n",
      "/home/jmcle/anaconda3/lib/python3.9/site-packages/geomagindices/base.py:37: FutureWarning: Passing method to DatetimeIndex.get_loc is deprecated and will raise in a future version. Use index.get_indexer([item], method=...) instead.\n",
      "  i = [dat.index.get_loc(t, method=\"nearest\") for t in dtime]\n"
     ]
    },
    {
     "name": "stdout",
     "output_type": "stream",
     "text": [
      "Slice: 355. Convergence reached. Iterations: 1326. reduced chi2: 4.31\n"
     ]
    },
    {
     "name": "stderr",
     "output_type": "stream",
     "text": [
      "/home/jmcle/anaconda3/lib/python3.9/site-packages/geomagindices/base.py:37: FutureWarning: Passing method to DatetimeIndex.get_loc is deprecated and will raise in a future version. Use index.get_indexer([item], method=...) instead.\n",
      "  i = [dat.index.get_loc(t, method=\"nearest\") for t in dtime]\n",
      "/home/jmcle/anaconda3/lib/python3.9/site-packages/geomagindices/base.py:37: FutureWarning: Passing method to DatetimeIndex.get_loc is deprecated and will raise in a future version. Use index.get_indexer([item], method=...) instead.\n",
      "  i = [dat.index.get_loc(t, method=\"nearest\") for t in dtime]\n"
     ]
    },
    {
     "name": "stdout",
     "output_type": "stream",
     "text": [
      "Slice: 356. Convergence reached. Iterations: 689. reduced chi2: 2.12\n"
     ]
    },
    {
     "name": "stderr",
     "output_type": "stream",
     "text": [
      "/home/jmcle/anaconda3/lib/python3.9/site-packages/geomagindices/base.py:37: FutureWarning: Passing method to DatetimeIndex.get_loc is deprecated and will raise in a future version. Use index.get_indexer([item], method=...) instead.\n",
      "  i = [dat.index.get_loc(t, method=\"nearest\") for t in dtime]\n",
      "/home/jmcle/anaconda3/lib/python3.9/site-packages/geomagindices/base.py:37: FutureWarning: Passing method to DatetimeIndex.get_loc is deprecated and will raise in a future version. Use index.get_indexer([item], method=...) instead.\n",
      "  i = [dat.index.get_loc(t, method=\"nearest\") for t in dtime]\n"
     ]
    },
    {
     "name": "stdout",
     "output_type": "stream",
     "text": [
      "Slice: 357. Convergence reached. Iterations: 752. reduced chi2: 1.19\n"
     ]
    },
    {
     "name": "stderr",
     "output_type": "stream",
     "text": [
      "/home/jmcle/anaconda3/lib/python3.9/site-packages/geomagindices/base.py:37: FutureWarning: Passing method to DatetimeIndex.get_loc is deprecated and will raise in a future version. Use index.get_indexer([item], method=...) instead.\n",
      "  i = [dat.index.get_loc(t, method=\"nearest\") for t in dtime]\n",
      "/home/jmcle/anaconda3/lib/python3.9/site-packages/geomagindices/base.py:37: FutureWarning: Passing method to DatetimeIndex.get_loc is deprecated and will raise in a future version. Use index.get_indexer([item], method=...) instead.\n",
      "  i = [dat.index.get_loc(t, method=\"nearest\") for t in dtime]\n"
     ]
    },
    {
     "name": "stdout",
     "output_type": "stream",
     "text": [
      "Slice: 358. Convergence reached. Iterations: 756. reduced chi2: 2.43\n"
     ]
    },
    {
     "name": "stderr",
     "output_type": "stream",
     "text": [
      "/home/jmcle/anaconda3/lib/python3.9/site-packages/geomagindices/base.py:37: FutureWarning: Passing method to DatetimeIndex.get_loc is deprecated and will raise in a future version. Use index.get_indexer([item], method=...) instead.\n",
      "  i = [dat.index.get_loc(t, method=\"nearest\") for t in dtime]\n",
      "/home/jmcle/anaconda3/lib/python3.9/site-packages/geomagindices/base.py:37: FutureWarning: Passing method to DatetimeIndex.get_loc is deprecated and will raise in a future version. Use index.get_indexer([item], method=...) instead.\n",
      "  i = [dat.index.get_loc(t, method=\"nearest\") for t in dtime]\n"
     ]
    },
    {
     "name": "stdout",
     "output_type": "stream",
     "text": [
      "Slice: 359. Convergence reached. Iterations: 683. reduced chi2: 2.13\n"
     ]
    },
    {
     "name": "stderr",
     "output_type": "stream",
     "text": [
      "/home/jmcle/anaconda3/lib/python3.9/site-packages/geomagindices/base.py:37: FutureWarning: Passing method to DatetimeIndex.get_loc is deprecated and will raise in a future version. Use index.get_indexer([item], method=...) instead.\n",
      "  i = [dat.index.get_loc(t, method=\"nearest\") for t in dtime]\n",
      "/home/jmcle/anaconda3/lib/python3.9/site-packages/geomagindices/base.py:37: FutureWarning: Passing method to DatetimeIndex.get_loc is deprecated and will raise in a future version. Use index.get_indexer([item], method=...) instead.\n",
      "  i = [dat.index.get_loc(t, method=\"nearest\") for t in dtime]\n"
     ]
    },
    {
     "name": "stdout",
     "output_type": "stream",
     "text": [
      "Slice: 360. Convergence reached. Iterations: 495. reduced chi2: 1.67\n"
     ]
    },
    {
     "name": "stderr",
     "output_type": "stream",
     "text": [
      "/home/jmcle/anaconda3/lib/python3.9/site-packages/geomagindices/base.py:37: FutureWarning: Passing method to DatetimeIndex.get_loc is deprecated and will raise in a future version. Use index.get_indexer([item], method=...) instead.\n",
      "  i = [dat.index.get_loc(t, method=\"nearest\") for t in dtime]\n",
      "/home/jmcle/anaconda3/lib/python3.9/site-packages/geomagindices/base.py:37: FutureWarning: Passing method to DatetimeIndex.get_loc is deprecated and will raise in a future version. Use index.get_indexer([item], method=...) instead.\n",
      "  i = [dat.index.get_loc(t, method=\"nearest\") for t in dtime]\n"
     ]
    },
    {
     "name": "stdout",
     "output_type": "stream",
     "text": [
      "Slice: 361. Convergence reached. Iterations: 665. reduced chi2: 1.94\n"
     ]
    },
    {
     "name": "stderr",
     "output_type": "stream",
     "text": [
      "/home/jmcle/anaconda3/lib/python3.9/site-packages/geomagindices/base.py:37: FutureWarning: Passing method to DatetimeIndex.get_loc is deprecated and will raise in a future version. Use index.get_indexer([item], method=...) instead.\n",
      "  i = [dat.index.get_loc(t, method=\"nearest\") for t in dtime]\n",
      "/home/jmcle/anaconda3/lib/python3.9/site-packages/geomagindices/base.py:37: FutureWarning: Passing method to DatetimeIndex.get_loc is deprecated and will raise in a future version. Use index.get_indexer([item], method=...) instead.\n",
      "  i = [dat.index.get_loc(t, method=\"nearest\") for t in dtime]\n"
     ]
    },
    {
     "name": "stdout",
     "output_type": "stream",
     "text": [
      "Slice: 362. Convergence reached. Iterations: 427. reduced chi2: 1.36\n"
     ]
    },
    {
     "name": "stderr",
     "output_type": "stream",
     "text": [
      "/home/jmcle/anaconda3/lib/python3.9/site-packages/geomagindices/base.py:37: FutureWarning: Passing method to DatetimeIndex.get_loc is deprecated and will raise in a future version. Use index.get_indexer([item], method=...) instead.\n",
      "  i = [dat.index.get_loc(t, method=\"nearest\") for t in dtime]\n",
      "/home/jmcle/anaconda3/lib/python3.9/site-packages/geomagindices/base.py:37: FutureWarning: Passing method to DatetimeIndex.get_loc is deprecated and will raise in a future version. Use index.get_indexer([item], method=...) instead.\n",
      "  i = [dat.index.get_loc(t, method=\"nearest\") for t in dtime]\n"
     ]
    },
    {
     "name": "stdout",
     "output_type": "stream",
     "text": [
      "Slice: 363. Convergence reached. Iterations: 959. reduced chi2: 2.84\n"
     ]
    },
    {
     "name": "stderr",
     "output_type": "stream",
     "text": [
      "/home/jmcle/anaconda3/lib/python3.9/site-packages/geomagindices/base.py:37: FutureWarning: Passing method to DatetimeIndex.get_loc is deprecated and will raise in a future version. Use index.get_indexer([item], method=...) instead.\n",
      "  i = [dat.index.get_loc(t, method=\"nearest\") for t in dtime]\n",
      "/home/jmcle/anaconda3/lib/python3.9/site-packages/geomagindices/base.py:37: FutureWarning: Passing method to DatetimeIndex.get_loc is deprecated and will raise in a future version. Use index.get_indexer([item], method=...) instead.\n",
      "  i = [dat.index.get_loc(t, method=\"nearest\") for t in dtime]\n"
     ]
    },
    {
     "name": "stdout",
     "output_type": "stream",
     "text": [
      "Slice: 364. Convergence reached. Iterations: 710. reduced chi2: 1.93\n"
     ]
    },
    {
     "name": "stderr",
     "output_type": "stream",
     "text": [
      "/home/jmcle/anaconda3/lib/python3.9/site-packages/geomagindices/base.py:37: FutureWarning: Passing method to DatetimeIndex.get_loc is deprecated and will raise in a future version. Use index.get_indexer([item], method=...) instead.\n",
      "  i = [dat.index.get_loc(t, method=\"nearest\") for t in dtime]\n",
      "/home/jmcle/anaconda3/lib/python3.9/site-packages/geomagindices/base.py:37: FutureWarning: Passing method to DatetimeIndex.get_loc is deprecated and will raise in a future version. Use index.get_indexer([item], method=...) instead.\n",
      "  i = [dat.index.get_loc(t, method=\"nearest\") for t in dtime]\n"
     ]
    },
    {
     "name": "stdout",
     "output_type": "stream",
     "text": [
      "Slice: 365. Convergence reached. Iterations: 503. reduced chi2: 2.36\n"
     ]
    },
    {
     "name": "stderr",
     "output_type": "stream",
     "text": [
      "/home/jmcle/anaconda3/lib/python3.9/site-packages/geomagindices/base.py:37: FutureWarning: Passing method to DatetimeIndex.get_loc is deprecated and will raise in a future version. Use index.get_indexer([item], method=...) instead.\n",
      "  i = [dat.index.get_loc(t, method=\"nearest\") for t in dtime]\n",
      "/home/jmcle/anaconda3/lib/python3.9/site-packages/geomagindices/base.py:37: FutureWarning: Passing method to DatetimeIndex.get_loc is deprecated and will raise in a future version. Use index.get_indexer([item], method=...) instead.\n",
      "  i = [dat.index.get_loc(t, method=\"nearest\") for t in dtime]\n"
     ]
    },
    {
     "name": "stdout",
     "output_type": "stream",
     "text": [
      "Slice: 366. Convergence reached. Iterations: 504. reduced chi2: 1.49\n"
     ]
    },
    {
     "name": "stderr",
     "output_type": "stream",
     "text": [
      "/home/jmcle/anaconda3/lib/python3.9/site-packages/geomagindices/base.py:37: FutureWarning: Passing method to DatetimeIndex.get_loc is deprecated and will raise in a future version. Use index.get_indexer([item], method=...) instead.\n",
      "  i = [dat.index.get_loc(t, method=\"nearest\") for t in dtime]\n",
      "/home/jmcle/anaconda3/lib/python3.9/site-packages/geomagindices/base.py:37: FutureWarning: Passing method to DatetimeIndex.get_loc is deprecated and will raise in a future version. Use index.get_indexer([item], method=...) instead.\n",
      "  i = [dat.index.get_loc(t, method=\"nearest\") for t in dtime]\n"
     ]
    },
    {
     "name": "stdout",
     "output_type": "stream",
     "text": [
      "Slice: 367. Convergence reached. Iterations: 248. reduced chi2: 1.65\n"
     ]
    },
    {
     "name": "stderr",
     "output_type": "stream",
     "text": [
      "/home/jmcle/anaconda3/lib/python3.9/site-packages/geomagindices/base.py:37: FutureWarning: Passing method to DatetimeIndex.get_loc is deprecated and will raise in a future version. Use index.get_indexer([item], method=...) instead.\n",
      "  i = [dat.index.get_loc(t, method=\"nearest\") for t in dtime]\n",
      "/home/jmcle/anaconda3/lib/python3.9/site-packages/geomagindices/base.py:37: FutureWarning: Passing method to DatetimeIndex.get_loc is deprecated and will raise in a future version. Use index.get_indexer([item], method=...) instead.\n",
      "  i = [dat.index.get_loc(t, method=\"nearest\") for t in dtime]\n"
     ]
    },
    {
     "name": "stdout",
     "output_type": "stream",
     "text": [
      "Slice: 368. Convergence reached. Iterations: 365. reduced chi2: 1.87\n"
     ]
    },
    {
     "name": "stderr",
     "output_type": "stream",
     "text": [
      "/home/jmcle/anaconda3/lib/python3.9/site-packages/geomagindices/base.py:37: FutureWarning: Passing method to DatetimeIndex.get_loc is deprecated and will raise in a future version. Use index.get_indexer([item], method=...) instead.\n",
      "  i = [dat.index.get_loc(t, method=\"nearest\") for t in dtime]\n",
      "/home/jmcle/anaconda3/lib/python3.9/site-packages/geomagindices/base.py:37: FutureWarning: Passing method to DatetimeIndex.get_loc is deprecated and will raise in a future version. Use index.get_indexer([item], method=...) instead.\n",
      "  i = [dat.index.get_loc(t, method=\"nearest\") for t in dtime]\n"
     ]
    },
    {
     "name": "stdout",
     "output_type": "stream",
     "text": [
      "Slice: 369. Convergence reached. Iterations: 417. reduced chi2: 1.58\n"
     ]
    },
    {
     "name": "stderr",
     "output_type": "stream",
     "text": [
      "/home/jmcle/anaconda3/lib/python3.9/site-packages/geomagindices/base.py:37: FutureWarning: Passing method to DatetimeIndex.get_loc is deprecated and will raise in a future version. Use index.get_indexer([item], method=...) instead.\n",
      "  i = [dat.index.get_loc(t, method=\"nearest\") for t in dtime]\n",
      "/home/jmcle/anaconda3/lib/python3.9/site-packages/geomagindices/base.py:37: FutureWarning: Passing method to DatetimeIndex.get_loc is deprecated and will raise in a future version. Use index.get_indexer([item], method=...) instead.\n",
      "  i = [dat.index.get_loc(t, method=\"nearest\") for t in dtime]\n"
     ]
    },
    {
     "name": "stdout",
     "output_type": "stream",
     "text": [
      "Slice: 370. Convergence reached. Iterations: 842. reduced chi2: 1.76\n"
     ]
    },
    {
     "name": "stderr",
     "output_type": "stream",
     "text": [
      "/home/jmcle/anaconda3/lib/python3.9/site-packages/geomagindices/base.py:37: FutureWarning: Passing method to DatetimeIndex.get_loc is deprecated and will raise in a future version. Use index.get_indexer([item], method=...) instead.\n",
      "  i = [dat.index.get_loc(t, method=\"nearest\") for t in dtime]\n",
      "/home/jmcle/anaconda3/lib/python3.9/site-packages/geomagindices/base.py:37: FutureWarning: Passing method to DatetimeIndex.get_loc is deprecated and will raise in a future version. Use index.get_indexer([item], method=...) instead.\n",
      "  i = [dat.index.get_loc(t, method=\"nearest\") for t in dtime]\n"
     ]
    },
    {
     "name": "stdout",
     "output_type": "stream",
     "text": [
      "Slice: 371. Convergence reached. Iterations: 757. reduced chi2: 1.74\n"
     ]
    },
    {
     "name": "stderr",
     "output_type": "stream",
     "text": [
      "/home/jmcle/anaconda3/lib/python3.9/site-packages/geomagindices/base.py:37: FutureWarning: Passing method to DatetimeIndex.get_loc is deprecated and will raise in a future version. Use index.get_indexer([item], method=...) instead.\n",
      "  i = [dat.index.get_loc(t, method=\"nearest\") for t in dtime]\n",
      "/home/jmcle/anaconda3/lib/python3.9/site-packages/geomagindices/base.py:37: FutureWarning: Passing method to DatetimeIndex.get_loc is deprecated and will raise in a future version. Use index.get_indexer([item], method=...) instead.\n",
      "  i = [dat.index.get_loc(t, method=\"nearest\") for t in dtime]\n"
     ]
    },
    {
     "name": "stdout",
     "output_type": "stream",
     "text": [
      "Slice: 372. Convergence reached. Iterations: 433. reduced chi2: 2.02\n"
     ]
    },
    {
     "name": "stderr",
     "output_type": "stream",
     "text": [
      "/home/jmcle/anaconda3/lib/python3.9/site-packages/geomagindices/base.py:37: FutureWarning: Passing method to DatetimeIndex.get_loc is deprecated and will raise in a future version. Use index.get_indexer([item], method=...) instead.\n",
      "  i = [dat.index.get_loc(t, method=\"nearest\") for t in dtime]\n",
      "/home/jmcle/anaconda3/lib/python3.9/site-packages/geomagindices/base.py:37: FutureWarning: Passing method to DatetimeIndex.get_loc is deprecated and will raise in a future version. Use index.get_indexer([item], method=...) instead.\n",
      "  i = [dat.index.get_loc(t, method=\"nearest\") for t in dtime]\n"
     ]
    },
    {
     "name": "stdout",
     "output_type": "stream",
     "text": [
      "Slice: 373. Convergence reached. Iterations: 296. reduced chi2: 1.88\n"
     ]
    },
    {
     "name": "stderr",
     "output_type": "stream",
     "text": [
      "/home/jmcle/anaconda3/lib/python3.9/site-packages/geomagindices/base.py:37: FutureWarning: Passing method to DatetimeIndex.get_loc is deprecated and will raise in a future version. Use index.get_indexer([item], method=...) instead.\n",
      "  i = [dat.index.get_loc(t, method=\"nearest\") for t in dtime]\n",
      "/home/jmcle/anaconda3/lib/python3.9/site-packages/geomagindices/base.py:37: FutureWarning: Passing method to DatetimeIndex.get_loc is deprecated and will raise in a future version. Use index.get_indexer([item], method=...) instead.\n",
      "  i = [dat.index.get_loc(t, method=\"nearest\") for t in dtime]\n"
     ]
    },
    {
     "name": "stdout",
     "output_type": "stream",
     "text": [
      "Slice: 374. Convergence reached. Iterations: 456. reduced chi2: 1.53\n"
     ]
    },
    {
     "name": "stderr",
     "output_type": "stream",
     "text": [
      "/home/jmcle/anaconda3/lib/python3.9/site-packages/geomagindices/base.py:37: FutureWarning: Passing method to DatetimeIndex.get_loc is deprecated and will raise in a future version. Use index.get_indexer([item], method=...) instead.\n",
      "  i = [dat.index.get_loc(t, method=\"nearest\") for t in dtime]\n",
      "/home/jmcle/anaconda3/lib/python3.9/site-packages/geomagindices/base.py:37: FutureWarning: Passing method to DatetimeIndex.get_loc is deprecated and will raise in a future version. Use index.get_indexer([item], method=...) instead.\n",
      "  i = [dat.index.get_loc(t, method=\"nearest\") for t in dtime]\n"
     ]
    },
    {
     "name": "stdout",
     "output_type": "stream",
     "text": [
      "Slice: 375. Convergence reached. Iterations: 716. reduced chi2: 3.54\n"
     ]
    },
    {
     "name": "stderr",
     "output_type": "stream",
     "text": [
      "/home/jmcle/anaconda3/lib/python3.9/site-packages/geomagindices/base.py:37: FutureWarning: Passing method to DatetimeIndex.get_loc is deprecated and will raise in a future version. Use index.get_indexer([item], method=...) instead.\n",
      "  i = [dat.index.get_loc(t, method=\"nearest\") for t in dtime]\n",
      "/home/jmcle/anaconda3/lib/python3.9/site-packages/geomagindices/base.py:37: FutureWarning: Passing method to DatetimeIndex.get_loc is deprecated and will raise in a future version. Use index.get_indexer([item], method=...) instead.\n",
      "  i = [dat.index.get_loc(t, method=\"nearest\") for t in dtime]\n"
     ]
    },
    {
     "name": "stdout",
     "output_type": "stream",
     "text": [
      "Slice: 376. Convergence reached. Iterations: 676. reduced chi2: 2.74\n"
     ]
    },
    {
     "name": "stderr",
     "output_type": "stream",
     "text": [
      "/home/jmcle/anaconda3/lib/python3.9/site-packages/geomagindices/base.py:37: FutureWarning: Passing method to DatetimeIndex.get_loc is deprecated and will raise in a future version. Use index.get_indexer([item], method=...) instead.\n",
      "  i = [dat.index.get_loc(t, method=\"nearest\") for t in dtime]\n",
      "/home/jmcle/anaconda3/lib/python3.9/site-packages/geomagindices/base.py:37: FutureWarning: Passing method to DatetimeIndex.get_loc is deprecated and will raise in a future version. Use index.get_indexer([item], method=...) instead.\n",
      "  i = [dat.index.get_loc(t, method=\"nearest\") for t in dtime]\n"
     ]
    },
    {
     "name": "stdout",
     "output_type": "stream",
     "text": [
      "Slice: 377. Convergence reached. Iterations: 713. reduced chi2: 1.8\n"
     ]
    },
    {
     "name": "stderr",
     "output_type": "stream",
     "text": [
      "/home/jmcle/anaconda3/lib/python3.9/site-packages/geomagindices/base.py:37: FutureWarning: Passing method to DatetimeIndex.get_loc is deprecated and will raise in a future version. Use index.get_indexer([item], method=...) instead.\n",
      "  i = [dat.index.get_loc(t, method=\"nearest\") for t in dtime]\n",
      "/home/jmcle/anaconda3/lib/python3.9/site-packages/geomagindices/base.py:37: FutureWarning: Passing method to DatetimeIndex.get_loc is deprecated and will raise in a future version. Use index.get_indexer([item], method=...) instead.\n",
      "  i = [dat.index.get_loc(t, method=\"nearest\") for t in dtime]\n"
     ]
    },
    {
     "name": "stdout",
     "output_type": "stream",
     "text": [
      "Slice: 378. Convergence reached. Iterations: 631. reduced chi2: 2.17\n"
     ]
    },
    {
     "name": "stderr",
     "output_type": "stream",
     "text": [
      "/home/jmcle/anaconda3/lib/python3.9/site-packages/geomagindices/base.py:37: FutureWarning: Passing method to DatetimeIndex.get_loc is deprecated and will raise in a future version. Use index.get_indexer([item], method=...) instead.\n",
      "  i = [dat.index.get_loc(t, method=\"nearest\") for t in dtime]\n",
      "/home/jmcle/anaconda3/lib/python3.9/site-packages/geomagindices/base.py:37: FutureWarning: Passing method to DatetimeIndex.get_loc is deprecated and will raise in a future version. Use index.get_indexer([item], method=...) instead.\n",
      "  i = [dat.index.get_loc(t, method=\"nearest\") for t in dtime]\n"
     ]
    },
    {
     "name": "stdout",
     "output_type": "stream",
     "text": [
      "Slice: 379. Convergence reached. Iterations: 487. reduced chi2: 2.66\n"
     ]
    },
    {
     "name": "stderr",
     "output_type": "stream",
     "text": [
      "/home/jmcle/anaconda3/lib/python3.9/site-packages/geomagindices/base.py:37: FutureWarning: Passing method to DatetimeIndex.get_loc is deprecated and will raise in a future version. Use index.get_indexer([item], method=...) instead.\n",
      "  i = [dat.index.get_loc(t, method=\"nearest\") for t in dtime]\n",
      "/home/jmcle/anaconda3/lib/python3.9/site-packages/geomagindices/base.py:37: FutureWarning: Passing method to DatetimeIndex.get_loc is deprecated and will raise in a future version. Use index.get_indexer([item], method=...) instead.\n",
      "  i = [dat.index.get_loc(t, method=\"nearest\") for t in dtime]\n"
     ]
    },
    {
     "name": "stdout",
     "output_type": "stream",
     "text": [
      "Slice: 380. Convergence reached. Iterations: 581. reduced chi2: 2.13\n"
     ]
    },
    {
     "name": "stderr",
     "output_type": "stream",
     "text": [
      "/home/jmcle/anaconda3/lib/python3.9/site-packages/geomagindices/base.py:37: FutureWarning: Passing method to DatetimeIndex.get_loc is deprecated and will raise in a future version. Use index.get_indexer([item], method=...) instead.\n",
      "  i = [dat.index.get_loc(t, method=\"nearest\") for t in dtime]\n",
      "/home/jmcle/anaconda3/lib/python3.9/site-packages/geomagindices/base.py:37: FutureWarning: Passing method to DatetimeIndex.get_loc is deprecated and will raise in a future version. Use index.get_indexer([item], method=...) instead.\n",
      "  i = [dat.index.get_loc(t, method=\"nearest\") for t in dtime]\n"
     ]
    },
    {
     "name": "stdout",
     "output_type": "stream",
     "text": [
      "Slice: 381. Convergence reached. Iterations: 799. reduced chi2: 1.84\n"
     ]
    },
    {
     "name": "stderr",
     "output_type": "stream",
     "text": [
      "/home/jmcle/anaconda3/lib/python3.9/site-packages/geomagindices/base.py:37: FutureWarning: Passing method to DatetimeIndex.get_loc is deprecated and will raise in a future version. Use index.get_indexer([item], method=...) instead.\n",
      "  i = [dat.index.get_loc(t, method=\"nearest\") for t in dtime]\n",
      "/home/jmcle/anaconda3/lib/python3.9/site-packages/geomagindices/base.py:37: FutureWarning: Passing method to DatetimeIndex.get_loc is deprecated and will raise in a future version. Use index.get_indexer([item], method=...) instead.\n",
      "  i = [dat.index.get_loc(t, method=\"nearest\") for t in dtime]\n"
     ]
    },
    {
     "name": "stdout",
     "output_type": "stream",
     "text": [
      "Slice: 382. Convergence reached. Iterations: 1420. reduced chi2: 4.08\n"
     ]
    },
    {
     "name": "stderr",
     "output_type": "stream",
     "text": [
      "/home/jmcle/anaconda3/lib/python3.9/site-packages/geomagindices/base.py:37: FutureWarning: Passing method to DatetimeIndex.get_loc is deprecated and will raise in a future version. Use index.get_indexer([item], method=...) instead.\n",
      "  i = [dat.index.get_loc(t, method=\"nearest\") for t in dtime]\n",
      "/home/jmcle/anaconda3/lib/python3.9/site-packages/geomagindices/base.py:37: FutureWarning: Passing method to DatetimeIndex.get_loc is deprecated and will raise in a future version. Use index.get_indexer([item], method=...) instead.\n",
      "  i = [dat.index.get_loc(t, method=\"nearest\") for t in dtime]\n"
     ]
    },
    {
     "name": "stdout",
     "output_type": "stream",
     "text": [
      "Slice: 383. Convergence reached. Iterations: 1488. reduced chi2: 3.03\n"
     ]
    },
    {
     "name": "stderr",
     "output_type": "stream",
     "text": [
      "/home/jmcle/anaconda3/lib/python3.9/site-packages/geomagindices/base.py:37: FutureWarning: Passing method to DatetimeIndex.get_loc is deprecated and will raise in a future version. Use index.get_indexer([item], method=...) instead.\n",
      "  i = [dat.index.get_loc(t, method=\"nearest\") for t in dtime]\n",
      "/home/jmcle/anaconda3/lib/python3.9/site-packages/geomagindices/base.py:37: FutureWarning: Passing method to DatetimeIndex.get_loc is deprecated and will raise in a future version. Use index.get_indexer([item], method=...) instead.\n",
      "  i = [dat.index.get_loc(t, method=\"nearest\") for t in dtime]\n"
     ]
    },
    {
     "name": "stdout",
     "output_type": "stream",
     "text": [
      "Slice: 384. Convergence reached. Iterations: 1053. reduced chi2: 1.95\n"
     ]
    },
    {
     "name": "stderr",
     "output_type": "stream",
     "text": [
      "/home/jmcle/anaconda3/lib/python3.9/site-packages/geomagindices/base.py:37: FutureWarning: Passing method to DatetimeIndex.get_loc is deprecated and will raise in a future version. Use index.get_indexer([item], method=...) instead.\n",
      "  i = [dat.index.get_loc(t, method=\"nearest\") for t in dtime]\n",
      "/home/jmcle/anaconda3/lib/python3.9/site-packages/geomagindices/base.py:37: FutureWarning: Passing method to DatetimeIndex.get_loc is deprecated and will raise in a future version. Use index.get_indexer([item], method=...) instead.\n",
      "  i = [dat.index.get_loc(t, method=\"nearest\") for t in dtime]\n"
     ]
    },
    {
     "name": "stdout",
     "output_type": "stream",
     "text": [
      "Slice: 385. Convergence reached. Iterations: 337. reduced chi2: 1.6\n"
     ]
    },
    {
     "name": "stderr",
     "output_type": "stream",
     "text": [
      "/home/jmcle/anaconda3/lib/python3.9/site-packages/geomagindices/base.py:37: FutureWarning: Passing method to DatetimeIndex.get_loc is deprecated and will raise in a future version. Use index.get_indexer([item], method=...) instead.\n",
      "  i = [dat.index.get_loc(t, method=\"nearest\") for t in dtime]\n",
      "/home/jmcle/anaconda3/lib/python3.9/site-packages/geomagindices/base.py:37: FutureWarning: Passing method to DatetimeIndex.get_loc is deprecated and will raise in a future version. Use index.get_indexer([item], method=...) instead.\n",
      "  i = [dat.index.get_loc(t, method=\"nearest\") for t in dtime]\n"
     ]
    },
    {
     "name": "stdout",
     "output_type": "stream",
     "text": [
      "Slice: 386. Convergence reached. Iterations: 416. reduced chi2: 1.31\n"
     ]
    },
    {
     "name": "stderr",
     "output_type": "stream",
     "text": [
      "/home/jmcle/anaconda3/lib/python3.9/site-packages/geomagindices/base.py:37: FutureWarning: Passing method to DatetimeIndex.get_loc is deprecated and will raise in a future version. Use index.get_indexer([item], method=...) instead.\n",
      "  i = [dat.index.get_loc(t, method=\"nearest\") for t in dtime]\n",
      "/home/jmcle/anaconda3/lib/python3.9/site-packages/geomagindices/base.py:37: FutureWarning: Passing method to DatetimeIndex.get_loc is deprecated and will raise in a future version. Use index.get_indexer([item], method=...) instead.\n",
      "  i = [dat.index.get_loc(t, method=\"nearest\") for t in dtime]\n"
     ]
    },
    {
     "name": "stdout",
     "output_type": "stream",
     "text": [
      "Slice: 387. Convergence reached. Iterations: 418. reduced chi2: 1.39\n"
     ]
    },
    {
     "name": "stderr",
     "output_type": "stream",
     "text": [
      "/home/jmcle/anaconda3/lib/python3.9/site-packages/geomagindices/base.py:37: FutureWarning: Passing method to DatetimeIndex.get_loc is deprecated and will raise in a future version. Use index.get_indexer([item], method=...) instead.\n",
      "  i = [dat.index.get_loc(t, method=\"nearest\") for t in dtime]\n",
      "/home/jmcle/anaconda3/lib/python3.9/site-packages/geomagindices/base.py:37: FutureWarning: Passing method to DatetimeIndex.get_loc is deprecated and will raise in a future version. Use index.get_indexer([item], method=...) instead.\n",
      "  i = [dat.index.get_loc(t, method=\"nearest\") for t in dtime]\n"
     ]
    },
    {
     "name": "stdout",
     "output_type": "stream",
     "text": [
      "Slice: 388. Convergence reached. Iterations: 373. reduced chi2: 1.52\n"
     ]
    },
    {
     "name": "stderr",
     "output_type": "stream",
     "text": [
      "/home/jmcle/anaconda3/lib/python3.9/site-packages/geomagindices/base.py:37: FutureWarning: Passing method to DatetimeIndex.get_loc is deprecated and will raise in a future version. Use index.get_indexer([item], method=...) instead.\n",
      "  i = [dat.index.get_loc(t, method=\"nearest\") for t in dtime]\n",
      "/home/jmcle/anaconda3/lib/python3.9/site-packages/geomagindices/base.py:37: FutureWarning: Passing method to DatetimeIndex.get_loc is deprecated and will raise in a future version. Use index.get_indexer([item], method=...) instead.\n",
      "  i = [dat.index.get_loc(t, method=\"nearest\") for t in dtime]\n"
     ]
    },
    {
     "name": "stdout",
     "output_type": "stream",
     "text": [
      "Slice: 389. Convergence reached. Iterations: 284. reduced chi2: 1.93\n"
     ]
    },
    {
     "name": "stderr",
     "output_type": "stream",
     "text": [
      "/home/jmcle/anaconda3/lib/python3.9/site-packages/geomagindices/base.py:37: FutureWarning: Passing method to DatetimeIndex.get_loc is deprecated and will raise in a future version. Use index.get_indexer([item], method=...) instead.\n",
      "  i = [dat.index.get_loc(t, method=\"nearest\") for t in dtime]\n",
      "/home/jmcle/anaconda3/lib/python3.9/site-packages/geomagindices/base.py:37: FutureWarning: Passing method to DatetimeIndex.get_loc is deprecated and will raise in a future version. Use index.get_indexer([item], method=...) instead.\n",
      "  i = [dat.index.get_loc(t, method=\"nearest\") for t in dtime]\n"
     ]
    },
    {
     "name": "stdout",
     "output_type": "stream",
     "text": [
      "Slice: 390. Convergence reached. Iterations: 228. reduced chi2: 1.91\n"
     ]
    },
    {
     "name": "stderr",
     "output_type": "stream",
     "text": [
      "/home/jmcle/anaconda3/lib/python3.9/site-packages/geomagindices/base.py:37: FutureWarning: Passing method to DatetimeIndex.get_loc is deprecated and will raise in a future version. Use index.get_indexer([item], method=...) instead.\n",
      "  i = [dat.index.get_loc(t, method=\"nearest\") for t in dtime]\n",
      "/home/jmcle/anaconda3/lib/python3.9/site-packages/geomagindices/base.py:37: FutureWarning: Passing method to DatetimeIndex.get_loc is deprecated and will raise in a future version. Use index.get_indexer([item], method=...) instead.\n",
      "  i = [dat.index.get_loc(t, method=\"nearest\") for t in dtime]\n"
     ]
    },
    {
     "name": "stdout",
     "output_type": "stream",
     "text": [
      "Slice: 391. Convergence reached. Iterations: 414. reduced chi2: 1.27\n"
     ]
    },
    {
     "name": "stderr",
     "output_type": "stream",
     "text": [
      "/home/jmcle/anaconda3/lib/python3.9/site-packages/geomagindices/base.py:37: FutureWarning: Passing method to DatetimeIndex.get_loc is deprecated and will raise in a future version. Use index.get_indexer([item], method=...) instead.\n",
      "  i = [dat.index.get_loc(t, method=\"nearest\") for t in dtime]\n",
      "/home/jmcle/anaconda3/lib/python3.9/site-packages/geomagindices/base.py:37: FutureWarning: Passing method to DatetimeIndex.get_loc is deprecated and will raise in a future version. Use index.get_indexer([item], method=...) instead.\n",
      "  i = [dat.index.get_loc(t, method=\"nearest\") for t in dtime]\n"
     ]
    },
    {
     "name": "stdout",
     "output_type": "stream",
     "text": [
      "Slice: 392. Convergence reached. Iterations: 187. reduced chi2: 2.17\n"
     ]
    },
    {
     "name": "stderr",
     "output_type": "stream",
     "text": [
      "/home/jmcle/anaconda3/lib/python3.9/site-packages/geomagindices/base.py:37: FutureWarning: Passing method to DatetimeIndex.get_loc is deprecated and will raise in a future version. Use index.get_indexer([item], method=...) instead.\n",
      "  i = [dat.index.get_loc(t, method=\"nearest\") for t in dtime]\n",
      "/home/jmcle/anaconda3/lib/python3.9/site-packages/geomagindices/base.py:37: FutureWarning: Passing method to DatetimeIndex.get_loc is deprecated and will raise in a future version. Use index.get_indexer([item], method=...) instead.\n",
      "  i = [dat.index.get_loc(t, method=\"nearest\") for t in dtime]\n"
     ]
    },
    {
     "name": "stdout",
     "output_type": "stream",
     "text": [
      "Slice: 393. Convergence reached. Iterations: 818. reduced chi2: 1.82\n"
     ]
    },
    {
     "name": "stderr",
     "output_type": "stream",
     "text": [
      "/home/jmcle/anaconda3/lib/python3.9/site-packages/geomagindices/base.py:37: FutureWarning: Passing method to DatetimeIndex.get_loc is deprecated and will raise in a future version. Use index.get_indexer([item], method=...) instead.\n",
      "  i = [dat.index.get_loc(t, method=\"nearest\") for t in dtime]\n",
      "/home/jmcle/anaconda3/lib/python3.9/site-packages/geomagindices/base.py:37: FutureWarning: Passing method to DatetimeIndex.get_loc is deprecated and will raise in a future version. Use index.get_indexer([item], method=...) instead.\n",
      "  i = [dat.index.get_loc(t, method=\"nearest\") for t in dtime]\n"
     ]
    },
    {
     "name": "stdout",
     "output_type": "stream",
     "text": [
      "Slice: 394. Convergence reached. Iterations: 989. reduced chi2: 2.22\n"
     ]
    },
    {
     "name": "stderr",
     "output_type": "stream",
     "text": [
      "/home/jmcle/anaconda3/lib/python3.9/site-packages/geomagindices/base.py:37: FutureWarning: Passing method to DatetimeIndex.get_loc is deprecated and will raise in a future version. Use index.get_indexer([item], method=...) instead.\n",
      "  i = [dat.index.get_loc(t, method=\"nearest\") for t in dtime]\n",
      "/home/jmcle/anaconda3/lib/python3.9/site-packages/geomagindices/base.py:37: FutureWarning: Passing method to DatetimeIndex.get_loc is deprecated and will raise in a future version. Use index.get_indexer([item], method=...) instead.\n",
      "  i = [dat.index.get_loc(t, method=\"nearest\") for t in dtime]\n"
     ]
    },
    {
     "name": "stdout",
     "output_type": "stream",
     "text": [
      "Slice: 395. Convergence reached. Iterations: 525. reduced chi2: 1.59\n"
     ]
    },
    {
     "name": "stderr",
     "output_type": "stream",
     "text": [
      "/home/jmcle/anaconda3/lib/python3.9/site-packages/geomagindices/base.py:37: FutureWarning: Passing method to DatetimeIndex.get_loc is deprecated and will raise in a future version. Use index.get_indexer([item], method=...) instead.\n",
      "  i = [dat.index.get_loc(t, method=\"nearest\") for t in dtime]\n",
      "/home/jmcle/anaconda3/lib/python3.9/site-packages/geomagindices/base.py:37: FutureWarning: Passing method to DatetimeIndex.get_loc is deprecated and will raise in a future version. Use index.get_indexer([item], method=...) instead.\n",
      "  i = [dat.index.get_loc(t, method=\"nearest\") for t in dtime]\n"
     ]
    },
    {
     "name": "stdout",
     "output_type": "stream",
     "text": [
      "Slice: 396. Convergence reached. Iterations: 434. reduced chi2: 2.43\n"
     ]
    },
    {
     "name": "stderr",
     "output_type": "stream",
     "text": [
      "/home/jmcle/anaconda3/lib/python3.9/site-packages/geomagindices/base.py:37: FutureWarning: Passing method to DatetimeIndex.get_loc is deprecated and will raise in a future version. Use index.get_indexer([item], method=...) instead.\n",
      "  i = [dat.index.get_loc(t, method=\"nearest\") for t in dtime]\n",
      "/home/jmcle/anaconda3/lib/python3.9/site-packages/geomagindices/base.py:37: FutureWarning: Passing method to DatetimeIndex.get_loc is deprecated and will raise in a future version. Use index.get_indexer([item], method=...) instead.\n",
      "  i = [dat.index.get_loc(t, method=\"nearest\") for t in dtime]\n"
     ]
    },
    {
     "name": "stdout",
     "output_type": "stream",
     "text": [
      "Slice: 397. Convergence reached. Iterations: 318. reduced chi2: 1.49\n"
     ]
    },
    {
     "name": "stderr",
     "output_type": "stream",
     "text": [
      "/home/jmcle/anaconda3/lib/python3.9/site-packages/geomagindices/base.py:37: FutureWarning: Passing method to DatetimeIndex.get_loc is deprecated and will raise in a future version. Use index.get_indexer([item], method=...) instead.\n",
      "  i = [dat.index.get_loc(t, method=\"nearest\") for t in dtime]\n",
      "/home/jmcle/anaconda3/lib/python3.9/site-packages/geomagindices/base.py:37: FutureWarning: Passing method to DatetimeIndex.get_loc is deprecated and will raise in a future version. Use index.get_indexer([item], method=...) instead.\n",
      "  i = [dat.index.get_loc(t, method=\"nearest\") for t in dtime]\n"
     ]
    },
    {
     "name": "stdout",
     "output_type": "stream",
     "text": [
      "Slice: 398. Convergence reached. Iterations: 1095. reduced chi2: 2.73\n"
     ]
    },
    {
     "name": "stderr",
     "output_type": "stream",
     "text": [
      "/home/jmcle/anaconda3/lib/python3.9/site-packages/geomagindices/base.py:37: FutureWarning: Passing method to DatetimeIndex.get_loc is deprecated and will raise in a future version. Use index.get_indexer([item], method=...) instead.\n",
      "  i = [dat.index.get_loc(t, method=\"nearest\") for t in dtime]\n",
      "/home/jmcle/anaconda3/lib/python3.9/site-packages/geomagindices/base.py:37: FutureWarning: Passing method to DatetimeIndex.get_loc is deprecated and will raise in a future version. Use index.get_indexer([item], method=...) instead.\n",
      "  i = [dat.index.get_loc(t, method=\"nearest\") for t in dtime]\n"
     ]
    },
    {
     "name": "stdout",
     "output_type": "stream",
     "text": [
      "Slice: 399. Convergence reached. Iterations: 604. reduced chi2: 2.02\n"
     ]
    },
    {
     "name": "stderr",
     "output_type": "stream",
     "text": [
      "/home/jmcle/anaconda3/lib/python3.9/site-packages/geomagindices/base.py:37: FutureWarning: Passing method to DatetimeIndex.get_loc is deprecated and will raise in a future version. Use index.get_indexer([item], method=...) instead.\n",
      "  i = [dat.index.get_loc(t, method=\"nearest\") for t in dtime]\n",
      "/home/jmcle/anaconda3/lib/python3.9/site-packages/geomagindices/base.py:37: FutureWarning: Passing method to DatetimeIndex.get_loc is deprecated and will raise in a future version. Use index.get_indexer([item], method=...) instead.\n",
      "  i = [dat.index.get_loc(t, method=\"nearest\") for t in dtime]\n"
     ]
    },
    {
     "name": "stdout",
     "output_type": "stream",
     "text": [
      "Slice: 400. Convergence reached. Iterations: 963. reduced chi2: 1.7\n"
     ]
    },
    {
     "name": "stderr",
     "output_type": "stream",
     "text": [
      "/home/jmcle/anaconda3/lib/python3.9/site-packages/geomagindices/base.py:37: FutureWarning: Passing method to DatetimeIndex.get_loc is deprecated and will raise in a future version. Use index.get_indexer([item], method=...) instead.\n",
      "  i = [dat.index.get_loc(t, method=\"nearest\") for t in dtime]\n",
      "/home/jmcle/anaconda3/lib/python3.9/site-packages/geomagindices/base.py:37: FutureWarning: Passing method to DatetimeIndex.get_loc is deprecated and will raise in a future version. Use index.get_indexer([item], method=...) instead.\n",
      "  i = [dat.index.get_loc(t, method=\"nearest\") for t in dtime]\n"
     ]
    },
    {
     "name": "stdout",
     "output_type": "stream",
     "text": [
      "Slice: 401. Convergence reached. Iterations: 731. reduced chi2: 1.83\n"
     ]
    },
    {
     "name": "stderr",
     "output_type": "stream",
     "text": [
      "/home/jmcle/anaconda3/lib/python3.9/site-packages/geomagindices/base.py:37: FutureWarning: Passing method to DatetimeIndex.get_loc is deprecated and will raise in a future version. Use index.get_indexer([item], method=...) instead.\n",
      "  i = [dat.index.get_loc(t, method=\"nearest\") for t in dtime]\n",
      "/home/jmcle/anaconda3/lib/python3.9/site-packages/geomagindices/base.py:37: FutureWarning: Passing method to DatetimeIndex.get_loc is deprecated and will raise in a future version. Use index.get_indexer([item], method=...) instead.\n",
      "  i = [dat.index.get_loc(t, method=\"nearest\") for t in dtime]\n"
     ]
    },
    {
     "name": "stdout",
     "output_type": "stream",
     "text": [
      "Slice: 402. Convergence reached. Iterations: 767. reduced chi2: 1.52\n"
     ]
    },
    {
     "name": "stderr",
     "output_type": "stream",
     "text": [
      "/home/jmcle/anaconda3/lib/python3.9/site-packages/geomagindices/base.py:37: FutureWarning: Passing method to DatetimeIndex.get_loc is deprecated and will raise in a future version. Use index.get_indexer([item], method=...) instead.\n",
      "  i = [dat.index.get_loc(t, method=\"nearest\") for t in dtime]\n",
      "/home/jmcle/anaconda3/lib/python3.9/site-packages/geomagindices/base.py:37: FutureWarning: Passing method to DatetimeIndex.get_loc is deprecated and will raise in a future version. Use index.get_indexer([item], method=...) instead.\n",
      "  i = [dat.index.get_loc(t, method=\"nearest\") for t in dtime]\n"
     ]
    },
    {
     "name": "stdout",
     "output_type": "stream",
     "text": [
      "Slice: 403. Convergence reached. Iterations: 1070. reduced chi2: 1.85\n"
     ]
    },
    {
     "name": "stderr",
     "output_type": "stream",
     "text": [
      "/home/jmcle/anaconda3/lib/python3.9/site-packages/geomagindices/base.py:37: FutureWarning: Passing method to DatetimeIndex.get_loc is deprecated and will raise in a future version. Use index.get_indexer([item], method=...) instead.\n",
      "  i = [dat.index.get_loc(t, method=\"nearest\") for t in dtime]\n",
      "/home/jmcle/anaconda3/lib/python3.9/site-packages/geomagindices/base.py:37: FutureWarning: Passing method to DatetimeIndex.get_loc is deprecated and will raise in a future version. Use index.get_indexer([item], method=...) instead.\n",
      "  i = [dat.index.get_loc(t, method=\"nearest\") for t in dtime]\n"
     ]
    },
    {
     "name": "stdout",
     "output_type": "stream",
     "text": [
      "Slice: 404. Convergence reached. Iterations: 1361. reduced chi2: 2.78\n"
     ]
    },
    {
     "name": "stderr",
     "output_type": "stream",
     "text": [
      "/home/jmcle/anaconda3/lib/python3.9/site-packages/geomagindices/base.py:37: FutureWarning: Passing method to DatetimeIndex.get_loc is deprecated and will raise in a future version. Use index.get_indexer([item], method=...) instead.\n",
      "  i = [dat.index.get_loc(t, method=\"nearest\") for t in dtime]\n",
      "/home/jmcle/anaconda3/lib/python3.9/site-packages/geomagindices/base.py:37: FutureWarning: Passing method to DatetimeIndex.get_loc is deprecated and will raise in a future version. Use index.get_indexer([item], method=...) instead.\n",
      "  i = [dat.index.get_loc(t, method=\"nearest\") for t in dtime]\n"
     ]
    },
    {
     "name": "stdout",
     "output_type": "stream",
     "text": [
      "Slice: 405. Convergence reached. Iterations: 815. reduced chi2: 1.39\n"
     ]
    },
    {
     "name": "stderr",
     "output_type": "stream",
     "text": [
      "/home/jmcle/anaconda3/lib/python3.9/site-packages/geomagindices/base.py:37: FutureWarning: Passing method to DatetimeIndex.get_loc is deprecated and will raise in a future version. Use index.get_indexer([item], method=...) instead.\n",
      "  i = [dat.index.get_loc(t, method=\"nearest\") for t in dtime]\n",
      "/home/jmcle/anaconda3/lib/python3.9/site-packages/geomagindices/base.py:37: FutureWarning: Passing method to DatetimeIndex.get_loc is deprecated and will raise in a future version. Use index.get_indexer([item], method=...) instead.\n",
      "  i = [dat.index.get_loc(t, method=\"nearest\") for t in dtime]\n"
     ]
    },
    {
     "name": "stdout",
     "output_type": "stream",
     "text": [
      "Slice: 406. Convergence reached. Iterations: 1309. reduced chi2: 2.99\n"
     ]
    },
    {
     "name": "stderr",
     "output_type": "stream",
     "text": [
      "/home/jmcle/anaconda3/lib/python3.9/site-packages/geomagindices/base.py:37: FutureWarning: Passing method to DatetimeIndex.get_loc is deprecated and will raise in a future version. Use index.get_indexer([item], method=...) instead.\n",
      "  i = [dat.index.get_loc(t, method=\"nearest\") for t in dtime]\n",
      "/home/jmcle/anaconda3/lib/python3.9/site-packages/geomagindices/base.py:37: FutureWarning: Passing method to DatetimeIndex.get_loc is deprecated and will raise in a future version. Use index.get_indexer([item], method=...) instead.\n",
      "  i = [dat.index.get_loc(t, method=\"nearest\") for t in dtime]\n"
     ]
    },
    {
     "name": "stdout",
     "output_type": "stream",
     "text": [
      "Slice: 407. Convergence reached. Iterations: 1657. reduced chi2: 2.26\n"
     ]
    },
    {
     "name": "stderr",
     "output_type": "stream",
     "text": [
      "/home/jmcle/anaconda3/lib/python3.9/site-packages/geomagindices/base.py:37: FutureWarning: Passing method to DatetimeIndex.get_loc is deprecated and will raise in a future version. Use index.get_indexer([item], method=...) instead.\n",
      "  i = [dat.index.get_loc(t, method=\"nearest\") for t in dtime]\n",
      "/home/jmcle/anaconda3/lib/python3.9/site-packages/geomagindices/base.py:37: FutureWarning: Passing method to DatetimeIndex.get_loc is deprecated and will raise in a future version. Use index.get_indexer([item], method=...) instead.\n",
      "  i = [dat.index.get_loc(t, method=\"nearest\") for t in dtime]\n"
     ]
    },
    {
     "name": "stdout",
     "output_type": "stream",
     "text": [
      "Slice: 408. Convergence reached. Iterations: 1113. reduced chi2: 1.86\n"
     ]
    },
    {
     "name": "stderr",
     "output_type": "stream",
     "text": [
      "/home/jmcle/anaconda3/lib/python3.9/site-packages/geomagindices/base.py:37: FutureWarning: Passing method to DatetimeIndex.get_loc is deprecated and will raise in a future version. Use index.get_indexer([item], method=...) instead.\n",
      "  i = [dat.index.get_loc(t, method=\"nearest\") for t in dtime]\n",
      "/home/jmcle/anaconda3/lib/python3.9/site-packages/geomagindices/base.py:37: FutureWarning: Passing method to DatetimeIndex.get_loc is deprecated and will raise in a future version. Use index.get_indexer([item], method=...) instead.\n",
      "  i = [dat.index.get_loc(t, method=\"nearest\") for t in dtime]\n"
     ]
    },
    {
     "name": "stdout",
     "output_type": "stream",
     "text": [
      "Slice: 409. Convergence reached. Iterations: 808. reduced chi2: 1.38\n"
     ]
    },
    {
     "name": "stderr",
     "output_type": "stream",
     "text": [
      "/home/jmcle/anaconda3/lib/python3.9/site-packages/geomagindices/base.py:37: FutureWarning: Passing method to DatetimeIndex.get_loc is deprecated and will raise in a future version. Use index.get_indexer([item], method=...) instead.\n",
      "  i = [dat.index.get_loc(t, method=\"nearest\") for t in dtime]\n",
      "/home/jmcle/anaconda3/lib/python3.9/site-packages/geomagindices/base.py:37: FutureWarning: Passing method to DatetimeIndex.get_loc is deprecated and will raise in a future version. Use index.get_indexer([item], method=...) instead.\n",
      "  i = [dat.index.get_loc(t, method=\"nearest\") for t in dtime]\n"
     ]
    },
    {
     "name": "stdout",
     "output_type": "stream",
     "text": [
      "Slice: 410. Convergence reached. Iterations: 1167. reduced chi2: 1.59\n"
     ]
    },
    {
     "name": "stderr",
     "output_type": "stream",
     "text": [
      "/home/jmcle/anaconda3/lib/python3.9/site-packages/geomagindices/base.py:37: FutureWarning: Passing method to DatetimeIndex.get_loc is deprecated and will raise in a future version. Use index.get_indexer([item], method=...) instead.\n",
      "  i = [dat.index.get_loc(t, method=\"nearest\") for t in dtime]\n",
      "/home/jmcle/anaconda3/lib/python3.9/site-packages/geomagindices/base.py:37: FutureWarning: Passing method to DatetimeIndex.get_loc is deprecated and will raise in a future version. Use index.get_indexer([item], method=...) instead.\n",
      "  i = [dat.index.get_loc(t, method=\"nearest\") for t in dtime]\n"
     ]
    },
    {
     "name": "stdout",
     "output_type": "stream",
     "text": [
      "Slice: 411. Convergence reached. Iterations: 1213. reduced chi2: 2.41\n"
     ]
    },
    {
     "name": "stderr",
     "output_type": "stream",
     "text": [
      "/home/jmcle/anaconda3/lib/python3.9/site-packages/geomagindices/base.py:37: FutureWarning: Passing method to DatetimeIndex.get_loc is deprecated and will raise in a future version. Use index.get_indexer([item], method=...) instead.\n",
      "  i = [dat.index.get_loc(t, method=\"nearest\") for t in dtime]\n",
      "/home/jmcle/anaconda3/lib/python3.9/site-packages/geomagindices/base.py:37: FutureWarning: Passing method to DatetimeIndex.get_loc is deprecated and will raise in a future version. Use index.get_indexer([item], method=...) instead.\n",
      "  i = [dat.index.get_loc(t, method=\"nearest\") for t in dtime]\n"
     ]
    },
    {
     "name": "stdout",
     "output_type": "stream",
     "text": [
      "Slice: 412. Convergence reached. Iterations: 647. reduced chi2: 1.63\n"
     ]
    },
    {
     "name": "stderr",
     "output_type": "stream",
     "text": [
      "/home/jmcle/anaconda3/lib/python3.9/site-packages/geomagindices/base.py:37: FutureWarning: Passing method to DatetimeIndex.get_loc is deprecated and will raise in a future version. Use index.get_indexer([item], method=...) instead.\n",
      "  i = [dat.index.get_loc(t, method=\"nearest\") for t in dtime]\n",
      "/home/jmcle/anaconda3/lib/python3.9/site-packages/geomagindices/base.py:37: FutureWarning: Passing method to DatetimeIndex.get_loc is deprecated and will raise in a future version. Use index.get_indexer([item], method=...) instead.\n",
      "  i = [dat.index.get_loc(t, method=\"nearest\") for t in dtime]\n"
     ]
    },
    {
     "name": "stdout",
     "output_type": "stream",
     "text": [
      "Slice: 413. Convergence reached. Iterations: 1327. reduced chi2: 1.88\n"
     ]
    },
    {
     "name": "stderr",
     "output_type": "stream",
     "text": [
      "/home/jmcle/anaconda3/lib/python3.9/site-packages/geomagindices/base.py:37: FutureWarning: Passing method to DatetimeIndex.get_loc is deprecated and will raise in a future version. Use index.get_indexer([item], method=...) instead.\n",
      "  i = [dat.index.get_loc(t, method=\"nearest\") for t in dtime]\n",
      "/home/jmcle/anaconda3/lib/python3.9/site-packages/geomagindices/base.py:37: FutureWarning: Passing method to DatetimeIndex.get_loc is deprecated and will raise in a future version. Use index.get_indexer([item], method=...) instead.\n",
      "  i = [dat.index.get_loc(t, method=\"nearest\") for t in dtime]\n"
     ]
    },
    {
     "name": "stdout",
     "output_type": "stream",
     "text": [
      "Slice: 414. Convergence reached. Iterations: 1190. reduced chi2: 1.58\n"
     ]
    },
    {
     "name": "stderr",
     "output_type": "stream",
     "text": [
      "/home/jmcle/anaconda3/lib/python3.9/site-packages/geomagindices/base.py:37: FutureWarning: Passing method to DatetimeIndex.get_loc is deprecated and will raise in a future version. Use index.get_indexer([item], method=...) instead.\n",
      "  i = [dat.index.get_loc(t, method=\"nearest\") for t in dtime]\n",
      "/home/jmcle/anaconda3/lib/python3.9/site-packages/geomagindices/base.py:37: FutureWarning: Passing method to DatetimeIndex.get_loc is deprecated and will raise in a future version. Use index.get_indexer([item], method=...) instead.\n",
      "  i = [dat.index.get_loc(t, method=\"nearest\") for t in dtime]\n"
     ]
    },
    {
     "name": "stdout",
     "output_type": "stream",
     "text": [
      "Slice: 415. Convergence reached. Iterations: 1012. reduced chi2: 1.79\n"
     ]
    },
    {
     "name": "stderr",
     "output_type": "stream",
     "text": [
      "/home/jmcle/anaconda3/lib/python3.9/site-packages/geomagindices/base.py:37: FutureWarning: Passing method to DatetimeIndex.get_loc is deprecated and will raise in a future version. Use index.get_indexer([item], method=...) instead.\n",
      "  i = [dat.index.get_loc(t, method=\"nearest\") for t in dtime]\n",
      "/home/jmcle/anaconda3/lib/python3.9/site-packages/geomagindices/base.py:37: FutureWarning: Passing method to DatetimeIndex.get_loc is deprecated and will raise in a future version. Use index.get_indexer([item], method=...) instead.\n",
      "  i = [dat.index.get_loc(t, method=\"nearest\") for t in dtime]\n"
     ]
    },
    {
     "name": "stdout",
     "output_type": "stream",
     "text": [
      "Slice: 416. Convergence reached. Iterations: 1369. reduced chi2: 2.1\n"
     ]
    },
    {
     "name": "stderr",
     "output_type": "stream",
     "text": [
      "/home/jmcle/anaconda3/lib/python3.9/site-packages/geomagindices/base.py:37: FutureWarning: Passing method to DatetimeIndex.get_loc is deprecated and will raise in a future version. Use index.get_indexer([item], method=...) instead.\n",
      "  i = [dat.index.get_loc(t, method=\"nearest\") for t in dtime]\n",
      "/home/jmcle/anaconda3/lib/python3.9/site-packages/geomagindices/base.py:37: FutureWarning: Passing method to DatetimeIndex.get_loc is deprecated and will raise in a future version. Use index.get_indexer([item], method=...) instead.\n",
      "  i = [dat.index.get_loc(t, method=\"nearest\") for t in dtime]\n"
     ]
    },
    {
     "name": "stdout",
     "output_type": "stream",
     "text": [
      "Slice: 417. Convergence reached. Iterations: 1396. reduced chi2: 2.06\n"
     ]
    },
    {
     "name": "stderr",
     "output_type": "stream",
     "text": [
      "/home/jmcle/anaconda3/lib/python3.9/site-packages/geomagindices/base.py:37: FutureWarning: Passing method to DatetimeIndex.get_loc is deprecated and will raise in a future version. Use index.get_indexer([item], method=...) instead.\n",
      "  i = [dat.index.get_loc(t, method=\"nearest\") for t in dtime]\n",
      "/home/jmcle/anaconda3/lib/python3.9/site-packages/geomagindices/base.py:37: FutureWarning: Passing method to DatetimeIndex.get_loc is deprecated and will raise in a future version. Use index.get_indexer([item], method=...) instead.\n",
      "  i = [dat.index.get_loc(t, method=\"nearest\") for t in dtime]\n"
     ]
    },
    {
     "name": "stdout",
     "output_type": "stream",
     "text": [
      "Slice: 418. Convergence reached. Iterations: 1388. reduced chi2: 3.02\n"
     ]
    },
    {
     "name": "stderr",
     "output_type": "stream",
     "text": [
      "/home/jmcle/anaconda3/lib/python3.9/site-packages/geomagindices/base.py:37: FutureWarning: Passing method to DatetimeIndex.get_loc is deprecated and will raise in a future version. Use index.get_indexer([item], method=...) instead.\n",
      "  i = [dat.index.get_loc(t, method=\"nearest\") for t in dtime]\n",
      "/home/jmcle/anaconda3/lib/python3.9/site-packages/geomagindices/base.py:37: FutureWarning: Passing method to DatetimeIndex.get_loc is deprecated and will raise in a future version. Use index.get_indexer([item], method=...) instead.\n",
      "  i = [dat.index.get_loc(t, method=\"nearest\") for t in dtime]\n"
     ]
    },
    {
     "name": "stdout",
     "output_type": "stream",
     "text": [
      "Slice: 419. Convergence reached. Iterations: 1136. reduced chi2: 1.83\n"
     ]
    },
    {
     "name": "stderr",
     "output_type": "stream",
     "text": [
      "/home/jmcle/anaconda3/lib/python3.9/site-packages/geomagindices/base.py:37: FutureWarning: Passing method to DatetimeIndex.get_loc is deprecated and will raise in a future version. Use index.get_indexer([item], method=...) instead.\n",
      "  i = [dat.index.get_loc(t, method=\"nearest\") for t in dtime]\n",
      "/home/jmcle/anaconda3/lib/python3.9/site-packages/geomagindices/base.py:37: FutureWarning: Passing method to DatetimeIndex.get_loc is deprecated and will raise in a future version. Use index.get_indexer([item], method=...) instead.\n",
      "  i = [dat.index.get_loc(t, method=\"nearest\") for t in dtime]\n"
     ]
    },
    {
     "name": "stdout",
     "output_type": "stream",
     "text": [
      "Slice: 420. Convergence reached. Iterations: 1349. reduced chi2: 2.81\n"
     ]
    },
    {
     "name": "stderr",
     "output_type": "stream",
     "text": [
      "/home/jmcle/anaconda3/lib/python3.9/site-packages/geomagindices/base.py:37: FutureWarning: Passing method to DatetimeIndex.get_loc is deprecated and will raise in a future version. Use index.get_indexer([item], method=...) instead.\n",
      "  i = [dat.index.get_loc(t, method=\"nearest\") for t in dtime]\n",
      "/home/jmcle/anaconda3/lib/python3.9/site-packages/geomagindices/base.py:37: FutureWarning: Passing method to DatetimeIndex.get_loc is deprecated and will raise in a future version. Use index.get_indexer([item], method=...) instead.\n",
      "  i = [dat.index.get_loc(t, method=\"nearest\") for t in dtime]\n"
     ]
    },
    {
     "name": "stdout",
     "output_type": "stream",
     "text": [
      "Slice: 421. Convergence reached. Iterations: 1100. reduced chi2: 1.49\n"
     ]
    },
    {
     "name": "stderr",
     "output_type": "stream",
     "text": [
      "/home/jmcle/anaconda3/lib/python3.9/site-packages/geomagindices/base.py:37: FutureWarning: Passing method to DatetimeIndex.get_loc is deprecated and will raise in a future version. Use index.get_indexer([item], method=...) instead.\n",
      "  i = [dat.index.get_loc(t, method=\"nearest\") for t in dtime]\n",
      "/home/jmcle/anaconda3/lib/python3.9/site-packages/geomagindices/base.py:37: FutureWarning: Passing method to DatetimeIndex.get_loc is deprecated and will raise in a future version. Use index.get_indexer([item], method=...) instead.\n",
      "  i = [dat.index.get_loc(t, method=\"nearest\") for t in dtime]\n"
     ]
    },
    {
     "name": "stdout",
     "output_type": "stream",
     "text": [
      "Slice: 422. Convergence reached. Iterations: 1260. reduced chi2: 1.79\n"
     ]
    },
    {
     "name": "stderr",
     "output_type": "stream",
     "text": [
      "/home/jmcle/anaconda3/lib/python3.9/site-packages/geomagindices/base.py:37: FutureWarning: Passing method to DatetimeIndex.get_loc is deprecated and will raise in a future version. Use index.get_indexer([item], method=...) instead.\n",
      "  i = [dat.index.get_loc(t, method=\"nearest\") for t in dtime]\n",
      "/home/jmcle/anaconda3/lib/python3.9/site-packages/geomagindices/base.py:37: FutureWarning: Passing method to DatetimeIndex.get_loc is deprecated and will raise in a future version. Use index.get_indexer([item], method=...) instead.\n",
      "  i = [dat.index.get_loc(t, method=\"nearest\") for t in dtime]\n"
     ]
    },
    {
     "name": "stdout",
     "output_type": "stream",
     "text": [
      "Slice: 423. Convergence reached. Iterations: 986. reduced chi2: 1.45\n"
     ]
    },
    {
     "name": "stderr",
     "output_type": "stream",
     "text": [
      "/home/jmcle/anaconda3/lib/python3.9/site-packages/geomagindices/base.py:37: FutureWarning: Passing method to DatetimeIndex.get_loc is deprecated and will raise in a future version. Use index.get_indexer([item], method=...) instead.\n",
      "  i = [dat.index.get_loc(t, method=\"nearest\") for t in dtime]\n",
      "/home/jmcle/anaconda3/lib/python3.9/site-packages/geomagindices/base.py:37: FutureWarning: Passing method to DatetimeIndex.get_loc is deprecated and will raise in a future version. Use index.get_indexer([item], method=...) instead.\n",
      "  i = [dat.index.get_loc(t, method=\"nearest\") for t in dtime]\n"
     ]
    },
    {
     "name": "stdout",
     "output_type": "stream",
     "text": [
      "Slice: 424. Convergence reached. Iterations: 799. reduced chi2: 2.38\n"
     ]
    },
    {
     "name": "stderr",
     "output_type": "stream",
     "text": [
      "/home/jmcle/anaconda3/lib/python3.9/site-packages/geomagindices/base.py:37: FutureWarning: Passing method to DatetimeIndex.get_loc is deprecated and will raise in a future version. Use index.get_indexer([item], method=...) instead.\n",
      "  i = [dat.index.get_loc(t, method=\"nearest\") for t in dtime]\n",
      "/home/jmcle/anaconda3/lib/python3.9/site-packages/geomagindices/base.py:37: FutureWarning: Passing method to DatetimeIndex.get_loc is deprecated and will raise in a future version. Use index.get_indexer([item], method=...) instead.\n",
      "  i = [dat.index.get_loc(t, method=\"nearest\") for t in dtime]\n"
     ]
    },
    {
     "name": "stdout",
     "output_type": "stream",
     "text": [
      "Slice: 425. Convergence reached. Iterations: 1146. reduced chi2: 1.95\n"
     ]
    },
    {
     "name": "stderr",
     "output_type": "stream",
     "text": [
      "/home/jmcle/anaconda3/lib/python3.9/site-packages/geomagindices/base.py:37: FutureWarning: Passing method to DatetimeIndex.get_loc is deprecated and will raise in a future version. Use index.get_indexer([item], method=...) instead.\n",
      "  i = [dat.index.get_loc(t, method=\"nearest\") for t in dtime]\n",
      "/home/jmcle/anaconda3/lib/python3.9/site-packages/geomagindices/base.py:37: FutureWarning: Passing method to DatetimeIndex.get_loc is deprecated and will raise in a future version. Use index.get_indexer([item], method=...) instead.\n",
      "  i = [dat.index.get_loc(t, method=\"nearest\") for t in dtime]\n"
     ]
    },
    {
     "name": "stdout",
     "output_type": "stream",
     "text": [
      "Slice: 426. Convergence reached. Iterations: 953. reduced chi2: 1.78\n"
     ]
    },
    {
     "name": "stderr",
     "output_type": "stream",
     "text": [
      "/home/jmcle/anaconda3/lib/python3.9/site-packages/geomagindices/base.py:37: FutureWarning: Passing method to DatetimeIndex.get_loc is deprecated and will raise in a future version. Use index.get_indexer([item], method=...) instead.\n",
      "  i = [dat.index.get_loc(t, method=\"nearest\") for t in dtime]\n",
      "/home/jmcle/anaconda3/lib/python3.9/site-packages/geomagindices/base.py:37: FutureWarning: Passing method to DatetimeIndex.get_loc is deprecated and will raise in a future version. Use index.get_indexer([item], method=...) instead.\n",
      "  i = [dat.index.get_loc(t, method=\"nearest\") for t in dtime]\n"
     ]
    },
    {
     "name": "stdout",
     "output_type": "stream",
     "text": [
      "Slice: 427. Convergence reached. Iterations: 675. reduced chi2: 1.6\n"
     ]
    },
    {
     "name": "stderr",
     "output_type": "stream",
     "text": [
      "/home/jmcle/anaconda3/lib/python3.9/site-packages/geomagindices/base.py:37: FutureWarning: Passing method to DatetimeIndex.get_loc is deprecated and will raise in a future version. Use index.get_indexer([item], method=...) instead.\n",
      "  i = [dat.index.get_loc(t, method=\"nearest\") for t in dtime]\n",
      "/home/jmcle/anaconda3/lib/python3.9/site-packages/geomagindices/base.py:37: FutureWarning: Passing method to DatetimeIndex.get_loc is deprecated and will raise in a future version. Use index.get_indexer([item], method=...) instead.\n",
      "  i = [dat.index.get_loc(t, method=\"nearest\") for t in dtime]\n"
     ]
    },
    {
     "name": "stdout",
     "output_type": "stream",
     "text": [
      "Slice: 428. Convergence reached. Iterations: 714. reduced chi2: 1.98\n"
     ]
    },
    {
     "name": "stderr",
     "output_type": "stream",
     "text": [
      "/home/jmcle/anaconda3/lib/python3.9/site-packages/geomagindices/base.py:37: FutureWarning: Passing method to DatetimeIndex.get_loc is deprecated and will raise in a future version. Use index.get_indexer([item], method=...) instead.\n",
      "  i = [dat.index.get_loc(t, method=\"nearest\") for t in dtime]\n",
      "/home/jmcle/anaconda3/lib/python3.9/site-packages/geomagindices/base.py:37: FutureWarning: Passing method to DatetimeIndex.get_loc is deprecated and will raise in a future version. Use index.get_indexer([item], method=...) instead.\n",
      "  i = [dat.index.get_loc(t, method=\"nearest\") for t in dtime]\n"
     ]
    },
    {
     "name": "stdout",
     "output_type": "stream",
     "text": [
      "Slice: 429. Convergence reached. Iterations: 767. reduced chi2: 1.6\n"
     ]
    },
    {
     "name": "stderr",
     "output_type": "stream",
     "text": [
      "/home/jmcle/anaconda3/lib/python3.9/site-packages/geomagindices/base.py:37: FutureWarning: Passing method to DatetimeIndex.get_loc is deprecated and will raise in a future version. Use index.get_indexer([item], method=...) instead.\n",
      "  i = [dat.index.get_loc(t, method=\"nearest\") for t in dtime]\n",
      "/home/jmcle/anaconda3/lib/python3.9/site-packages/geomagindices/base.py:37: FutureWarning: Passing method to DatetimeIndex.get_loc is deprecated and will raise in a future version. Use index.get_indexer([item], method=...) instead.\n",
      "  i = [dat.index.get_loc(t, method=\"nearest\") for t in dtime]\n"
     ]
    },
    {
     "name": "stdout",
     "output_type": "stream",
     "text": [
      "Slice: 430. Convergence reached. Iterations: 846. reduced chi2: 2.08\n"
     ]
    },
    {
     "name": "stderr",
     "output_type": "stream",
     "text": [
      "/home/jmcle/anaconda3/lib/python3.9/site-packages/geomagindices/base.py:37: FutureWarning: Passing method to DatetimeIndex.get_loc is deprecated and will raise in a future version. Use index.get_indexer([item], method=...) instead.\n",
      "  i = [dat.index.get_loc(t, method=\"nearest\") for t in dtime]\n",
      "/home/jmcle/anaconda3/lib/python3.9/site-packages/geomagindices/base.py:37: FutureWarning: Passing method to DatetimeIndex.get_loc is deprecated and will raise in a future version. Use index.get_indexer([item], method=...) instead.\n",
      "  i = [dat.index.get_loc(t, method=\"nearest\") for t in dtime]\n"
     ]
    },
    {
     "name": "stdout",
     "output_type": "stream",
     "text": [
      "Slice: 431. Convergence reached. Iterations: 1666. reduced chi2: 2.03\n"
     ]
    },
    {
     "name": "stderr",
     "output_type": "stream",
     "text": [
      "/home/jmcle/anaconda3/lib/python3.9/site-packages/geomagindices/base.py:37: FutureWarning: Passing method to DatetimeIndex.get_loc is deprecated and will raise in a future version. Use index.get_indexer([item], method=...) instead.\n",
      "  i = [dat.index.get_loc(t, method=\"nearest\") for t in dtime]\n",
      "/home/jmcle/anaconda3/lib/python3.9/site-packages/geomagindices/base.py:37: FutureWarning: Passing method to DatetimeIndex.get_loc is deprecated and will raise in a future version. Use index.get_indexer([item], method=...) instead.\n",
      "  i = [dat.index.get_loc(t, method=\"nearest\") for t in dtime]\n"
     ]
    },
    {
     "name": "stdout",
     "output_type": "stream",
     "text": [
      "Slice: 432. Convergence reached. Iterations: 804. reduced chi2: 1.51\n"
     ]
    },
    {
     "name": "stderr",
     "output_type": "stream",
     "text": [
      "/home/jmcle/anaconda3/lib/python3.9/site-packages/geomagindices/base.py:37: FutureWarning: Passing method to DatetimeIndex.get_loc is deprecated and will raise in a future version. Use index.get_indexer([item], method=...) instead.\n",
      "  i = [dat.index.get_loc(t, method=\"nearest\") for t in dtime]\n",
      "/home/jmcle/anaconda3/lib/python3.9/site-packages/geomagindices/base.py:37: FutureWarning: Passing method to DatetimeIndex.get_loc is deprecated and will raise in a future version. Use index.get_indexer([item], method=...) instead.\n",
      "  i = [dat.index.get_loc(t, method=\"nearest\") for t in dtime]\n"
     ]
    },
    {
     "name": "stdout",
     "output_type": "stream",
     "text": [
      "Slice: 433. Convergence reached. Iterations: 590. reduced chi2: 1.78\n"
     ]
    },
    {
     "name": "stderr",
     "output_type": "stream",
     "text": [
      "/home/jmcle/anaconda3/lib/python3.9/site-packages/geomagindices/base.py:37: FutureWarning: Passing method to DatetimeIndex.get_loc is deprecated and will raise in a future version. Use index.get_indexer([item], method=...) instead.\n",
      "  i = [dat.index.get_loc(t, method=\"nearest\") for t in dtime]\n",
      "/home/jmcle/anaconda3/lib/python3.9/site-packages/geomagindices/base.py:37: FutureWarning: Passing method to DatetimeIndex.get_loc is deprecated and will raise in a future version. Use index.get_indexer([item], method=...) instead.\n",
      "  i = [dat.index.get_loc(t, method=\"nearest\") for t in dtime]\n"
     ]
    },
    {
     "name": "stdout",
     "output_type": "stream",
     "text": [
      "Slice: 434. Convergence reached. Iterations: 773. reduced chi2: 2.15\n"
     ]
    },
    {
     "name": "stderr",
     "output_type": "stream",
     "text": [
      "/home/jmcle/anaconda3/lib/python3.9/site-packages/geomagindices/base.py:37: FutureWarning: Passing method to DatetimeIndex.get_loc is deprecated and will raise in a future version. Use index.get_indexer([item], method=...) instead.\n",
      "  i = [dat.index.get_loc(t, method=\"nearest\") for t in dtime]\n",
      "/home/jmcle/anaconda3/lib/python3.9/site-packages/geomagindices/base.py:37: FutureWarning: Passing method to DatetimeIndex.get_loc is deprecated and will raise in a future version. Use index.get_indexer([item], method=...) instead.\n",
      "  i = [dat.index.get_loc(t, method=\"nearest\") for t in dtime]\n"
     ]
    },
    {
     "name": "stdout",
     "output_type": "stream",
     "text": [
      "Slice: 435. Convergence reached. Iterations: 397. reduced chi2: 1.28\n"
     ]
    },
    {
     "name": "stderr",
     "output_type": "stream",
     "text": [
      "/home/jmcle/anaconda3/lib/python3.9/site-packages/geomagindices/base.py:37: FutureWarning: Passing method to DatetimeIndex.get_loc is deprecated and will raise in a future version. Use index.get_indexer([item], method=...) instead.\n",
      "  i = [dat.index.get_loc(t, method=\"nearest\") for t in dtime]\n",
      "/home/jmcle/anaconda3/lib/python3.9/site-packages/geomagindices/base.py:37: FutureWarning: Passing method to DatetimeIndex.get_loc is deprecated and will raise in a future version. Use index.get_indexer([item], method=...) instead.\n",
      "  i = [dat.index.get_loc(t, method=\"nearest\") for t in dtime]\n"
     ]
    },
    {
     "name": "stdout",
     "output_type": "stream",
     "text": [
      "Slice: 436. Convergence reached. Iterations: 156. reduced chi2: 0.87\n"
     ]
    },
    {
     "name": "stderr",
     "output_type": "stream",
     "text": [
      "/home/jmcle/anaconda3/lib/python3.9/site-packages/geomagindices/base.py:37: FutureWarning: Passing method to DatetimeIndex.get_loc is deprecated and will raise in a future version. Use index.get_indexer([item], method=...) instead.\n",
      "  i = [dat.index.get_loc(t, method=\"nearest\") for t in dtime]\n",
      "/home/jmcle/anaconda3/lib/python3.9/site-packages/geomagindices/base.py:37: FutureWarning: Passing method to DatetimeIndex.get_loc is deprecated and will raise in a future version. Use index.get_indexer([item], method=...) instead.\n",
      "  i = [dat.index.get_loc(t, method=\"nearest\") for t in dtime]\n"
     ]
    },
    {
     "name": "stdout",
     "output_type": "stream",
     "text": [
      "Slice: 437. Convergence reached. Iterations: 253. reduced chi2: 1.33\n"
     ]
    },
    {
     "name": "stderr",
     "output_type": "stream",
     "text": [
      "/home/jmcle/anaconda3/lib/python3.9/site-packages/geomagindices/base.py:37: FutureWarning: Passing method to DatetimeIndex.get_loc is deprecated and will raise in a future version. Use index.get_indexer([item], method=...) instead.\n",
      "  i = [dat.index.get_loc(t, method=\"nearest\") for t in dtime]\n",
      "/home/jmcle/anaconda3/lib/python3.9/site-packages/geomagindices/base.py:37: FutureWarning: Passing method to DatetimeIndex.get_loc is deprecated and will raise in a future version. Use index.get_indexer([item], method=...) instead.\n",
      "  i = [dat.index.get_loc(t, method=\"nearest\") for t in dtime]\n"
     ]
    },
    {
     "name": "stdout",
     "output_type": "stream",
     "text": [
      "Slice: 438. Convergence reached. Iterations: 367. reduced chi2: 1.71\n"
     ]
    },
    {
     "name": "stderr",
     "output_type": "stream",
     "text": [
      "/home/jmcle/anaconda3/lib/python3.9/site-packages/geomagindices/base.py:37: FutureWarning: Passing method to DatetimeIndex.get_loc is deprecated and will raise in a future version. Use index.get_indexer([item], method=...) instead.\n",
      "  i = [dat.index.get_loc(t, method=\"nearest\") for t in dtime]\n",
      "/home/jmcle/anaconda3/lib/python3.9/site-packages/geomagindices/base.py:37: FutureWarning: Passing method to DatetimeIndex.get_loc is deprecated and will raise in a future version. Use index.get_indexer([item], method=...) instead.\n",
      "  i = [dat.index.get_loc(t, method=\"nearest\") for t in dtime]\n"
     ]
    },
    {
     "name": "stdout",
     "output_type": "stream",
     "text": [
      "Slice: 439. Convergence reached. Iterations: 557. reduced chi2: 1.35\n"
     ]
    },
    {
     "name": "stderr",
     "output_type": "stream",
     "text": [
      "/home/jmcle/anaconda3/lib/python3.9/site-packages/geomagindices/base.py:37: FutureWarning: Passing method to DatetimeIndex.get_loc is deprecated and will raise in a future version. Use index.get_indexer([item], method=...) instead.\n",
      "  i = [dat.index.get_loc(t, method=\"nearest\") for t in dtime]\n",
      "/home/jmcle/anaconda3/lib/python3.9/site-packages/geomagindices/base.py:37: FutureWarning: Passing method to DatetimeIndex.get_loc is deprecated and will raise in a future version. Use index.get_indexer([item], method=...) instead.\n",
      "  i = [dat.index.get_loc(t, method=\"nearest\") for t in dtime]\n"
     ]
    },
    {
     "name": "stdout",
     "output_type": "stream",
     "text": [
      "Slice: 440. Convergence reached. Iterations: 492. reduced chi2: 1.87\n"
     ]
    },
    {
     "name": "stderr",
     "output_type": "stream",
     "text": [
      "/home/jmcle/anaconda3/lib/python3.9/site-packages/geomagindices/base.py:37: FutureWarning: Passing method to DatetimeIndex.get_loc is deprecated and will raise in a future version. Use index.get_indexer([item], method=...) instead.\n",
      "  i = [dat.index.get_loc(t, method=\"nearest\") for t in dtime]\n",
      "/home/jmcle/anaconda3/lib/python3.9/site-packages/geomagindices/base.py:37: FutureWarning: Passing method to DatetimeIndex.get_loc is deprecated and will raise in a future version. Use index.get_indexer([item], method=...) instead.\n",
      "  i = [dat.index.get_loc(t, method=\"nearest\") for t in dtime]\n"
     ]
    },
    {
     "name": "stdout",
     "output_type": "stream",
     "text": [
      "Slice: 441. Convergence reached. Iterations: 610. reduced chi2: 1.82\n"
     ]
    },
    {
     "name": "stderr",
     "output_type": "stream",
     "text": [
      "/home/jmcle/anaconda3/lib/python3.9/site-packages/geomagindices/base.py:37: FutureWarning: Passing method to DatetimeIndex.get_loc is deprecated and will raise in a future version. Use index.get_indexer([item], method=...) instead.\n",
      "  i = [dat.index.get_loc(t, method=\"nearest\") for t in dtime]\n",
      "/home/jmcle/anaconda3/lib/python3.9/site-packages/geomagindices/base.py:37: FutureWarning: Passing method to DatetimeIndex.get_loc is deprecated and will raise in a future version. Use index.get_indexer([item], method=...) instead.\n",
      "  i = [dat.index.get_loc(t, method=\"nearest\") for t in dtime]\n"
     ]
    },
    {
     "name": "stdout",
     "output_type": "stream",
     "text": [
      "Slice: 442. Convergence reached. Iterations: 463. reduced chi2: 1.23\n"
     ]
    },
    {
     "name": "stderr",
     "output_type": "stream",
     "text": [
      "/home/jmcle/anaconda3/lib/python3.9/site-packages/geomagindices/base.py:37: FutureWarning: Passing method to DatetimeIndex.get_loc is deprecated and will raise in a future version. Use index.get_indexer([item], method=...) instead.\n",
      "  i = [dat.index.get_loc(t, method=\"nearest\") for t in dtime]\n",
      "/home/jmcle/anaconda3/lib/python3.9/site-packages/geomagindices/base.py:37: FutureWarning: Passing method to DatetimeIndex.get_loc is deprecated and will raise in a future version. Use index.get_indexer([item], method=...) instead.\n",
      "  i = [dat.index.get_loc(t, method=\"nearest\") for t in dtime]\n"
     ]
    },
    {
     "name": "stdout",
     "output_type": "stream",
     "text": [
      "Slice: 443. Convergence reached. Iterations: 696. reduced chi2: 1.88\n"
     ]
    },
    {
     "name": "stderr",
     "output_type": "stream",
     "text": [
      "/home/jmcle/anaconda3/lib/python3.9/site-packages/geomagindices/base.py:37: FutureWarning: Passing method to DatetimeIndex.get_loc is deprecated and will raise in a future version. Use index.get_indexer([item], method=...) instead.\n",
      "  i = [dat.index.get_loc(t, method=\"nearest\") for t in dtime]\n",
      "/home/jmcle/anaconda3/lib/python3.9/site-packages/geomagindices/base.py:37: FutureWarning: Passing method to DatetimeIndex.get_loc is deprecated and will raise in a future version. Use index.get_indexer([item], method=...) instead.\n",
      "  i = [dat.index.get_loc(t, method=\"nearest\") for t in dtime]\n"
     ]
    },
    {
     "name": "stdout",
     "output_type": "stream",
     "text": [
      "Slice: 444. Convergence reached. Iterations: 383. reduced chi2: 1.99\n"
     ]
    },
    {
     "name": "stderr",
     "output_type": "stream",
     "text": [
      "/home/jmcle/anaconda3/lib/python3.9/site-packages/geomagindices/base.py:37: FutureWarning: Passing method to DatetimeIndex.get_loc is deprecated and will raise in a future version. Use index.get_indexer([item], method=...) instead.\n",
      "  i = [dat.index.get_loc(t, method=\"nearest\") for t in dtime]\n",
      "/home/jmcle/anaconda3/lib/python3.9/site-packages/geomagindices/base.py:37: FutureWarning: Passing method to DatetimeIndex.get_loc is deprecated and will raise in a future version. Use index.get_indexer([item], method=...) instead.\n",
      "  i = [dat.index.get_loc(t, method=\"nearest\") for t in dtime]\n"
     ]
    },
    {
     "name": "stdout",
     "output_type": "stream",
     "text": [
      "Slice: 445. Convergence reached. Iterations: 723. reduced chi2: 1.67\n"
     ]
    },
    {
     "name": "stderr",
     "output_type": "stream",
     "text": [
      "/home/jmcle/anaconda3/lib/python3.9/site-packages/geomagindices/base.py:37: FutureWarning: Passing method to DatetimeIndex.get_loc is deprecated and will raise in a future version. Use index.get_indexer([item], method=...) instead.\n",
      "  i = [dat.index.get_loc(t, method=\"nearest\") for t in dtime]\n",
      "/home/jmcle/anaconda3/lib/python3.9/site-packages/geomagindices/base.py:37: FutureWarning: Passing method to DatetimeIndex.get_loc is deprecated and will raise in a future version. Use index.get_indexer([item], method=...) instead.\n",
      "  i = [dat.index.get_loc(t, method=\"nearest\") for t in dtime]\n"
     ]
    },
    {
     "name": "stdout",
     "output_type": "stream",
     "text": [
      "Slice: 446. Convergence reached. Iterations: 593. reduced chi2: 1.72\n"
     ]
    },
    {
     "name": "stderr",
     "output_type": "stream",
     "text": [
      "/home/jmcle/anaconda3/lib/python3.9/site-packages/geomagindices/base.py:37: FutureWarning: Passing method to DatetimeIndex.get_loc is deprecated and will raise in a future version. Use index.get_indexer([item], method=...) instead.\n",
      "  i = [dat.index.get_loc(t, method=\"nearest\") for t in dtime]\n",
      "/home/jmcle/anaconda3/lib/python3.9/site-packages/geomagindices/base.py:37: FutureWarning: Passing method to DatetimeIndex.get_loc is deprecated and will raise in a future version. Use index.get_indexer([item], method=...) instead.\n",
      "  i = [dat.index.get_loc(t, method=\"nearest\") for t in dtime]\n"
     ]
    },
    {
     "name": "stdout",
     "output_type": "stream",
     "text": [
      "Slice: 447. Convergence reached. Iterations: 709. reduced chi2: 1.62\n"
     ]
    },
    {
     "name": "stderr",
     "output_type": "stream",
     "text": [
      "/home/jmcle/anaconda3/lib/python3.9/site-packages/geomagindices/base.py:37: FutureWarning: Passing method to DatetimeIndex.get_loc is deprecated and will raise in a future version. Use index.get_indexer([item], method=...) instead.\n",
      "  i = [dat.index.get_loc(t, method=\"nearest\") for t in dtime]\n",
      "/home/jmcle/anaconda3/lib/python3.9/site-packages/geomagindices/base.py:37: FutureWarning: Passing method to DatetimeIndex.get_loc is deprecated and will raise in a future version. Use index.get_indexer([item], method=...) instead.\n",
      "  i = [dat.index.get_loc(t, method=\"nearest\") for t in dtime]\n"
     ]
    },
    {
     "name": "stdout",
     "output_type": "stream",
     "text": [
      "Slice: 448. Convergence reached. Iterations: 949. reduced chi2: 2.38\n"
     ]
    },
    {
     "name": "stderr",
     "output_type": "stream",
     "text": [
      "/home/jmcle/anaconda3/lib/python3.9/site-packages/geomagindices/base.py:37: FutureWarning: Passing method to DatetimeIndex.get_loc is deprecated and will raise in a future version. Use index.get_indexer([item], method=...) instead.\n",
      "  i = [dat.index.get_loc(t, method=\"nearest\") for t in dtime]\n",
      "/home/jmcle/anaconda3/lib/python3.9/site-packages/geomagindices/base.py:37: FutureWarning: Passing method to DatetimeIndex.get_loc is deprecated and will raise in a future version. Use index.get_indexer([item], method=...) instead.\n",
      "  i = [dat.index.get_loc(t, method=\"nearest\") for t in dtime]\n"
     ]
    },
    {
     "name": "stdout",
     "output_type": "stream",
     "text": [
      "Slice: 449. Convergence reached. Iterations: 639. reduced chi2: 1.66\n"
     ]
    },
    {
     "name": "stderr",
     "output_type": "stream",
     "text": [
      "/home/jmcle/anaconda3/lib/python3.9/site-packages/geomagindices/base.py:37: FutureWarning: Passing method to DatetimeIndex.get_loc is deprecated and will raise in a future version. Use index.get_indexer([item], method=...) instead.\n",
      "  i = [dat.index.get_loc(t, method=\"nearest\") for t in dtime]\n",
      "/home/jmcle/anaconda3/lib/python3.9/site-packages/geomagindices/base.py:37: FutureWarning: Passing method to DatetimeIndex.get_loc is deprecated and will raise in a future version. Use index.get_indexer([item], method=...) instead.\n",
      "  i = [dat.index.get_loc(t, method=\"nearest\") for t in dtime]\n"
     ]
    },
    {
     "name": "stdout",
     "output_type": "stream",
     "text": [
      "Slice: 450. Convergence reached. Iterations: 647. reduced chi2: 1.54\n"
     ]
    },
    {
     "name": "stderr",
     "output_type": "stream",
     "text": [
      "/home/jmcle/anaconda3/lib/python3.9/site-packages/geomagindices/base.py:37: FutureWarning: Passing method to DatetimeIndex.get_loc is deprecated and will raise in a future version. Use index.get_indexer([item], method=...) instead.\n",
      "  i = [dat.index.get_loc(t, method=\"nearest\") for t in dtime]\n",
      "/home/jmcle/anaconda3/lib/python3.9/site-packages/geomagindices/base.py:37: FutureWarning: Passing method to DatetimeIndex.get_loc is deprecated and will raise in a future version. Use index.get_indexer([item], method=...) instead.\n",
      "  i = [dat.index.get_loc(t, method=\"nearest\") for t in dtime]\n"
     ]
    },
    {
     "name": "stdout",
     "output_type": "stream",
     "text": [
      "Slice: 451. Convergence reached. Iterations: 736. reduced chi2: 2.07\n"
     ]
    },
    {
     "name": "stderr",
     "output_type": "stream",
     "text": [
      "/home/jmcle/anaconda3/lib/python3.9/site-packages/geomagindices/base.py:37: FutureWarning: Passing method to DatetimeIndex.get_loc is deprecated and will raise in a future version. Use index.get_indexer([item], method=...) instead.\n",
      "  i = [dat.index.get_loc(t, method=\"nearest\") for t in dtime]\n",
      "/home/jmcle/anaconda3/lib/python3.9/site-packages/geomagindices/base.py:37: FutureWarning: Passing method to DatetimeIndex.get_loc is deprecated and will raise in a future version. Use index.get_indexer([item], method=...) instead.\n",
      "  i = [dat.index.get_loc(t, method=\"nearest\") for t in dtime]\n"
     ]
    },
    {
     "name": "stdout",
     "output_type": "stream",
     "text": [
      "Slice: 452. Convergence reached. Iterations: 524. reduced chi2: 1.62\n"
     ]
    },
    {
     "name": "stderr",
     "output_type": "stream",
     "text": [
      "/home/jmcle/anaconda3/lib/python3.9/site-packages/geomagindices/base.py:37: FutureWarning: Passing method to DatetimeIndex.get_loc is deprecated and will raise in a future version. Use index.get_indexer([item], method=...) instead.\n",
      "  i = [dat.index.get_loc(t, method=\"nearest\") for t in dtime]\n",
      "/home/jmcle/anaconda3/lib/python3.9/site-packages/geomagindices/base.py:37: FutureWarning: Passing method to DatetimeIndex.get_loc is deprecated and will raise in a future version. Use index.get_indexer([item], method=...) instead.\n",
      "  i = [dat.index.get_loc(t, method=\"nearest\") for t in dtime]\n"
     ]
    },
    {
     "name": "stdout",
     "output_type": "stream",
     "text": [
      "Slice: 453. Convergence reached. Iterations: 492. reduced chi2: 1.66\n"
     ]
    },
    {
     "name": "stderr",
     "output_type": "stream",
     "text": [
      "/home/jmcle/anaconda3/lib/python3.9/site-packages/geomagindices/base.py:37: FutureWarning: Passing method to DatetimeIndex.get_loc is deprecated and will raise in a future version. Use index.get_indexer([item], method=...) instead.\n",
      "  i = [dat.index.get_loc(t, method=\"nearest\") for t in dtime]\n",
      "/home/jmcle/anaconda3/lib/python3.9/site-packages/geomagindices/base.py:37: FutureWarning: Passing method to DatetimeIndex.get_loc is deprecated and will raise in a future version. Use index.get_indexer([item], method=...) instead.\n",
      "  i = [dat.index.get_loc(t, method=\"nearest\") for t in dtime]\n"
     ]
    },
    {
     "name": "stdout",
     "output_type": "stream",
     "text": [
      "Slice: 454. Convergence reached. Iterations: 538. reduced chi2: 1.65\n"
     ]
    },
    {
     "name": "stderr",
     "output_type": "stream",
     "text": [
      "/home/jmcle/anaconda3/lib/python3.9/site-packages/geomagindices/base.py:37: FutureWarning: Passing method to DatetimeIndex.get_loc is deprecated and will raise in a future version. Use index.get_indexer([item], method=...) instead.\n",
      "  i = [dat.index.get_loc(t, method=\"nearest\") for t in dtime]\n",
      "/home/jmcle/anaconda3/lib/python3.9/site-packages/geomagindices/base.py:37: FutureWarning: Passing method to DatetimeIndex.get_loc is deprecated and will raise in a future version. Use index.get_indexer([item], method=...) instead.\n",
      "  i = [dat.index.get_loc(t, method=\"nearest\") for t in dtime]\n"
     ]
    },
    {
     "name": "stdout",
     "output_type": "stream",
     "text": [
      "Slice: 455. Convergence reached. Iterations: 849. reduced chi2: 2.19\n"
     ]
    },
    {
     "name": "stderr",
     "output_type": "stream",
     "text": [
      "/home/jmcle/anaconda3/lib/python3.9/site-packages/geomagindices/base.py:37: FutureWarning: Passing method to DatetimeIndex.get_loc is deprecated and will raise in a future version. Use index.get_indexer([item], method=...) instead.\n",
      "  i = [dat.index.get_loc(t, method=\"nearest\") for t in dtime]\n",
      "/home/jmcle/anaconda3/lib/python3.9/site-packages/geomagindices/base.py:37: FutureWarning: Passing method to DatetimeIndex.get_loc is deprecated and will raise in a future version. Use index.get_indexer([item], method=...) instead.\n",
      "  i = [dat.index.get_loc(t, method=\"nearest\") for t in dtime]\n"
     ]
    },
    {
     "name": "stdout",
     "output_type": "stream",
     "text": [
      "Slice: 456. Convergence reached. Iterations: 1344. reduced chi2: 1.52\n"
     ]
    },
    {
     "name": "stderr",
     "output_type": "stream",
     "text": [
      "/home/jmcle/anaconda3/lib/python3.9/site-packages/geomagindices/base.py:37: FutureWarning: Passing method to DatetimeIndex.get_loc is deprecated and will raise in a future version. Use index.get_indexer([item], method=...) instead.\n",
      "  i = [dat.index.get_loc(t, method=\"nearest\") for t in dtime]\n",
      "/home/jmcle/anaconda3/lib/python3.9/site-packages/geomagindices/base.py:37: FutureWarning: Passing method to DatetimeIndex.get_loc is deprecated and will raise in a future version. Use index.get_indexer([item], method=...) instead.\n",
      "  i = [dat.index.get_loc(t, method=\"nearest\") for t in dtime]\n"
     ]
    },
    {
     "name": "stdout",
     "output_type": "stream",
     "text": [
      "Slice: 457. Convergence reached. Iterations: 924. reduced chi2: 1.5\n"
     ]
    },
    {
     "name": "stderr",
     "output_type": "stream",
     "text": [
      "/home/jmcle/anaconda3/lib/python3.9/site-packages/geomagindices/base.py:37: FutureWarning: Passing method to DatetimeIndex.get_loc is deprecated and will raise in a future version. Use index.get_indexer([item], method=...) instead.\n",
      "  i = [dat.index.get_loc(t, method=\"nearest\") for t in dtime]\n",
      "/home/jmcle/anaconda3/lib/python3.9/site-packages/geomagindices/base.py:37: FutureWarning: Passing method to DatetimeIndex.get_loc is deprecated and will raise in a future version. Use index.get_indexer([item], method=...) instead.\n",
      "  i = [dat.index.get_loc(t, method=\"nearest\") for t in dtime]\n"
     ]
    },
    {
     "name": "stdout",
     "output_type": "stream",
     "text": [
      "Slice: 458. Convergence reached. Iterations: 879. reduced chi2: 1.8\n"
     ]
    },
    {
     "name": "stderr",
     "output_type": "stream",
     "text": [
      "/home/jmcle/anaconda3/lib/python3.9/site-packages/geomagindices/base.py:37: FutureWarning: Passing method to DatetimeIndex.get_loc is deprecated and will raise in a future version. Use index.get_indexer([item], method=...) instead.\n",
      "  i = [dat.index.get_loc(t, method=\"nearest\") for t in dtime]\n",
      "/home/jmcle/anaconda3/lib/python3.9/site-packages/geomagindices/base.py:37: FutureWarning: Passing method to DatetimeIndex.get_loc is deprecated and will raise in a future version. Use index.get_indexer([item], method=...) instead.\n",
      "  i = [dat.index.get_loc(t, method=\"nearest\") for t in dtime]\n"
     ]
    },
    {
     "name": "stdout",
     "output_type": "stream",
     "text": [
      "Slice: 459. Convergence reached. Iterations: 968. reduced chi2: 2.18\n"
     ]
    },
    {
     "name": "stderr",
     "output_type": "stream",
     "text": [
      "/home/jmcle/anaconda3/lib/python3.9/site-packages/geomagindices/base.py:37: FutureWarning: Passing method to DatetimeIndex.get_loc is deprecated and will raise in a future version. Use index.get_indexer([item], method=...) instead.\n",
      "  i = [dat.index.get_loc(t, method=\"nearest\") for t in dtime]\n",
      "/home/jmcle/anaconda3/lib/python3.9/site-packages/geomagindices/base.py:37: FutureWarning: Passing method to DatetimeIndex.get_loc is deprecated and will raise in a future version. Use index.get_indexer([item], method=...) instead.\n",
      "  i = [dat.index.get_loc(t, method=\"nearest\") for t in dtime]\n"
     ]
    },
    {
     "name": "stdout",
     "output_type": "stream",
     "text": [
      "Slice: 460. Convergence reached. Iterations: 784. reduced chi2: 2.49\n"
     ]
    },
    {
     "name": "stderr",
     "output_type": "stream",
     "text": [
      "/home/jmcle/anaconda3/lib/python3.9/site-packages/geomagindices/base.py:37: FutureWarning: Passing method to DatetimeIndex.get_loc is deprecated and will raise in a future version. Use index.get_indexer([item], method=...) instead.\n",
      "  i = [dat.index.get_loc(t, method=\"nearest\") for t in dtime]\n",
      "/home/jmcle/anaconda3/lib/python3.9/site-packages/geomagindices/base.py:37: FutureWarning: Passing method to DatetimeIndex.get_loc is deprecated and will raise in a future version. Use index.get_indexer([item], method=...) instead.\n",
      "  i = [dat.index.get_loc(t, method=\"nearest\") for t in dtime]\n"
     ]
    },
    {
     "name": "stdout",
     "output_type": "stream",
     "text": [
      "Slice: 461. Convergence reached. Iterations: 763. reduced chi2: 1.43\n"
     ]
    },
    {
     "name": "stderr",
     "output_type": "stream",
     "text": [
      "/home/jmcle/anaconda3/lib/python3.9/site-packages/geomagindices/base.py:37: FutureWarning: Passing method to DatetimeIndex.get_loc is deprecated and will raise in a future version. Use index.get_indexer([item], method=...) instead.\n",
      "  i = [dat.index.get_loc(t, method=\"nearest\") for t in dtime]\n",
      "/home/jmcle/anaconda3/lib/python3.9/site-packages/geomagindices/base.py:37: FutureWarning: Passing method to DatetimeIndex.get_loc is deprecated and will raise in a future version. Use index.get_indexer([item], method=...) instead.\n",
      "  i = [dat.index.get_loc(t, method=\"nearest\") for t in dtime]\n"
     ]
    },
    {
     "name": "stdout",
     "output_type": "stream",
     "text": [
      "Slice: 462. Convergence reached. Iterations: 609. reduced chi2: 1.14\n"
     ]
    },
    {
     "name": "stderr",
     "output_type": "stream",
     "text": [
      "/home/jmcle/anaconda3/lib/python3.9/site-packages/geomagindices/base.py:37: FutureWarning: Passing method to DatetimeIndex.get_loc is deprecated and will raise in a future version. Use index.get_indexer([item], method=...) instead.\n",
      "  i = [dat.index.get_loc(t, method=\"nearest\") for t in dtime]\n",
      "/home/jmcle/anaconda3/lib/python3.9/site-packages/geomagindices/base.py:37: FutureWarning: Passing method to DatetimeIndex.get_loc is deprecated and will raise in a future version. Use index.get_indexer([item], method=...) instead.\n",
      "  i = [dat.index.get_loc(t, method=\"nearest\") for t in dtime]\n"
     ]
    },
    {
     "name": "stdout",
     "output_type": "stream",
     "text": [
      "Slice: 463. Convergence reached. Iterations: 826. reduced chi2: 2.1\n"
     ]
    },
    {
     "name": "stderr",
     "output_type": "stream",
     "text": [
      "/home/jmcle/anaconda3/lib/python3.9/site-packages/geomagindices/base.py:37: FutureWarning: Passing method to DatetimeIndex.get_loc is deprecated and will raise in a future version. Use index.get_indexer([item], method=...) instead.\n",
      "  i = [dat.index.get_loc(t, method=\"nearest\") for t in dtime]\n",
      "/home/jmcle/anaconda3/lib/python3.9/site-packages/geomagindices/base.py:37: FutureWarning: Passing method to DatetimeIndex.get_loc is deprecated and will raise in a future version. Use index.get_indexer([item], method=...) instead.\n",
      "  i = [dat.index.get_loc(t, method=\"nearest\") for t in dtime]\n"
     ]
    },
    {
     "name": "stdout",
     "output_type": "stream",
     "text": [
      "Slice: 464. Convergence reached. Iterations: 989. reduced chi2: 1.54\n"
     ]
    },
    {
     "name": "stderr",
     "output_type": "stream",
     "text": [
      "/home/jmcle/anaconda3/lib/python3.9/site-packages/geomagindices/base.py:37: FutureWarning: Passing method to DatetimeIndex.get_loc is deprecated and will raise in a future version. Use index.get_indexer([item], method=...) instead.\n",
      "  i = [dat.index.get_loc(t, method=\"nearest\") for t in dtime]\n",
      "/home/jmcle/anaconda3/lib/python3.9/site-packages/geomagindices/base.py:37: FutureWarning: Passing method to DatetimeIndex.get_loc is deprecated and will raise in a future version. Use index.get_indexer([item], method=...) instead.\n",
      "  i = [dat.index.get_loc(t, method=\"nearest\") for t in dtime]\n"
     ]
    },
    {
     "name": "stdout",
     "output_type": "stream",
     "text": [
      "Slice: 465. Convergence reached. Iterations: 601. reduced chi2: 2.49\n"
     ]
    },
    {
     "name": "stderr",
     "output_type": "stream",
     "text": [
      "/home/jmcle/anaconda3/lib/python3.9/site-packages/geomagindices/base.py:37: FutureWarning: Passing method to DatetimeIndex.get_loc is deprecated and will raise in a future version. Use index.get_indexer([item], method=...) instead.\n",
      "  i = [dat.index.get_loc(t, method=\"nearest\") for t in dtime]\n",
      "/home/jmcle/anaconda3/lib/python3.9/site-packages/geomagindices/base.py:37: FutureWarning: Passing method to DatetimeIndex.get_loc is deprecated and will raise in a future version. Use index.get_indexer([item], method=...) instead.\n",
      "  i = [dat.index.get_loc(t, method=\"nearest\") for t in dtime]\n"
     ]
    },
    {
     "name": "stdout",
     "output_type": "stream",
     "text": [
      "Slice: 466. Convergence reached. Iterations: 441. reduced chi2: 2.15\n"
     ]
    },
    {
     "name": "stderr",
     "output_type": "stream",
     "text": [
      "/home/jmcle/anaconda3/lib/python3.9/site-packages/geomagindices/base.py:37: FutureWarning: Passing method to DatetimeIndex.get_loc is deprecated and will raise in a future version. Use index.get_indexer([item], method=...) instead.\n",
      "  i = [dat.index.get_loc(t, method=\"nearest\") for t in dtime]\n",
      "/home/jmcle/anaconda3/lib/python3.9/site-packages/geomagindices/base.py:37: FutureWarning: Passing method to DatetimeIndex.get_loc is deprecated and will raise in a future version. Use index.get_indexer([item], method=...) instead.\n",
      "  i = [dat.index.get_loc(t, method=\"nearest\") for t in dtime]\n"
     ]
    },
    {
     "name": "stdout",
     "output_type": "stream",
     "text": [
      "Slice: 467. Convergence reached. Iterations: 735. reduced chi2: 1.55\n"
     ]
    },
    {
     "name": "stderr",
     "output_type": "stream",
     "text": [
      "/home/jmcle/anaconda3/lib/python3.9/site-packages/geomagindices/base.py:37: FutureWarning: Passing method to DatetimeIndex.get_loc is deprecated and will raise in a future version. Use index.get_indexer([item], method=...) instead.\n",
      "  i = [dat.index.get_loc(t, method=\"nearest\") for t in dtime]\n",
      "/home/jmcle/anaconda3/lib/python3.9/site-packages/geomagindices/base.py:37: FutureWarning: Passing method to DatetimeIndex.get_loc is deprecated and will raise in a future version. Use index.get_indexer([item], method=...) instead.\n",
      "  i = [dat.index.get_loc(t, method=\"nearest\") for t in dtime]\n"
     ]
    },
    {
     "name": "stdout",
     "output_type": "stream",
     "text": [
      "Slice: 468. Convergence reached. Iterations: 604. reduced chi2: 1.26\n"
     ]
    },
    {
     "name": "stderr",
     "output_type": "stream",
     "text": [
      "/home/jmcle/anaconda3/lib/python3.9/site-packages/geomagindices/base.py:37: FutureWarning: Passing method to DatetimeIndex.get_loc is deprecated and will raise in a future version. Use index.get_indexer([item], method=...) instead.\n",
      "  i = [dat.index.get_loc(t, method=\"nearest\") for t in dtime]\n",
      "/home/jmcle/anaconda3/lib/python3.9/site-packages/geomagindices/base.py:37: FutureWarning: Passing method to DatetimeIndex.get_loc is deprecated and will raise in a future version. Use index.get_indexer([item], method=...) instead.\n",
      "  i = [dat.index.get_loc(t, method=\"nearest\") for t in dtime]\n"
     ]
    },
    {
     "name": "stdout",
     "output_type": "stream",
     "text": [
      "Slice: 469. Convergence reached. Iterations: 696. reduced chi2: 1.42\n"
     ]
    },
    {
     "name": "stderr",
     "output_type": "stream",
     "text": [
      "/home/jmcle/anaconda3/lib/python3.9/site-packages/geomagindices/base.py:37: FutureWarning: Passing method to DatetimeIndex.get_loc is deprecated and will raise in a future version. Use index.get_indexer([item], method=...) instead.\n",
      "  i = [dat.index.get_loc(t, method=\"nearest\") for t in dtime]\n",
      "/home/jmcle/anaconda3/lib/python3.9/site-packages/geomagindices/base.py:37: FutureWarning: Passing method to DatetimeIndex.get_loc is deprecated and will raise in a future version. Use index.get_indexer([item], method=...) instead.\n",
      "  i = [dat.index.get_loc(t, method=\"nearest\") for t in dtime]\n"
     ]
    },
    {
     "name": "stdout",
     "output_type": "stream",
     "text": [
      "Slice: 470. Convergence reached. Iterations: 950. reduced chi2: 1.56\n"
     ]
    },
    {
     "name": "stderr",
     "output_type": "stream",
     "text": [
      "/home/jmcle/anaconda3/lib/python3.9/site-packages/geomagindices/base.py:37: FutureWarning: Passing method to DatetimeIndex.get_loc is deprecated and will raise in a future version. Use index.get_indexer([item], method=...) instead.\n",
      "  i = [dat.index.get_loc(t, method=\"nearest\") for t in dtime]\n",
      "/home/jmcle/anaconda3/lib/python3.9/site-packages/geomagindices/base.py:37: FutureWarning: Passing method to DatetimeIndex.get_loc is deprecated and will raise in a future version. Use index.get_indexer([item], method=...) instead.\n",
      "  i = [dat.index.get_loc(t, method=\"nearest\") for t in dtime]\n"
     ]
    },
    {
     "name": "stdout",
     "output_type": "stream",
     "text": [
      "Slice: 471. Convergence reached. Iterations: 672. reduced chi2: 1.85\n"
     ]
    },
    {
     "name": "stderr",
     "output_type": "stream",
     "text": [
      "/home/jmcle/anaconda3/lib/python3.9/site-packages/geomagindices/base.py:37: FutureWarning: Passing method to DatetimeIndex.get_loc is deprecated and will raise in a future version. Use index.get_indexer([item], method=...) instead.\n",
      "  i = [dat.index.get_loc(t, method=\"nearest\") for t in dtime]\n",
      "/home/jmcle/anaconda3/lib/python3.9/site-packages/geomagindices/base.py:37: FutureWarning: Passing method to DatetimeIndex.get_loc is deprecated and will raise in a future version. Use index.get_indexer([item], method=...) instead.\n",
      "  i = [dat.index.get_loc(t, method=\"nearest\") for t in dtime]\n"
     ]
    },
    {
     "name": "stdout",
     "output_type": "stream",
     "text": [
      "Slice: 472. Convergence reached. Iterations: 596. reduced chi2: 1.39\n"
     ]
    },
    {
     "name": "stderr",
     "output_type": "stream",
     "text": [
      "/home/jmcle/anaconda3/lib/python3.9/site-packages/geomagindices/base.py:37: FutureWarning: Passing method to DatetimeIndex.get_loc is deprecated and will raise in a future version. Use index.get_indexer([item], method=...) instead.\n",
      "  i = [dat.index.get_loc(t, method=\"nearest\") for t in dtime]\n",
      "/home/jmcle/anaconda3/lib/python3.9/site-packages/geomagindices/base.py:37: FutureWarning: Passing method to DatetimeIndex.get_loc is deprecated and will raise in a future version. Use index.get_indexer([item], method=...) instead.\n",
      "  i = [dat.index.get_loc(t, method=\"nearest\") for t in dtime]\n"
     ]
    },
    {
     "name": "stdout",
     "output_type": "stream",
     "text": [
      "Slice: 473. Convergence reached. Iterations: 510. reduced chi2: 1.75\n"
     ]
    },
    {
     "name": "stderr",
     "output_type": "stream",
     "text": [
      "/home/jmcle/anaconda3/lib/python3.9/site-packages/geomagindices/base.py:37: FutureWarning: Passing method to DatetimeIndex.get_loc is deprecated and will raise in a future version. Use index.get_indexer([item], method=...) instead.\n",
      "  i = [dat.index.get_loc(t, method=\"nearest\") for t in dtime]\n",
      "/home/jmcle/anaconda3/lib/python3.9/site-packages/geomagindices/base.py:37: FutureWarning: Passing method to DatetimeIndex.get_loc is deprecated and will raise in a future version. Use index.get_indexer([item], method=...) instead.\n",
      "  i = [dat.index.get_loc(t, method=\"nearest\") for t in dtime]\n"
     ]
    },
    {
     "name": "stdout",
     "output_type": "stream",
     "text": [
      "Slice: 474. Convergence reached. Iterations: 931. reduced chi2: 1.54\n"
     ]
    },
    {
     "name": "stderr",
     "output_type": "stream",
     "text": [
      "/home/jmcle/anaconda3/lib/python3.9/site-packages/geomagindices/base.py:37: FutureWarning: Passing method to DatetimeIndex.get_loc is deprecated and will raise in a future version. Use index.get_indexer([item], method=...) instead.\n",
      "  i = [dat.index.get_loc(t, method=\"nearest\") for t in dtime]\n",
      "/home/jmcle/anaconda3/lib/python3.9/site-packages/geomagindices/base.py:37: FutureWarning: Passing method to DatetimeIndex.get_loc is deprecated and will raise in a future version. Use index.get_indexer([item], method=...) instead.\n",
      "  i = [dat.index.get_loc(t, method=\"nearest\") for t in dtime]\n"
     ]
    },
    {
     "name": "stdout",
     "output_type": "stream",
     "text": [
      "Slice: 475. Convergence reached. Iterations: 500. reduced chi2: 2.0\n"
     ]
    },
    {
     "name": "stderr",
     "output_type": "stream",
     "text": [
      "/home/jmcle/anaconda3/lib/python3.9/site-packages/geomagindices/base.py:37: FutureWarning: Passing method to DatetimeIndex.get_loc is deprecated and will raise in a future version. Use index.get_indexer([item], method=...) instead.\n",
      "  i = [dat.index.get_loc(t, method=\"nearest\") for t in dtime]\n",
      "/home/jmcle/anaconda3/lib/python3.9/site-packages/geomagindices/base.py:37: FutureWarning: Passing method to DatetimeIndex.get_loc is deprecated and will raise in a future version. Use index.get_indexer([item], method=...) instead.\n",
      "  i = [dat.index.get_loc(t, method=\"nearest\") for t in dtime]\n"
     ]
    },
    {
     "name": "stdout",
     "output_type": "stream",
     "text": [
      "Slice: 476. Convergence reached. Iterations: 669. reduced chi2: 2.0\n"
     ]
    },
    {
     "name": "stderr",
     "output_type": "stream",
     "text": [
      "/home/jmcle/anaconda3/lib/python3.9/site-packages/geomagindices/base.py:37: FutureWarning: Passing method to DatetimeIndex.get_loc is deprecated and will raise in a future version. Use index.get_indexer([item], method=...) instead.\n",
      "  i = [dat.index.get_loc(t, method=\"nearest\") for t in dtime]\n",
      "/home/jmcle/anaconda3/lib/python3.9/site-packages/geomagindices/base.py:37: FutureWarning: Passing method to DatetimeIndex.get_loc is deprecated and will raise in a future version. Use index.get_indexer([item], method=...) instead.\n",
      "  i = [dat.index.get_loc(t, method=\"nearest\") for t in dtime]\n"
     ]
    },
    {
     "name": "stdout",
     "output_type": "stream",
     "text": [
      "Slice: 477. Convergence reached. Iterations: 380. reduced chi2: 1.37\n"
     ]
    },
    {
     "name": "stderr",
     "output_type": "stream",
     "text": [
      "/home/jmcle/anaconda3/lib/python3.9/site-packages/geomagindices/base.py:37: FutureWarning: Passing method to DatetimeIndex.get_loc is deprecated and will raise in a future version. Use index.get_indexer([item], method=...) instead.\n",
      "  i = [dat.index.get_loc(t, method=\"nearest\") for t in dtime]\n",
      "/home/jmcle/anaconda3/lib/python3.9/site-packages/geomagindices/base.py:37: FutureWarning: Passing method to DatetimeIndex.get_loc is deprecated and will raise in a future version. Use index.get_indexer([item], method=...) instead.\n",
      "  i = [dat.index.get_loc(t, method=\"nearest\") for t in dtime]\n"
     ]
    },
    {
     "name": "stdout",
     "output_type": "stream",
     "text": [
      "Slice: 478. Convergence reached. Iterations: 377. reduced chi2: 1.52\n"
     ]
    },
    {
     "name": "stderr",
     "output_type": "stream",
     "text": [
      "/home/jmcle/anaconda3/lib/python3.9/site-packages/geomagindices/base.py:37: FutureWarning: Passing method to DatetimeIndex.get_loc is deprecated and will raise in a future version. Use index.get_indexer([item], method=...) instead.\n",
      "  i = [dat.index.get_loc(t, method=\"nearest\") for t in dtime]\n",
      "/home/jmcle/anaconda3/lib/python3.9/site-packages/geomagindices/base.py:37: FutureWarning: Passing method to DatetimeIndex.get_loc is deprecated and will raise in a future version. Use index.get_indexer([item], method=...) instead.\n",
      "  i = [dat.index.get_loc(t, method=\"nearest\") for t in dtime]\n"
     ]
    },
    {
     "name": "stdout",
     "output_type": "stream",
     "text": [
      "Slice: 479. Convergence reached. Iterations: 414. reduced chi2: 1.57\n"
     ]
    },
    {
     "name": "stderr",
     "output_type": "stream",
     "text": [
      "/home/jmcle/anaconda3/lib/python3.9/site-packages/geomagindices/base.py:37: FutureWarning: Passing method to DatetimeIndex.get_loc is deprecated and will raise in a future version. Use index.get_indexer([item], method=...) instead.\n",
      "  i = [dat.index.get_loc(t, method=\"nearest\") for t in dtime]\n",
      "/home/jmcle/anaconda3/lib/python3.9/site-packages/geomagindices/base.py:37: FutureWarning: Passing method to DatetimeIndex.get_loc is deprecated and will raise in a future version. Use index.get_indexer([item], method=...) instead.\n",
      "  i = [dat.index.get_loc(t, method=\"nearest\") for t in dtime]\n"
     ]
    },
    {
     "name": "stdout",
     "output_type": "stream",
     "text": [
      "Slice: 480. Convergence reached. Iterations: 451. reduced chi2: 1.73\n"
     ]
    },
    {
     "name": "stderr",
     "output_type": "stream",
     "text": [
      "/home/jmcle/anaconda3/lib/python3.9/site-packages/geomagindices/base.py:37: FutureWarning: Passing method to DatetimeIndex.get_loc is deprecated and will raise in a future version. Use index.get_indexer([item], method=...) instead.\n",
      "  i = [dat.index.get_loc(t, method=\"nearest\") for t in dtime]\n",
      "/home/jmcle/anaconda3/lib/python3.9/site-packages/geomagindices/base.py:37: FutureWarning: Passing method to DatetimeIndex.get_loc is deprecated and will raise in a future version. Use index.get_indexer([item], method=...) instead.\n",
      "  i = [dat.index.get_loc(t, method=\"nearest\") for t in dtime]\n"
     ]
    },
    {
     "name": "stdout",
     "output_type": "stream",
     "text": [
      "Slice: 481. Convergence reached. Iterations: 516. reduced chi2: 2.29\n"
     ]
    },
    {
     "name": "stderr",
     "output_type": "stream",
     "text": [
      "/home/jmcle/anaconda3/lib/python3.9/site-packages/geomagindices/base.py:37: FutureWarning: Passing method to DatetimeIndex.get_loc is deprecated and will raise in a future version. Use index.get_indexer([item], method=...) instead.\n",
      "  i = [dat.index.get_loc(t, method=\"nearest\") for t in dtime]\n",
      "/home/jmcle/anaconda3/lib/python3.9/site-packages/geomagindices/base.py:37: FutureWarning: Passing method to DatetimeIndex.get_loc is deprecated and will raise in a future version. Use index.get_indexer([item], method=...) instead.\n",
      "  i = [dat.index.get_loc(t, method=\"nearest\") for t in dtime]\n"
     ]
    },
    {
     "name": "stdout",
     "output_type": "stream",
     "text": [
      "Slice: 482. Convergence reached. Iterations: 428. reduced chi2: 1.25\n"
     ]
    },
    {
     "name": "stderr",
     "output_type": "stream",
     "text": [
      "/home/jmcle/anaconda3/lib/python3.9/site-packages/geomagindices/base.py:37: FutureWarning: Passing method to DatetimeIndex.get_loc is deprecated and will raise in a future version. Use index.get_indexer([item], method=...) instead.\n",
      "  i = [dat.index.get_loc(t, method=\"nearest\") for t in dtime]\n",
      "/home/jmcle/anaconda3/lib/python3.9/site-packages/geomagindices/base.py:37: FutureWarning: Passing method to DatetimeIndex.get_loc is deprecated and will raise in a future version. Use index.get_indexer([item], method=...) instead.\n",
      "  i = [dat.index.get_loc(t, method=\"nearest\") for t in dtime]\n"
     ]
    },
    {
     "name": "stdout",
     "output_type": "stream",
     "text": [
      "Slice: 483. Convergence reached. Iterations: 572. reduced chi2: 2.11\n"
     ]
    },
    {
     "name": "stderr",
     "output_type": "stream",
     "text": [
      "/home/jmcle/anaconda3/lib/python3.9/site-packages/geomagindices/base.py:37: FutureWarning: Passing method to DatetimeIndex.get_loc is deprecated and will raise in a future version. Use index.get_indexer([item], method=...) instead.\n",
      "  i = [dat.index.get_loc(t, method=\"nearest\") for t in dtime]\n",
      "/home/jmcle/anaconda3/lib/python3.9/site-packages/geomagindices/base.py:37: FutureWarning: Passing method to DatetimeIndex.get_loc is deprecated and will raise in a future version. Use index.get_indexer([item], method=...) instead.\n",
      "  i = [dat.index.get_loc(t, method=\"nearest\") for t in dtime]\n"
     ]
    },
    {
     "name": "stdout",
     "output_type": "stream",
     "text": [
      "Slice: 484. Convergence reached. Iterations: 513. reduced chi2: 2.38\n"
     ]
    },
    {
     "name": "stderr",
     "output_type": "stream",
     "text": [
      "/home/jmcle/anaconda3/lib/python3.9/site-packages/geomagindices/base.py:37: FutureWarning: Passing method to DatetimeIndex.get_loc is deprecated and will raise in a future version. Use index.get_indexer([item], method=...) instead.\n",
      "  i = [dat.index.get_loc(t, method=\"nearest\") for t in dtime]\n",
      "/home/jmcle/anaconda3/lib/python3.9/site-packages/geomagindices/base.py:37: FutureWarning: Passing method to DatetimeIndex.get_loc is deprecated and will raise in a future version. Use index.get_indexer([item], method=...) instead.\n",
      "  i = [dat.index.get_loc(t, method=\"nearest\") for t in dtime]\n"
     ]
    },
    {
     "name": "stdout",
     "output_type": "stream",
     "text": [
      "Slice: 485. Convergence reached. Iterations: 549. reduced chi2: 1.68\n"
     ]
    },
    {
     "name": "stderr",
     "output_type": "stream",
     "text": [
      "/home/jmcle/anaconda3/lib/python3.9/site-packages/geomagindices/base.py:37: FutureWarning: Passing method to DatetimeIndex.get_loc is deprecated and will raise in a future version. Use index.get_indexer([item], method=...) instead.\n",
      "  i = [dat.index.get_loc(t, method=\"nearest\") for t in dtime]\n",
      "/home/jmcle/anaconda3/lib/python3.9/site-packages/geomagindices/base.py:37: FutureWarning: Passing method to DatetimeIndex.get_loc is deprecated and will raise in a future version. Use index.get_indexer([item], method=...) instead.\n",
      "  i = [dat.index.get_loc(t, method=\"nearest\") for t in dtime]\n"
     ]
    },
    {
     "name": "stdout",
     "output_type": "stream",
     "text": [
      "Slice: 486. Convergence reached. Iterations: 486. reduced chi2: 1.77\n"
     ]
    },
    {
     "name": "stderr",
     "output_type": "stream",
     "text": [
      "/home/jmcle/anaconda3/lib/python3.9/site-packages/geomagindices/base.py:37: FutureWarning: Passing method to DatetimeIndex.get_loc is deprecated and will raise in a future version. Use index.get_indexer([item], method=...) instead.\n",
      "  i = [dat.index.get_loc(t, method=\"nearest\") for t in dtime]\n",
      "/home/jmcle/anaconda3/lib/python3.9/site-packages/geomagindices/base.py:37: FutureWarning: Passing method to DatetimeIndex.get_loc is deprecated and will raise in a future version. Use index.get_indexer([item], method=...) instead.\n",
      "  i = [dat.index.get_loc(t, method=\"nearest\") for t in dtime]\n"
     ]
    },
    {
     "name": "stdout",
     "output_type": "stream",
     "text": [
      "Slice: 487. Convergence reached. Iterations: 335. reduced chi2: 1.61\n"
     ]
    },
    {
     "name": "stderr",
     "output_type": "stream",
     "text": [
      "/home/jmcle/anaconda3/lib/python3.9/site-packages/geomagindices/base.py:37: FutureWarning: Passing method to DatetimeIndex.get_loc is deprecated and will raise in a future version. Use index.get_indexer([item], method=...) instead.\n",
      "  i = [dat.index.get_loc(t, method=\"nearest\") for t in dtime]\n",
      "/home/jmcle/anaconda3/lib/python3.9/site-packages/geomagindices/base.py:37: FutureWarning: Passing method to DatetimeIndex.get_loc is deprecated and will raise in a future version. Use index.get_indexer([item], method=...) instead.\n",
      "  i = [dat.index.get_loc(t, method=\"nearest\") for t in dtime]\n"
     ]
    },
    {
     "name": "stdout",
     "output_type": "stream",
     "text": [
      "Slice: 488. Convergence reached. Iterations: 627. reduced chi2: 2.03\n"
     ]
    },
    {
     "name": "stderr",
     "output_type": "stream",
     "text": [
      "/home/jmcle/anaconda3/lib/python3.9/site-packages/geomagindices/base.py:37: FutureWarning: Passing method to DatetimeIndex.get_loc is deprecated and will raise in a future version. Use index.get_indexer([item], method=...) instead.\n",
      "  i = [dat.index.get_loc(t, method=\"nearest\") for t in dtime]\n",
      "/home/jmcle/anaconda3/lib/python3.9/site-packages/geomagindices/base.py:37: FutureWarning: Passing method to DatetimeIndex.get_loc is deprecated and will raise in a future version. Use index.get_indexer([item], method=...) instead.\n",
      "  i = [dat.index.get_loc(t, method=\"nearest\") for t in dtime]\n"
     ]
    },
    {
     "name": "stdout",
     "output_type": "stream",
     "text": [
      "Slice: 489. Convergence reached. Iterations: 895. reduced chi2: 1.57\n"
     ]
    },
    {
     "name": "stderr",
     "output_type": "stream",
     "text": [
      "/home/jmcle/anaconda3/lib/python3.9/site-packages/geomagindices/base.py:37: FutureWarning: Passing method to DatetimeIndex.get_loc is deprecated and will raise in a future version. Use index.get_indexer([item], method=...) instead.\n",
      "  i = [dat.index.get_loc(t, method=\"nearest\") for t in dtime]\n",
      "/home/jmcle/anaconda3/lib/python3.9/site-packages/geomagindices/base.py:37: FutureWarning: Passing method to DatetimeIndex.get_loc is deprecated and will raise in a future version. Use index.get_indexer([item], method=...) instead.\n",
      "  i = [dat.index.get_loc(t, method=\"nearest\") for t in dtime]\n"
     ]
    },
    {
     "name": "stdout",
     "output_type": "stream",
     "text": [
      "Slice: 490. Convergence reached. Iterations: 581. reduced chi2: 1.57\n"
     ]
    },
    {
     "name": "stderr",
     "output_type": "stream",
     "text": [
      "/home/jmcle/anaconda3/lib/python3.9/site-packages/geomagindices/base.py:37: FutureWarning: Passing method to DatetimeIndex.get_loc is deprecated and will raise in a future version. Use index.get_indexer([item], method=...) instead.\n",
      "  i = [dat.index.get_loc(t, method=\"nearest\") for t in dtime]\n",
      "/home/jmcle/anaconda3/lib/python3.9/site-packages/geomagindices/base.py:37: FutureWarning: Passing method to DatetimeIndex.get_loc is deprecated and will raise in a future version. Use index.get_indexer([item], method=...) instead.\n",
      "  i = [dat.index.get_loc(t, method=\"nearest\") for t in dtime]\n"
     ]
    },
    {
     "name": "stdout",
     "output_type": "stream",
     "text": [
      "Slice: 491. Convergence reached. Iterations: 578. reduced chi2: 1.6\n"
     ]
    },
    {
     "name": "stderr",
     "output_type": "stream",
     "text": [
      "/home/jmcle/anaconda3/lib/python3.9/site-packages/geomagindices/base.py:37: FutureWarning: Passing method to DatetimeIndex.get_loc is deprecated and will raise in a future version. Use index.get_indexer([item], method=...) instead.\n",
      "  i = [dat.index.get_loc(t, method=\"nearest\") for t in dtime]\n",
      "/home/jmcle/anaconda3/lib/python3.9/site-packages/geomagindices/base.py:37: FutureWarning: Passing method to DatetimeIndex.get_loc is deprecated and will raise in a future version. Use index.get_indexer([item], method=...) instead.\n",
      "  i = [dat.index.get_loc(t, method=\"nearest\") for t in dtime]\n"
     ]
    },
    {
     "name": "stdout",
     "output_type": "stream",
     "text": [
      "Slice: 492. Convergence reached. Iterations: 353. reduced chi2: 2.21\n"
     ]
    },
    {
     "name": "stderr",
     "output_type": "stream",
     "text": [
      "/home/jmcle/anaconda3/lib/python3.9/site-packages/geomagindices/base.py:37: FutureWarning: Passing method to DatetimeIndex.get_loc is deprecated and will raise in a future version. Use index.get_indexer([item], method=...) instead.\n",
      "  i = [dat.index.get_loc(t, method=\"nearest\") for t in dtime]\n",
      "/home/jmcle/anaconda3/lib/python3.9/site-packages/geomagindices/base.py:37: FutureWarning: Passing method to DatetimeIndex.get_loc is deprecated and will raise in a future version. Use index.get_indexer([item], method=...) instead.\n",
      "  i = [dat.index.get_loc(t, method=\"nearest\") for t in dtime]\n"
     ]
    },
    {
     "name": "stdout",
     "output_type": "stream",
     "text": [
      "Slice: 493. Convergence reached. Iterations: 789. reduced chi2: 1.39\n"
     ]
    },
    {
     "name": "stderr",
     "output_type": "stream",
     "text": [
      "/home/jmcle/anaconda3/lib/python3.9/site-packages/geomagindices/base.py:37: FutureWarning: Passing method to DatetimeIndex.get_loc is deprecated and will raise in a future version. Use index.get_indexer([item], method=...) instead.\n",
      "  i = [dat.index.get_loc(t, method=\"nearest\") for t in dtime]\n",
      "/home/jmcle/anaconda3/lib/python3.9/site-packages/geomagindices/base.py:37: FutureWarning: Passing method to DatetimeIndex.get_loc is deprecated and will raise in a future version. Use index.get_indexer([item], method=...) instead.\n",
      "  i = [dat.index.get_loc(t, method=\"nearest\") for t in dtime]\n"
     ]
    },
    {
     "name": "stdout",
     "output_type": "stream",
     "text": [
      "Slice: 494. Convergence reached. Iterations: 673. reduced chi2: 1.57\n"
     ]
    },
    {
     "name": "stderr",
     "output_type": "stream",
     "text": [
      "/home/jmcle/anaconda3/lib/python3.9/site-packages/geomagindices/base.py:37: FutureWarning: Passing method to DatetimeIndex.get_loc is deprecated and will raise in a future version. Use index.get_indexer([item], method=...) instead.\n",
      "  i = [dat.index.get_loc(t, method=\"nearest\") for t in dtime]\n",
      "/home/jmcle/anaconda3/lib/python3.9/site-packages/geomagindices/base.py:37: FutureWarning: Passing method to DatetimeIndex.get_loc is deprecated and will raise in a future version. Use index.get_indexer([item], method=...) instead.\n",
      "  i = [dat.index.get_loc(t, method=\"nearest\") for t in dtime]\n"
     ]
    },
    {
     "name": "stdout",
     "output_type": "stream",
     "text": [
      "Slice: 495. Convergence reached. Iterations: 857. reduced chi2: 1.68\n"
     ]
    },
    {
     "name": "stderr",
     "output_type": "stream",
     "text": [
      "/home/jmcle/anaconda3/lib/python3.9/site-packages/geomagindices/base.py:37: FutureWarning: Passing method to DatetimeIndex.get_loc is deprecated and will raise in a future version. Use index.get_indexer([item], method=...) instead.\n",
      "  i = [dat.index.get_loc(t, method=\"nearest\") for t in dtime]\n",
      "/home/jmcle/anaconda3/lib/python3.9/site-packages/geomagindices/base.py:37: FutureWarning: Passing method to DatetimeIndex.get_loc is deprecated and will raise in a future version. Use index.get_indexer([item], method=...) instead.\n",
      "  i = [dat.index.get_loc(t, method=\"nearest\") for t in dtime]\n"
     ]
    },
    {
     "name": "stdout",
     "output_type": "stream",
     "text": [
      "Slice: 496. Convergence reached. Iterations: 862. reduced chi2: 1.62\n"
     ]
    },
    {
     "name": "stderr",
     "output_type": "stream",
     "text": [
      "/home/jmcle/anaconda3/lib/python3.9/site-packages/geomagindices/base.py:37: FutureWarning: Passing method to DatetimeIndex.get_loc is deprecated and will raise in a future version. Use index.get_indexer([item], method=...) instead.\n",
      "  i = [dat.index.get_loc(t, method=\"nearest\") for t in dtime]\n",
      "/home/jmcle/anaconda3/lib/python3.9/site-packages/geomagindices/base.py:37: FutureWarning: Passing method to DatetimeIndex.get_loc is deprecated and will raise in a future version. Use index.get_indexer([item], method=...) instead.\n",
      "  i = [dat.index.get_loc(t, method=\"nearest\") for t in dtime]\n"
     ]
    },
    {
     "name": "stdout",
     "output_type": "stream",
     "text": [
      "Slice: 497. Convergence reached. Iterations: 1079. reduced chi2: 1.53\n"
     ]
    },
    {
     "name": "stderr",
     "output_type": "stream",
     "text": [
      "/home/jmcle/anaconda3/lib/python3.9/site-packages/geomagindices/base.py:37: FutureWarning: Passing method to DatetimeIndex.get_loc is deprecated and will raise in a future version. Use index.get_indexer([item], method=...) instead.\n",
      "  i = [dat.index.get_loc(t, method=\"nearest\") for t in dtime]\n",
      "/home/jmcle/anaconda3/lib/python3.9/site-packages/geomagindices/base.py:37: FutureWarning: Passing method to DatetimeIndex.get_loc is deprecated and will raise in a future version. Use index.get_indexer([item], method=...) instead.\n",
      "  i = [dat.index.get_loc(t, method=\"nearest\") for t in dtime]\n"
     ]
    },
    {
     "name": "stdout",
     "output_type": "stream",
     "text": [
      "Slice: 498. Convergence reached. Iterations: 1143. reduced chi2: 2.02\n"
     ]
    },
    {
     "name": "stderr",
     "output_type": "stream",
     "text": [
      "/home/jmcle/anaconda3/lib/python3.9/site-packages/geomagindices/base.py:37: FutureWarning: Passing method to DatetimeIndex.get_loc is deprecated and will raise in a future version. Use index.get_indexer([item], method=...) instead.\n",
      "  i = [dat.index.get_loc(t, method=\"nearest\") for t in dtime]\n",
      "/home/jmcle/anaconda3/lib/python3.9/site-packages/geomagindices/base.py:37: FutureWarning: Passing method to DatetimeIndex.get_loc is deprecated and will raise in a future version. Use index.get_indexer([item], method=...) instead.\n",
      "  i = [dat.index.get_loc(t, method=\"nearest\") for t in dtime]\n"
     ]
    },
    {
     "name": "stdout",
     "output_type": "stream",
     "text": [
      "Slice: 499. Convergence reached. Iterations: 808. reduced chi2: 1.54\n"
     ]
    },
    {
     "name": "stderr",
     "output_type": "stream",
     "text": [
      "/home/jmcle/anaconda3/lib/python3.9/site-packages/geomagindices/base.py:37: FutureWarning: Passing method to DatetimeIndex.get_loc is deprecated and will raise in a future version. Use index.get_indexer([item], method=...) instead.\n",
      "  i = [dat.index.get_loc(t, method=\"nearest\") for t in dtime]\n",
      "/home/jmcle/anaconda3/lib/python3.9/site-packages/geomagindices/base.py:37: FutureWarning: Passing method to DatetimeIndex.get_loc is deprecated and will raise in a future version. Use index.get_indexer([item], method=...) instead.\n",
      "  i = [dat.index.get_loc(t, method=\"nearest\") for t in dtime]\n"
     ]
    },
    {
     "name": "stdout",
     "output_type": "stream",
     "text": [
      "Slice: 500. Convergence reached. Iterations: 862. reduced chi2: 2.26\n"
     ]
    },
    {
     "name": "stderr",
     "output_type": "stream",
     "text": [
      "/home/jmcle/anaconda3/lib/python3.9/site-packages/geomagindices/base.py:37: FutureWarning: Passing method to DatetimeIndex.get_loc is deprecated and will raise in a future version. Use index.get_indexer([item], method=...) instead.\n",
      "  i = [dat.index.get_loc(t, method=\"nearest\") for t in dtime]\n",
      "/home/jmcle/anaconda3/lib/python3.9/site-packages/geomagindices/base.py:37: FutureWarning: Passing method to DatetimeIndex.get_loc is deprecated and will raise in a future version. Use index.get_indexer([item], method=...) instead.\n",
      "  i = [dat.index.get_loc(t, method=\"nearest\") for t in dtime]\n"
     ]
    },
    {
     "name": "stdout",
     "output_type": "stream",
     "text": [
      "Slice: 501. Convergence reached. Iterations: 1022. reduced chi2: 1.22\n"
     ]
    },
    {
     "name": "stderr",
     "output_type": "stream",
     "text": [
      "/home/jmcle/anaconda3/lib/python3.9/site-packages/geomagindices/base.py:37: FutureWarning: Passing method to DatetimeIndex.get_loc is deprecated and will raise in a future version. Use index.get_indexer([item], method=...) instead.\n",
      "  i = [dat.index.get_loc(t, method=\"nearest\") for t in dtime]\n",
      "/home/jmcle/anaconda3/lib/python3.9/site-packages/geomagindices/base.py:37: FutureWarning: Passing method to DatetimeIndex.get_loc is deprecated and will raise in a future version. Use index.get_indexer([item], method=...) instead.\n",
      "  i = [dat.index.get_loc(t, method=\"nearest\") for t in dtime]\n"
     ]
    },
    {
     "name": "stdout",
     "output_type": "stream",
     "text": [
      "Slice: 502. Convergence reached. Iterations: 566. reduced chi2: 2.14\n"
     ]
    },
    {
     "name": "stderr",
     "output_type": "stream",
     "text": [
      "/home/jmcle/anaconda3/lib/python3.9/site-packages/geomagindices/base.py:37: FutureWarning: Passing method to DatetimeIndex.get_loc is deprecated and will raise in a future version. Use index.get_indexer([item], method=...) instead.\n",
      "  i = [dat.index.get_loc(t, method=\"nearest\") for t in dtime]\n",
      "/home/jmcle/anaconda3/lib/python3.9/site-packages/geomagindices/base.py:37: FutureWarning: Passing method to DatetimeIndex.get_loc is deprecated and will raise in a future version. Use index.get_indexer([item], method=...) instead.\n",
      "  i = [dat.index.get_loc(t, method=\"nearest\") for t in dtime]\n"
     ]
    },
    {
     "name": "stdout",
     "output_type": "stream",
     "text": [
      "Slice: 503. Convergence reached. Iterations: 1239. reduced chi2: 3.08\n"
     ]
    },
    {
     "name": "stderr",
     "output_type": "stream",
     "text": [
      "/home/jmcle/anaconda3/lib/python3.9/site-packages/geomagindices/base.py:37: FutureWarning: Passing method to DatetimeIndex.get_loc is deprecated and will raise in a future version. Use index.get_indexer([item], method=...) instead.\n",
      "  i = [dat.index.get_loc(t, method=\"nearest\") for t in dtime]\n",
      "/home/jmcle/anaconda3/lib/python3.9/site-packages/geomagindices/base.py:37: FutureWarning: Passing method to DatetimeIndex.get_loc is deprecated and will raise in a future version. Use index.get_indexer([item], method=...) instead.\n",
      "  i = [dat.index.get_loc(t, method=\"nearest\") for t in dtime]\n"
     ]
    },
    {
     "name": "stdout",
     "output_type": "stream",
     "text": [
      "Slice: 504. Convergence reached. Iterations: 944. reduced chi2: 2.81\n"
     ]
    },
    {
     "name": "stderr",
     "output_type": "stream",
     "text": [
      "/home/jmcle/anaconda3/lib/python3.9/site-packages/geomagindices/base.py:37: FutureWarning: Passing method to DatetimeIndex.get_loc is deprecated and will raise in a future version. Use index.get_indexer([item], method=...) instead.\n",
      "  i = [dat.index.get_loc(t, method=\"nearest\") for t in dtime]\n",
      "/home/jmcle/anaconda3/lib/python3.9/site-packages/geomagindices/base.py:37: FutureWarning: Passing method to DatetimeIndex.get_loc is deprecated and will raise in a future version. Use index.get_indexer([item], method=...) instead.\n",
      "  i = [dat.index.get_loc(t, method=\"nearest\") for t in dtime]\n"
     ]
    },
    {
     "name": "stdout",
     "output_type": "stream",
     "text": [
      "Slice: 505. Convergence reached. Iterations: 964. reduced chi2: 1.21\n"
     ]
    },
    {
     "name": "stderr",
     "output_type": "stream",
     "text": [
      "/home/jmcle/anaconda3/lib/python3.9/site-packages/geomagindices/base.py:37: FutureWarning: Passing method to DatetimeIndex.get_loc is deprecated and will raise in a future version. Use index.get_indexer([item], method=...) instead.\n",
      "  i = [dat.index.get_loc(t, method=\"nearest\") for t in dtime]\n",
      "/home/jmcle/anaconda3/lib/python3.9/site-packages/geomagindices/base.py:37: FutureWarning: Passing method to DatetimeIndex.get_loc is deprecated and will raise in a future version. Use index.get_indexer([item], method=...) instead.\n",
      "  i = [dat.index.get_loc(t, method=\"nearest\") for t in dtime]\n"
     ]
    },
    {
     "name": "stdout",
     "output_type": "stream",
     "text": [
      "Slice: 506. Convergence reached. Iterations: 974. reduced chi2: 1.55\n"
     ]
    },
    {
     "name": "stderr",
     "output_type": "stream",
     "text": [
      "/home/jmcle/anaconda3/lib/python3.9/site-packages/geomagindices/base.py:37: FutureWarning: Passing method to DatetimeIndex.get_loc is deprecated and will raise in a future version. Use index.get_indexer([item], method=...) instead.\n",
      "  i = [dat.index.get_loc(t, method=\"nearest\") for t in dtime]\n",
      "/home/jmcle/anaconda3/lib/python3.9/site-packages/geomagindices/base.py:37: FutureWarning: Passing method to DatetimeIndex.get_loc is deprecated and will raise in a future version. Use index.get_indexer([item], method=...) instead.\n",
      "  i = [dat.index.get_loc(t, method=\"nearest\") for t in dtime]\n"
     ]
    },
    {
     "name": "stdout",
     "output_type": "stream",
     "text": [
      "Slice: 507. Convergence reached. Iterations: 692. reduced chi2: 1.93\n"
     ]
    },
    {
     "name": "stderr",
     "output_type": "stream",
     "text": [
      "/home/jmcle/anaconda3/lib/python3.9/site-packages/geomagindices/base.py:37: FutureWarning: Passing method to DatetimeIndex.get_loc is deprecated and will raise in a future version. Use index.get_indexer([item], method=...) instead.\n",
      "  i = [dat.index.get_loc(t, method=\"nearest\") for t in dtime]\n",
      "/home/jmcle/anaconda3/lib/python3.9/site-packages/geomagindices/base.py:37: FutureWarning: Passing method to DatetimeIndex.get_loc is deprecated and will raise in a future version. Use index.get_indexer([item], method=...) instead.\n",
      "  i = [dat.index.get_loc(t, method=\"nearest\") for t in dtime]\n"
     ]
    },
    {
     "name": "stdout",
     "output_type": "stream",
     "text": [
      "Slice: 508. Convergence reached. Iterations: 1253. reduced chi2: 1.65\n"
     ]
    },
    {
     "name": "stderr",
     "output_type": "stream",
     "text": [
      "/home/jmcle/anaconda3/lib/python3.9/site-packages/geomagindices/base.py:37: FutureWarning: Passing method to DatetimeIndex.get_loc is deprecated and will raise in a future version. Use index.get_indexer([item], method=...) instead.\n",
      "  i = [dat.index.get_loc(t, method=\"nearest\") for t in dtime]\n",
      "/home/jmcle/anaconda3/lib/python3.9/site-packages/geomagindices/base.py:37: FutureWarning: Passing method to DatetimeIndex.get_loc is deprecated and will raise in a future version. Use index.get_indexer([item], method=...) instead.\n",
      "  i = [dat.index.get_loc(t, method=\"nearest\") for t in dtime]\n"
     ]
    },
    {
     "name": "stdout",
     "output_type": "stream",
     "text": [
      "Slice: 509. Convergence reached. Iterations: 1454. reduced chi2: 1.68\n"
     ]
    },
    {
     "name": "stderr",
     "output_type": "stream",
     "text": [
      "/home/jmcle/anaconda3/lib/python3.9/site-packages/geomagindices/base.py:37: FutureWarning: Passing method to DatetimeIndex.get_loc is deprecated and will raise in a future version. Use index.get_indexer([item], method=...) instead.\n",
      "  i = [dat.index.get_loc(t, method=\"nearest\") for t in dtime]\n",
      "/home/jmcle/anaconda3/lib/python3.9/site-packages/geomagindices/base.py:37: FutureWarning: Passing method to DatetimeIndex.get_loc is deprecated and will raise in a future version. Use index.get_indexer([item], method=...) instead.\n",
      "  i = [dat.index.get_loc(t, method=\"nearest\") for t in dtime]\n"
     ]
    },
    {
     "name": "stdout",
     "output_type": "stream",
     "text": [
      "Slice: 510. Convergence reached. Iterations: 825. reduced chi2: 2.01\n"
     ]
    },
    {
     "name": "stderr",
     "output_type": "stream",
     "text": [
      "/home/jmcle/anaconda3/lib/python3.9/site-packages/geomagindices/base.py:37: FutureWarning: Passing method to DatetimeIndex.get_loc is deprecated and will raise in a future version. Use index.get_indexer([item], method=...) instead.\n",
      "  i = [dat.index.get_loc(t, method=\"nearest\") for t in dtime]\n",
      "/home/jmcle/anaconda3/lib/python3.9/site-packages/geomagindices/base.py:37: FutureWarning: Passing method to DatetimeIndex.get_loc is deprecated and will raise in a future version. Use index.get_indexer([item], method=...) instead.\n",
      "  i = [dat.index.get_loc(t, method=\"nearest\") for t in dtime]\n"
     ]
    },
    {
     "name": "stdout",
     "output_type": "stream",
     "text": [
      "Slice: 511. Convergence reached. Iterations: 788. reduced chi2: 1.95\n"
     ]
    },
    {
     "name": "stderr",
     "output_type": "stream",
     "text": [
      "/home/jmcle/anaconda3/lib/python3.9/site-packages/geomagindices/base.py:37: FutureWarning: Passing method to DatetimeIndex.get_loc is deprecated and will raise in a future version. Use index.get_indexer([item], method=...) instead.\n",
      "  i = [dat.index.get_loc(t, method=\"nearest\") for t in dtime]\n",
      "/home/jmcle/anaconda3/lib/python3.9/site-packages/geomagindices/base.py:37: FutureWarning: Passing method to DatetimeIndex.get_loc is deprecated and will raise in a future version. Use index.get_indexer([item], method=...) instead.\n",
      "  i = [dat.index.get_loc(t, method=\"nearest\") for t in dtime]\n"
     ]
    },
    {
     "name": "stdout",
     "output_type": "stream",
     "text": [
      "Slice: 512. Convergence reached. Iterations: 747. reduced chi2: 2.27\n"
     ]
    },
    {
     "name": "stderr",
     "output_type": "stream",
     "text": [
      "/home/jmcle/anaconda3/lib/python3.9/site-packages/geomagindices/base.py:37: FutureWarning: Passing method to DatetimeIndex.get_loc is deprecated and will raise in a future version. Use index.get_indexer([item], method=...) instead.\n",
      "  i = [dat.index.get_loc(t, method=\"nearest\") for t in dtime]\n",
      "/home/jmcle/anaconda3/lib/python3.9/site-packages/geomagindices/base.py:37: FutureWarning: Passing method to DatetimeIndex.get_loc is deprecated and will raise in a future version. Use index.get_indexer([item], method=...) instead.\n",
      "  i = [dat.index.get_loc(t, method=\"nearest\") for t in dtime]\n"
     ]
    },
    {
     "name": "stdout",
     "output_type": "stream",
     "text": [
      "Slice: 513. Convergence reached. Iterations: 395. reduced chi2: 1.68\n"
     ]
    },
    {
     "name": "stderr",
     "output_type": "stream",
     "text": [
      "/home/jmcle/anaconda3/lib/python3.9/site-packages/geomagindices/base.py:37: FutureWarning: Passing method to DatetimeIndex.get_loc is deprecated and will raise in a future version. Use index.get_indexer([item], method=...) instead.\n",
      "  i = [dat.index.get_loc(t, method=\"nearest\") for t in dtime]\n",
      "/home/jmcle/anaconda3/lib/python3.9/site-packages/geomagindices/base.py:37: FutureWarning: Passing method to DatetimeIndex.get_loc is deprecated and will raise in a future version. Use index.get_indexer([item], method=...) instead.\n",
      "  i = [dat.index.get_loc(t, method=\"nearest\") for t in dtime]\n"
     ]
    },
    {
     "name": "stdout",
     "output_type": "stream",
     "text": [
      "Slice: 514. Convergence reached. Iterations: 592. reduced chi2: 1.71\n"
     ]
    },
    {
     "name": "stderr",
     "output_type": "stream",
     "text": [
      "/home/jmcle/anaconda3/lib/python3.9/site-packages/geomagindices/base.py:37: FutureWarning: Passing method to DatetimeIndex.get_loc is deprecated and will raise in a future version. Use index.get_indexer([item], method=...) instead.\n",
      "  i = [dat.index.get_loc(t, method=\"nearest\") for t in dtime]\n",
      "/home/jmcle/anaconda3/lib/python3.9/site-packages/geomagindices/base.py:37: FutureWarning: Passing method to DatetimeIndex.get_loc is deprecated and will raise in a future version. Use index.get_indexer([item], method=...) instead.\n",
      "  i = [dat.index.get_loc(t, method=\"nearest\") for t in dtime]\n"
     ]
    },
    {
     "name": "stdout",
     "output_type": "stream",
     "text": [
      "Slice: 515. Convergence reached. Iterations: 635. reduced chi2: 1.36\n"
     ]
    },
    {
     "name": "stderr",
     "output_type": "stream",
     "text": [
      "/home/jmcle/anaconda3/lib/python3.9/site-packages/geomagindices/base.py:37: FutureWarning: Passing method to DatetimeIndex.get_loc is deprecated and will raise in a future version. Use index.get_indexer([item], method=...) instead.\n",
      "  i = [dat.index.get_loc(t, method=\"nearest\") for t in dtime]\n",
      "/home/jmcle/anaconda3/lib/python3.9/site-packages/geomagindices/base.py:37: FutureWarning: Passing method to DatetimeIndex.get_loc is deprecated and will raise in a future version. Use index.get_indexer([item], method=...) instead.\n",
      "  i = [dat.index.get_loc(t, method=\"nearest\") for t in dtime]\n"
     ]
    },
    {
     "name": "stdout",
     "output_type": "stream",
     "text": [
      "Slice: 516. Convergence reached. Iterations: 1022. reduced chi2: 3.31\n"
     ]
    },
    {
     "name": "stderr",
     "output_type": "stream",
     "text": [
      "/home/jmcle/anaconda3/lib/python3.9/site-packages/geomagindices/base.py:37: FutureWarning: Passing method to DatetimeIndex.get_loc is deprecated and will raise in a future version. Use index.get_indexer([item], method=...) instead.\n",
      "  i = [dat.index.get_loc(t, method=\"nearest\") for t in dtime]\n",
      "/home/jmcle/anaconda3/lib/python3.9/site-packages/geomagindices/base.py:37: FutureWarning: Passing method to DatetimeIndex.get_loc is deprecated and will raise in a future version. Use index.get_indexer([item], method=...) instead.\n",
      "  i = [dat.index.get_loc(t, method=\"nearest\") for t in dtime]\n"
     ]
    },
    {
     "name": "stdout",
     "output_type": "stream",
     "text": [
      "Slice: 517. Convergence reached. Iterations: 1149. reduced chi2: 1.52\n"
     ]
    },
    {
     "name": "stderr",
     "output_type": "stream",
     "text": [
      "/home/jmcle/anaconda3/lib/python3.9/site-packages/geomagindices/base.py:37: FutureWarning: Passing method to DatetimeIndex.get_loc is deprecated and will raise in a future version. Use index.get_indexer([item], method=...) instead.\n",
      "  i = [dat.index.get_loc(t, method=\"nearest\") for t in dtime]\n",
      "/home/jmcle/anaconda3/lib/python3.9/site-packages/geomagindices/base.py:37: FutureWarning: Passing method to DatetimeIndex.get_loc is deprecated and will raise in a future version. Use index.get_indexer([item], method=...) instead.\n",
      "  i = [dat.index.get_loc(t, method=\"nearest\") for t in dtime]\n"
     ]
    },
    {
     "name": "stdout",
     "output_type": "stream",
     "text": [
      "Slice: 518. Convergence reached. Iterations: 766. reduced chi2: 1.94\n"
     ]
    },
    {
     "name": "stderr",
     "output_type": "stream",
     "text": [
      "/home/jmcle/anaconda3/lib/python3.9/site-packages/geomagindices/base.py:37: FutureWarning: Passing method to DatetimeIndex.get_loc is deprecated and will raise in a future version. Use index.get_indexer([item], method=...) instead.\n",
      "  i = [dat.index.get_loc(t, method=\"nearest\") for t in dtime]\n",
      "/home/jmcle/anaconda3/lib/python3.9/site-packages/geomagindices/base.py:37: FutureWarning: Passing method to DatetimeIndex.get_loc is deprecated and will raise in a future version. Use index.get_indexer([item], method=...) instead.\n",
      "  i = [dat.index.get_loc(t, method=\"nearest\") for t in dtime]\n"
     ]
    },
    {
     "name": "stdout",
     "output_type": "stream",
     "text": [
      "Slice: 519. Convergence reached. Iterations: 842. reduced chi2: 2.01\n"
     ]
    },
    {
     "name": "stderr",
     "output_type": "stream",
     "text": [
      "/home/jmcle/anaconda3/lib/python3.9/site-packages/geomagindices/base.py:37: FutureWarning: Passing method to DatetimeIndex.get_loc is deprecated and will raise in a future version. Use index.get_indexer([item], method=...) instead.\n",
      "  i = [dat.index.get_loc(t, method=\"nearest\") for t in dtime]\n",
      "/home/jmcle/anaconda3/lib/python3.9/site-packages/geomagindices/base.py:37: FutureWarning: Passing method to DatetimeIndex.get_loc is deprecated and will raise in a future version. Use index.get_indexer([item], method=...) instead.\n",
      "  i = [dat.index.get_loc(t, method=\"nearest\") for t in dtime]\n"
     ]
    },
    {
     "name": "stdout",
     "output_type": "stream",
     "text": [
      "Slice: 520. Convergence reached. Iterations: 593. reduced chi2: 1.2\n"
     ]
    },
    {
     "name": "stderr",
     "output_type": "stream",
     "text": [
      "/home/jmcle/anaconda3/lib/python3.9/site-packages/geomagindices/base.py:37: FutureWarning: Passing method to DatetimeIndex.get_loc is deprecated and will raise in a future version. Use index.get_indexer([item], method=...) instead.\n",
      "  i = [dat.index.get_loc(t, method=\"nearest\") for t in dtime]\n",
      "/home/jmcle/anaconda3/lib/python3.9/site-packages/geomagindices/base.py:37: FutureWarning: Passing method to DatetimeIndex.get_loc is deprecated and will raise in a future version. Use index.get_indexer([item], method=...) instead.\n",
      "  i = [dat.index.get_loc(t, method=\"nearest\") for t in dtime]\n"
     ]
    },
    {
     "name": "stdout",
     "output_type": "stream",
     "text": [
      "Slice: 521. Convergence reached. Iterations: 1111. reduced chi2: 1.97\n"
     ]
    },
    {
     "name": "stderr",
     "output_type": "stream",
     "text": [
      "/home/jmcle/anaconda3/lib/python3.9/site-packages/geomagindices/base.py:37: FutureWarning: Passing method to DatetimeIndex.get_loc is deprecated and will raise in a future version. Use index.get_indexer([item], method=...) instead.\n",
      "  i = [dat.index.get_loc(t, method=\"nearest\") for t in dtime]\n",
      "/home/jmcle/anaconda3/lib/python3.9/site-packages/geomagindices/base.py:37: FutureWarning: Passing method to DatetimeIndex.get_loc is deprecated and will raise in a future version. Use index.get_indexer([item], method=...) instead.\n",
      "  i = [dat.index.get_loc(t, method=\"nearest\") for t in dtime]\n"
     ]
    },
    {
     "name": "stdout",
     "output_type": "stream",
     "text": [
      "Slice: 522. Convergence reached. Iterations: 1023. reduced chi2: 1.88\n"
     ]
    },
    {
     "name": "stderr",
     "output_type": "stream",
     "text": [
      "/home/jmcle/anaconda3/lib/python3.9/site-packages/geomagindices/base.py:37: FutureWarning: Passing method to DatetimeIndex.get_loc is deprecated and will raise in a future version. Use index.get_indexer([item], method=...) instead.\n",
      "  i = [dat.index.get_loc(t, method=\"nearest\") for t in dtime]\n",
      "/home/jmcle/anaconda3/lib/python3.9/site-packages/geomagindices/base.py:37: FutureWarning: Passing method to DatetimeIndex.get_loc is deprecated and will raise in a future version. Use index.get_indexer([item], method=...) instead.\n",
      "  i = [dat.index.get_loc(t, method=\"nearest\") for t in dtime]\n"
     ]
    },
    {
     "name": "stdout",
     "output_type": "stream",
     "text": [
      "Slice: 523. Convergence reached. Iterations: 308. reduced chi2: 1.64\n"
     ]
    },
    {
     "name": "stderr",
     "output_type": "stream",
     "text": [
      "/home/jmcle/anaconda3/lib/python3.9/site-packages/geomagindices/base.py:37: FutureWarning: Passing method to DatetimeIndex.get_loc is deprecated and will raise in a future version. Use index.get_indexer([item], method=...) instead.\n",
      "  i = [dat.index.get_loc(t, method=\"nearest\") for t in dtime]\n",
      "/home/jmcle/anaconda3/lib/python3.9/site-packages/geomagindices/base.py:37: FutureWarning: Passing method to DatetimeIndex.get_loc is deprecated and will raise in a future version. Use index.get_indexer([item], method=...) instead.\n",
      "  i = [dat.index.get_loc(t, method=\"nearest\") for t in dtime]\n"
     ]
    },
    {
     "name": "stdout",
     "output_type": "stream",
     "text": [
      "Slice: 524. Convergence reached. Iterations: 214. reduced chi2: 1.35\n"
     ]
    },
    {
     "name": "stderr",
     "output_type": "stream",
     "text": [
      "/home/jmcle/anaconda3/lib/python3.9/site-packages/geomagindices/base.py:37: FutureWarning: Passing method to DatetimeIndex.get_loc is deprecated and will raise in a future version. Use index.get_indexer([item], method=...) instead.\n",
      "  i = [dat.index.get_loc(t, method=\"nearest\") for t in dtime]\n",
      "/home/jmcle/anaconda3/lib/python3.9/site-packages/geomagindices/base.py:37: FutureWarning: Passing method to DatetimeIndex.get_loc is deprecated and will raise in a future version. Use index.get_indexer([item], method=...) instead.\n",
      "  i = [dat.index.get_loc(t, method=\"nearest\") for t in dtime]\n"
     ]
    },
    {
     "name": "stdout",
     "output_type": "stream",
     "text": [
      "Slice: 525. Convergence reached. Iterations: 468. reduced chi2: 1.47\n"
     ]
    },
    {
     "name": "stderr",
     "output_type": "stream",
     "text": [
      "/home/jmcle/anaconda3/lib/python3.9/site-packages/geomagindices/base.py:37: FutureWarning: Passing method to DatetimeIndex.get_loc is deprecated and will raise in a future version. Use index.get_indexer([item], method=...) instead.\n",
      "  i = [dat.index.get_loc(t, method=\"nearest\") for t in dtime]\n",
      "/home/jmcle/anaconda3/lib/python3.9/site-packages/geomagindices/base.py:37: FutureWarning: Passing method to DatetimeIndex.get_loc is deprecated and will raise in a future version. Use index.get_indexer([item], method=...) instead.\n",
      "  i = [dat.index.get_loc(t, method=\"nearest\") for t in dtime]\n"
     ]
    },
    {
     "name": "stdout",
     "output_type": "stream",
     "text": [
      "Slice: 526. Convergence reached. Iterations: 824. reduced chi2: 2.08\n"
     ]
    },
    {
     "name": "stderr",
     "output_type": "stream",
     "text": [
      "/home/jmcle/anaconda3/lib/python3.9/site-packages/geomagindices/base.py:37: FutureWarning: Passing method to DatetimeIndex.get_loc is deprecated and will raise in a future version. Use index.get_indexer([item], method=...) instead.\n",
      "  i = [dat.index.get_loc(t, method=\"nearest\") for t in dtime]\n",
      "/home/jmcle/anaconda3/lib/python3.9/site-packages/geomagindices/base.py:37: FutureWarning: Passing method to DatetimeIndex.get_loc is deprecated and will raise in a future version. Use index.get_indexer([item], method=...) instead.\n",
      "  i = [dat.index.get_loc(t, method=\"nearest\") for t in dtime]\n"
     ]
    },
    {
     "name": "stdout",
     "output_type": "stream",
     "text": [
      "Slice: 527. Convergence reached. Iterations: 995. reduced chi2: 2.22\n"
     ]
    },
    {
     "name": "stderr",
     "output_type": "stream",
     "text": [
      "/home/jmcle/anaconda3/lib/python3.9/site-packages/geomagindices/base.py:37: FutureWarning: Passing method to DatetimeIndex.get_loc is deprecated and will raise in a future version. Use index.get_indexer([item], method=...) instead.\n",
      "  i = [dat.index.get_loc(t, method=\"nearest\") for t in dtime]\n",
      "/home/jmcle/anaconda3/lib/python3.9/site-packages/geomagindices/base.py:37: FutureWarning: Passing method to DatetimeIndex.get_loc is deprecated and will raise in a future version. Use index.get_indexer([item], method=...) instead.\n",
      "  i = [dat.index.get_loc(t, method=\"nearest\") for t in dtime]\n"
     ]
    },
    {
     "name": "stdout",
     "output_type": "stream",
     "text": [
      "Slice: 528. Convergence reached. Iterations: 985. reduced chi2: 2.05\n"
     ]
    },
    {
     "name": "stderr",
     "output_type": "stream",
     "text": [
      "/home/jmcle/anaconda3/lib/python3.9/site-packages/geomagindices/base.py:37: FutureWarning: Passing method to DatetimeIndex.get_loc is deprecated and will raise in a future version. Use index.get_indexer([item], method=...) instead.\n",
      "  i = [dat.index.get_loc(t, method=\"nearest\") for t in dtime]\n",
      "/home/jmcle/anaconda3/lib/python3.9/site-packages/geomagindices/base.py:37: FutureWarning: Passing method to DatetimeIndex.get_loc is deprecated and will raise in a future version. Use index.get_indexer([item], method=...) instead.\n",
      "  i = [dat.index.get_loc(t, method=\"nearest\") for t in dtime]\n"
     ]
    },
    {
     "name": "stdout",
     "output_type": "stream",
     "text": [
      "Slice: 529. Convergence reached. Iterations: 518. reduced chi2: 1.8\n"
     ]
    },
    {
     "name": "stderr",
     "output_type": "stream",
     "text": [
      "/home/jmcle/anaconda3/lib/python3.9/site-packages/geomagindices/base.py:37: FutureWarning: Passing method to DatetimeIndex.get_loc is deprecated and will raise in a future version. Use index.get_indexer([item], method=...) instead.\n",
      "  i = [dat.index.get_loc(t, method=\"nearest\") for t in dtime]\n",
      "/home/jmcle/anaconda3/lib/python3.9/site-packages/geomagindices/base.py:37: FutureWarning: Passing method to DatetimeIndex.get_loc is deprecated and will raise in a future version. Use index.get_indexer([item], method=...) instead.\n",
      "  i = [dat.index.get_loc(t, method=\"nearest\") for t in dtime]\n"
     ]
    },
    {
     "name": "stdout",
     "output_type": "stream",
     "text": [
      "Slice: 530. Convergence reached. Iterations: 562. reduced chi2: 1.74\n"
     ]
    },
    {
     "name": "stderr",
     "output_type": "stream",
     "text": [
      "/home/jmcle/anaconda3/lib/python3.9/site-packages/geomagindices/base.py:37: FutureWarning: Passing method to DatetimeIndex.get_loc is deprecated and will raise in a future version. Use index.get_indexer([item], method=...) instead.\n",
      "  i = [dat.index.get_loc(t, method=\"nearest\") for t in dtime]\n",
      "/home/jmcle/anaconda3/lib/python3.9/site-packages/geomagindices/base.py:37: FutureWarning: Passing method to DatetimeIndex.get_loc is deprecated and will raise in a future version. Use index.get_indexer([item], method=...) instead.\n",
      "  i = [dat.index.get_loc(t, method=\"nearest\") for t in dtime]\n"
     ]
    },
    {
     "name": "stdout",
     "output_type": "stream",
     "text": [
      "Slice: 531. Convergence reached. Iterations: 416. reduced chi2: 1.58\n"
     ]
    },
    {
     "name": "stderr",
     "output_type": "stream",
     "text": [
      "/home/jmcle/anaconda3/lib/python3.9/site-packages/geomagindices/base.py:37: FutureWarning: Passing method to DatetimeIndex.get_loc is deprecated and will raise in a future version. Use index.get_indexer([item], method=...) instead.\n",
      "  i = [dat.index.get_loc(t, method=\"nearest\") for t in dtime]\n",
      "/home/jmcle/anaconda3/lib/python3.9/site-packages/geomagindices/base.py:37: FutureWarning: Passing method to DatetimeIndex.get_loc is deprecated and will raise in a future version. Use index.get_indexer([item], method=...) instead.\n",
      "  i = [dat.index.get_loc(t, method=\"nearest\") for t in dtime]\n"
     ]
    },
    {
     "name": "stdout",
     "output_type": "stream",
     "text": [
      "Slice: 532. Convergence reached. Iterations: 667. reduced chi2: 2.02\n"
     ]
    },
    {
     "name": "stderr",
     "output_type": "stream",
     "text": [
      "/home/jmcle/anaconda3/lib/python3.9/site-packages/geomagindices/base.py:37: FutureWarning: Passing method to DatetimeIndex.get_loc is deprecated and will raise in a future version. Use index.get_indexer([item], method=...) instead.\n",
      "  i = [dat.index.get_loc(t, method=\"nearest\") for t in dtime]\n",
      "/home/jmcle/anaconda3/lib/python3.9/site-packages/geomagindices/base.py:37: FutureWarning: Passing method to DatetimeIndex.get_loc is deprecated and will raise in a future version. Use index.get_indexer([item], method=...) instead.\n",
      "  i = [dat.index.get_loc(t, method=\"nearest\") for t in dtime]\n"
     ]
    },
    {
     "name": "stdout",
     "output_type": "stream",
     "text": [
      "Slice: 533. Convergence reached. Iterations: 870. reduced chi2: 1.68\n"
     ]
    },
    {
     "name": "stderr",
     "output_type": "stream",
     "text": [
      "/home/jmcle/anaconda3/lib/python3.9/site-packages/geomagindices/base.py:37: FutureWarning: Passing method to DatetimeIndex.get_loc is deprecated and will raise in a future version. Use index.get_indexer([item], method=...) instead.\n",
      "  i = [dat.index.get_loc(t, method=\"nearest\") for t in dtime]\n",
      "/home/jmcle/anaconda3/lib/python3.9/site-packages/geomagindices/base.py:37: FutureWarning: Passing method to DatetimeIndex.get_loc is deprecated and will raise in a future version. Use index.get_indexer([item], method=...) instead.\n",
      "  i = [dat.index.get_loc(t, method=\"nearest\") for t in dtime]\n"
     ]
    },
    {
     "name": "stdout",
     "output_type": "stream",
     "text": [
      "Slice: 534. Convergence reached. Iterations: 1402. reduced chi2: 2.71\n"
     ]
    },
    {
     "name": "stderr",
     "output_type": "stream",
     "text": [
      "/home/jmcle/anaconda3/lib/python3.9/site-packages/geomagindices/base.py:37: FutureWarning: Passing method to DatetimeIndex.get_loc is deprecated and will raise in a future version. Use index.get_indexer([item], method=...) instead.\n",
      "  i = [dat.index.get_loc(t, method=\"nearest\") for t in dtime]\n",
      "/home/jmcle/anaconda3/lib/python3.9/site-packages/geomagindices/base.py:37: FutureWarning: Passing method to DatetimeIndex.get_loc is deprecated and will raise in a future version. Use index.get_indexer([item], method=...) instead.\n",
      "  i = [dat.index.get_loc(t, method=\"nearest\") for t in dtime]\n"
     ]
    },
    {
     "name": "stdout",
     "output_type": "stream",
     "text": [
      "Slice: 535. Convergence reached. Iterations: 801. reduced chi2: 1.49\n"
     ]
    },
    {
     "name": "stderr",
     "output_type": "stream",
     "text": [
      "/home/jmcle/anaconda3/lib/python3.9/site-packages/geomagindices/base.py:37: FutureWarning: Passing method to DatetimeIndex.get_loc is deprecated and will raise in a future version. Use index.get_indexer([item], method=...) instead.\n",
      "  i = [dat.index.get_loc(t, method=\"nearest\") for t in dtime]\n",
      "/home/jmcle/anaconda3/lib/python3.9/site-packages/geomagindices/base.py:37: FutureWarning: Passing method to DatetimeIndex.get_loc is deprecated and will raise in a future version. Use index.get_indexer([item], method=...) instead.\n",
      "  i = [dat.index.get_loc(t, method=\"nearest\") for t in dtime]\n"
     ]
    },
    {
     "name": "stdout",
     "output_type": "stream",
     "text": [
      "Slice: 536. Convergence reached. Iterations: 1284. reduced chi2: 1.43\n"
     ]
    },
    {
     "name": "stderr",
     "output_type": "stream",
     "text": [
      "/home/jmcle/anaconda3/lib/python3.9/site-packages/geomagindices/base.py:37: FutureWarning: Passing method to DatetimeIndex.get_loc is deprecated and will raise in a future version. Use index.get_indexer([item], method=...) instead.\n",
      "  i = [dat.index.get_loc(t, method=\"nearest\") for t in dtime]\n",
      "/home/jmcle/anaconda3/lib/python3.9/site-packages/geomagindices/base.py:37: FutureWarning: Passing method to DatetimeIndex.get_loc is deprecated and will raise in a future version. Use index.get_indexer([item], method=...) instead.\n",
      "  i = [dat.index.get_loc(t, method=\"nearest\") for t in dtime]\n"
     ]
    },
    {
     "name": "stdout",
     "output_type": "stream",
     "text": [
      "Slice: 537. Convergence reached. Iterations: 1032. reduced chi2: 2.14\n"
     ]
    },
    {
     "name": "stderr",
     "output_type": "stream",
     "text": [
      "/home/jmcle/anaconda3/lib/python3.9/site-packages/geomagindices/base.py:37: FutureWarning: Passing method to DatetimeIndex.get_loc is deprecated and will raise in a future version. Use index.get_indexer([item], method=...) instead.\n",
      "  i = [dat.index.get_loc(t, method=\"nearest\") for t in dtime]\n",
      "/home/jmcle/anaconda3/lib/python3.9/site-packages/geomagindices/base.py:37: FutureWarning: Passing method to DatetimeIndex.get_loc is deprecated and will raise in a future version. Use index.get_indexer([item], method=...) instead.\n",
      "  i = [dat.index.get_loc(t, method=\"nearest\") for t in dtime]\n"
     ]
    },
    {
     "name": "stdout",
     "output_type": "stream",
     "text": [
      "Slice: 538. Convergence reached. Iterations: 1188. reduced chi2: 1.53\n"
     ]
    },
    {
     "name": "stderr",
     "output_type": "stream",
     "text": [
      "/home/jmcle/anaconda3/lib/python3.9/site-packages/geomagindices/base.py:37: FutureWarning: Passing method to DatetimeIndex.get_loc is deprecated and will raise in a future version. Use index.get_indexer([item], method=...) instead.\n",
      "  i = [dat.index.get_loc(t, method=\"nearest\") for t in dtime]\n",
      "/home/jmcle/anaconda3/lib/python3.9/site-packages/geomagindices/base.py:37: FutureWarning: Passing method to DatetimeIndex.get_loc is deprecated and will raise in a future version. Use index.get_indexer([item], method=...) instead.\n",
      "  i = [dat.index.get_loc(t, method=\"nearest\") for t in dtime]\n"
     ]
    },
    {
     "name": "stdout",
     "output_type": "stream",
     "text": [
      "Slice: 539. Convergence reached. Iterations: 606. reduced chi2: 1.98\n"
     ]
    },
    {
     "name": "stderr",
     "output_type": "stream",
     "text": [
      "/home/jmcle/anaconda3/lib/python3.9/site-packages/geomagindices/base.py:37: FutureWarning: Passing method to DatetimeIndex.get_loc is deprecated and will raise in a future version. Use index.get_indexer([item], method=...) instead.\n",
      "  i = [dat.index.get_loc(t, method=\"nearest\") for t in dtime]\n",
      "/home/jmcle/anaconda3/lib/python3.9/site-packages/geomagindices/base.py:37: FutureWarning: Passing method to DatetimeIndex.get_loc is deprecated and will raise in a future version. Use index.get_indexer([item], method=...) instead.\n",
      "  i = [dat.index.get_loc(t, method=\"nearest\") for t in dtime]\n"
     ]
    },
    {
     "name": "stdout",
     "output_type": "stream",
     "text": [
      "Slice: 540. Convergence reached. Iterations: 409. reduced chi2: 1.69\n"
     ]
    },
    {
     "name": "stderr",
     "output_type": "stream",
     "text": [
      "/home/jmcle/anaconda3/lib/python3.9/site-packages/geomagindices/base.py:37: FutureWarning: Passing method to DatetimeIndex.get_loc is deprecated and will raise in a future version. Use index.get_indexer([item], method=...) instead.\n",
      "  i = [dat.index.get_loc(t, method=\"nearest\") for t in dtime]\n",
      "/home/jmcle/anaconda3/lib/python3.9/site-packages/geomagindices/base.py:37: FutureWarning: Passing method to DatetimeIndex.get_loc is deprecated and will raise in a future version. Use index.get_indexer([item], method=...) instead.\n",
      "  i = [dat.index.get_loc(t, method=\"nearest\") for t in dtime]\n"
     ]
    },
    {
     "name": "stdout",
     "output_type": "stream",
     "text": [
      "Slice: 541. Convergence reached. Iterations: 561. reduced chi2: 2.22\n"
     ]
    },
    {
     "name": "stderr",
     "output_type": "stream",
     "text": [
      "/home/jmcle/anaconda3/lib/python3.9/site-packages/geomagindices/base.py:37: FutureWarning: Passing method to DatetimeIndex.get_loc is deprecated and will raise in a future version. Use index.get_indexer([item], method=...) instead.\n",
      "  i = [dat.index.get_loc(t, method=\"nearest\") for t in dtime]\n",
      "/home/jmcle/anaconda3/lib/python3.9/site-packages/geomagindices/base.py:37: FutureWarning: Passing method to DatetimeIndex.get_loc is deprecated and will raise in a future version. Use index.get_indexer([item], method=...) instead.\n",
      "  i = [dat.index.get_loc(t, method=\"nearest\") for t in dtime]\n"
     ]
    },
    {
     "name": "stdout",
     "output_type": "stream",
     "text": [
      "Slice: 542. Convergence reached. Iterations: 723. reduced chi2: 1.44\n"
     ]
    },
    {
     "name": "stderr",
     "output_type": "stream",
     "text": [
      "/home/jmcle/anaconda3/lib/python3.9/site-packages/geomagindices/base.py:37: FutureWarning: Passing method to DatetimeIndex.get_loc is deprecated and will raise in a future version. Use index.get_indexer([item], method=...) instead.\n",
      "  i = [dat.index.get_loc(t, method=\"nearest\") for t in dtime]\n",
      "/home/jmcle/anaconda3/lib/python3.9/site-packages/geomagindices/base.py:37: FutureWarning: Passing method to DatetimeIndex.get_loc is deprecated and will raise in a future version. Use index.get_indexer([item], method=...) instead.\n",
      "  i = [dat.index.get_loc(t, method=\"nearest\") for t in dtime]\n"
     ]
    },
    {
     "name": "stdout",
     "output_type": "stream",
     "text": [
      "Slice: 543. Convergence reached. Iterations: 862. reduced chi2: 2.37\n"
     ]
    },
    {
     "name": "stderr",
     "output_type": "stream",
     "text": [
      "/home/jmcle/anaconda3/lib/python3.9/site-packages/geomagindices/base.py:37: FutureWarning: Passing method to DatetimeIndex.get_loc is deprecated and will raise in a future version. Use index.get_indexer([item], method=...) instead.\n",
      "  i = [dat.index.get_loc(t, method=\"nearest\") for t in dtime]\n",
      "/home/jmcle/anaconda3/lib/python3.9/site-packages/geomagindices/base.py:37: FutureWarning: Passing method to DatetimeIndex.get_loc is deprecated and will raise in a future version. Use index.get_indexer([item], method=...) instead.\n",
      "  i = [dat.index.get_loc(t, method=\"nearest\") for t in dtime]\n"
     ]
    },
    {
     "name": "stdout",
     "output_type": "stream",
     "text": [
      "Slice: 544. Convergence reached. Iterations: 688. reduced chi2: 2.49\n"
     ]
    },
    {
     "name": "stderr",
     "output_type": "stream",
     "text": [
      "/home/jmcle/anaconda3/lib/python3.9/site-packages/geomagindices/base.py:37: FutureWarning: Passing method to DatetimeIndex.get_loc is deprecated and will raise in a future version. Use index.get_indexer([item], method=...) instead.\n",
      "  i = [dat.index.get_loc(t, method=\"nearest\") for t in dtime]\n",
      "/home/jmcle/anaconda3/lib/python3.9/site-packages/geomagindices/base.py:37: FutureWarning: Passing method to DatetimeIndex.get_loc is deprecated and will raise in a future version. Use index.get_indexer([item], method=...) instead.\n",
      "  i = [dat.index.get_loc(t, method=\"nearest\") for t in dtime]\n"
     ]
    },
    {
     "name": "stdout",
     "output_type": "stream",
     "text": [
      "Slice: 545. Convergence reached. Iterations: 1138. reduced chi2: 2.93\n"
     ]
    },
    {
     "name": "stderr",
     "output_type": "stream",
     "text": [
      "/home/jmcle/anaconda3/lib/python3.9/site-packages/geomagindices/base.py:37: FutureWarning: Passing method to DatetimeIndex.get_loc is deprecated and will raise in a future version. Use index.get_indexer([item], method=...) instead.\n",
      "  i = [dat.index.get_loc(t, method=\"nearest\") for t in dtime]\n",
      "/home/jmcle/anaconda3/lib/python3.9/site-packages/geomagindices/base.py:37: FutureWarning: Passing method to DatetimeIndex.get_loc is deprecated and will raise in a future version. Use index.get_indexer([item], method=...) instead.\n",
      "  i = [dat.index.get_loc(t, method=\"nearest\") for t in dtime]\n"
     ]
    },
    {
     "name": "stdout",
     "output_type": "stream",
     "text": [
      "Slice: 546. Convergence reached. Iterations: 864. reduced chi2: 2.25\n"
     ]
    },
    {
     "name": "stderr",
     "output_type": "stream",
     "text": [
      "/home/jmcle/anaconda3/lib/python3.9/site-packages/geomagindices/base.py:37: FutureWarning: Passing method to DatetimeIndex.get_loc is deprecated and will raise in a future version. Use index.get_indexer([item], method=...) instead.\n",
      "  i = [dat.index.get_loc(t, method=\"nearest\") for t in dtime]\n",
      "/home/jmcle/anaconda3/lib/python3.9/site-packages/geomagindices/base.py:37: FutureWarning: Passing method to DatetimeIndex.get_loc is deprecated and will raise in a future version. Use index.get_indexer([item], method=...) instead.\n",
      "  i = [dat.index.get_loc(t, method=\"nearest\") for t in dtime]\n"
     ]
    },
    {
     "name": "stdout",
     "output_type": "stream",
     "text": [
      "Slice: 547. Convergence reached. Iterations: 746. reduced chi2: 2.19\n"
     ]
    },
    {
     "name": "stderr",
     "output_type": "stream",
     "text": [
      "/home/jmcle/anaconda3/lib/python3.9/site-packages/geomagindices/base.py:37: FutureWarning: Passing method to DatetimeIndex.get_loc is deprecated and will raise in a future version. Use index.get_indexer([item], method=...) instead.\n",
      "  i = [dat.index.get_loc(t, method=\"nearest\") for t in dtime]\n",
      "/home/jmcle/anaconda3/lib/python3.9/site-packages/geomagindices/base.py:37: FutureWarning: Passing method to DatetimeIndex.get_loc is deprecated and will raise in a future version. Use index.get_indexer([item], method=...) instead.\n",
      "  i = [dat.index.get_loc(t, method=\"nearest\") for t in dtime]\n"
     ]
    },
    {
     "name": "stdout",
     "output_type": "stream",
     "text": [
      "Slice: 548. Convergence reached. Iterations: 885. reduced chi2: 2.55\n"
     ]
    },
    {
     "name": "stderr",
     "output_type": "stream",
     "text": [
      "/home/jmcle/anaconda3/lib/python3.9/site-packages/geomagindices/base.py:37: FutureWarning: Passing method to DatetimeIndex.get_loc is deprecated and will raise in a future version. Use index.get_indexer([item], method=...) instead.\n",
      "  i = [dat.index.get_loc(t, method=\"nearest\") for t in dtime]\n",
      "/home/jmcle/anaconda3/lib/python3.9/site-packages/geomagindices/base.py:37: FutureWarning: Passing method to DatetimeIndex.get_loc is deprecated and will raise in a future version. Use index.get_indexer([item], method=...) instead.\n",
      "  i = [dat.index.get_loc(t, method=\"nearest\") for t in dtime]\n"
     ]
    },
    {
     "name": "stdout",
     "output_type": "stream",
     "text": [
      "Slice: 549. Convergence reached. Iterations: 962. reduced chi2: 2.86\n"
     ]
    },
    {
     "name": "stderr",
     "output_type": "stream",
     "text": [
      "/home/jmcle/anaconda3/lib/python3.9/site-packages/geomagindices/base.py:37: FutureWarning: Passing method to DatetimeIndex.get_loc is deprecated and will raise in a future version. Use index.get_indexer([item], method=...) instead.\n",
      "  i = [dat.index.get_loc(t, method=\"nearest\") for t in dtime]\n",
      "/home/jmcle/anaconda3/lib/python3.9/site-packages/geomagindices/base.py:37: FutureWarning: Passing method to DatetimeIndex.get_loc is deprecated and will raise in a future version. Use index.get_indexer([item], method=...) instead.\n",
      "  i = [dat.index.get_loc(t, method=\"nearest\") for t in dtime]\n"
     ]
    },
    {
     "name": "stdout",
     "output_type": "stream",
     "text": [
      "Slice: 550. Convergence reached. Iterations: 707. reduced chi2: 2.26\n"
     ]
    },
    {
     "name": "stderr",
     "output_type": "stream",
     "text": [
      "/home/jmcle/anaconda3/lib/python3.9/site-packages/geomagindices/base.py:37: FutureWarning: Passing method to DatetimeIndex.get_loc is deprecated and will raise in a future version. Use index.get_indexer([item], method=...) instead.\n",
      "  i = [dat.index.get_loc(t, method=\"nearest\") for t in dtime]\n",
      "/home/jmcle/anaconda3/lib/python3.9/site-packages/geomagindices/base.py:37: FutureWarning: Passing method to DatetimeIndex.get_loc is deprecated and will raise in a future version. Use index.get_indexer([item], method=...) instead.\n",
      "  i = [dat.index.get_loc(t, method=\"nearest\") for t in dtime]\n"
     ]
    },
    {
     "name": "stdout",
     "output_type": "stream",
     "text": [
      "Slice: 551. Convergence reached. Iterations: 270. reduced chi2: 1.25\n"
     ]
    },
    {
     "name": "stderr",
     "output_type": "stream",
     "text": [
      "/home/jmcle/anaconda3/lib/python3.9/site-packages/geomagindices/base.py:37: FutureWarning: Passing method to DatetimeIndex.get_loc is deprecated and will raise in a future version. Use index.get_indexer([item], method=...) instead.\n",
      "  i = [dat.index.get_loc(t, method=\"nearest\") for t in dtime]\n",
      "/home/jmcle/anaconda3/lib/python3.9/site-packages/geomagindices/base.py:37: FutureWarning: Passing method to DatetimeIndex.get_loc is deprecated and will raise in a future version. Use index.get_indexer([item], method=...) instead.\n",
      "  i = [dat.index.get_loc(t, method=\"nearest\") for t in dtime]\n"
     ]
    },
    {
     "name": "stdout",
     "output_type": "stream",
     "text": [
      "Slice: 552. Convergence reached. Iterations: 582. reduced chi2: 2.15\n"
     ]
    },
    {
     "name": "stderr",
     "output_type": "stream",
     "text": [
      "/home/jmcle/anaconda3/lib/python3.9/site-packages/geomagindices/base.py:37: FutureWarning: Passing method to DatetimeIndex.get_loc is deprecated and will raise in a future version. Use index.get_indexer([item], method=...) instead.\n",
      "  i = [dat.index.get_loc(t, method=\"nearest\") for t in dtime]\n",
      "/home/jmcle/anaconda3/lib/python3.9/site-packages/geomagindices/base.py:37: FutureWarning: Passing method to DatetimeIndex.get_loc is deprecated and will raise in a future version. Use index.get_indexer([item], method=...) instead.\n",
      "  i = [dat.index.get_loc(t, method=\"nearest\") for t in dtime]\n"
     ]
    },
    {
     "name": "stdout",
     "output_type": "stream",
     "text": [
      "Slice: 553. Convergence reached. Iterations: 677. reduced chi2: 3.8\n"
     ]
    },
    {
     "name": "stderr",
     "output_type": "stream",
     "text": [
      "/home/jmcle/anaconda3/lib/python3.9/site-packages/geomagindices/base.py:37: FutureWarning: Passing method to DatetimeIndex.get_loc is deprecated and will raise in a future version. Use index.get_indexer([item], method=...) instead.\n",
      "  i = [dat.index.get_loc(t, method=\"nearest\") for t in dtime]\n",
      "/home/jmcle/anaconda3/lib/python3.9/site-packages/geomagindices/base.py:37: FutureWarning: Passing method to DatetimeIndex.get_loc is deprecated and will raise in a future version. Use index.get_indexer([item], method=...) instead.\n",
      "  i = [dat.index.get_loc(t, method=\"nearest\") for t in dtime]\n"
     ]
    },
    {
     "name": "stdout",
     "output_type": "stream",
     "text": [
      "Slice: 554. Convergence reached. Iterations: 1530. reduced chi2: 2.36\n"
     ]
    },
    {
     "name": "stderr",
     "output_type": "stream",
     "text": [
      "/home/jmcle/anaconda3/lib/python3.9/site-packages/geomagindices/base.py:37: FutureWarning: Passing method to DatetimeIndex.get_loc is deprecated and will raise in a future version. Use index.get_indexer([item], method=...) instead.\n",
      "  i = [dat.index.get_loc(t, method=\"nearest\") for t in dtime]\n",
      "/home/jmcle/anaconda3/lib/python3.9/site-packages/geomagindices/base.py:37: FutureWarning: Passing method to DatetimeIndex.get_loc is deprecated and will raise in a future version. Use index.get_indexer([item], method=...) instead.\n",
      "  i = [dat.index.get_loc(t, method=\"nearest\") for t in dtime]\n"
     ]
    },
    {
     "name": "stdout",
     "output_type": "stream",
     "text": [
      "Slice: 555. Convergence reached. Iterations: 857. reduced chi2: 2.1\n"
     ]
    },
    {
     "name": "stderr",
     "output_type": "stream",
     "text": [
      "/home/jmcle/anaconda3/lib/python3.9/site-packages/geomagindices/base.py:37: FutureWarning: Passing method to DatetimeIndex.get_loc is deprecated and will raise in a future version. Use index.get_indexer([item], method=...) instead.\n",
      "  i = [dat.index.get_loc(t, method=\"nearest\") for t in dtime]\n",
      "/home/jmcle/anaconda3/lib/python3.9/site-packages/geomagindices/base.py:37: FutureWarning: Passing method to DatetimeIndex.get_loc is deprecated and will raise in a future version. Use index.get_indexer([item], method=...) instead.\n",
      "  i = [dat.index.get_loc(t, method=\"nearest\") for t in dtime]\n"
     ]
    },
    {
     "name": "stdout",
     "output_type": "stream",
     "text": [
      "Slice: 556. Convergence reached. Iterations: 956. reduced chi2: 2.72\n"
     ]
    },
    {
     "name": "stderr",
     "output_type": "stream",
     "text": [
      "/home/jmcle/anaconda3/lib/python3.9/site-packages/geomagindices/base.py:37: FutureWarning: Passing method to DatetimeIndex.get_loc is deprecated and will raise in a future version. Use index.get_indexer([item], method=...) instead.\n",
      "  i = [dat.index.get_loc(t, method=\"nearest\") for t in dtime]\n",
      "/home/jmcle/anaconda3/lib/python3.9/site-packages/geomagindices/base.py:37: FutureWarning: Passing method to DatetimeIndex.get_loc is deprecated and will raise in a future version. Use index.get_indexer([item], method=...) instead.\n",
      "  i = [dat.index.get_loc(t, method=\"nearest\") for t in dtime]\n"
     ]
    },
    {
     "name": "stdout",
     "output_type": "stream",
     "text": [
      "Slice: 557. Convergence reached. Iterations: 742. reduced chi2: 1.59\n"
     ]
    },
    {
     "name": "stderr",
     "output_type": "stream",
     "text": [
      "/home/jmcle/anaconda3/lib/python3.9/site-packages/geomagindices/base.py:37: FutureWarning: Passing method to DatetimeIndex.get_loc is deprecated and will raise in a future version. Use index.get_indexer([item], method=...) instead.\n",
      "  i = [dat.index.get_loc(t, method=\"nearest\") for t in dtime]\n",
      "/home/jmcle/anaconda3/lib/python3.9/site-packages/geomagindices/base.py:37: FutureWarning: Passing method to DatetimeIndex.get_loc is deprecated and will raise in a future version. Use index.get_indexer([item], method=...) instead.\n",
      "  i = [dat.index.get_loc(t, method=\"nearest\") for t in dtime]\n"
     ]
    },
    {
     "name": "stdout",
     "output_type": "stream",
     "text": [
      "Slice: 558. Convergence reached. Iterations: 614. reduced chi2: 1.42\n"
     ]
    },
    {
     "name": "stderr",
     "output_type": "stream",
     "text": [
      "/home/jmcle/anaconda3/lib/python3.9/site-packages/geomagindices/base.py:37: FutureWarning: Passing method to DatetimeIndex.get_loc is deprecated and will raise in a future version. Use index.get_indexer([item], method=...) instead.\n",
      "  i = [dat.index.get_loc(t, method=\"nearest\") for t in dtime]\n",
      "/home/jmcle/anaconda3/lib/python3.9/site-packages/geomagindices/base.py:37: FutureWarning: Passing method to DatetimeIndex.get_loc is deprecated and will raise in a future version. Use index.get_indexer([item], method=...) instead.\n",
      "  i = [dat.index.get_loc(t, method=\"nearest\") for t in dtime]\n"
     ]
    },
    {
     "name": "stdout",
     "output_type": "stream",
     "text": [
      "Slice: 559. Convergence reached. Iterations: 1237. reduced chi2: 1.56\n"
     ]
    },
    {
     "name": "stderr",
     "output_type": "stream",
     "text": [
      "/home/jmcle/anaconda3/lib/python3.9/site-packages/geomagindices/base.py:37: FutureWarning: Passing method to DatetimeIndex.get_loc is deprecated and will raise in a future version. Use index.get_indexer([item], method=...) instead.\n",
      "  i = [dat.index.get_loc(t, method=\"nearest\") for t in dtime]\n",
      "/home/jmcle/anaconda3/lib/python3.9/site-packages/geomagindices/base.py:37: FutureWarning: Passing method to DatetimeIndex.get_loc is deprecated and will raise in a future version. Use index.get_indexer([item], method=...) instead.\n",
      "  i = [dat.index.get_loc(t, method=\"nearest\") for t in dtime]\n"
     ]
    },
    {
     "name": "stdout",
     "output_type": "stream",
     "text": [
      "Slice: 560. Convergence reached. Iterations: 607. reduced chi2: 1.3\n"
     ]
    },
    {
     "name": "stderr",
     "output_type": "stream",
     "text": [
      "/home/jmcle/anaconda3/lib/python3.9/site-packages/geomagindices/base.py:37: FutureWarning: Passing method to DatetimeIndex.get_loc is deprecated and will raise in a future version. Use index.get_indexer([item], method=...) instead.\n",
      "  i = [dat.index.get_loc(t, method=\"nearest\") for t in dtime]\n",
      "/home/jmcle/anaconda3/lib/python3.9/site-packages/geomagindices/base.py:37: FutureWarning: Passing method to DatetimeIndex.get_loc is deprecated and will raise in a future version. Use index.get_indexer([item], method=...) instead.\n",
      "  i = [dat.index.get_loc(t, method=\"nearest\") for t in dtime]\n"
     ]
    },
    {
     "name": "stdout",
     "output_type": "stream",
     "text": [
      "Slice: 561. Convergence reached. Iterations: 409. reduced chi2: 1.36\n"
     ]
    },
    {
     "name": "stderr",
     "output_type": "stream",
     "text": [
      "/home/jmcle/anaconda3/lib/python3.9/site-packages/geomagindices/base.py:37: FutureWarning: Passing method to DatetimeIndex.get_loc is deprecated and will raise in a future version. Use index.get_indexer([item], method=...) instead.\n",
      "  i = [dat.index.get_loc(t, method=\"nearest\") for t in dtime]\n",
      "/home/jmcle/anaconda3/lib/python3.9/site-packages/geomagindices/base.py:37: FutureWarning: Passing method to DatetimeIndex.get_loc is deprecated and will raise in a future version. Use index.get_indexer([item], method=...) instead.\n",
      "  i = [dat.index.get_loc(t, method=\"nearest\") for t in dtime]\n"
     ]
    },
    {
     "name": "stdout",
     "output_type": "stream",
     "text": [
      "Slice: 562. Convergence reached. Iterations: 467. reduced chi2: 1.27\n"
     ]
    },
    {
     "name": "stderr",
     "output_type": "stream",
     "text": [
      "/home/jmcle/anaconda3/lib/python3.9/site-packages/geomagindices/base.py:37: FutureWarning: Passing method to DatetimeIndex.get_loc is deprecated and will raise in a future version. Use index.get_indexer([item], method=...) instead.\n",
      "  i = [dat.index.get_loc(t, method=\"nearest\") for t in dtime]\n",
      "/home/jmcle/anaconda3/lib/python3.9/site-packages/geomagindices/base.py:37: FutureWarning: Passing method to DatetimeIndex.get_loc is deprecated and will raise in a future version. Use index.get_indexer([item], method=...) instead.\n",
      "  i = [dat.index.get_loc(t, method=\"nearest\") for t in dtime]\n"
     ]
    },
    {
     "name": "stdout",
     "output_type": "stream",
     "text": [
      "Slice: 563. Convergence reached. Iterations: 977. reduced chi2: 1.55\n"
     ]
    },
    {
     "name": "stderr",
     "output_type": "stream",
     "text": [
      "/home/jmcle/anaconda3/lib/python3.9/site-packages/geomagindices/base.py:37: FutureWarning: Passing method to DatetimeIndex.get_loc is deprecated and will raise in a future version. Use index.get_indexer([item], method=...) instead.\n",
      "  i = [dat.index.get_loc(t, method=\"nearest\") for t in dtime]\n",
      "/home/jmcle/anaconda3/lib/python3.9/site-packages/geomagindices/base.py:37: FutureWarning: Passing method to DatetimeIndex.get_loc is deprecated and will raise in a future version. Use index.get_indexer([item], method=...) instead.\n",
      "  i = [dat.index.get_loc(t, method=\"nearest\") for t in dtime]\n"
     ]
    },
    {
     "name": "stdout",
     "output_type": "stream",
     "text": [
      "Slice: 564. Convergence reached. Iterations: 1414. reduced chi2: 4.86\n"
     ]
    },
    {
     "name": "stderr",
     "output_type": "stream",
     "text": [
      "/home/jmcle/anaconda3/lib/python3.9/site-packages/geomagindices/base.py:37: FutureWarning: Passing method to DatetimeIndex.get_loc is deprecated and will raise in a future version. Use index.get_indexer([item], method=...) instead.\n",
      "  i = [dat.index.get_loc(t, method=\"nearest\") for t in dtime]\n",
      "/home/jmcle/anaconda3/lib/python3.9/site-packages/geomagindices/base.py:37: FutureWarning: Passing method to DatetimeIndex.get_loc is deprecated and will raise in a future version. Use index.get_indexer([item], method=...) instead.\n",
      "  i = [dat.index.get_loc(t, method=\"nearest\") for t in dtime]\n"
     ]
    },
    {
     "name": "stdout",
     "output_type": "stream",
     "text": [
      "Slice: 565. Convergence reached. Iterations: 457. reduced chi2: 1.98\n"
     ]
    },
    {
     "name": "stderr",
     "output_type": "stream",
     "text": [
      "/home/jmcle/anaconda3/lib/python3.9/site-packages/geomagindices/base.py:37: FutureWarning: Passing method to DatetimeIndex.get_loc is deprecated and will raise in a future version. Use index.get_indexer([item], method=...) instead.\n",
      "  i = [dat.index.get_loc(t, method=\"nearest\") for t in dtime]\n",
      "/home/jmcle/anaconda3/lib/python3.9/site-packages/geomagindices/base.py:37: FutureWarning: Passing method to DatetimeIndex.get_loc is deprecated and will raise in a future version. Use index.get_indexer([item], method=...) instead.\n",
      "  i = [dat.index.get_loc(t, method=\"nearest\") for t in dtime]\n"
     ]
    },
    {
     "name": "stdout",
     "output_type": "stream",
     "text": [
      "Slice: 566. Convergence reached. Iterations: 1735. reduced chi2: 2.68\n"
     ]
    },
    {
     "name": "stderr",
     "output_type": "stream",
     "text": [
      "/home/jmcle/anaconda3/lib/python3.9/site-packages/geomagindices/base.py:37: FutureWarning: Passing method to DatetimeIndex.get_loc is deprecated and will raise in a future version. Use index.get_indexer([item], method=...) instead.\n",
      "  i = [dat.index.get_loc(t, method=\"nearest\") for t in dtime]\n",
      "/home/jmcle/anaconda3/lib/python3.9/site-packages/geomagindices/base.py:37: FutureWarning: Passing method to DatetimeIndex.get_loc is deprecated and will raise in a future version. Use index.get_indexer([item], method=...) instead.\n",
      "  i = [dat.index.get_loc(t, method=\"nearest\") for t in dtime]\n"
     ]
    },
    {
     "name": "stdout",
     "output_type": "stream",
     "text": [
      "Slice: 567. Convergence reached. Iterations: 1549. reduced chi2: 1.87\n"
     ]
    },
    {
     "name": "stderr",
     "output_type": "stream",
     "text": [
      "/home/jmcle/anaconda3/lib/python3.9/site-packages/geomagindices/base.py:37: FutureWarning: Passing method to DatetimeIndex.get_loc is deprecated and will raise in a future version. Use index.get_indexer([item], method=...) instead.\n",
      "  i = [dat.index.get_loc(t, method=\"nearest\") for t in dtime]\n",
      "/home/jmcle/anaconda3/lib/python3.9/site-packages/geomagindices/base.py:37: FutureWarning: Passing method to DatetimeIndex.get_loc is deprecated and will raise in a future version. Use index.get_indexer([item], method=...) instead.\n",
      "  i = [dat.index.get_loc(t, method=\"nearest\") for t in dtime]\n"
     ]
    },
    {
     "name": "stdout",
     "output_type": "stream",
     "text": [
      "Slice: 568. Convergence reached. Iterations: 602. reduced chi2: 3.27\n"
     ]
    },
    {
     "name": "stderr",
     "output_type": "stream",
     "text": [
      "/home/jmcle/anaconda3/lib/python3.9/site-packages/geomagindices/base.py:37: FutureWarning: Passing method to DatetimeIndex.get_loc is deprecated and will raise in a future version. Use index.get_indexer([item], method=...) instead.\n",
      "  i = [dat.index.get_loc(t, method=\"nearest\") for t in dtime]\n",
      "/home/jmcle/anaconda3/lib/python3.9/site-packages/geomagindices/base.py:37: FutureWarning: Passing method to DatetimeIndex.get_loc is deprecated and will raise in a future version. Use index.get_indexer([item], method=...) instead.\n",
      "  i = [dat.index.get_loc(t, method=\"nearest\") for t in dtime]\n"
     ]
    },
    {
     "name": "stdout",
     "output_type": "stream",
     "text": [
      "Slice: 569. Convergence reached. Iterations: 352. reduced chi2: 1.68\n"
     ]
    },
    {
     "name": "stderr",
     "output_type": "stream",
     "text": [
      "/home/jmcle/anaconda3/lib/python3.9/site-packages/geomagindices/base.py:37: FutureWarning: Passing method to DatetimeIndex.get_loc is deprecated and will raise in a future version. Use index.get_indexer([item], method=...) instead.\n",
      "  i = [dat.index.get_loc(t, method=\"nearest\") for t in dtime]\n",
      "/home/jmcle/anaconda3/lib/python3.9/site-packages/geomagindices/base.py:37: FutureWarning: Passing method to DatetimeIndex.get_loc is deprecated and will raise in a future version. Use index.get_indexer([item], method=...) instead.\n",
      "  i = [dat.index.get_loc(t, method=\"nearest\") for t in dtime]\n"
     ]
    },
    {
     "name": "stdout",
     "output_type": "stream",
     "text": [
      "Slice: 570. Convergence reached. Iterations: 592. reduced chi2: 1.32\n"
     ]
    },
    {
     "name": "stderr",
     "output_type": "stream",
     "text": [
      "/home/jmcle/anaconda3/lib/python3.9/site-packages/geomagindices/base.py:37: FutureWarning: Passing method to DatetimeIndex.get_loc is deprecated and will raise in a future version. Use index.get_indexer([item], method=...) instead.\n",
      "  i = [dat.index.get_loc(t, method=\"nearest\") for t in dtime]\n",
      "/home/jmcle/anaconda3/lib/python3.9/site-packages/geomagindices/base.py:37: FutureWarning: Passing method to DatetimeIndex.get_loc is deprecated and will raise in a future version. Use index.get_indexer([item], method=...) instead.\n",
      "  i = [dat.index.get_loc(t, method=\"nearest\") for t in dtime]\n"
     ]
    },
    {
     "name": "stdout",
     "output_type": "stream",
     "text": [
      "Slice: 571. Convergence reached. Iterations: 539. reduced chi2: 1.73\n"
     ]
    },
    {
     "name": "stderr",
     "output_type": "stream",
     "text": [
      "/home/jmcle/anaconda3/lib/python3.9/site-packages/geomagindices/base.py:37: FutureWarning: Passing method to DatetimeIndex.get_loc is deprecated and will raise in a future version. Use index.get_indexer([item], method=...) instead.\n",
      "  i = [dat.index.get_loc(t, method=\"nearest\") for t in dtime]\n",
      "/home/jmcle/anaconda3/lib/python3.9/site-packages/geomagindices/base.py:37: FutureWarning: Passing method to DatetimeIndex.get_loc is deprecated and will raise in a future version. Use index.get_indexer([item], method=...) instead.\n",
      "  i = [dat.index.get_loc(t, method=\"nearest\") for t in dtime]\n"
     ]
    },
    {
     "name": "stdout",
     "output_type": "stream",
     "text": [
      "Slice: 572. Convergence reached. Iterations: 844. reduced chi2: 1.7\n"
     ]
    },
    {
     "name": "stderr",
     "output_type": "stream",
     "text": [
      "/home/jmcle/anaconda3/lib/python3.9/site-packages/geomagindices/base.py:37: FutureWarning: Passing method to DatetimeIndex.get_loc is deprecated and will raise in a future version. Use index.get_indexer([item], method=...) instead.\n",
      "  i = [dat.index.get_loc(t, method=\"nearest\") for t in dtime]\n",
      "/home/jmcle/anaconda3/lib/python3.9/site-packages/geomagindices/base.py:37: FutureWarning: Passing method to DatetimeIndex.get_loc is deprecated and will raise in a future version. Use index.get_indexer([item], method=...) instead.\n",
      "  i = [dat.index.get_loc(t, method=\"nearest\") for t in dtime]\n"
     ]
    },
    {
     "name": "stdout",
     "output_type": "stream",
     "text": [
      "Slice: 573. Convergence reached. Iterations: 518. reduced chi2: 1.33\n"
     ]
    },
    {
     "name": "stderr",
     "output_type": "stream",
     "text": [
      "/home/jmcle/anaconda3/lib/python3.9/site-packages/geomagindices/base.py:37: FutureWarning: Passing method to DatetimeIndex.get_loc is deprecated and will raise in a future version. Use index.get_indexer([item], method=...) instead.\n",
      "  i = [dat.index.get_loc(t, method=\"nearest\") for t in dtime]\n",
      "/home/jmcle/anaconda3/lib/python3.9/site-packages/geomagindices/base.py:37: FutureWarning: Passing method to DatetimeIndex.get_loc is deprecated and will raise in a future version. Use index.get_indexer([item], method=...) instead.\n",
      "  i = [dat.index.get_loc(t, method=\"nearest\") for t in dtime]\n"
     ]
    },
    {
     "name": "stdout",
     "output_type": "stream",
     "text": [
      "Slice: 574. Convergence reached. Iterations: 393. reduced chi2: 1.6\n"
     ]
    },
    {
     "name": "stderr",
     "output_type": "stream",
     "text": [
      "/home/jmcle/anaconda3/lib/python3.9/site-packages/geomagindices/base.py:37: FutureWarning: Passing method to DatetimeIndex.get_loc is deprecated and will raise in a future version. Use index.get_indexer([item], method=...) instead.\n",
      "  i = [dat.index.get_loc(t, method=\"nearest\") for t in dtime]\n",
      "/home/jmcle/anaconda3/lib/python3.9/site-packages/geomagindices/base.py:37: FutureWarning: Passing method to DatetimeIndex.get_loc is deprecated and will raise in a future version. Use index.get_indexer([item], method=...) instead.\n",
      "  i = [dat.index.get_loc(t, method=\"nearest\") for t in dtime]\n"
     ]
    },
    {
     "name": "stdout",
     "output_type": "stream",
     "text": [
      "Slice: 575. Convergence reached. Iterations: 232. reduced chi2: 1.46\n"
     ]
    },
    {
     "name": "stderr",
     "output_type": "stream",
     "text": [
      "/home/jmcle/anaconda3/lib/python3.9/site-packages/geomagindices/base.py:37: FutureWarning: Passing method to DatetimeIndex.get_loc is deprecated and will raise in a future version. Use index.get_indexer([item], method=...) instead.\n",
      "  i = [dat.index.get_loc(t, method=\"nearest\") for t in dtime]\n",
      "/home/jmcle/anaconda3/lib/python3.9/site-packages/geomagindices/base.py:37: FutureWarning: Passing method to DatetimeIndex.get_loc is deprecated and will raise in a future version. Use index.get_indexer([item], method=...) instead.\n",
      "  i = [dat.index.get_loc(t, method=\"nearest\") for t in dtime]\n"
     ]
    },
    {
     "name": "stdout",
     "output_type": "stream",
     "text": [
      "Slice: 576. Convergence reached. Iterations: 381. reduced chi2: 1.89\n"
     ]
    },
    {
     "name": "stderr",
     "output_type": "stream",
     "text": [
      "/home/jmcle/anaconda3/lib/python3.9/site-packages/geomagindices/base.py:37: FutureWarning: Passing method to DatetimeIndex.get_loc is deprecated and will raise in a future version. Use index.get_indexer([item], method=...) instead.\n",
      "  i = [dat.index.get_loc(t, method=\"nearest\") for t in dtime]\n",
      "/home/jmcle/anaconda3/lib/python3.9/site-packages/geomagindices/base.py:37: FutureWarning: Passing method to DatetimeIndex.get_loc is deprecated and will raise in a future version. Use index.get_indexer([item], method=...) instead.\n",
      "  i = [dat.index.get_loc(t, method=\"nearest\") for t in dtime]\n"
     ]
    },
    {
     "name": "stdout",
     "output_type": "stream",
     "text": [
      "Slice: 577. Convergence reached. Iterations: 1288. reduced chi2: 2.06\n"
     ]
    },
    {
     "name": "stderr",
     "output_type": "stream",
     "text": [
      "/home/jmcle/anaconda3/lib/python3.9/site-packages/geomagindices/base.py:37: FutureWarning: Passing method to DatetimeIndex.get_loc is deprecated and will raise in a future version. Use index.get_indexer([item], method=...) instead.\n",
      "  i = [dat.index.get_loc(t, method=\"nearest\") for t in dtime]\n",
      "/home/jmcle/anaconda3/lib/python3.9/site-packages/geomagindices/base.py:37: FutureWarning: Passing method to DatetimeIndex.get_loc is deprecated and will raise in a future version. Use index.get_indexer([item], method=...) instead.\n",
      "  i = [dat.index.get_loc(t, method=\"nearest\") for t in dtime]\n"
     ]
    },
    {
     "name": "stdout",
     "output_type": "stream",
     "text": [
      "Slice: 578. Convergence reached. Iterations: 1556. reduced chi2: 2.27\n"
     ]
    },
    {
     "name": "stderr",
     "output_type": "stream",
     "text": [
      "/home/jmcle/anaconda3/lib/python3.9/site-packages/geomagindices/base.py:37: FutureWarning: Passing method to DatetimeIndex.get_loc is deprecated and will raise in a future version. Use index.get_indexer([item], method=...) instead.\n",
      "  i = [dat.index.get_loc(t, method=\"nearest\") for t in dtime]\n",
      "/home/jmcle/anaconda3/lib/python3.9/site-packages/geomagindices/base.py:37: FutureWarning: Passing method to DatetimeIndex.get_loc is deprecated and will raise in a future version. Use index.get_indexer([item], method=...) instead.\n",
      "  i = [dat.index.get_loc(t, method=\"nearest\") for t in dtime]\n"
     ]
    },
    {
     "name": "stdout",
     "output_type": "stream",
     "text": [
      "Slice: 579. Convergence reached. Iterations: 1248. reduced chi2: 2.3\n"
     ]
    },
    {
     "name": "stderr",
     "output_type": "stream",
     "text": [
      "/home/jmcle/anaconda3/lib/python3.9/site-packages/geomagindices/base.py:37: FutureWarning: Passing method to DatetimeIndex.get_loc is deprecated and will raise in a future version. Use index.get_indexer([item], method=...) instead.\n",
      "  i = [dat.index.get_loc(t, method=\"nearest\") for t in dtime]\n",
      "/home/jmcle/anaconda3/lib/python3.9/site-packages/geomagindices/base.py:37: FutureWarning: Passing method to DatetimeIndex.get_loc is deprecated and will raise in a future version. Use index.get_indexer([item], method=...) instead.\n",
      "  i = [dat.index.get_loc(t, method=\"nearest\") for t in dtime]\n"
     ]
    },
    {
     "name": "stdout",
     "output_type": "stream",
     "text": [
      "Slice: 580. Convergence reached. Iterations: 1427. reduced chi2: 1.87\n"
     ]
    },
    {
     "name": "stderr",
     "output_type": "stream",
     "text": [
      "/home/jmcle/anaconda3/lib/python3.9/site-packages/geomagindices/base.py:37: FutureWarning: Passing method to DatetimeIndex.get_loc is deprecated and will raise in a future version. Use index.get_indexer([item], method=...) instead.\n",
      "  i = [dat.index.get_loc(t, method=\"nearest\") for t in dtime]\n",
      "/home/jmcle/anaconda3/lib/python3.9/site-packages/geomagindices/base.py:37: FutureWarning: Passing method to DatetimeIndex.get_loc is deprecated and will raise in a future version. Use index.get_indexer([item], method=...) instead.\n",
      "  i = [dat.index.get_loc(t, method=\"nearest\") for t in dtime]\n"
     ]
    },
    {
     "name": "stdout",
     "output_type": "stream",
     "text": [
      "Slice: 581. Convergence reached. Iterations: 1664. reduced chi2: 1.98\n"
     ]
    },
    {
     "name": "stderr",
     "output_type": "stream",
     "text": [
      "/home/jmcle/anaconda3/lib/python3.9/site-packages/geomagindices/base.py:37: FutureWarning: Passing method to DatetimeIndex.get_loc is deprecated and will raise in a future version. Use index.get_indexer([item], method=...) instead.\n",
      "  i = [dat.index.get_loc(t, method=\"nearest\") for t in dtime]\n",
      "/home/jmcle/anaconda3/lib/python3.9/site-packages/geomagindices/base.py:37: FutureWarning: Passing method to DatetimeIndex.get_loc is deprecated and will raise in a future version. Use index.get_indexer([item], method=...) instead.\n",
      "  i = [dat.index.get_loc(t, method=\"nearest\") for t in dtime]\n"
     ]
    },
    {
     "name": "stdout",
     "output_type": "stream",
     "text": [
      "Slice: 582. Convergence reached. Iterations: 1241. reduced chi2: 1.2\n"
     ]
    },
    {
     "name": "stderr",
     "output_type": "stream",
     "text": [
      "/home/jmcle/anaconda3/lib/python3.9/site-packages/geomagindices/base.py:37: FutureWarning: Passing method to DatetimeIndex.get_loc is deprecated and will raise in a future version. Use index.get_indexer([item], method=...) instead.\n",
      "  i = [dat.index.get_loc(t, method=\"nearest\") for t in dtime]\n",
      "/home/jmcle/anaconda3/lib/python3.9/site-packages/geomagindices/base.py:37: FutureWarning: Passing method to DatetimeIndex.get_loc is deprecated and will raise in a future version. Use index.get_indexer([item], method=...) instead.\n",
      "  i = [dat.index.get_loc(t, method=\"nearest\") for t in dtime]\n"
     ]
    },
    {
     "name": "stdout",
     "output_type": "stream",
     "text": [
      "Slice: 583. Convergence reached. Iterations: 1354. reduced chi2: 2.0\n"
     ]
    },
    {
     "name": "stderr",
     "output_type": "stream",
     "text": [
      "/home/jmcle/anaconda3/lib/python3.9/site-packages/geomagindices/base.py:37: FutureWarning: Passing method to DatetimeIndex.get_loc is deprecated and will raise in a future version. Use index.get_indexer([item], method=...) instead.\n",
      "  i = [dat.index.get_loc(t, method=\"nearest\") for t in dtime]\n",
      "/home/jmcle/anaconda3/lib/python3.9/site-packages/geomagindices/base.py:37: FutureWarning: Passing method to DatetimeIndex.get_loc is deprecated and will raise in a future version. Use index.get_indexer([item], method=...) instead.\n",
      "  i = [dat.index.get_loc(t, method=\"nearest\") for t in dtime]\n"
     ]
    },
    {
     "name": "stdout",
     "output_type": "stream",
     "text": [
      "Slice: 584. Convergence reached. Iterations: 1222. reduced chi2: 1.58\n"
     ]
    },
    {
     "name": "stderr",
     "output_type": "stream",
     "text": [
      "/home/jmcle/anaconda3/lib/python3.9/site-packages/geomagindices/base.py:37: FutureWarning: Passing method to DatetimeIndex.get_loc is deprecated and will raise in a future version. Use index.get_indexer([item], method=...) instead.\n",
      "  i = [dat.index.get_loc(t, method=\"nearest\") for t in dtime]\n",
      "/home/jmcle/anaconda3/lib/python3.9/site-packages/geomagindices/base.py:37: FutureWarning: Passing method to DatetimeIndex.get_loc is deprecated and will raise in a future version. Use index.get_indexer([item], method=...) instead.\n",
      "  i = [dat.index.get_loc(t, method=\"nearest\") for t in dtime]\n"
     ]
    },
    {
     "name": "stdout",
     "output_type": "stream",
     "text": [
      "Slice: 585. Convergence reached. Iterations: 1730. reduced chi2: 2.4\n"
     ]
    },
    {
     "name": "stderr",
     "output_type": "stream",
     "text": [
      "/home/jmcle/anaconda3/lib/python3.9/site-packages/geomagindices/base.py:37: FutureWarning: Passing method to DatetimeIndex.get_loc is deprecated and will raise in a future version. Use index.get_indexer([item], method=...) instead.\n",
      "  i = [dat.index.get_loc(t, method=\"nearest\") for t in dtime]\n",
      "/home/jmcle/anaconda3/lib/python3.9/site-packages/geomagindices/base.py:37: FutureWarning: Passing method to DatetimeIndex.get_loc is deprecated and will raise in a future version. Use index.get_indexer([item], method=...) instead.\n",
      "  i = [dat.index.get_loc(t, method=\"nearest\") for t in dtime]\n"
     ]
    },
    {
     "name": "stdout",
     "output_type": "stream",
     "text": [
      "Slice: 586. Convergence reached. Iterations: 1402. reduced chi2: 1.49\n"
     ]
    },
    {
     "name": "stderr",
     "output_type": "stream",
     "text": [
      "/home/jmcle/anaconda3/lib/python3.9/site-packages/geomagindices/base.py:37: FutureWarning: Passing method to DatetimeIndex.get_loc is deprecated and will raise in a future version. Use index.get_indexer([item], method=...) instead.\n",
      "  i = [dat.index.get_loc(t, method=\"nearest\") for t in dtime]\n",
      "/home/jmcle/anaconda3/lib/python3.9/site-packages/geomagindices/base.py:37: FutureWarning: Passing method to DatetimeIndex.get_loc is deprecated and will raise in a future version. Use index.get_indexer([item], method=...) instead.\n",
      "  i = [dat.index.get_loc(t, method=\"nearest\") for t in dtime]\n"
     ]
    },
    {
     "name": "stdout",
     "output_type": "stream",
     "text": [
      "Slice: 587. Convergence reached. Iterations: 1282. reduced chi2: 1.31\n"
     ]
    },
    {
     "name": "stderr",
     "output_type": "stream",
     "text": [
      "/home/jmcle/anaconda3/lib/python3.9/site-packages/geomagindices/base.py:37: FutureWarning: Passing method to DatetimeIndex.get_loc is deprecated and will raise in a future version. Use index.get_indexer([item], method=...) instead.\n",
      "  i = [dat.index.get_loc(t, method=\"nearest\") for t in dtime]\n",
      "/home/jmcle/anaconda3/lib/python3.9/site-packages/geomagindices/base.py:37: FutureWarning: Passing method to DatetimeIndex.get_loc is deprecated and will raise in a future version. Use index.get_indexer([item], method=...) instead.\n",
      "  i = [dat.index.get_loc(t, method=\"nearest\") for t in dtime]\n"
     ]
    },
    {
     "name": "stdout",
     "output_type": "stream",
     "text": [
      "Slice: 588. Convergence reached. Iterations: 594. reduced chi2: 2.12\n"
     ]
    },
    {
     "name": "stderr",
     "output_type": "stream",
     "text": [
      "/home/jmcle/anaconda3/lib/python3.9/site-packages/geomagindices/base.py:37: FutureWarning: Passing method to DatetimeIndex.get_loc is deprecated and will raise in a future version. Use index.get_indexer([item], method=...) instead.\n",
      "  i = [dat.index.get_loc(t, method=\"nearest\") for t in dtime]\n",
      "/home/jmcle/anaconda3/lib/python3.9/site-packages/geomagindices/base.py:37: FutureWarning: Passing method to DatetimeIndex.get_loc is deprecated and will raise in a future version. Use index.get_indexer([item], method=...) instead.\n",
      "  i = [dat.index.get_loc(t, method=\"nearest\") for t in dtime]\n"
     ]
    },
    {
     "name": "stdout",
     "output_type": "stream",
     "text": [
      "Slice: 589. Convergence reached. Iterations: 874. reduced chi2: 0.98\n"
     ]
    },
    {
     "name": "stderr",
     "output_type": "stream",
     "text": [
      "/home/jmcle/anaconda3/lib/python3.9/site-packages/geomagindices/base.py:37: FutureWarning: Passing method to DatetimeIndex.get_loc is deprecated and will raise in a future version. Use index.get_indexer([item], method=...) instead.\n",
      "  i = [dat.index.get_loc(t, method=\"nearest\") for t in dtime]\n",
      "/home/jmcle/anaconda3/lib/python3.9/site-packages/geomagindices/base.py:37: FutureWarning: Passing method to DatetimeIndex.get_loc is deprecated and will raise in a future version. Use index.get_indexer([item], method=...) instead.\n",
      "  i = [dat.index.get_loc(t, method=\"nearest\") for t in dtime]\n"
     ]
    },
    {
     "name": "stdout",
     "output_type": "stream",
     "text": [
      "Slice: 590. Convergence reached. Iterations: 765. reduced chi2: 1.71\n"
     ]
    },
    {
     "name": "stderr",
     "output_type": "stream",
     "text": [
      "/home/jmcle/anaconda3/lib/python3.9/site-packages/geomagindices/base.py:37: FutureWarning: Passing method to DatetimeIndex.get_loc is deprecated and will raise in a future version. Use index.get_indexer([item], method=...) instead.\n",
      "  i = [dat.index.get_loc(t, method=\"nearest\") for t in dtime]\n",
      "/home/jmcle/anaconda3/lib/python3.9/site-packages/geomagindices/base.py:37: FutureWarning: Passing method to DatetimeIndex.get_loc is deprecated and will raise in a future version. Use index.get_indexer([item], method=...) instead.\n",
      "  i = [dat.index.get_loc(t, method=\"nearest\") for t in dtime]\n"
     ]
    },
    {
     "name": "stdout",
     "output_type": "stream",
     "text": [
      "Slice: 591. Convergence reached. Iterations: 1201. reduced chi2: 2.21\n"
     ]
    },
    {
     "name": "stderr",
     "output_type": "stream",
     "text": [
      "/home/jmcle/anaconda3/lib/python3.9/site-packages/geomagindices/base.py:37: FutureWarning: Passing method to DatetimeIndex.get_loc is deprecated and will raise in a future version. Use index.get_indexer([item], method=...) instead.\n",
      "  i = [dat.index.get_loc(t, method=\"nearest\") for t in dtime]\n",
      "/home/jmcle/anaconda3/lib/python3.9/site-packages/geomagindices/base.py:37: FutureWarning: Passing method to DatetimeIndex.get_loc is deprecated and will raise in a future version. Use index.get_indexer([item], method=...) instead.\n",
      "  i = [dat.index.get_loc(t, method=\"nearest\") for t in dtime]\n"
     ]
    },
    {
     "name": "stdout",
     "output_type": "stream",
     "text": [
      "Slice: 592. Convergence reached. Iterations: 883. reduced chi2: 3.42\n"
     ]
    },
    {
     "name": "stderr",
     "output_type": "stream",
     "text": [
      "/home/jmcle/anaconda3/lib/python3.9/site-packages/geomagindices/base.py:37: FutureWarning: Passing method to DatetimeIndex.get_loc is deprecated and will raise in a future version. Use index.get_indexer([item], method=...) instead.\n",
      "  i = [dat.index.get_loc(t, method=\"nearest\") for t in dtime]\n",
      "/home/jmcle/anaconda3/lib/python3.9/site-packages/geomagindices/base.py:37: FutureWarning: Passing method to DatetimeIndex.get_loc is deprecated and will raise in a future version. Use index.get_indexer([item], method=...) instead.\n",
      "  i = [dat.index.get_loc(t, method=\"nearest\") for t in dtime]\n"
     ]
    },
    {
     "name": "stdout",
     "output_type": "stream",
     "text": [
      "Slice: 593. Convergence reached. Iterations: 750. reduced chi2: 1.79\n"
     ]
    },
    {
     "name": "stderr",
     "output_type": "stream",
     "text": [
      "/home/jmcle/anaconda3/lib/python3.9/site-packages/geomagindices/base.py:37: FutureWarning: Passing method to DatetimeIndex.get_loc is deprecated and will raise in a future version. Use index.get_indexer([item], method=...) instead.\n",
      "  i = [dat.index.get_loc(t, method=\"nearest\") for t in dtime]\n",
      "/home/jmcle/anaconda3/lib/python3.9/site-packages/geomagindices/base.py:37: FutureWarning: Passing method to DatetimeIndex.get_loc is deprecated and will raise in a future version. Use index.get_indexer([item], method=...) instead.\n",
      "  i = [dat.index.get_loc(t, method=\"nearest\") for t in dtime]\n"
     ]
    },
    {
     "name": "stdout",
     "output_type": "stream",
     "text": [
      "Slice: 594. Convergence reached. Iterations: 223. reduced chi2: 1.0\n"
     ]
    },
    {
     "name": "stderr",
     "output_type": "stream",
     "text": [
      "/home/jmcle/anaconda3/lib/python3.9/site-packages/geomagindices/base.py:37: FutureWarning: Passing method to DatetimeIndex.get_loc is deprecated and will raise in a future version. Use index.get_indexer([item], method=...) instead.\n",
      "  i = [dat.index.get_loc(t, method=\"nearest\") for t in dtime]\n",
      "/home/jmcle/anaconda3/lib/python3.9/site-packages/geomagindices/base.py:37: FutureWarning: Passing method to DatetimeIndex.get_loc is deprecated and will raise in a future version. Use index.get_indexer([item], method=...) instead.\n",
      "  i = [dat.index.get_loc(t, method=\"nearest\") for t in dtime]\n"
     ]
    },
    {
     "name": "stdout",
     "output_type": "stream",
     "text": [
      "Slice: 595. Convergence reached. Iterations: 468. reduced chi2: 1.38\n"
     ]
    },
    {
     "name": "stderr",
     "output_type": "stream",
     "text": [
      "/home/jmcle/anaconda3/lib/python3.9/site-packages/geomagindices/base.py:37: FutureWarning: Passing method to DatetimeIndex.get_loc is deprecated and will raise in a future version. Use index.get_indexer([item], method=...) instead.\n",
      "  i = [dat.index.get_loc(t, method=\"nearest\") for t in dtime]\n",
      "/home/jmcle/anaconda3/lib/python3.9/site-packages/geomagindices/base.py:37: FutureWarning: Passing method to DatetimeIndex.get_loc is deprecated and will raise in a future version. Use index.get_indexer([item], method=...) instead.\n",
      "  i = [dat.index.get_loc(t, method=\"nearest\") for t in dtime]\n"
     ]
    },
    {
     "name": "stdout",
     "output_type": "stream",
     "text": [
      "Slice: 596. Convergence reached. Iterations: 1386. reduced chi2: 1.86\n"
     ]
    },
    {
     "name": "stderr",
     "output_type": "stream",
     "text": [
      "/home/jmcle/anaconda3/lib/python3.9/site-packages/geomagindices/base.py:37: FutureWarning: Passing method to DatetimeIndex.get_loc is deprecated and will raise in a future version. Use index.get_indexer([item], method=...) instead.\n",
      "  i = [dat.index.get_loc(t, method=\"nearest\") for t in dtime]\n",
      "/home/jmcle/anaconda3/lib/python3.9/site-packages/geomagindices/base.py:37: FutureWarning: Passing method to DatetimeIndex.get_loc is deprecated and will raise in a future version. Use index.get_indexer([item], method=...) instead.\n",
      "  i = [dat.index.get_loc(t, method=\"nearest\") for t in dtime]\n"
     ]
    },
    {
     "name": "stdout",
     "output_type": "stream",
     "text": [
      "Slice: 597. Convergence reached. Iterations: 760. reduced chi2: 1.45\n"
     ]
    },
    {
     "name": "stderr",
     "output_type": "stream",
     "text": [
      "/home/jmcle/anaconda3/lib/python3.9/site-packages/geomagindices/base.py:37: FutureWarning: Passing method to DatetimeIndex.get_loc is deprecated and will raise in a future version. Use index.get_indexer([item], method=...) instead.\n",
      "  i = [dat.index.get_loc(t, method=\"nearest\") for t in dtime]\n",
      "/home/jmcle/anaconda3/lib/python3.9/site-packages/geomagindices/base.py:37: FutureWarning: Passing method to DatetimeIndex.get_loc is deprecated and will raise in a future version. Use index.get_indexer([item], method=...) instead.\n",
      "  i = [dat.index.get_loc(t, method=\"nearest\") for t in dtime]\n"
     ]
    },
    {
     "name": "stdout",
     "output_type": "stream",
     "text": [
      "Slice: 598. Convergence reached. Iterations: 1094. reduced chi2: 2.02\n"
     ]
    },
    {
     "name": "stderr",
     "output_type": "stream",
     "text": [
      "/home/jmcle/anaconda3/lib/python3.9/site-packages/geomagindices/base.py:37: FutureWarning: Passing method to DatetimeIndex.get_loc is deprecated and will raise in a future version. Use index.get_indexer([item], method=...) instead.\n",
      "  i = [dat.index.get_loc(t, method=\"nearest\") for t in dtime]\n",
      "/home/jmcle/anaconda3/lib/python3.9/site-packages/geomagindices/base.py:37: FutureWarning: Passing method to DatetimeIndex.get_loc is deprecated and will raise in a future version. Use index.get_indexer([item], method=...) instead.\n",
      "  i = [dat.index.get_loc(t, method=\"nearest\") for t in dtime]\n"
     ]
    },
    {
     "name": "stdout",
     "output_type": "stream",
     "text": [
      "Slice: 599. Convergence reached. Iterations: 672. reduced chi2: 1.3\n"
     ]
    },
    {
     "name": "stderr",
     "output_type": "stream",
     "text": [
      "/home/jmcle/anaconda3/lib/python3.9/site-packages/geomagindices/base.py:37: FutureWarning: Passing method to DatetimeIndex.get_loc is deprecated and will raise in a future version. Use index.get_indexer([item], method=...) instead.\n",
      "  i = [dat.index.get_loc(t, method=\"nearest\") for t in dtime]\n",
      "/home/jmcle/anaconda3/lib/python3.9/site-packages/geomagindices/base.py:37: FutureWarning: Passing method to DatetimeIndex.get_loc is deprecated and will raise in a future version. Use index.get_indexer([item], method=...) instead.\n",
      "  i = [dat.index.get_loc(t, method=\"nearest\") for t in dtime]\n"
     ]
    },
    {
     "name": "stdout",
     "output_type": "stream",
     "text": [
      "Slice: 600. Convergence reached. Iterations: 771. reduced chi2: 2.21\n"
     ]
    },
    {
     "name": "stderr",
     "output_type": "stream",
     "text": [
      "/home/jmcle/anaconda3/lib/python3.9/site-packages/geomagindices/base.py:37: FutureWarning: Passing method to DatetimeIndex.get_loc is deprecated and will raise in a future version. Use index.get_indexer([item], method=...) instead.\n",
      "  i = [dat.index.get_loc(t, method=\"nearest\") for t in dtime]\n",
      "/home/jmcle/anaconda3/lib/python3.9/site-packages/geomagindices/base.py:37: FutureWarning: Passing method to DatetimeIndex.get_loc is deprecated and will raise in a future version. Use index.get_indexer([item], method=...) instead.\n",
      "  i = [dat.index.get_loc(t, method=\"nearest\") for t in dtime]\n"
     ]
    },
    {
     "name": "stdout",
     "output_type": "stream",
     "text": [
      "Slice: 601. Convergence reached. Iterations: 527. reduced chi2: 2.87\n"
     ]
    },
    {
     "name": "stderr",
     "output_type": "stream",
     "text": [
      "/home/jmcle/anaconda3/lib/python3.9/site-packages/geomagindices/base.py:37: FutureWarning: Passing method to DatetimeIndex.get_loc is deprecated and will raise in a future version. Use index.get_indexer([item], method=...) instead.\n",
      "  i = [dat.index.get_loc(t, method=\"nearest\") for t in dtime]\n",
      "/home/jmcle/anaconda3/lib/python3.9/site-packages/geomagindices/base.py:37: FutureWarning: Passing method to DatetimeIndex.get_loc is deprecated and will raise in a future version. Use index.get_indexer([item], method=...) instead.\n",
      "  i = [dat.index.get_loc(t, method=\"nearest\") for t in dtime]\n"
     ]
    },
    {
     "name": "stdout",
     "output_type": "stream",
     "text": [
      "Slice: 602. Convergence reached. Iterations: 393. reduced chi2: 1.44\n"
     ]
    },
    {
     "name": "stderr",
     "output_type": "stream",
     "text": [
      "/home/jmcle/anaconda3/lib/python3.9/site-packages/geomagindices/base.py:37: FutureWarning: Passing method to DatetimeIndex.get_loc is deprecated and will raise in a future version. Use index.get_indexer([item], method=...) instead.\n",
      "  i = [dat.index.get_loc(t, method=\"nearest\") for t in dtime]\n",
      "/home/jmcle/anaconda3/lib/python3.9/site-packages/geomagindices/base.py:37: FutureWarning: Passing method to DatetimeIndex.get_loc is deprecated and will raise in a future version. Use index.get_indexer([item], method=...) instead.\n",
      "  i = [dat.index.get_loc(t, method=\"nearest\") for t in dtime]\n"
     ]
    },
    {
     "name": "stdout",
     "output_type": "stream",
     "text": [
      "Slice: 603. Convergence reached. Iterations: 419. reduced chi2: 1.73\n"
     ]
    },
    {
     "name": "stderr",
     "output_type": "stream",
     "text": [
      "/home/jmcle/anaconda3/lib/python3.9/site-packages/geomagindices/base.py:37: FutureWarning: Passing method to DatetimeIndex.get_loc is deprecated and will raise in a future version. Use index.get_indexer([item], method=...) instead.\n",
      "  i = [dat.index.get_loc(t, method=\"nearest\") for t in dtime]\n",
      "/home/jmcle/anaconda3/lib/python3.9/site-packages/geomagindices/base.py:37: FutureWarning: Passing method to DatetimeIndex.get_loc is deprecated and will raise in a future version. Use index.get_indexer([item], method=...) instead.\n",
      "  i = [dat.index.get_loc(t, method=\"nearest\") for t in dtime]\n"
     ]
    },
    {
     "name": "stdout",
     "output_type": "stream",
     "text": [
      "Slice: 604. Convergence reached. Iterations: 619. reduced chi2: 1.77\n"
     ]
    },
    {
     "name": "stderr",
     "output_type": "stream",
     "text": [
      "/home/jmcle/anaconda3/lib/python3.9/site-packages/geomagindices/base.py:37: FutureWarning: Passing method to DatetimeIndex.get_loc is deprecated and will raise in a future version. Use index.get_indexer([item], method=...) instead.\n",
      "  i = [dat.index.get_loc(t, method=\"nearest\") for t in dtime]\n",
      "/home/jmcle/anaconda3/lib/python3.9/site-packages/geomagindices/base.py:37: FutureWarning: Passing method to DatetimeIndex.get_loc is deprecated and will raise in a future version. Use index.get_indexer([item], method=...) instead.\n",
      "  i = [dat.index.get_loc(t, method=\"nearest\") for t in dtime]\n"
     ]
    },
    {
     "name": "stdout",
     "output_type": "stream",
     "text": [
      "Slice: 605. Convergence reached. Iterations: 629. reduced chi2: 1.76\n"
     ]
    },
    {
     "name": "stderr",
     "output_type": "stream",
     "text": [
      "/home/jmcle/anaconda3/lib/python3.9/site-packages/geomagindices/base.py:37: FutureWarning: Passing method to DatetimeIndex.get_loc is deprecated and will raise in a future version. Use index.get_indexer([item], method=...) instead.\n",
      "  i = [dat.index.get_loc(t, method=\"nearest\") for t in dtime]\n",
      "/home/jmcle/anaconda3/lib/python3.9/site-packages/geomagindices/base.py:37: FutureWarning: Passing method to DatetimeIndex.get_loc is deprecated and will raise in a future version. Use index.get_indexer([item], method=...) instead.\n",
      "  i = [dat.index.get_loc(t, method=\"nearest\") for t in dtime]\n"
     ]
    },
    {
     "name": "stdout",
     "output_type": "stream",
     "text": [
      "Slice: 606. Convergence reached. Iterations: 419. reduced chi2: 1.43\n"
     ]
    },
    {
     "name": "stderr",
     "output_type": "stream",
     "text": [
      "/home/jmcle/anaconda3/lib/python3.9/site-packages/geomagindices/base.py:37: FutureWarning: Passing method to DatetimeIndex.get_loc is deprecated and will raise in a future version. Use index.get_indexer([item], method=...) instead.\n",
      "  i = [dat.index.get_loc(t, method=\"nearest\") for t in dtime]\n",
      "/home/jmcle/anaconda3/lib/python3.9/site-packages/geomagindices/base.py:37: FutureWarning: Passing method to DatetimeIndex.get_loc is deprecated and will raise in a future version. Use index.get_indexer([item], method=...) instead.\n",
      "  i = [dat.index.get_loc(t, method=\"nearest\") for t in dtime]\n"
     ]
    },
    {
     "name": "stdout",
     "output_type": "stream",
     "text": [
      "Slice: 607. Convergence reached. Iterations: 523. reduced chi2: 1.21\n"
     ]
    },
    {
     "name": "stderr",
     "output_type": "stream",
     "text": [
      "/home/jmcle/anaconda3/lib/python3.9/site-packages/geomagindices/base.py:37: FutureWarning: Passing method to DatetimeIndex.get_loc is deprecated and will raise in a future version. Use index.get_indexer([item], method=...) instead.\n",
      "  i = [dat.index.get_loc(t, method=\"nearest\") for t in dtime]\n",
      "/home/jmcle/anaconda3/lib/python3.9/site-packages/geomagindices/base.py:37: FutureWarning: Passing method to DatetimeIndex.get_loc is deprecated and will raise in a future version. Use index.get_indexer([item], method=...) instead.\n",
      "  i = [dat.index.get_loc(t, method=\"nearest\") for t in dtime]\n"
     ]
    },
    {
     "name": "stdout",
     "output_type": "stream",
     "text": [
      "Slice: 608. Convergence reached. Iterations: 1261. reduced chi2: 2.21\n"
     ]
    },
    {
     "name": "stderr",
     "output_type": "stream",
     "text": [
      "/home/jmcle/anaconda3/lib/python3.9/site-packages/geomagindices/base.py:37: FutureWarning: Passing method to DatetimeIndex.get_loc is deprecated and will raise in a future version. Use index.get_indexer([item], method=...) instead.\n",
      "  i = [dat.index.get_loc(t, method=\"nearest\") for t in dtime]\n",
      "/home/jmcle/anaconda3/lib/python3.9/site-packages/geomagindices/base.py:37: FutureWarning: Passing method to DatetimeIndex.get_loc is deprecated and will raise in a future version. Use index.get_indexer([item], method=...) instead.\n",
      "  i = [dat.index.get_loc(t, method=\"nearest\") for t in dtime]\n"
     ]
    },
    {
     "name": "stdout",
     "output_type": "stream",
     "text": [
      "Slice: 609. Convergence reached. Iterations: 559. reduced chi2: 1.64\n"
     ]
    },
    {
     "name": "stderr",
     "output_type": "stream",
     "text": [
      "/home/jmcle/anaconda3/lib/python3.9/site-packages/geomagindices/base.py:37: FutureWarning: Passing method to DatetimeIndex.get_loc is deprecated and will raise in a future version. Use index.get_indexer([item], method=...) instead.\n",
      "  i = [dat.index.get_loc(t, method=\"nearest\") for t in dtime]\n",
      "/home/jmcle/anaconda3/lib/python3.9/site-packages/geomagindices/base.py:37: FutureWarning: Passing method to DatetimeIndex.get_loc is deprecated and will raise in a future version. Use index.get_indexer([item], method=...) instead.\n",
      "  i = [dat.index.get_loc(t, method=\"nearest\") for t in dtime]\n"
     ]
    },
    {
     "name": "stdout",
     "output_type": "stream",
     "text": [
      "Slice: 610. Convergence reached. Iterations: 1190. reduced chi2: 1.35\n"
     ]
    },
    {
     "name": "stderr",
     "output_type": "stream",
     "text": [
      "/home/jmcle/anaconda3/lib/python3.9/site-packages/geomagindices/base.py:37: FutureWarning: Passing method to DatetimeIndex.get_loc is deprecated and will raise in a future version. Use index.get_indexer([item], method=...) instead.\n",
      "  i = [dat.index.get_loc(t, method=\"nearest\") for t in dtime]\n",
      "/home/jmcle/anaconda3/lib/python3.9/site-packages/geomagindices/base.py:37: FutureWarning: Passing method to DatetimeIndex.get_loc is deprecated and will raise in a future version. Use index.get_indexer([item], method=...) instead.\n",
      "  i = [dat.index.get_loc(t, method=\"nearest\") for t in dtime]\n"
     ]
    },
    {
     "name": "stdout",
     "output_type": "stream",
     "text": [
      "Slice: 611. Convergence reached. Iterations: 682. reduced chi2: 2.49\n"
     ]
    },
    {
     "name": "stderr",
     "output_type": "stream",
     "text": [
      "/home/jmcle/anaconda3/lib/python3.9/site-packages/geomagindices/base.py:37: FutureWarning: Passing method to DatetimeIndex.get_loc is deprecated and will raise in a future version. Use index.get_indexer([item], method=...) instead.\n",
      "  i = [dat.index.get_loc(t, method=\"nearest\") for t in dtime]\n",
      "/home/jmcle/anaconda3/lib/python3.9/site-packages/geomagindices/base.py:37: FutureWarning: Passing method to DatetimeIndex.get_loc is deprecated and will raise in a future version. Use index.get_indexer([item], method=...) instead.\n",
      "  i = [dat.index.get_loc(t, method=\"nearest\") for t in dtime]\n"
     ]
    },
    {
     "name": "stdout",
     "output_type": "stream",
     "text": [
      "Slice: 612. Convergence reached. Iterations: 394. reduced chi2: 1.89\n"
     ]
    },
    {
     "name": "stderr",
     "output_type": "stream",
     "text": [
      "/home/jmcle/anaconda3/lib/python3.9/site-packages/geomagindices/base.py:37: FutureWarning: Passing method to DatetimeIndex.get_loc is deprecated and will raise in a future version. Use index.get_indexer([item], method=...) instead.\n",
      "  i = [dat.index.get_loc(t, method=\"nearest\") for t in dtime]\n",
      "/home/jmcle/anaconda3/lib/python3.9/site-packages/geomagindices/base.py:37: FutureWarning: Passing method to DatetimeIndex.get_loc is deprecated and will raise in a future version. Use index.get_indexer([item], method=...) instead.\n",
      "  i = [dat.index.get_loc(t, method=\"nearest\") for t in dtime]\n"
     ]
    },
    {
     "name": "stdout",
     "output_type": "stream",
     "text": [
      "Slice: 613. Convergence reached. Iterations: 718. reduced chi2: 1.72\n"
     ]
    },
    {
     "name": "stderr",
     "output_type": "stream",
     "text": [
      "/home/jmcle/anaconda3/lib/python3.9/site-packages/geomagindices/base.py:37: FutureWarning: Passing method to DatetimeIndex.get_loc is deprecated and will raise in a future version. Use index.get_indexer([item], method=...) instead.\n",
      "  i = [dat.index.get_loc(t, method=\"nearest\") for t in dtime]\n",
      "/home/jmcle/anaconda3/lib/python3.9/site-packages/geomagindices/base.py:37: FutureWarning: Passing method to DatetimeIndex.get_loc is deprecated and will raise in a future version. Use index.get_indexer([item], method=...) instead.\n",
      "  i = [dat.index.get_loc(t, method=\"nearest\") for t in dtime]\n"
     ]
    },
    {
     "name": "stdout",
     "output_type": "stream",
     "text": [
      "Slice: 614. Convergence reached. Iterations: 387. reduced chi2: 1.35\n"
     ]
    },
    {
     "name": "stderr",
     "output_type": "stream",
     "text": [
      "/home/jmcle/anaconda3/lib/python3.9/site-packages/geomagindices/base.py:37: FutureWarning: Passing method to DatetimeIndex.get_loc is deprecated and will raise in a future version. Use index.get_indexer([item], method=...) instead.\n",
      "  i = [dat.index.get_loc(t, method=\"nearest\") for t in dtime]\n",
      "/home/jmcle/anaconda3/lib/python3.9/site-packages/geomagindices/base.py:37: FutureWarning: Passing method to DatetimeIndex.get_loc is deprecated and will raise in a future version. Use index.get_indexer([item], method=...) instead.\n",
      "  i = [dat.index.get_loc(t, method=\"nearest\") for t in dtime]\n"
     ]
    },
    {
     "name": "stdout",
     "output_type": "stream",
     "text": [
      "Slice: 615. Convergence reached. Iterations: 515. reduced chi2: 1.32\n"
     ]
    },
    {
     "name": "stderr",
     "output_type": "stream",
     "text": [
      "/home/jmcle/anaconda3/lib/python3.9/site-packages/geomagindices/base.py:37: FutureWarning: Passing method to DatetimeIndex.get_loc is deprecated and will raise in a future version. Use index.get_indexer([item], method=...) instead.\n",
      "  i = [dat.index.get_loc(t, method=\"nearest\") for t in dtime]\n",
      "/home/jmcle/anaconda3/lib/python3.9/site-packages/geomagindices/base.py:37: FutureWarning: Passing method to DatetimeIndex.get_loc is deprecated and will raise in a future version. Use index.get_indexer([item], method=...) instead.\n",
      "  i = [dat.index.get_loc(t, method=\"nearest\") for t in dtime]\n"
     ]
    },
    {
     "name": "stdout",
     "output_type": "stream",
     "text": [
      "Slice: 616. Convergence reached. Iterations: 488. reduced chi2: 1.58\n"
     ]
    },
    {
     "name": "stderr",
     "output_type": "stream",
     "text": [
      "/home/jmcle/anaconda3/lib/python3.9/site-packages/geomagindices/base.py:37: FutureWarning: Passing method to DatetimeIndex.get_loc is deprecated and will raise in a future version. Use index.get_indexer([item], method=...) instead.\n",
      "  i = [dat.index.get_loc(t, method=\"nearest\") for t in dtime]\n",
      "/home/jmcle/anaconda3/lib/python3.9/site-packages/geomagindices/base.py:37: FutureWarning: Passing method to DatetimeIndex.get_loc is deprecated and will raise in a future version. Use index.get_indexer([item], method=...) instead.\n",
      "  i = [dat.index.get_loc(t, method=\"nearest\") for t in dtime]\n"
     ]
    },
    {
     "name": "stdout",
     "output_type": "stream",
     "text": [
      "Slice: 617. Convergence reached. Iterations: 337. reduced chi2: 1.13\n"
     ]
    },
    {
     "name": "stderr",
     "output_type": "stream",
     "text": [
      "/home/jmcle/anaconda3/lib/python3.9/site-packages/geomagindices/base.py:37: FutureWarning: Passing method to DatetimeIndex.get_loc is deprecated and will raise in a future version. Use index.get_indexer([item], method=...) instead.\n",
      "  i = [dat.index.get_loc(t, method=\"nearest\") for t in dtime]\n",
      "/home/jmcle/anaconda3/lib/python3.9/site-packages/geomagindices/base.py:37: FutureWarning: Passing method to DatetimeIndex.get_loc is deprecated and will raise in a future version. Use index.get_indexer([item], method=...) instead.\n",
      "  i = [dat.index.get_loc(t, method=\"nearest\") for t in dtime]\n"
     ]
    },
    {
     "name": "stdout",
     "output_type": "stream",
     "text": [
      "Slice: 618. Convergence reached. Iterations: 148. reduced chi2: 1.38\n"
     ]
    },
    {
     "name": "stderr",
     "output_type": "stream",
     "text": [
      "/home/jmcle/anaconda3/lib/python3.9/site-packages/geomagindices/base.py:37: FutureWarning: Passing method to DatetimeIndex.get_loc is deprecated and will raise in a future version. Use index.get_indexer([item], method=...) instead.\n",
      "  i = [dat.index.get_loc(t, method=\"nearest\") for t in dtime]\n",
      "/home/jmcle/anaconda3/lib/python3.9/site-packages/geomagindices/base.py:37: FutureWarning: Passing method to DatetimeIndex.get_loc is deprecated and will raise in a future version. Use index.get_indexer([item], method=...) instead.\n",
      "  i = [dat.index.get_loc(t, method=\"nearest\") for t in dtime]\n"
     ]
    },
    {
     "name": "stdout",
     "output_type": "stream",
     "text": [
      "Slice: 619. Convergence reached. Iterations: 363. reduced chi2: 1.28\n"
     ]
    },
    {
     "name": "stderr",
     "output_type": "stream",
     "text": [
      "/home/jmcle/anaconda3/lib/python3.9/site-packages/geomagindices/base.py:37: FutureWarning: Passing method to DatetimeIndex.get_loc is deprecated and will raise in a future version. Use index.get_indexer([item], method=...) instead.\n",
      "  i = [dat.index.get_loc(t, method=\"nearest\") for t in dtime]\n",
      "/home/jmcle/anaconda3/lib/python3.9/site-packages/geomagindices/base.py:37: FutureWarning: Passing method to DatetimeIndex.get_loc is deprecated and will raise in a future version. Use index.get_indexer([item], method=...) instead.\n",
      "  i = [dat.index.get_loc(t, method=\"nearest\") for t in dtime]\n"
     ]
    },
    {
     "name": "stdout",
     "output_type": "stream",
     "text": [
      "Slice: 620. Convergence reached. Iterations: 293. reduced chi2: 1.21\n"
     ]
    },
    {
     "name": "stderr",
     "output_type": "stream",
     "text": [
      "/home/jmcle/anaconda3/lib/python3.9/site-packages/geomagindices/base.py:37: FutureWarning: Passing method to DatetimeIndex.get_loc is deprecated and will raise in a future version. Use index.get_indexer([item], method=...) instead.\n",
      "  i = [dat.index.get_loc(t, method=\"nearest\") for t in dtime]\n",
      "/home/jmcle/anaconda3/lib/python3.9/site-packages/geomagindices/base.py:37: FutureWarning: Passing method to DatetimeIndex.get_loc is deprecated and will raise in a future version. Use index.get_indexer([item], method=...) instead.\n",
      "  i = [dat.index.get_loc(t, method=\"nearest\") for t in dtime]\n"
     ]
    },
    {
     "name": "stdout",
     "output_type": "stream",
     "text": [
      "Slice: 621. Convergence reached. Iterations: 160. reduced chi2: 1.56\n"
     ]
    },
    {
     "name": "stderr",
     "output_type": "stream",
     "text": [
      "/home/jmcle/anaconda3/lib/python3.9/site-packages/geomagindices/base.py:37: FutureWarning: Passing method to DatetimeIndex.get_loc is deprecated and will raise in a future version. Use index.get_indexer([item], method=...) instead.\n",
      "  i = [dat.index.get_loc(t, method=\"nearest\") for t in dtime]\n",
      "/home/jmcle/anaconda3/lib/python3.9/site-packages/geomagindices/base.py:37: FutureWarning: Passing method to DatetimeIndex.get_loc is deprecated and will raise in a future version. Use index.get_indexer([item], method=...) instead.\n",
      "  i = [dat.index.get_loc(t, method=\"nearest\") for t in dtime]\n"
     ]
    },
    {
     "name": "stdout",
     "output_type": "stream",
     "text": [
      "Slice: 622. Convergence reached. Iterations: 144. reduced chi2: 1.77\n"
     ]
    },
    {
     "name": "stderr",
     "output_type": "stream",
     "text": [
      "/home/jmcle/anaconda3/lib/python3.9/site-packages/geomagindices/base.py:37: FutureWarning: Passing method to DatetimeIndex.get_loc is deprecated and will raise in a future version. Use index.get_indexer([item], method=...) instead.\n",
      "  i = [dat.index.get_loc(t, method=\"nearest\") for t in dtime]\n",
      "/home/jmcle/anaconda3/lib/python3.9/site-packages/geomagindices/base.py:37: FutureWarning: Passing method to DatetimeIndex.get_loc is deprecated and will raise in a future version. Use index.get_indexer([item], method=...) instead.\n",
      "  i = [dat.index.get_loc(t, method=\"nearest\") for t in dtime]\n"
     ]
    },
    {
     "name": "stdout",
     "output_type": "stream",
     "text": [
      "Slice: 623. Convergence reached. Iterations: 436. reduced chi2: 1.22\n"
     ]
    },
    {
     "name": "stderr",
     "output_type": "stream",
     "text": [
      "/home/jmcle/anaconda3/lib/python3.9/site-packages/geomagindices/base.py:37: FutureWarning: Passing method to DatetimeIndex.get_loc is deprecated and will raise in a future version. Use index.get_indexer([item], method=...) instead.\n",
      "  i = [dat.index.get_loc(t, method=\"nearest\") for t in dtime]\n",
      "/home/jmcle/anaconda3/lib/python3.9/site-packages/geomagindices/base.py:37: FutureWarning: Passing method to DatetimeIndex.get_loc is deprecated and will raise in a future version. Use index.get_indexer([item], method=...) instead.\n",
      "  i = [dat.index.get_loc(t, method=\"nearest\") for t in dtime]\n"
     ]
    },
    {
     "name": "stdout",
     "output_type": "stream",
     "text": [
      "Slice: 624. Convergence reached. Iterations: 515. reduced chi2: 1.53\n"
     ]
    },
    {
     "name": "stderr",
     "output_type": "stream",
     "text": [
      "/home/jmcle/anaconda3/lib/python3.9/site-packages/geomagindices/base.py:37: FutureWarning: Passing method to DatetimeIndex.get_loc is deprecated and will raise in a future version. Use index.get_indexer([item], method=...) instead.\n",
      "  i = [dat.index.get_loc(t, method=\"nearest\") for t in dtime]\n",
      "/home/jmcle/anaconda3/lib/python3.9/site-packages/geomagindices/base.py:37: FutureWarning: Passing method to DatetimeIndex.get_loc is deprecated and will raise in a future version. Use index.get_indexer([item], method=...) instead.\n",
      "  i = [dat.index.get_loc(t, method=\"nearest\") for t in dtime]\n"
     ]
    },
    {
     "name": "stdout",
     "output_type": "stream",
     "text": [
      "Slice: 625. Convergence reached. Iterations: 594. reduced chi2: 1.12\n"
     ]
    },
    {
     "name": "stderr",
     "output_type": "stream",
     "text": [
      "/home/jmcle/anaconda3/lib/python3.9/site-packages/geomagindices/base.py:37: FutureWarning: Passing method to DatetimeIndex.get_loc is deprecated and will raise in a future version. Use index.get_indexer([item], method=...) instead.\n",
      "  i = [dat.index.get_loc(t, method=\"nearest\") for t in dtime]\n",
      "/home/jmcle/anaconda3/lib/python3.9/site-packages/geomagindices/base.py:37: FutureWarning: Passing method to DatetimeIndex.get_loc is deprecated and will raise in a future version. Use index.get_indexer([item], method=...) instead.\n",
      "  i = [dat.index.get_loc(t, method=\"nearest\") for t in dtime]\n"
     ]
    },
    {
     "name": "stdout",
     "output_type": "stream",
     "text": [
      "Slice: 626. Convergence reached. Iterations: 917. reduced chi2: 1.98\n"
     ]
    },
    {
     "name": "stderr",
     "output_type": "stream",
     "text": [
      "/home/jmcle/anaconda3/lib/python3.9/site-packages/geomagindices/base.py:37: FutureWarning: Passing method to DatetimeIndex.get_loc is deprecated and will raise in a future version. Use index.get_indexer([item], method=...) instead.\n",
      "  i = [dat.index.get_loc(t, method=\"nearest\") for t in dtime]\n",
      "/home/jmcle/anaconda3/lib/python3.9/site-packages/geomagindices/base.py:37: FutureWarning: Passing method to DatetimeIndex.get_loc is deprecated and will raise in a future version. Use index.get_indexer([item], method=...) instead.\n",
      "  i = [dat.index.get_loc(t, method=\"nearest\") for t in dtime]\n"
     ]
    },
    {
     "name": "stdout",
     "output_type": "stream",
     "text": [
      "Slice: 627. Convergence reached. Iterations: 1146. reduced chi2: 2.07\n"
     ]
    },
    {
     "name": "stderr",
     "output_type": "stream",
     "text": [
      "/home/jmcle/anaconda3/lib/python3.9/site-packages/geomagindices/base.py:37: FutureWarning: Passing method to DatetimeIndex.get_loc is deprecated and will raise in a future version. Use index.get_indexer([item], method=...) instead.\n",
      "  i = [dat.index.get_loc(t, method=\"nearest\") for t in dtime]\n",
      "/home/jmcle/anaconda3/lib/python3.9/site-packages/geomagindices/base.py:37: FutureWarning: Passing method to DatetimeIndex.get_loc is deprecated and will raise in a future version. Use index.get_indexer([item], method=...) instead.\n",
      "  i = [dat.index.get_loc(t, method=\"nearest\") for t in dtime]\n"
     ]
    },
    {
     "name": "stdout",
     "output_type": "stream",
     "text": [
      "Slice: 628. Convergence reached. Iterations: 343. reduced chi2: 1.77\n"
     ]
    },
    {
     "name": "stderr",
     "output_type": "stream",
     "text": [
      "/home/jmcle/anaconda3/lib/python3.9/site-packages/geomagindices/base.py:37: FutureWarning: Passing method to DatetimeIndex.get_loc is deprecated and will raise in a future version. Use index.get_indexer([item], method=...) instead.\n",
      "  i = [dat.index.get_loc(t, method=\"nearest\") for t in dtime]\n",
      "/home/jmcle/anaconda3/lib/python3.9/site-packages/geomagindices/base.py:37: FutureWarning: Passing method to DatetimeIndex.get_loc is deprecated and will raise in a future version. Use index.get_indexer([item], method=...) instead.\n",
      "  i = [dat.index.get_loc(t, method=\"nearest\") for t in dtime]\n"
     ]
    },
    {
     "name": "stdout",
     "output_type": "stream",
     "text": [
      "Slice: 629. Convergence reached. Iterations: 830. reduced chi2: 1.69\n"
     ]
    },
    {
     "name": "stderr",
     "output_type": "stream",
     "text": [
      "/home/jmcle/anaconda3/lib/python3.9/site-packages/geomagindices/base.py:37: FutureWarning: Passing method to DatetimeIndex.get_loc is deprecated and will raise in a future version. Use index.get_indexer([item], method=...) instead.\n",
      "  i = [dat.index.get_loc(t, method=\"nearest\") for t in dtime]\n",
      "/home/jmcle/anaconda3/lib/python3.9/site-packages/geomagindices/base.py:37: FutureWarning: Passing method to DatetimeIndex.get_loc is deprecated and will raise in a future version. Use index.get_indexer([item], method=...) instead.\n",
      "  i = [dat.index.get_loc(t, method=\"nearest\") for t in dtime]\n"
     ]
    },
    {
     "name": "stdout",
     "output_type": "stream",
     "text": [
      "Slice: 630. Convergence reached. Iterations: 436. reduced chi2: 1.41\n"
     ]
    },
    {
     "name": "stderr",
     "output_type": "stream",
     "text": [
      "/home/jmcle/anaconda3/lib/python3.9/site-packages/geomagindices/base.py:37: FutureWarning: Passing method to DatetimeIndex.get_loc is deprecated and will raise in a future version. Use index.get_indexer([item], method=...) instead.\n",
      "  i = [dat.index.get_loc(t, method=\"nearest\") for t in dtime]\n",
      "/home/jmcle/anaconda3/lib/python3.9/site-packages/geomagindices/base.py:37: FutureWarning: Passing method to DatetimeIndex.get_loc is deprecated and will raise in a future version. Use index.get_indexer([item], method=...) instead.\n",
      "  i = [dat.index.get_loc(t, method=\"nearest\") for t in dtime]\n"
     ]
    },
    {
     "name": "stdout",
     "output_type": "stream",
     "text": [
      "Slice: 631. Convergence reached. Iterations: 607. reduced chi2: 1.51\n"
     ]
    },
    {
     "name": "stderr",
     "output_type": "stream",
     "text": [
      "/home/jmcle/anaconda3/lib/python3.9/site-packages/geomagindices/base.py:37: FutureWarning: Passing method to DatetimeIndex.get_loc is deprecated and will raise in a future version. Use index.get_indexer([item], method=...) instead.\n",
      "  i = [dat.index.get_loc(t, method=\"nearest\") for t in dtime]\n",
      "/home/jmcle/anaconda3/lib/python3.9/site-packages/geomagindices/base.py:37: FutureWarning: Passing method to DatetimeIndex.get_loc is deprecated and will raise in a future version. Use index.get_indexer([item], method=...) instead.\n",
      "  i = [dat.index.get_loc(t, method=\"nearest\") for t in dtime]\n"
     ]
    },
    {
     "name": "stdout",
     "output_type": "stream",
     "text": [
      "Slice: 632. Convergence reached. Iterations: 1005. reduced chi2: 1.9\n"
     ]
    },
    {
     "name": "stderr",
     "output_type": "stream",
     "text": [
      "/home/jmcle/anaconda3/lib/python3.9/site-packages/geomagindices/base.py:37: FutureWarning: Passing method to DatetimeIndex.get_loc is deprecated and will raise in a future version. Use index.get_indexer([item], method=...) instead.\n",
      "  i = [dat.index.get_loc(t, method=\"nearest\") for t in dtime]\n",
      "/home/jmcle/anaconda3/lib/python3.9/site-packages/geomagindices/base.py:37: FutureWarning: Passing method to DatetimeIndex.get_loc is deprecated and will raise in a future version. Use index.get_indexer([item], method=...) instead.\n",
      "  i = [dat.index.get_loc(t, method=\"nearest\") for t in dtime]\n"
     ]
    },
    {
     "name": "stdout",
     "output_type": "stream",
     "text": [
      "Slice: 633. Convergence reached. Iterations: 723. reduced chi2: 1.26\n"
     ]
    },
    {
     "name": "stderr",
     "output_type": "stream",
     "text": [
      "/home/jmcle/anaconda3/lib/python3.9/site-packages/geomagindices/base.py:37: FutureWarning: Passing method to DatetimeIndex.get_loc is deprecated and will raise in a future version. Use index.get_indexer([item], method=...) instead.\n",
      "  i = [dat.index.get_loc(t, method=\"nearest\") for t in dtime]\n",
      "/home/jmcle/anaconda3/lib/python3.9/site-packages/geomagindices/base.py:37: FutureWarning: Passing method to DatetimeIndex.get_loc is deprecated and will raise in a future version. Use index.get_indexer([item], method=...) instead.\n",
      "  i = [dat.index.get_loc(t, method=\"nearest\") for t in dtime]\n"
     ]
    },
    {
     "name": "stdout",
     "output_type": "stream",
     "text": [
      "Slice: 634. Convergence reached. Iterations: 440. reduced chi2: 1.67\n"
     ]
    },
    {
     "name": "stderr",
     "output_type": "stream",
     "text": [
      "/home/jmcle/anaconda3/lib/python3.9/site-packages/geomagindices/base.py:37: FutureWarning: Passing method to DatetimeIndex.get_loc is deprecated and will raise in a future version. Use index.get_indexer([item], method=...) instead.\n",
      "  i = [dat.index.get_loc(t, method=\"nearest\") for t in dtime]\n",
      "/home/jmcle/anaconda3/lib/python3.9/site-packages/geomagindices/base.py:37: FutureWarning: Passing method to DatetimeIndex.get_loc is deprecated and will raise in a future version. Use index.get_indexer([item], method=...) instead.\n",
      "  i = [dat.index.get_loc(t, method=\"nearest\") for t in dtime]\n"
     ]
    },
    {
     "name": "stdout",
     "output_type": "stream",
     "text": [
      "Slice: 635. Convergence reached. Iterations: 429. reduced chi2: 0.97\n"
     ]
    },
    {
     "name": "stderr",
     "output_type": "stream",
     "text": [
      "/home/jmcle/anaconda3/lib/python3.9/site-packages/geomagindices/base.py:37: FutureWarning: Passing method to DatetimeIndex.get_loc is deprecated and will raise in a future version. Use index.get_indexer([item], method=...) instead.\n",
      "  i = [dat.index.get_loc(t, method=\"nearest\") for t in dtime]\n",
      "/home/jmcle/anaconda3/lib/python3.9/site-packages/geomagindices/base.py:37: FutureWarning: Passing method to DatetimeIndex.get_loc is deprecated and will raise in a future version. Use index.get_indexer([item], method=...) instead.\n",
      "  i = [dat.index.get_loc(t, method=\"nearest\") for t in dtime]\n"
     ]
    },
    {
     "name": "stdout",
     "output_type": "stream",
     "text": [
      "Slice: 636. Convergence reached. Iterations: 912. reduced chi2: 1.99\n"
     ]
    },
    {
     "name": "stderr",
     "output_type": "stream",
     "text": [
      "/home/jmcle/anaconda3/lib/python3.9/site-packages/geomagindices/base.py:37: FutureWarning: Passing method to DatetimeIndex.get_loc is deprecated and will raise in a future version. Use index.get_indexer([item], method=...) instead.\n",
      "  i = [dat.index.get_loc(t, method=\"nearest\") for t in dtime]\n",
      "/home/jmcle/anaconda3/lib/python3.9/site-packages/geomagindices/base.py:37: FutureWarning: Passing method to DatetimeIndex.get_loc is deprecated and will raise in a future version. Use index.get_indexer([item], method=...) instead.\n",
      "  i = [dat.index.get_loc(t, method=\"nearest\") for t in dtime]\n"
     ]
    },
    {
     "name": "stdout",
     "output_type": "stream",
     "text": [
      "Slice: 637. Convergence reached. Iterations: 841. reduced chi2: 1.5\n"
     ]
    },
    {
     "name": "stderr",
     "output_type": "stream",
     "text": [
      "/home/jmcle/anaconda3/lib/python3.9/site-packages/geomagindices/base.py:37: FutureWarning: Passing method to DatetimeIndex.get_loc is deprecated and will raise in a future version. Use index.get_indexer([item], method=...) instead.\n",
      "  i = [dat.index.get_loc(t, method=\"nearest\") for t in dtime]\n",
      "/home/jmcle/anaconda3/lib/python3.9/site-packages/geomagindices/base.py:37: FutureWarning: Passing method to DatetimeIndex.get_loc is deprecated and will raise in a future version. Use index.get_indexer([item], method=...) instead.\n",
      "  i = [dat.index.get_loc(t, method=\"nearest\") for t in dtime]\n"
     ]
    },
    {
     "name": "stdout",
     "output_type": "stream",
     "text": [
      "Slice: 638. Convergence reached. Iterations: 533. reduced chi2: 1.78\n"
     ]
    },
    {
     "name": "stderr",
     "output_type": "stream",
     "text": [
      "/home/jmcle/anaconda3/lib/python3.9/site-packages/geomagindices/base.py:37: FutureWarning: Passing method to DatetimeIndex.get_loc is deprecated and will raise in a future version. Use index.get_indexer([item], method=...) instead.\n",
      "  i = [dat.index.get_loc(t, method=\"nearest\") for t in dtime]\n",
      "/home/jmcle/anaconda3/lib/python3.9/site-packages/geomagindices/base.py:37: FutureWarning: Passing method to DatetimeIndex.get_loc is deprecated and will raise in a future version. Use index.get_indexer([item], method=...) instead.\n",
      "  i = [dat.index.get_loc(t, method=\"nearest\") for t in dtime]\n"
     ]
    },
    {
     "name": "stdout",
     "output_type": "stream",
     "text": [
      "Slice: 639. Convergence reached. Iterations: 566. reduced chi2: 1.2\n"
     ]
    },
    {
     "name": "stderr",
     "output_type": "stream",
     "text": [
      "/home/jmcle/anaconda3/lib/python3.9/site-packages/geomagindices/base.py:37: FutureWarning: Passing method to DatetimeIndex.get_loc is deprecated and will raise in a future version. Use index.get_indexer([item], method=...) instead.\n",
      "  i = [dat.index.get_loc(t, method=\"nearest\") for t in dtime]\n",
      "/home/jmcle/anaconda3/lib/python3.9/site-packages/geomagindices/base.py:37: FutureWarning: Passing method to DatetimeIndex.get_loc is deprecated and will raise in a future version. Use index.get_indexer([item], method=...) instead.\n",
      "  i = [dat.index.get_loc(t, method=\"nearest\") for t in dtime]\n"
     ]
    },
    {
     "name": "stdout",
     "output_type": "stream",
     "text": [
      "Slice: 640. Convergence reached. Iterations: 419. reduced chi2: 1.17\n"
     ]
    },
    {
     "name": "stderr",
     "output_type": "stream",
     "text": [
      "/home/jmcle/anaconda3/lib/python3.9/site-packages/geomagindices/base.py:37: FutureWarning: Passing method to DatetimeIndex.get_loc is deprecated and will raise in a future version. Use index.get_indexer([item], method=...) instead.\n",
      "  i = [dat.index.get_loc(t, method=\"nearest\") for t in dtime]\n",
      "/home/jmcle/anaconda3/lib/python3.9/site-packages/geomagindices/base.py:37: FutureWarning: Passing method to DatetimeIndex.get_loc is deprecated and will raise in a future version. Use index.get_indexer([item], method=...) instead.\n",
      "  i = [dat.index.get_loc(t, method=\"nearest\") for t in dtime]\n"
     ]
    },
    {
     "name": "stdout",
     "output_type": "stream",
     "text": [
      "Slice: 641. Convergence reached. Iterations: 353. reduced chi2: 0.99\n"
     ]
    },
    {
     "name": "stderr",
     "output_type": "stream",
     "text": [
      "/home/jmcle/anaconda3/lib/python3.9/site-packages/geomagindices/base.py:37: FutureWarning: Passing method to DatetimeIndex.get_loc is deprecated and will raise in a future version. Use index.get_indexer([item], method=...) instead.\n",
      "  i = [dat.index.get_loc(t, method=\"nearest\") for t in dtime]\n",
      "/home/jmcle/anaconda3/lib/python3.9/site-packages/geomagindices/base.py:37: FutureWarning: Passing method to DatetimeIndex.get_loc is deprecated and will raise in a future version. Use index.get_indexer([item], method=...) instead.\n",
      "  i = [dat.index.get_loc(t, method=\"nearest\") for t in dtime]\n"
     ]
    },
    {
     "name": "stdout",
     "output_type": "stream",
     "text": [
      "Slice: 642. Convergence reached. Iterations: 389. reduced chi2: 1.3\n"
     ]
    },
    {
     "name": "stderr",
     "output_type": "stream",
     "text": [
      "/home/jmcle/anaconda3/lib/python3.9/site-packages/geomagindices/base.py:37: FutureWarning: Passing method to DatetimeIndex.get_loc is deprecated and will raise in a future version. Use index.get_indexer([item], method=...) instead.\n",
      "  i = [dat.index.get_loc(t, method=\"nearest\") for t in dtime]\n",
      "/home/jmcle/anaconda3/lib/python3.9/site-packages/geomagindices/base.py:37: FutureWarning: Passing method to DatetimeIndex.get_loc is deprecated and will raise in a future version. Use index.get_indexer([item], method=...) instead.\n",
      "  i = [dat.index.get_loc(t, method=\"nearest\") for t in dtime]\n"
     ]
    },
    {
     "name": "stdout",
     "output_type": "stream",
     "text": [
      "Slice: 643. Convergence reached. Iterations: 287. reduced chi2: 1.78\n"
     ]
    },
    {
     "name": "stderr",
     "output_type": "stream",
     "text": [
      "/home/jmcle/anaconda3/lib/python3.9/site-packages/geomagindices/base.py:37: FutureWarning: Passing method to DatetimeIndex.get_loc is deprecated and will raise in a future version. Use index.get_indexer([item], method=...) instead.\n",
      "  i = [dat.index.get_loc(t, method=\"nearest\") for t in dtime]\n",
      "/home/jmcle/anaconda3/lib/python3.9/site-packages/geomagindices/base.py:37: FutureWarning: Passing method to DatetimeIndex.get_loc is deprecated and will raise in a future version. Use index.get_indexer([item], method=...) instead.\n",
      "  i = [dat.index.get_loc(t, method=\"nearest\") for t in dtime]\n"
     ]
    },
    {
     "name": "stdout",
     "output_type": "stream",
     "text": [
      "Slice: 644. Convergence reached. Iterations: 214. reduced chi2: 1.18\n"
     ]
    },
    {
     "name": "stderr",
     "output_type": "stream",
     "text": [
      "/home/jmcle/anaconda3/lib/python3.9/site-packages/geomagindices/base.py:37: FutureWarning: Passing method to DatetimeIndex.get_loc is deprecated and will raise in a future version. Use index.get_indexer([item], method=...) instead.\n",
      "  i = [dat.index.get_loc(t, method=\"nearest\") for t in dtime]\n",
      "/home/jmcle/anaconda3/lib/python3.9/site-packages/geomagindices/base.py:37: FutureWarning: Passing method to DatetimeIndex.get_loc is deprecated and will raise in a future version. Use index.get_indexer([item], method=...) instead.\n",
      "  i = [dat.index.get_loc(t, method=\"nearest\") for t in dtime]\n"
     ]
    },
    {
     "name": "stdout",
     "output_type": "stream",
     "text": [
      "Slice: 645. Convergence reached. Iterations: 447. reduced chi2: 1.82\n"
     ]
    },
    {
     "name": "stderr",
     "output_type": "stream",
     "text": [
      "/home/jmcle/anaconda3/lib/python3.9/site-packages/geomagindices/base.py:37: FutureWarning: Passing method to DatetimeIndex.get_loc is deprecated and will raise in a future version. Use index.get_indexer([item], method=...) instead.\n",
      "  i = [dat.index.get_loc(t, method=\"nearest\") for t in dtime]\n",
      "/home/jmcle/anaconda3/lib/python3.9/site-packages/geomagindices/base.py:37: FutureWarning: Passing method to DatetimeIndex.get_loc is deprecated and will raise in a future version. Use index.get_indexer([item], method=...) instead.\n",
      "  i = [dat.index.get_loc(t, method=\"nearest\") for t in dtime]\n"
     ]
    },
    {
     "name": "stdout",
     "output_type": "stream",
     "text": [
      "Slice: 646. Convergence reached. Iterations: 644. reduced chi2: 2.57\n"
     ]
    },
    {
     "name": "stderr",
     "output_type": "stream",
     "text": [
      "/home/jmcle/anaconda3/lib/python3.9/site-packages/geomagindices/base.py:37: FutureWarning: Passing method to DatetimeIndex.get_loc is deprecated and will raise in a future version. Use index.get_indexer([item], method=...) instead.\n",
      "  i = [dat.index.get_loc(t, method=\"nearest\") for t in dtime]\n",
      "/home/jmcle/anaconda3/lib/python3.9/site-packages/geomagindices/base.py:37: FutureWarning: Passing method to DatetimeIndex.get_loc is deprecated and will raise in a future version. Use index.get_indexer([item], method=...) instead.\n",
      "  i = [dat.index.get_loc(t, method=\"nearest\") for t in dtime]\n"
     ]
    },
    {
     "name": "stdout",
     "output_type": "stream",
     "text": [
      "Slice: 647. Convergence reached. Iterations: 1345. reduced chi2: 1.54\n"
     ]
    },
    {
     "name": "stderr",
     "output_type": "stream",
     "text": [
      "/home/jmcle/anaconda3/lib/python3.9/site-packages/geomagindices/base.py:37: FutureWarning: Passing method to DatetimeIndex.get_loc is deprecated and will raise in a future version. Use index.get_indexer([item], method=...) instead.\n",
      "  i = [dat.index.get_loc(t, method=\"nearest\") for t in dtime]\n",
      "/home/jmcle/anaconda3/lib/python3.9/site-packages/geomagindices/base.py:37: FutureWarning: Passing method to DatetimeIndex.get_loc is deprecated and will raise in a future version. Use index.get_indexer([item], method=...) instead.\n",
      "  i = [dat.index.get_loc(t, method=\"nearest\") for t in dtime]\n"
     ]
    },
    {
     "name": "stdout",
     "output_type": "stream",
     "text": [
      "Slice: 648. Convergence reached. Iterations: 905. reduced chi2: 1.37\n"
     ]
    },
    {
     "name": "stderr",
     "output_type": "stream",
     "text": [
      "/home/jmcle/anaconda3/lib/python3.9/site-packages/geomagindices/base.py:37: FutureWarning: Passing method to DatetimeIndex.get_loc is deprecated and will raise in a future version. Use index.get_indexer([item], method=...) instead.\n",
      "  i = [dat.index.get_loc(t, method=\"nearest\") for t in dtime]\n",
      "/home/jmcle/anaconda3/lib/python3.9/site-packages/geomagindices/base.py:37: FutureWarning: Passing method to DatetimeIndex.get_loc is deprecated and will raise in a future version. Use index.get_indexer([item], method=...) instead.\n",
      "  i = [dat.index.get_loc(t, method=\"nearest\") for t in dtime]\n"
     ]
    },
    {
     "name": "stdout",
     "output_type": "stream",
     "text": [
      "Slice: 649. Convergence reached. Iterations: 419. reduced chi2: 2.07\n"
     ]
    },
    {
     "name": "stderr",
     "output_type": "stream",
     "text": [
      "/home/jmcle/anaconda3/lib/python3.9/site-packages/geomagindices/base.py:37: FutureWarning: Passing method to DatetimeIndex.get_loc is deprecated and will raise in a future version. Use index.get_indexer([item], method=...) instead.\n",
      "  i = [dat.index.get_loc(t, method=\"nearest\") for t in dtime]\n",
      "/home/jmcle/anaconda3/lib/python3.9/site-packages/geomagindices/base.py:37: FutureWarning: Passing method to DatetimeIndex.get_loc is deprecated and will raise in a future version. Use index.get_indexer([item], method=...) instead.\n",
      "  i = [dat.index.get_loc(t, method=\"nearest\") for t in dtime]\n"
     ]
    },
    {
     "name": "stdout",
     "output_type": "stream",
     "text": [
      "Slice: 650. Convergence reached. Iterations: 331. reduced chi2: 1.2\n"
     ]
    },
    {
     "name": "stderr",
     "output_type": "stream",
     "text": [
      "/home/jmcle/anaconda3/lib/python3.9/site-packages/geomagindices/base.py:37: FutureWarning: Passing method to DatetimeIndex.get_loc is deprecated and will raise in a future version. Use index.get_indexer([item], method=...) instead.\n",
      "  i = [dat.index.get_loc(t, method=\"nearest\") for t in dtime]\n",
      "/home/jmcle/anaconda3/lib/python3.9/site-packages/geomagindices/base.py:37: FutureWarning: Passing method to DatetimeIndex.get_loc is deprecated and will raise in a future version. Use index.get_indexer([item], method=...) instead.\n",
      "  i = [dat.index.get_loc(t, method=\"nearest\") for t in dtime]\n"
     ]
    },
    {
     "name": "stdout",
     "output_type": "stream",
     "text": [
      "Slice: 651. Convergence reached. Iterations: 641. reduced chi2: 1.82\n"
     ]
    },
    {
     "name": "stderr",
     "output_type": "stream",
     "text": [
      "/home/jmcle/anaconda3/lib/python3.9/site-packages/geomagindices/base.py:37: FutureWarning: Passing method to DatetimeIndex.get_loc is deprecated and will raise in a future version. Use index.get_indexer([item], method=...) instead.\n",
      "  i = [dat.index.get_loc(t, method=\"nearest\") for t in dtime]\n",
      "/home/jmcle/anaconda3/lib/python3.9/site-packages/geomagindices/base.py:37: FutureWarning: Passing method to DatetimeIndex.get_loc is deprecated and will raise in a future version. Use index.get_indexer([item], method=...) instead.\n",
      "  i = [dat.index.get_loc(t, method=\"nearest\") for t in dtime]\n"
     ]
    },
    {
     "name": "stdout",
     "output_type": "stream",
     "text": [
      "Slice: 652. Convergence reached. Iterations: 765. reduced chi2: 1.78\n"
     ]
    },
    {
     "name": "stderr",
     "output_type": "stream",
     "text": [
      "/home/jmcle/anaconda3/lib/python3.9/site-packages/geomagindices/base.py:37: FutureWarning: Passing method to DatetimeIndex.get_loc is deprecated and will raise in a future version. Use index.get_indexer([item], method=...) instead.\n",
      "  i = [dat.index.get_loc(t, method=\"nearest\") for t in dtime]\n",
      "/home/jmcle/anaconda3/lib/python3.9/site-packages/geomagindices/base.py:37: FutureWarning: Passing method to DatetimeIndex.get_loc is deprecated and will raise in a future version. Use index.get_indexer([item], method=...) instead.\n",
      "  i = [dat.index.get_loc(t, method=\"nearest\") for t in dtime]\n"
     ]
    },
    {
     "name": "stdout",
     "output_type": "stream",
     "text": [
      "Slice: 653. Convergence reached. Iterations: 1030. reduced chi2: 1.81\n"
     ]
    },
    {
     "name": "stderr",
     "output_type": "stream",
     "text": [
      "/home/jmcle/anaconda3/lib/python3.9/site-packages/geomagindices/base.py:37: FutureWarning: Passing method to DatetimeIndex.get_loc is deprecated and will raise in a future version. Use index.get_indexer([item], method=...) instead.\n",
      "  i = [dat.index.get_loc(t, method=\"nearest\") for t in dtime]\n",
      "/home/jmcle/anaconda3/lib/python3.9/site-packages/geomagindices/base.py:37: FutureWarning: Passing method to DatetimeIndex.get_loc is deprecated and will raise in a future version. Use index.get_indexer([item], method=...) instead.\n",
      "  i = [dat.index.get_loc(t, method=\"nearest\") for t in dtime]\n"
     ]
    },
    {
     "name": "stdout",
     "output_type": "stream",
     "text": [
      "Slice: 654. Convergence reached. Iterations: 655. reduced chi2: 1.46\n"
     ]
    },
    {
     "name": "stderr",
     "output_type": "stream",
     "text": [
      "/home/jmcle/anaconda3/lib/python3.9/site-packages/geomagindices/base.py:37: FutureWarning: Passing method to DatetimeIndex.get_loc is deprecated and will raise in a future version. Use index.get_indexer([item], method=...) instead.\n",
      "  i = [dat.index.get_loc(t, method=\"nearest\") for t in dtime]\n",
      "/home/jmcle/anaconda3/lib/python3.9/site-packages/geomagindices/base.py:37: FutureWarning: Passing method to DatetimeIndex.get_loc is deprecated and will raise in a future version. Use index.get_indexer([item], method=...) instead.\n",
      "  i = [dat.index.get_loc(t, method=\"nearest\") for t in dtime]\n"
     ]
    },
    {
     "name": "stdout",
     "output_type": "stream",
     "text": [
      "Slice: 655. Convergence reached. Iterations: 919. reduced chi2: 1.76\n"
     ]
    },
    {
     "name": "stderr",
     "output_type": "stream",
     "text": [
      "/home/jmcle/anaconda3/lib/python3.9/site-packages/geomagindices/base.py:37: FutureWarning: Passing method to DatetimeIndex.get_loc is deprecated and will raise in a future version. Use index.get_indexer([item], method=...) instead.\n",
      "  i = [dat.index.get_loc(t, method=\"nearest\") for t in dtime]\n",
      "/home/jmcle/anaconda3/lib/python3.9/site-packages/geomagindices/base.py:37: FutureWarning: Passing method to DatetimeIndex.get_loc is deprecated and will raise in a future version. Use index.get_indexer([item], method=...) instead.\n",
      "  i = [dat.index.get_loc(t, method=\"nearest\") for t in dtime]\n"
     ]
    },
    {
     "name": "stdout",
     "output_type": "stream",
     "text": [
      "Slice: 656. Convergence reached. Iterations: 503. reduced chi2: 1.55\n"
     ]
    },
    {
     "name": "stderr",
     "output_type": "stream",
     "text": [
      "/home/jmcle/anaconda3/lib/python3.9/site-packages/geomagindices/base.py:37: FutureWarning: Passing method to DatetimeIndex.get_loc is deprecated and will raise in a future version. Use index.get_indexer([item], method=...) instead.\n",
      "  i = [dat.index.get_loc(t, method=\"nearest\") for t in dtime]\n",
      "/home/jmcle/anaconda3/lib/python3.9/site-packages/geomagindices/base.py:37: FutureWarning: Passing method to DatetimeIndex.get_loc is deprecated and will raise in a future version. Use index.get_indexer([item], method=...) instead.\n",
      "  i = [dat.index.get_loc(t, method=\"nearest\") for t in dtime]\n"
     ]
    },
    {
     "name": "stdout",
     "output_type": "stream",
     "text": [
      "Slice: 657. Convergence reached. Iterations: 439. reduced chi2: 1.48\n"
     ]
    },
    {
     "name": "stderr",
     "output_type": "stream",
     "text": [
      "/home/jmcle/anaconda3/lib/python3.9/site-packages/geomagindices/base.py:37: FutureWarning: Passing method to DatetimeIndex.get_loc is deprecated and will raise in a future version. Use index.get_indexer([item], method=...) instead.\n",
      "  i = [dat.index.get_loc(t, method=\"nearest\") for t in dtime]\n",
      "/home/jmcle/anaconda3/lib/python3.9/site-packages/geomagindices/base.py:37: FutureWarning: Passing method to DatetimeIndex.get_loc is deprecated and will raise in a future version. Use index.get_indexer([item], method=...) instead.\n",
      "  i = [dat.index.get_loc(t, method=\"nearest\") for t in dtime]\n"
     ]
    },
    {
     "name": "stdout",
     "output_type": "stream",
     "text": [
      "Slice: 658. Convergence reached. Iterations: 736. reduced chi2: 1.79\n"
     ]
    },
    {
     "name": "stderr",
     "output_type": "stream",
     "text": [
      "/home/jmcle/anaconda3/lib/python3.9/site-packages/geomagindices/base.py:37: FutureWarning: Passing method to DatetimeIndex.get_loc is deprecated and will raise in a future version. Use index.get_indexer([item], method=...) instead.\n",
      "  i = [dat.index.get_loc(t, method=\"nearest\") for t in dtime]\n",
      "/home/jmcle/anaconda3/lib/python3.9/site-packages/geomagindices/base.py:37: FutureWarning: Passing method to DatetimeIndex.get_loc is deprecated and will raise in a future version. Use index.get_indexer([item], method=...) instead.\n",
      "  i = [dat.index.get_loc(t, method=\"nearest\") for t in dtime]\n"
     ]
    },
    {
     "name": "stdout",
     "output_type": "stream",
     "text": [
      "Slice: 659. Convergence reached. Iterations: 514. reduced chi2: 1.46\n"
     ]
    },
    {
     "name": "stderr",
     "output_type": "stream",
     "text": [
      "/home/jmcle/anaconda3/lib/python3.9/site-packages/geomagindices/base.py:37: FutureWarning: Passing method to DatetimeIndex.get_loc is deprecated and will raise in a future version. Use index.get_indexer([item], method=...) instead.\n",
      "  i = [dat.index.get_loc(t, method=\"nearest\") for t in dtime]\n",
      "/home/jmcle/anaconda3/lib/python3.9/site-packages/geomagindices/base.py:37: FutureWarning: Passing method to DatetimeIndex.get_loc is deprecated and will raise in a future version. Use index.get_indexer([item], method=...) instead.\n",
      "  i = [dat.index.get_loc(t, method=\"nearest\") for t in dtime]\n"
     ]
    },
    {
     "name": "stdout",
     "output_type": "stream",
     "text": [
      "Slice: 660. Convergence reached. Iterations: 664. reduced chi2: 2.31\n"
     ]
    },
    {
     "name": "stderr",
     "output_type": "stream",
     "text": [
      "/home/jmcle/anaconda3/lib/python3.9/site-packages/geomagindices/base.py:37: FutureWarning: Passing method to DatetimeIndex.get_loc is deprecated and will raise in a future version. Use index.get_indexer([item], method=...) instead.\n",
      "  i = [dat.index.get_loc(t, method=\"nearest\") for t in dtime]\n",
      "/home/jmcle/anaconda3/lib/python3.9/site-packages/geomagindices/base.py:37: FutureWarning: Passing method to DatetimeIndex.get_loc is deprecated and will raise in a future version. Use index.get_indexer([item], method=...) instead.\n",
      "  i = [dat.index.get_loc(t, method=\"nearest\") for t in dtime]\n"
     ]
    },
    {
     "name": "stdout",
     "output_type": "stream",
     "text": [
      "Slice: 661. Convergence reached. Iterations: 580. reduced chi2: 1.43\n"
     ]
    },
    {
     "name": "stderr",
     "output_type": "stream",
     "text": [
      "/home/jmcle/anaconda3/lib/python3.9/site-packages/geomagindices/base.py:37: FutureWarning: Passing method to DatetimeIndex.get_loc is deprecated and will raise in a future version. Use index.get_indexer([item], method=...) instead.\n",
      "  i = [dat.index.get_loc(t, method=\"nearest\") for t in dtime]\n",
      "/home/jmcle/anaconda3/lib/python3.9/site-packages/geomagindices/base.py:37: FutureWarning: Passing method to DatetimeIndex.get_loc is deprecated and will raise in a future version. Use index.get_indexer([item], method=...) instead.\n",
      "  i = [dat.index.get_loc(t, method=\"nearest\") for t in dtime]\n"
     ]
    },
    {
     "name": "stdout",
     "output_type": "stream",
     "text": [
      "Slice: 662. Convergence reached. Iterations: 397. reduced chi2: 1.54\n"
     ]
    },
    {
     "name": "stderr",
     "output_type": "stream",
     "text": [
      "/home/jmcle/anaconda3/lib/python3.9/site-packages/geomagindices/base.py:37: FutureWarning: Passing method to DatetimeIndex.get_loc is deprecated and will raise in a future version. Use index.get_indexer([item], method=...) instead.\n",
      "  i = [dat.index.get_loc(t, method=\"nearest\") for t in dtime]\n",
      "/home/jmcle/anaconda3/lib/python3.9/site-packages/geomagindices/base.py:37: FutureWarning: Passing method to DatetimeIndex.get_loc is deprecated and will raise in a future version. Use index.get_indexer([item], method=...) instead.\n",
      "  i = [dat.index.get_loc(t, method=\"nearest\") for t in dtime]\n"
     ]
    },
    {
     "name": "stdout",
     "output_type": "stream",
     "text": [
      "Slice: 663. Convergence reached. Iterations: 393. reduced chi2: 1.4\n"
     ]
    },
    {
     "name": "stderr",
     "output_type": "stream",
     "text": [
      "/home/jmcle/anaconda3/lib/python3.9/site-packages/geomagindices/base.py:37: FutureWarning: Passing method to DatetimeIndex.get_loc is deprecated and will raise in a future version. Use index.get_indexer([item], method=...) instead.\n",
      "  i = [dat.index.get_loc(t, method=\"nearest\") for t in dtime]\n",
      "/home/jmcle/anaconda3/lib/python3.9/site-packages/geomagindices/base.py:37: FutureWarning: Passing method to DatetimeIndex.get_loc is deprecated and will raise in a future version. Use index.get_indexer([item], method=...) instead.\n",
      "  i = [dat.index.get_loc(t, method=\"nearest\") for t in dtime]\n"
     ]
    },
    {
     "name": "stdout",
     "output_type": "stream",
     "text": [
      "Slice: 664. Convergence reached. Iterations: 617. reduced chi2: 1.62\n"
     ]
    },
    {
     "name": "stderr",
     "output_type": "stream",
     "text": [
      "/home/jmcle/anaconda3/lib/python3.9/site-packages/geomagindices/base.py:37: FutureWarning: Passing method to DatetimeIndex.get_loc is deprecated and will raise in a future version. Use index.get_indexer([item], method=...) instead.\n",
      "  i = [dat.index.get_loc(t, method=\"nearest\") for t in dtime]\n",
      "/home/jmcle/anaconda3/lib/python3.9/site-packages/geomagindices/base.py:37: FutureWarning: Passing method to DatetimeIndex.get_loc is deprecated and will raise in a future version. Use index.get_indexer([item], method=...) instead.\n",
      "  i = [dat.index.get_loc(t, method=\"nearest\") for t in dtime]\n"
     ]
    },
    {
     "name": "stdout",
     "output_type": "stream",
     "text": [
      "Slice: 665. Convergence reached. Iterations: 670. reduced chi2: 2.27\n"
     ]
    },
    {
     "name": "stderr",
     "output_type": "stream",
     "text": [
      "/home/jmcle/anaconda3/lib/python3.9/site-packages/geomagindices/base.py:37: FutureWarning: Passing method to DatetimeIndex.get_loc is deprecated and will raise in a future version. Use index.get_indexer([item], method=...) instead.\n",
      "  i = [dat.index.get_loc(t, method=\"nearest\") for t in dtime]\n",
      "/home/jmcle/anaconda3/lib/python3.9/site-packages/geomagindices/base.py:37: FutureWarning: Passing method to DatetimeIndex.get_loc is deprecated and will raise in a future version. Use index.get_indexer([item], method=...) instead.\n",
      "  i = [dat.index.get_loc(t, method=\"nearest\") for t in dtime]\n"
     ]
    },
    {
     "name": "stdout",
     "output_type": "stream",
     "text": [
      "Slice: 666. Convergence reached. Iterations: 603. reduced chi2: 1.51\n"
     ]
    },
    {
     "name": "stderr",
     "output_type": "stream",
     "text": [
      "/home/jmcle/anaconda3/lib/python3.9/site-packages/geomagindices/base.py:37: FutureWarning: Passing method to DatetimeIndex.get_loc is deprecated and will raise in a future version. Use index.get_indexer([item], method=...) instead.\n",
      "  i = [dat.index.get_loc(t, method=\"nearest\") for t in dtime]\n",
      "/home/jmcle/anaconda3/lib/python3.9/site-packages/geomagindices/base.py:37: FutureWarning: Passing method to DatetimeIndex.get_loc is deprecated and will raise in a future version. Use index.get_indexer([item], method=...) instead.\n",
      "  i = [dat.index.get_loc(t, method=\"nearest\") for t in dtime]\n"
     ]
    },
    {
     "name": "stdout",
     "output_type": "stream",
     "text": [
      "Slice: 667. Convergence reached. Iterations: 1387. reduced chi2: 2.92\n"
     ]
    },
    {
     "name": "stderr",
     "output_type": "stream",
     "text": [
      "/home/jmcle/anaconda3/lib/python3.9/site-packages/geomagindices/base.py:37: FutureWarning: Passing method to DatetimeIndex.get_loc is deprecated and will raise in a future version. Use index.get_indexer([item], method=...) instead.\n",
      "  i = [dat.index.get_loc(t, method=\"nearest\") for t in dtime]\n",
      "/home/jmcle/anaconda3/lib/python3.9/site-packages/geomagindices/base.py:37: FutureWarning: Passing method to DatetimeIndex.get_loc is deprecated and will raise in a future version. Use index.get_indexer([item], method=...) instead.\n",
      "  i = [dat.index.get_loc(t, method=\"nearest\") for t in dtime]\n"
     ]
    },
    {
     "name": "stdout",
     "output_type": "stream",
     "text": [
      "Slice: 668. Convergence reached. Iterations: 1404. reduced chi2: 2.39\n"
     ]
    },
    {
     "name": "stderr",
     "output_type": "stream",
     "text": [
      "/home/jmcle/anaconda3/lib/python3.9/site-packages/geomagindices/base.py:37: FutureWarning: Passing method to DatetimeIndex.get_loc is deprecated and will raise in a future version. Use index.get_indexer([item], method=...) instead.\n",
      "  i = [dat.index.get_loc(t, method=\"nearest\") for t in dtime]\n",
      "/home/jmcle/anaconda3/lib/python3.9/site-packages/geomagindices/base.py:37: FutureWarning: Passing method to DatetimeIndex.get_loc is deprecated and will raise in a future version. Use index.get_indexer([item], method=...) instead.\n",
      "  i = [dat.index.get_loc(t, method=\"nearest\") for t in dtime]\n"
     ]
    },
    {
     "name": "stdout",
     "output_type": "stream",
     "text": [
      "Slice: 669. Convergence reached. Iterations: 1127. reduced chi2: 1.64\n"
     ]
    },
    {
     "name": "stderr",
     "output_type": "stream",
     "text": [
      "/home/jmcle/anaconda3/lib/python3.9/site-packages/geomagindices/base.py:37: FutureWarning: Passing method to DatetimeIndex.get_loc is deprecated and will raise in a future version. Use index.get_indexer([item], method=...) instead.\n",
      "  i = [dat.index.get_loc(t, method=\"nearest\") for t in dtime]\n",
      "/home/jmcle/anaconda3/lib/python3.9/site-packages/geomagindices/base.py:37: FutureWarning: Passing method to DatetimeIndex.get_loc is deprecated and will raise in a future version. Use index.get_indexer([item], method=...) instead.\n",
      "  i = [dat.index.get_loc(t, method=\"nearest\") for t in dtime]\n"
     ]
    },
    {
     "name": "stdout",
     "output_type": "stream",
     "text": [
      "Slice: 670. Convergence reached. Iterations: 2053. reduced chi2: 2.56\n"
     ]
    },
    {
     "name": "stderr",
     "output_type": "stream",
     "text": [
      "/home/jmcle/anaconda3/lib/python3.9/site-packages/geomagindices/base.py:37: FutureWarning: Passing method to DatetimeIndex.get_loc is deprecated and will raise in a future version. Use index.get_indexer([item], method=...) instead.\n",
      "  i = [dat.index.get_loc(t, method=\"nearest\") for t in dtime]\n",
      "/home/jmcle/anaconda3/lib/python3.9/site-packages/geomagindices/base.py:37: FutureWarning: Passing method to DatetimeIndex.get_loc is deprecated and will raise in a future version. Use index.get_indexer([item], method=...) instead.\n",
      "  i = [dat.index.get_loc(t, method=\"nearest\") for t in dtime]\n"
     ]
    },
    {
     "name": "stdout",
     "output_type": "stream",
     "text": [
      "Slice: 671. Convergence reached. Iterations: 1151. reduced chi2: 1.24\n"
     ]
    },
    {
     "name": "stderr",
     "output_type": "stream",
     "text": [
      "/home/jmcle/anaconda3/lib/python3.9/site-packages/geomagindices/base.py:37: FutureWarning: Passing method to DatetimeIndex.get_loc is deprecated and will raise in a future version. Use index.get_indexer([item], method=...) instead.\n",
      "  i = [dat.index.get_loc(t, method=\"nearest\") for t in dtime]\n",
      "/home/jmcle/anaconda3/lib/python3.9/site-packages/geomagindices/base.py:37: FutureWarning: Passing method to DatetimeIndex.get_loc is deprecated and will raise in a future version. Use index.get_indexer([item], method=...) instead.\n",
      "  i = [dat.index.get_loc(t, method=\"nearest\") for t in dtime]\n"
     ]
    },
    {
     "name": "stdout",
     "output_type": "stream",
     "text": [
      "Slice: 672. Convergence reached. Iterations: 1024. reduced chi2: 1.71\n"
     ]
    },
    {
     "name": "stderr",
     "output_type": "stream",
     "text": [
      "/home/jmcle/anaconda3/lib/python3.9/site-packages/geomagindices/base.py:37: FutureWarning: Passing method to DatetimeIndex.get_loc is deprecated and will raise in a future version. Use index.get_indexer([item], method=...) instead.\n",
      "  i = [dat.index.get_loc(t, method=\"nearest\") for t in dtime]\n",
      "/home/jmcle/anaconda3/lib/python3.9/site-packages/geomagindices/base.py:37: FutureWarning: Passing method to DatetimeIndex.get_loc is deprecated and will raise in a future version. Use index.get_indexer([item], method=...) instead.\n",
      "  i = [dat.index.get_loc(t, method=\"nearest\") for t in dtime]\n"
     ]
    },
    {
     "name": "stdout",
     "output_type": "stream",
     "text": [
      "Slice: 673. Convergence reached. Iterations: 636. reduced chi2: 1.68\n"
     ]
    },
    {
     "name": "stderr",
     "output_type": "stream",
     "text": [
      "/home/jmcle/anaconda3/lib/python3.9/site-packages/geomagindices/base.py:37: FutureWarning: Passing method to DatetimeIndex.get_loc is deprecated and will raise in a future version. Use index.get_indexer([item], method=...) instead.\n",
      "  i = [dat.index.get_loc(t, method=\"nearest\") for t in dtime]\n",
      "/home/jmcle/anaconda3/lib/python3.9/site-packages/geomagindices/base.py:37: FutureWarning: Passing method to DatetimeIndex.get_loc is deprecated and will raise in a future version. Use index.get_indexer([item], method=...) instead.\n",
      "  i = [dat.index.get_loc(t, method=\"nearest\") for t in dtime]\n"
     ]
    },
    {
     "name": "stdout",
     "output_type": "stream",
     "text": [
      "Slice: 674. Convergence reached. Iterations: 754. reduced chi2: 1.31\n"
     ]
    },
    {
     "name": "stderr",
     "output_type": "stream",
     "text": [
      "/home/jmcle/anaconda3/lib/python3.9/site-packages/geomagindices/base.py:37: FutureWarning: Passing method to DatetimeIndex.get_loc is deprecated and will raise in a future version. Use index.get_indexer([item], method=...) instead.\n",
      "  i = [dat.index.get_loc(t, method=\"nearest\") for t in dtime]\n",
      "/home/jmcle/anaconda3/lib/python3.9/site-packages/geomagindices/base.py:37: FutureWarning: Passing method to DatetimeIndex.get_loc is deprecated and will raise in a future version. Use index.get_indexer([item], method=...) instead.\n",
      "  i = [dat.index.get_loc(t, method=\"nearest\") for t in dtime]\n"
     ]
    },
    {
     "name": "stdout",
     "output_type": "stream",
     "text": [
      "Slice: 675. Convergence reached. Iterations: 530. reduced chi2: 1.33\n"
     ]
    },
    {
     "name": "stderr",
     "output_type": "stream",
     "text": [
      "/home/jmcle/anaconda3/lib/python3.9/site-packages/geomagindices/base.py:37: FutureWarning: Passing method to DatetimeIndex.get_loc is deprecated and will raise in a future version. Use index.get_indexer([item], method=...) instead.\n",
      "  i = [dat.index.get_loc(t, method=\"nearest\") for t in dtime]\n",
      "/home/jmcle/anaconda3/lib/python3.9/site-packages/geomagindices/base.py:37: FutureWarning: Passing method to DatetimeIndex.get_loc is deprecated and will raise in a future version. Use index.get_indexer([item], method=...) instead.\n",
      "  i = [dat.index.get_loc(t, method=\"nearest\") for t in dtime]\n"
     ]
    },
    {
     "name": "stdout",
     "output_type": "stream",
     "text": [
      "Slice: 676. Convergence reached. Iterations: 612. reduced chi2: 1.27\n"
     ]
    },
    {
     "name": "stderr",
     "output_type": "stream",
     "text": [
      "/home/jmcle/anaconda3/lib/python3.9/site-packages/geomagindices/base.py:37: FutureWarning: Passing method to DatetimeIndex.get_loc is deprecated and will raise in a future version. Use index.get_indexer([item], method=...) instead.\n",
      "  i = [dat.index.get_loc(t, method=\"nearest\") for t in dtime]\n",
      "/home/jmcle/anaconda3/lib/python3.9/site-packages/geomagindices/base.py:37: FutureWarning: Passing method to DatetimeIndex.get_loc is deprecated and will raise in a future version. Use index.get_indexer([item], method=...) instead.\n",
      "  i = [dat.index.get_loc(t, method=\"nearest\") for t in dtime]\n"
     ]
    },
    {
     "name": "stdout",
     "output_type": "stream",
     "text": [
      "Slice: 677. Convergence reached. Iterations: 352. reduced chi2: 1.21\n"
     ]
    },
    {
     "name": "stderr",
     "output_type": "stream",
     "text": [
      "/home/jmcle/anaconda3/lib/python3.9/site-packages/geomagindices/base.py:37: FutureWarning: Passing method to DatetimeIndex.get_loc is deprecated and will raise in a future version. Use index.get_indexer([item], method=...) instead.\n",
      "  i = [dat.index.get_loc(t, method=\"nearest\") for t in dtime]\n",
      "/home/jmcle/anaconda3/lib/python3.9/site-packages/geomagindices/base.py:37: FutureWarning: Passing method to DatetimeIndex.get_loc is deprecated and will raise in a future version. Use index.get_indexer([item], method=...) instead.\n",
      "  i = [dat.index.get_loc(t, method=\"nearest\") for t in dtime]\n"
     ]
    },
    {
     "name": "stdout",
     "output_type": "stream",
     "text": [
      "Slice: 678. Convergence reached. Iterations: 693. reduced chi2: 1.72\n"
     ]
    },
    {
     "name": "stderr",
     "output_type": "stream",
     "text": [
      "/home/jmcle/anaconda3/lib/python3.9/site-packages/geomagindices/base.py:37: FutureWarning: Passing method to DatetimeIndex.get_loc is deprecated and will raise in a future version. Use index.get_indexer([item], method=...) instead.\n",
      "  i = [dat.index.get_loc(t, method=\"nearest\") for t in dtime]\n",
      "/home/jmcle/anaconda3/lib/python3.9/site-packages/geomagindices/base.py:37: FutureWarning: Passing method to DatetimeIndex.get_loc is deprecated and will raise in a future version. Use index.get_indexer([item], method=...) instead.\n",
      "  i = [dat.index.get_loc(t, method=\"nearest\") for t in dtime]\n"
     ]
    },
    {
     "name": "stdout",
     "output_type": "stream",
     "text": [
      "Slice: 679. Convergence reached. Iterations: 506. reduced chi2: 1.45\n"
     ]
    },
    {
     "name": "stderr",
     "output_type": "stream",
     "text": [
      "/home/jmcle/anaconda3/lib/python3.9/site-packages/geomagindices/base.py:37: FutureWarning: Passing method to DatetimeIndex.get_loc is deprecated and will raise in a future version. Use index.get_indexer([item], method=...) instead.\n",
      "  i = [dat.index.get_loc(t, method=\"nearest\") for t in dtime]\n",
      "/home/jmcle/anaconda3/lib/python3.9/site-packages/geomagindices/base.py:37: FutureWarning: Passing method to DatetimeIndex.get_loc is deprecated and will raise in a future version. Use index.get_indexer([item], method=...) instead.\n",
      "  i = [dat.index.get_loc(t, method=\"nearest\") for t in dtime]\n"
     ]
    },
    {
     "name": "stdout",
     "output_type": "stream",
     "text": [
      "Slice: 680. Convergence reached. Iterations: 590. reduced chi2: 1.63\n"
     ]
    },
    {
     "name": "stderr",
     "output_type": "stream",
     "text": [
      "/home/jmcle/anaconda3/lib/python3.9/site-packages/geomagindices/base.py:37: FutureWarning: Passing method to DatetimeIndex.get_loc is deprecated and will raise in a future version. Use index.get_indexer([item], method=...) instead.\n",
      "  i = [dat.index.get_loc(t, method=\"nearest\") for t in dtime]\n",
      "/home/jmcle/anaconda3/lib/python3.9/site-packages/geomagindices/base.py:37: FutureWarning: Passing method to DatetimeIndex.get_loc is deprecated and will raise in a future version. Use index.get_indexer([item], method=...) instead.\n",
      "  i = [dat.index.get_loc(t, method=\"nearest\") for t in dtime]\n"
     ]
    },
    {
     "name": "stdout",
     "output_type": "stream",
     "text": [
      "Slice: 681. Convergence reached. Iterations: 656. reduced chi2: 1.81\n"
     ]
    },
    {
     "name": "stderr",
     "output_type": "stream",
     "text": [
      "/home/jmcle/anaconda3/lib/python3.9/site-packages/geomagindices/base.py:37: FutureWarning: Passing method to DatetimeIndex.get_loc is deprecated and will raise in a future version. Use index.get_indexer([item], method=...) instead.\n",
      "  i = [dat.index.get_loc(t, method=\"nearest\") for t in dtime]\n",
      "/home/jmcle/anaconda3/lib/python3.9/site-packages/geomagindices/base.py:37: FutureWarning: Passing method to DatetimeIndex.get_loc is deprecated and will raise in a future version. Use index.get_indexer([item], method=...) instead.\n",
      "  i = [dat.index.get_loc(t, method=\"nearest\") for t in dtime]\n"
     ]
    },
    {
     "name": "stdout",
     "output_type": "stream",
     "text": [
      "Slice: 682. Convergence reached. Iterations: 526. reduced chi2: 1.32\n"
     ]
    },
    {
     "name": "stderr",
     "output_type": "stream",
     "text": [
      "/home/jmcle/anaconda3/lib/python3.9/site-packages/geomagindices/base.py:37: FutureWarning: Passing method to DatetimeIndex.get_loc is deprecated and will raise in a future version. Use index.get_indexer([item], method=...) instead.\n",
      "  i = [dat.index.get_loc(t, method=\"nearest\") for t in dtime]\n",
      "/home/jmcle/anaconda3/lib/python3.9/site-packages/geomagindices/base.py:37: FutureWarning: Passing method to DatetimeIndex.get_loc is deprecated and will raise in a future version. Use index.get_indexer([item], method=...) instead.\n",
      "  i = [dat.index.get_loc(t, method=\"nearest\") for t in dtime]\n"
     ]
    },
    {
     "name": "stdout",
     "output_type": "stream",
     "text": [
      "Slice: 683. Convergence reached. Iterations: 477. reduced chi2: 1.55\n"
     ]
    },
    {
     "name": "stderr",
     "output_type": "stream",
     "text": [
      "/home/jmcle/anaconda3/lib/python3.9/site-packages/geomagindices/base.py:37: FutureWarning: Passing method to DatetimeIndex.get_loc is deprecated and will raise in a future version. Use index.get_indexer([item], method=...) instead.\n",
      "  i = [dat.index.get_loc(t, method=\"nearest\") for t in dtime]\n",
      "/home/jmcle/anaconda3/lib/python3.9/site-packages/geomagindices/base.py:37: FutureWarning: Passing method to DatetimeIndex.get_loc is deprecated and will raise in a future version. Use index.get_indexer([item], method=...) instead.\n",
      "  i = [dat.index.get_loc(t, method=\"nearest\") for t in dtime]\n"
     ]
    },
    {
     "name": "stdout",
     "output_type": "stream",
     "text": [
      "Slice: 684. Convergence reached. Iterations: 424. reduced chi2: 1.27\n"
     ]
    },
    {
     "name": "stderr",
     "output_type": "stream",
     "text": [
      "/home/jmcle/anaconda3/lib/python3.9/site-packages/geomagindices/base.py:37: FutureWarning: Passing method to DatetimeIndex.get_loc is deprecated and will raise in a future version. Use index.get_indexer([item], method=...) instead.\n",
      "  i = [dat.index.get_loc(t, method=\"nearest\") for t in dtime]\n",
      "/home/jmcle/anaconda3/lib/python3.9/site-packages/geomagindices/base.py:37: FutureWarning: Passing method to DatetimeIndex.get_loc is deprecated and will raise in a future version. Use index.get_indexer([item], method=...) instead.\n",
      "  i = [dat.index.get_loc(t, method=\"nearest\") for t in dtime]\n"
     ]
    },
    {
     "name": "stdout",
     "output_type": "stream",
     "text": [
      "Slice: 685. Convergence reached. Iterations: 605. reduced chi2: 0.9\n"
     ]
    },
    {
     "name": "stderr",
     "output_type": "stream",
     "text": [
      "/home/jmcle/anaconda3/lib/python3.9/site-packages/geomagindices/base.py:37: FutureWarning: Passing method to DatetimeIndex.get_loc is deprecated and will raise in a future version. Use index.get_indexer([item], method=...) instead.\n",
      "  i = [dat.index.get_loc(t, method=\"nearest\") for t in dtime]\n",
      "/home/jmcle/anaconda3/lib/python3.9/site-packages/geomagindices/base.py:37: FutureWarning: Passing method to DatetimeIndex.get_loc is deprecated and will raise in a future version. Use index.get_indexer([item], method=...) instead.\n",
      "  i = [dat.index.get_loc(t, method=\"nearest\") for t in dtime]\n"
     ]
    },
    {
     "name": "stdout",
     "output_type": "stream",
     "text": [
      "Slice: 686. Convergence reached. Iterations: 580. reduced chi2: 1.44\n"
     ]
    },
    {
     "name": "stderr",
     "output_type": "stream",
     "text": [
      "/home/jmcle/anaconda3/lib/python3.9/site-packages/geomagindices/base.py:37: FutureWarning: Passing method to DatetimeIndex.get_loc is deprecated and will raise in a future version. Use index.get_indexer([item], method=...) instead.\n",
      "  i = [dat.index.get_loc(t, method=\"nearest\") for t in dtime]\n",
      "/home/jmcle/anaconda3/lib/python3.9/site-packages/geomagindices/base.py:37: FutureWarning: Passing method to DatetimeIndex.get_loc is deprecated and will raise in a future version. Use index.get_indexer([item], method=...) instead.\n",
      "  i = [dat.index.get_loc(t, method=\"nearest\") for t in dtime]\n"
     ]
    },
    {
     "name": "stdout",
     "output_type": "stream",
     "text": [
      "Slice: 687. Convergence reached. Iterations: 886. reduced chi2: 1.5\n"
     ]
    },
    {
     "name": "stderr",
     "output_type": "stream",
     "text": [
      "/home/jmcle/anaconda3/lib/python3.9/site-packages/geomagindices/base.py:37: FutureWarning: Passing method to DatetimeIndex.get_loc is deprecated and will raise in a future version. Use index.get_indexer([item], method=...) instead.\n",
      "  i = [dat.index.get_loc(t, method=\"nearest\") for t in dtime]\n",
      "/home/jmcle/anaconda3/lib/python3.9/site-packages/geomagindices/base.py:37: FutureWarning: Passing method to DatetimeIndex.get_loc is deprecated and will raise in a future version. Use index.get_indexer([item], method=...) instead.\n",
      "  i = [dat.index.get_loc(t, method=\"nearest\") for t in dtime]\n"
     ]
    },
    {
     "name": "stdout",
     "output_type": "stream",
     "text": [
      "Slice: 688. Convergence reached. Iterations: 540. reduced chi2: 1.9\n"
     ]
    },
    {
     "name": "stderr",
     "output_type": "stream",
     "text": [
      "/home/jmcle/anaconda3/lib/python3.9/site-packages/geomagindices/base.py:37: FutureWarning: Passing method to DatetimeIndex.get_loc is deprecated and will raise in a future version. Use index.get_indexer([item], method=...) instead.\n",
      "  i = [dat.index.get_loc(t, method=\"nearest\") for t in dtime]\n",
      "/home/jmcle/anaconda3/lib/python3.9/site-packages/geomagindices/base.py:37: FutureWarning: Passing method to DatetimeIndex.get_loc is deprecated and will raise in a future version. Use index.get_indexer([item], method=...) instead.\n",
      "  i = [dat.index.get_loc(t, method=\"nearest\") for t in dtime]\n"
     ]
    },
    {
     "name": "stdout",
     "output_type": "stream",
     "text": [
      "Slice: 689. Convergence reached. Iterations: 405. reduced chi2: 1.6\n"
     ]
    },
    {
     "name": "stderr",
     "output_type": "stream",
     "text": [
      "/home/jmcle/anaconda3/lib/python3.9/site-packages/geomagindices/base.py:37: FutureWarning: Passing method to DatetimeIndex.get_loc is deprecated and will raise in a future version. Use index.get_indexer([item], method=...) instead.\n",
      "  i = [dat.index.get_loc(t, method=\"nearest\") for t in dtime]\n",
      "/home/jmcle/anaconda3/lib/python3.9/site-packages/geomagindices/base.py:37: FutureWarning: Passing method to DatetimeIndex.get_loc is deprecated and will raise in a future version. Use index.get_indexer([item], method=...) instead.\n",
      "  i = [dat.index.get_loc(t, method=\"nearest\") for t in dtime]\n"
     ]
    },
    {
     "name": "stdout",
     "output_type": "stream",
     "text": [
      "Slice: 690. Convergence reached. Iterations: 933. reduced chi2: 1.33\n"
     ]
    },
    {
     "name": "stderr",
     "output_type": "stream",
     "text": [
      "/home/jmcle/anaconda3/lib/python3.9/site-packages/geomagindices/base.py:37: FutureWarning: Passing method to DatetimeIndex.get_loc is deprecated and will raise in a future version. Use index.get_indexer([item], method=...) instead.\n",
      "  i = [dat.index.get_loc(t, method=\"nearest\") for t in dtime]\n",
      "/home/jmcle/anaconda3/lib/python3.9/site-packages/geomagindices/base.py:37: FutureWarning: Passing method to DatetimeIndex.get_loc is deprecated and will raise in a future version. Use index.get_indexer([item], method=...) instead.\n",
      "  i = [dat.index.get_loc(t, method=\"nearest\") for t in dtime]\n"
     ]
    },
    {
     "name": "stdout",
     "output_type": "stream",
     "text": [
      "Slice: 691. Convergence reached. Iterations: 607. reduced chi2: 1.91\n"
     ]
    },
    {
     "name": "stderr",
     "output_type": "stream",
     "text": [
      "/home/jmcle/anaconda3/lib/python3.9/site-packages/geomagindices/base.py:37: FutureWarning: Passing method to DatetimeIndex.get_loc is deprecated and will raise in a future version. Use index.get_indexer([item], method=...) instead.\n",
      "  i = [dat.index.get_loc(t, method=\"nearest\") for t in dtime]\n",
      "/home/jmcle/anaconda3/lib/python3.9/site-packages/geomagindices/base.py:37: FutureWarning: Passing method to DatetimeIndex.get_loc is deprecated and will raise in a future version. Use index.get_indexer([item], method=...) instead.\n",
      "  i = [dat.index.get_loc(t, method=\"nearest\") for t in dtime]\n"
     ]
    },
    {
     "name": "stdout",
     "output_type": "stream",
     "text": [
      "Slice: 692. Convergence reached. Iterations: 354. reduced chi2: 1.14\n"
     ]
    },
    {
     "name": "stderr",
     "output_type": "stream",
     "text": [
      "/home/jmcle/anaconda3/lib/python3.9/site-packages/geomagindices/base.py:37: FutureWarning: Passing method to DatetimeIndex.get_loc is deprecated and will raise in a future version. Use index.get_indexer([item], method=...) instead.\n",
      "  i = [dat.index.get_loc(t, method=\"nearest\") for t in dtime]\n",
      "/home/jmcle/anaconda3/lib/python3.9/site-packages/geomagindices/base.py:37: FutureWarning: Passing method to DatetimeIndex.get_loc is deprecated and will raise in a future version. Use index.get_indexer([item], method=...) instead.\n",
      "  i = [dat.index.get_loc(t, method=\"nearest\") for t in dtime]\n"
     ]
    },
    {
     "name": "stdout",
     "output_type": "stream",
     "text": [
      "Slice: 693. Convergence reached. Iterations: 362. reduced chi2: 1.18\n"
     ]
    },
    {
     "name": "stderr",
     "output_type": "stream",
     "text": [
      "/home/jmcle/anaconda3/lib/python3.9/site-packages/geomagindices/base.py:37: FutureWarning: Passing method to DatetimeIndex.get_loc is deprecated and will raise in a future version. Use index.get_indexer([item], method=...) instead.\n",
      "  i = [dat.index.get_loc(t, method=\"nearest\") for t in dtime]\n",
      "/home/jmcle/anaconda3/lib/python3.9/site-packages/geomagindices/base.py:37: FutureWarning: Passing method to DatetimeIndex.get_loc is deprecated and will raise in a future version. Use index.get_indexer([item], method=...) instead.\n",
      "  i = [dat.index.get_loc(t, method=\"nearest\") for t in dtime]\n"
     ]
    },
    {
     "name": "stdout",
     "output_type": "stream",
     "text": [
      "Slice: 694. Convergence reached. Iterations: 651. reduced chi2: 1.56\n"
     ]
    },
    {
     "name": "stderr",
     "output_type": "stream",
     "text": [
      "/home/jmcle/anaconda3/lib/python3.9/site-packages/geomagindices/base.py:37: FutureWarning: Passing method to DatetimeIndex.get_loc is deprecated and will raise in a future version. Use index.get_indexer([item], method=...) instead.\n",
      "  i = [dat.index.get_loc(t, method=\"nearest\") for t in dtime]\n",
      "/home/jmcle/anaconda3/lib/python3.9/site-packages/geomagindices/base.py:37: FutureWarning: Passing method to DatetimeIndex.get_loc is deprecated and will raise in a future version. Use index.get_indexer([item], method=...) instead.\n",
      "  i = [dat.index.get_loc(t, method=\"nearest\") for t in dtime]\n"
     ]
    },
    {
     "name": "stdout",
     "output_type": "stream",
     "text": [
      "Slice: 695. Convergence reached. Iterations: 303. reduced chi2: 1.3\n"
     ]
    },
    {
     "name": "stderr",
     "output_type": "stream",
     "text": [
      "/home/jmcle/anaconda3/lib/python3.9/site-packages/geomagindices/base.py:37: FutureWarning: Passing method to DatetimeIndex.get_loc is deprecated and will raise in a future version. Use index.get_indexer([item], method=...) instead.\n",
      "  i = [dat.index.get_loc(t, method=\"nearest\") for t in dtime]\n",
      "/home/jmcle/anaconda3/lib/python3.9/site-packages/geomagindices/base.py:37: FutureWarning: Passing method to DatetimeIndex.get_loc is deprecated and will raise in a future version. Use index.get_indexer([item], method=...) instead.\n",
      "  i = [dat.index.get_loc(t, method=\"nearest\") for t in dtime]\n"
     ]
    },
    {
     "name": "stdout",
     "output_type": "stream",
     "text": [
      "Slice: 696. Convergence reached. Iterations: 330. reduced chi2: 1.4\n"
     ]
    },
    {
     "name": "stderr",
     "output_type": "stream",
     "text": [
      "/home/jmcle/anaconda3/lib/python3.9/site-packages/geomagindices/base.py:37: FutureWarning: Passing method to DatetimeIndex.get_loc is deprecated and will raise in a future version. Use index.get_indexer([item], method=...) instead.\n",
      "  i = [dat.index.get_loc(t, method=\"nearest\") for t in dtime]\n",
      "/home/jmcle/anaconda3/lib/python3.9/site-packages/geomagindices/base.py:37: FutureWarning: Passing method to DatetimeIndex.get_loc is deprecated and will raise in a future version. Use index.get_indexer([item], method=...) instead.\n",
      "  i = [dat.index.get_loc(t, method=\"nearest\") for t in dtime]\n"
     ]
    },
    {
     "name": "stdout",
     "output_type": "stream",
     "text": [
      "Slice: 697. Convergence reached. Iterations: 663. reduced chi2: 1.27\n"
     ]
    },
    {
     "name": "stderr",
     "output_type": "stream",
     "text": [
      "/home/jmcle/anaconda3/lib/python3.9/site-packages/geomagindices/base.py:37: FutureWarning: Passing method to DatetimeIndex.get_loc is deprecated and will raise in a future version. Use index.get_indexer([item], method=...) instead.\n",
      "  i = [dat.index.get_loc(t, method=\"nearest\") for t in dtime]\n",
      "/home/jmcle/anaconda3/lib/python3.9/site-packages/geomagindices/base.py:37: FutureWarning: Passing method to DatetimeIndex.get_loc is deprecated and will raise in a future version. Use index.get_indexer([item], method=...) instead.\n",
      "  i = [dat.index.get_loc(t, method=\"nearest\") for t in dtime]\n"
     ]
    },
    {
     "name": "stdout",
     "output_type": "stream",
     "text": [
      "Slice: 698. Convergence reached. Iterations: 736. reduced chi2: 1.29\n"
     ]
    },
    {
     "name": "stderr",
     "output_type": "stream",
     "text": [
      "/home/jmcle/anaconda3/lib/python3.9/site-packages/geomagindices/base.py:37: FutureWarning: Passing method to DatetimeIndex.get_loc is deprecated and will raise in a future version. Use index.get_indexer([item], method=...) instead.\n",
      "  i = [dat.index.get_loc(t, method=\"nearest\") for t in dtime]\n",
      "/home/jmcle/anaconda3/lib/python3.9/site-packages/geomagindices/base.py:37: FutureWarning: Passing method to DatetimeIndex.get_loc is deprecated and will raise in a future version. Use index.get_indexer([item], method=...) instead.\n",
      "  i = [dat.index.get_loc(t, method=\"nearest\") for t in dtime]\n"
     ]
    },
    {
     "name": "stdout",
     "output_type": "stream",
     "text": [
      "Slice: 699. Convergence reached. Iterations: 527. reduced chi2: 1.78\n"
     ]
    },
    {
     "name": "stderr",
     "output_type": "stream",
     "text": [
      "/home/jmcle/anaconda3/lib/python3.9/site-packages/geomagindices/base.py:37: FutureWarning: Passing method to DatetimeIndex.get_loc is deprecated and will raise in a future version. Use index.get_indexer([item], method=...) instead.\n",
      "  i = [dat.index.get_loc(t, method=\"nearest\") for t in dtime]\n",
      "/home/jmcle/anaconda3/lib/python3.9/site-packages/geomagindices/base.py:37: FutureWarning: Passing method to DatetimeIndex.get_loc is deprecated and will raise in a future version. Use index.get_indexer([item], method=...) instead.\n",
      "  i = [dat.index.get_loc(t, method=\"nearest\") for t in dtime]\n"
     ]
    },
    {
     "name": "stdout",
     "output_type": "stream",
     "text": [
      "Slice: 700. Convergence reached. Iterations: 635. reduced chi2: 2.0\n"
     ]
    },
    {
     "name": "stderr",
     "output_type": "stream",
     "text": [
      "/home/jmcle/anaconda3/lib/python3.9/site-packages/geomagindices/base.py:37: FutureWarning: Passing method to DatetimeIndex.get_loc is deprecated and will raise in a future version. Use index.get_indexer([item], method=...) instead.\n",
      "  i = [dat.index.get_loc(t, method=\"nearest\") for t in dtime]\n",
      "/home/jmcle/anaconda3/lib/python3.9/site-packages/geomagindices/base.py:37: FutureWarning: Passing method to DatetimeIndex.get_loc is deprecated and will raise in a future version. Use index.get_indexer([item], method=...) instead.\n",
      "  i = [dat.index.get_loc(t, method=\"nearest\") for t in dtime]\n"
     ]
    },
    {
     "name": "stdout",
     "output_type": "stream",
     "text": [
      "Slice: 701. Convergence reached. Iterations: 734. reduced chi2: 1.86\n"
     ]
    },
    {
     "name": "stderr",
     "output_type": "stream",
     "text": [
      "/home/jmcle/anaconda3/lib/python3.9/site-packages/geomagindices/base.py:37: FutureWarning: Passing method to DatetimeIndex.get_loc is deprecated and will raise in a future version. Use index.get_indexer([item], method=...) instead.\n",
      "  i = [dat.index.get_loc(t, method=\"nearest\") for t in dtime]\n",
      "/home/jmcle/anaconda3/lib/python3.9/site-packages/geomagindices/base.py:37: FutureWarning: Passing method to DatetimeIndex.get_loc is deprecated and will raise in a future version. Use index.get_indexer([item], method=...) instead.\n",
      "  i = [dat.index.get_loc(t, method=\"nearest\") for t in dtime]\n"
     ]
    },
    {
     "name": "stdout",
     "output_type": "stream",
     "text": [
      "Slice: 702. Convergence reached. Iterations: 627. reduced chi2: 1.27\n"
     ]
    },
    {
     "name": "stderr",
     "output_type": "stream",
     "text": [
      "/home/jmcle/anaconda3/lib/python3.9/site-packages/geomagindices/base.py:37: FutureWarning: Passing method to DatetimeIndex.get_loc is deprecated and will raise in a future version. Use index.get_indexer([item], method=...) instead.\n",
      "  i = [dat.index.get_loc(t, method=\"nearest\") for t in dtime]\n",
      "/home/jmcle/anaconda3/lib/python3.9/site-packages/geomagindices/base.py:37: FutureWarning: Passing method to DatetimeIndex.get_loc is deprecated and will raise in a future version. Use index.get_indexer([item], method=...) instead.\n",
      "  i = [dat.index.get_loc(t, method=\"nearest\") for t in dtime]\n"
     ]
    },
    {
     "name": "stdout",
     "output_type": "stream",
     "text": [
      "Slice: 703. Convergence reached. Iterations: 483. reduced chi2: 1.12\n"
     ]
    },
    {
     "name": "stderr",
     "output_type": "stream",
     "text": [
      "/home/jmcle/anaconda3/lib/python3.9/site-packages/geomagindices/base.py:37: FutureWarning: Passing method to DatetimeIndex.get_loc is deprecated and will raise in a future version. Use index.get_indexer([item], method=...) instead.\n",
      "  i = [dat.index.get_loc(t, method=\"nearest\") for t in dtime]\n",
      "/home/jmcle/anaconda3/lib/python3.9/site-packages/geomagindices/base.py:37: FutureWarning: Passing method to DatetimeIndex.get_loc is deprecated and will raise in a future version. Use index.get_indexer([item], method=...) instead.\n",
      "  i = [dat.index.get_loc(t, method=\"nearest\") for t in dtime]\n"
     ]
    },
    {
     "name": "stdout",
     "output_type": "stream",
     "text": [
      "Slice: 704. Convergence reached. Iterations: 643. reduced chi2: 1.22\n"
     ]
    },
    {
     "name": "stderr",
     "output_type": "stream",
     "text": [
      "/home/jmcle/anaconda3/lib/python3.9/site-packages/geomagindices/base.py:37: FutureWarning: Passing method to DatetimeIndex.get_loc is deprecated and will raise in a future version. Use index.get_indexer([item], method=...) instead.\n",
      "  i = [dat.index.get_loc(t, method=\"nearest\") for t in dtime]\n",
      "/home/jmcle/anaconda3/lib/python3.9/site-packages/geomagindices/base.py:37: FutureWarning: Passing method to DatetimeIndex.get_loc is deprecated and will raise in a future version. Use index.get_indexer([item], method=...) instead.\n",
      "  i = [dat.index.get_loc(t, method=\"nearest\") for t in dtime]\n"
     ]
    },
    {
     "name": "stdout",
     "output_type": "stream",
     "text": [
      "Slice: 705. Convergence reached. Iterations: 541. reduced chi2: 1.24\n"
     ]
    },
    {
     "name": "stderr",
     "output_type": "stream",
     "text": [
      "/home/jmcle/anaconda3/lib/python3.9/site-packages/geomagindices/base.py:37: FutureWarning: Passing method to DatetimeIndex.get_loc is deprecated and will raise in a future version. Use index.get_indexer([item], method=...) instead.\n",
      "  i = [dat.index.get_loc(t, method=\"nearest\") for t in dtime]\n",
      "/home/jmcle/anaconda3/lib/python3.9/site-packages/geomagindices/base.py:37: FutureWarning: Passing method to DatetimeIndex.get_loc is deprecated and will raise in a future version. Use index.get_indexer([item], method=...) instead.\n",
      "  i = [dat.index.get_loc(t, method=\"nearest\") for t in dtime]\n"
     ]
    },
    {
     "name": "stdout",
     "output_type": "stream",
     "text": [
      "Slice: 706. Convergence reached. Iterations: 307. reduced chi2: 1.08\n"
     ]
    },
    {
     "name": "stderr",
     "output_type": "stream",
     "text": [
      "/home/jmcle/anaconda3/lib/python3.9/site-packages/geomagindices/base.py:37: FutureWarning: Passing method to DatetimeIndex.get_loc is deprecated and will raise in a future version. Use index.get_indexer([item], method=...) instead.\n",
      "  i = [dat.index.get_loc(t, method=\"nearest\") for t in dtime]\n",
      "/home/jmcle/anaconda3/lib/python3.9/site-packages/geomagindices/base.py:37: FutureWarning: Passing method to DatetimeIndex.get_loc is deprecated and will raise in a future version. Use index.get_indexer([item], method=...) instead.\n",
      "  i = [dat.index.get_loc(t, method=\"nearest\") for t in dtime]\n"
     ]
    },
    {
     "name": "stdout",
     "output_type": "stream",
     "text": [
      "Slice: 707. Convergence reached. Iterations: 365. reduced chi2: 1.33\n"
     ]
    },
    {
     "name": "stderr",
     "output_type": "stream",
     "text": [
      "/home/jmcle/anaconda3/lib/python3.9/site-packages/geomagindices/base.py:37: FutureWarning: Passing method to DatetimeIndex.get_loc is deprecated and will raise in a future version. Use index.get_indexer([item], method=...) instead.\n",
      "  i = [dat.index.get_loc(t, method=\"nearest\") for t in dtime]\n",
      "/home/jmcle/anaconda3/lib/python3.9/site-packages/geomagindices/base.py:37: FutureWarning: Passing method to DatetimeIndex.get_loc is deprecated and will raise in a future version. Use index.get_indexer([item], method=...) instead.\n",
      "  i = [dat.index.get_loc(t, method=\"nearest\") for t in dtime]\n"
     ]
    },
    {
     "name": "stdout",
     "output_type": "stream",
     "text": [
      "Slice: 708. Convergence reached. Iterations: 326. reduced chi2: 1.3\n"
     ]
    },
    {
     "name": "stderr",
     "output_type": "stream",
     "text": [
      "/home/jmcle/anaconda3/lib/python3.9/site-packages/geomagindices/base.py:37: FutureWarning: Passing method to DatetimeIndex.get_loc is deprecated and will raise in a future version. Use index.get_indexer([item], method=...) instead.\n",
      "  i = [dat.index.get_loc(t, method=\"nearest\") for t in dtime]\n",
      "/home/jmcle/anaconda3/lib/python3.9/site-packages/geomagindices/base.py:37: FutureWarning: Passing method to DatetimeIndex.get_loc is deprecated and will raise in a future version. Use index.get_indexer([item], method=...) instead.\n",
      "  i = [dat.index.get_loc(t, method=\"nearest\") for t in dtime]\n"
     ]
    },
    {
     "name": "stdout",
     "output_type": "stream",
     "text": [
      "Slice: 709. Convergence reached. Iterations: 548. reduced chi2: 2.22\n"
     ]
    },
    {
     "name": "stderr",
     "output_type": "stream",
     "text": [
      "/home/jmcle/anaconda3/lib/python3.9/site-packages/geomagindices/base.py:37: FutureWarning: Passing method to DatetimeIndex.get_loc is deprecated and will raise in a future version. Use index.get_indexer([item], method=...) instead.\n",
      "  i = [dat.index.get_loc(t, method=\"nearest\") for t in dtime]\n",
      "/home/jmcle/anaconda3/lib/python3.9/site-packages/geomagindices/base.py:37: FutureWarning: Passing method to DatetimeIndex.get_loc is deprecated and will raise in a future version. Use index.get_indexer([item], method=...) instead.\n",
      "  i = [dat.index.get_loc(t, method=\"nearest\") for t in dtime]\n"
     ]
    },
    {
     "name": "stdout",
     "output_type": "stream",
     "text": [
      "Slice: 710. Convergence reached. Iterations: 831. reduced chi2: 1.55\n"
     ]
    },
    {
     "name": "stderr",
     "output_type": "stream",
     "text": [
      "/home/jmcle/anaconda3/lib/python3.9/site-packages/geomagindices/base.py:37: FutureWarning: Passing method to DatetimeIndex.get_loc is deprecated and will raise in a future version. Use index.get_indexer([item], method=...) instead.\n",
      "  i = [dat.index.get_loc(t, method=\"nearest\") for t in dtime]\n",
      "/home/jmcle/anaconda3/lib/python3.9/site-packages/geomagindices/base.py:37: FutureWarning: Passing method to DatetimeIndex.get_loc is deprecated and will raise in a future version. Use index.get_indexer([item], method=...) instead.\n",
      "  i = [dat.index.get_loc(t, method=\"nearest\") for t in dtime]\n"
     ]
    },
    {
     "name": "stdout",
     "output_type": "stream",
     "text": [
      "Slice: 711. Convergence reached. Iterations: 806. reduced chi2: 1.42\n"
     ]
    },
    {
     "name": "stderr",
     "output_type": "stream",
     "text": [
      "/home/jmcle/anaconda3/lib/python3.9/site-packages/geomagindices/base.py:37: FutureWarning: Passing method to DatetimeIndex.get_loc is deprecated and will raise in a future version. Use index.get_indexer([item], method=...) instead.\n",
      "  i = [dat.index.get_loc(t, method=\"nearest\") for t in dtime]\n",
      "/home/jmcle/anaconda3/lib/python3.9/site-packages/geomagindices/base.py:37: FutureWarning: Passing method to DatetimeIndex.get_loc is deprecated and will raise in a future version. Use index.get_indexer([item], method=...) instead.\n",
      "  i = [dat.index.get_loc(t, method=\"nearest\") for t in dtime]\n"
     ]
    },
    {
     "name": "stdout",
     "output_type": "stream",
     "text": [
      "Slice: 712. Convergence reached. Iterations: 696. reduced chi2: 1.38\n"
     ]
    },
    {
     "name": "stderr",
     "output_type": "stream",
     "text": [
      "/home/jmcle/anaconda3/lib/python3.9/site-packages/geomagindices/base.py:37: FutureWarning: Passing method to DatetimeIndex.get_loc is deprecated and will raise in a future version. Use index.get_indexer([item], method=...) instead.\n",
      "  i = [dat.index.get_loc(t, method=\"nearest\") for t in dtime]\n",
      "/home/jmcle/anaconda3/lib/python3.9/site-packages/geomagindices/base.py:37: FutureWarning: Passing method to DatetimeIndex.get_loc is deprecated and will raise in a future version. Use index.get_indexer([item], method=...) instead.\n",
      "  i = [dat.index.get_loc(t, method=\"nearest\") for t in dtime]\n"
     ]
    },
    {
     "name": "stdout",
     "output_type": "stream",
     "text": [
      "Slice: 713. Convergence reached. Iterations: 650. reduced chi2: 1.97\n"
     ]
    },
    {
     "name": "stderr",
     "output_type": "stream",
     "text": [
      "/home/jmcle/anaconda3/lib/python3.9/site-packages/geomagindices/base.py:37: FutureWarning: Passing method to DatetimeIndex.get_loc is deprecated and will raise in a future version. Use index.get_indexer([item], method=...) instead.\n",
      "  i = [dat.index.get_loc(t, method=\"nearest\") for t in dtime]\n",
      "/home/jmcle/anaconda3/lib/python3.9/site-packages/geomagindices/base.py:37: FutureWarning: Passing method to DatetimeIndex.get_loc is deprecated and will raise in a future version. Use index.get_indexer([item], method=...) instead.\n",
      "  i = [dat.index.get_loc(t, method=\"nearest\") for t in dtime]\n"
     ]
    },
    {
     "name": "stdout",
     "output_type": "stream",
     "text": [
      "Slice: 714. Convergence reached. Iterations: 606. reduced chi2: 1.51\n"
     ]
    },
    {
     "name": "stderr",
     "output_type": "stream",
     "text": [
      "/home/jmcle/anaconda3/lib/python3.9/site-packages/geomagindices/base.py:37: FutureWarning: Passing method to DatetimeIndex.get_loc is deprecated and will raise in a future version. Use index.get_indexer([item], method=...) instead.\n",
      "  i = [dat.index.get_loc(t, method=\"nearest\") for t in dtime]\n",
      "/home/jmcle/anaconda3/lib/python3.9/site-packages/geomagindices/base.py:37: FutureWarning: Passing method to DatetimeIndex.get_loc is deprecated and will raise in a future version. Use index.get_indexer([item], method=...) instead.\n",
      "  i = [dat.index.get_loc(t, method=\"nearest\") for t in dtime]\n"
     ]
    },
    {
     "name": "stdout",
     "output_type": "stream",
     "text": [
      "Slice: 715. Convergence reached. Iterations: 800. reduced chi2: 1.5\n"
     ]
    },
    {
     "name": "stderr",
     "output_type": "stream",
     "text": [
      "/home/jmcle/anaconda3/lib/python3.9/site-packages/geomagindices/base.py:37: FutureWarning: Passing method to DatetimeIndex.get_loc is deprecated and will raise in a future version. Use index.get_indexer([item], method=...) instead.\n",
      "  i = [dat.index.get_loc(t, method=\"nearest\") for t in dtime]\n",
      "/home/jmcle/anaconda3/lib/python3.9/site-packages/geomagindices/base.py:37: FutureWarning: Passing method to DatetimeIndex.get_loc is deprecated and will raise in a future version. Use index.get_indexer([item], method=...) instead.\n",
      "  i = [dat.index.get_loc(t, method=\"nearest\") for t in dtime]\n"
     ]
    },
    {
     "name": "stdout",
     "output_type": "stream",
     "text": [
      "Slice: 716. Convergence reached. Iterations: 890. reduced chi2: 1.24\n"
     ]
    },
    {
     "name": "stderr",
     "output_type": "stream",
     "text": [
      "/home/jmcle/anaconda3/lib/python3.9/site-packages/geomagindices/base.py:37: FutureWarning: Passing method to DatetimeIndex.get_loc is deprecated and will raise in a future version. Use index.get_indexer([item], method=...) instead.\n",
      "  i = [dat.index.get_loc(t, method=\"nearest\") for t in dtime]\n",
      "/home/jmcle/anaconda3/lib/python3.9/site-packages/geomagindices/base.py:37: FutureWarning: Passing method to DatetimeIndex.get_loc is deprecated and will raise in a future version. Use index.get_indexer([item], method=...) instead.\n",
      "  i = [dat.index.get_loc(t, method=\"nearest\") for t in dtime]\n"
     ]
    },
    {
     "name": "stdout",
     "output_type": "stream",
     "text": [
      "Slice: 717. Convergence reached. Iterations: 714. reduced chi2: 1.64\n"
     ]
    },
    {
     "name": "stderr",
     "output_type": "stream",
     "text": [
      "/home/jmcle/anaconda3/lib/python3.9/site-packages/geomagindices/base.py:37: FutureWarning: Passing method to DatetimeIndex.get_loc is deprecated and will raise in a future version. Use index.get_indexer([item], method=...) instead.\n",
      "  i = [dat.index.get_loc(t, method=\"nearest\") for t in dtime]\n",
      "/home/jmcle/anaconda3/lib/python3.9/site-packages/geomagindices/base.py:37: FutureWarning: Passing method to DatetimeIndex.get_loc is deprecated and will raise in a future version. Use index.get_indexer([item], method=...) instead.\n",
      "  i = [dat.index.get_loc(t, method=\"nearest\") for t in dtime]\n"
     ]
    },
    {
     "name": "stdout",
     "output_type": "stream",
     "text": [
      "Slice: 718. Convergence reached. Iterations: 743. reduced chi2: 0.93\n"
     ]
    },
    {
     "name": "stderr",
     "output_type": "stream",
     "text": [
      "/home/jmcle/anaconda3/lib/python3.9/site-packages/geomagindices/base.py:37: FutureWarning: Passing method to DatetimeIndex.get_loc is deprecated and will raise in a future version. Use index.get_indexer([item], method=...) instead.\n",
      "  i = [dat.index.get_loc(t, method=\"nearest\") for t in dtime]\n",
      "/home/jmcle/anaconda3/lib/python3.9/site-packages/geomagindices/base.py:37: FutureWarning: Passing method to DatetimeIndex.get_loc is deprecated and will raise in a future version. Use index.get_indexer([item], method=...) instead.\n",
      "  i = [dat.index.get_loc(t, method=\"nearest\") for t in dtime]\n"
     ]
    },
    {
     "name": "stdout",
     "output_type": "stream",
     "text": [
      "Slice: 719. Convergence reached. Iterations: 1001. reduced chi2: 3.24\n"
     ]
    },
    {
     "name": "stderr",
     "output_type": "stream",
     "text": [
      "/home/jmcle/anaconda3/lib/python3.9/site-packages/geomagindices/base.py:37: FutureWarning: Passing method to DatetimeIndex.get_loc is deprecated and will raise in a future version. Use index.get_indexer([item], method=...) instead.\n",
      "  i = [dat.index.get_loc(t, method=\"nearest\") for t in dtime]\n",
      "/home/jmcle/anaconda3/lib/python3.9/site-packages/geomagindices/base.py:37: FutureWarning: Passing method to DatetimeIndex.get_loc is deprecated and will raise in a future version. Use index.get_indexer([item], method=...) instead.\n",
      "  i = [dat.index.get_loc(t, method=\"nearest\") for t in dtime]\n"
     ]
    },
    {
     "name": "stdout",
     "output_type": "stream",
     "text": [
      "Slice: 720. Convergence reached. Iterations: 634. reduced chi2: 1.97\n"
     ]
    },
    {
     "name": "stderr",
     "output_type": "stream",
     "text": [
      "/home/jmcle/anaconda3/lib/python3.9/site-packages/geomagindices/base.py:37: FutureWarning: Passing method to DatetimeIndex.get_loc is deprecated and will raise in a future version. Use index.get_indexer([item], method=...) instead.\n",
      "  i = [dat.index.get_loc(t, method=\"nearest\") for t in dtime]\n",
      "/home/jmcle/anaconda3/lib/python3.9/site-packages/geomagindices/base.py:37: FutureWarning: Passing method to DatetimeIndex.get_loc is deprecated and will raise in a future version. Use index.get_indexer([item], method=...) instead.\n",
      "  i = [dat.index.get_loc(t, method=\"nearest\") for t in dtime]\n"
     ]
    },
    {
     "name": "stdout",
     "output_type": "stream",
     "text": [
      "Slice: 721. Convergence reached. Iterations: 488. reduced chi2: 1.45\n"
     ]
    },
    {
     "name": "stderr",
     "output_type": "stream",
     "text": [
      "/home/jmcle/anaconda3/lib/python3.9/site-packages/geomagindices/base.py:37: FutureWarning: Passing method to DatetimeIndex.get_loc is deprecated and will raise in a future version. Use index.get_indexer([item], method=...) instead.\n",
      "  i = [dat.index.get_loc(t, method=\"nearest\") for t in dtime]\n",
      "/home/jmcle/anaconda3/lib/python3.9/site-packages/geomagindices/base.py:37: FutureWarning: Passing method to DatetimeIndex.get_loc is deprecated and will raise in a future version. Use index.get_indexer([item], method=...) instead.\n",
      "  i = [dat.index.get_loc(t, method=\"nearest\") for t in dtime]\n"
     ]
    },
    {
     "name": "stdout",
     "output_type": "stream",
     "text": [
      "Slice: 722. Convergence reached. Iterations: 261. reduced chi2: 1.1\n"
     ]
    },
    {
     "name": "stderr",
     "output_type": "stream",
     "text": [
      "/home/jmcle/anaconda3/lib/python3.9/site-packages/geomagindices/base.py:37: FutureWarning: Passing method to DatetimeIndex.get_loc is deprecated and will raise in a future version. Use index.get_indexer([item], method=...) instead.\n",
      "  i = [dat.index.get_loc(t, method=\"nearest\") for t in dtime]\n",
      "/home/jmcle/anaconda3/lib/python3.9/site-packages/geomagindices/base.py:37: FutureWarning: Passing method to DatetimeIndex.get_loc is deprecated and will raise in a future version. Use index.get_indexer([item], method=...) instead.\n",
      "  i = [dat.index.get_loc(t, method=\"nearest\") for t in dtime]\n"
     ]
    },
    {
     "name": "stdout",
     "output_type": "stream",
     "text": [
      "Slice: 723. Convergence reached. Iterations: 480. reduced chi2: 1.51\n"
     ]
    },
    {
     "name": "stderr",
     "output_type": "stream",
     "text": [
      "/home/jmcle/anaconda3/lib/python3.9/site-packages/geomagindices/base.py:37: FutureWarning: Passing method to DatetimeIndex.get_loc is deprecated and will raise in a future version. Use index.get_indexer([item], method=...) instead.\n",
      "  i = [dat.index.get_loc(t, method=\"nearest\") for t in dtime]\n",
      "/home/jmcle/anaconda3/lib/python3.9/site-packages/geomagindices/base.py:37: FutureWarning: Passing method to DatetimeIndex.get_loc is deprecated and will raise in a future version. Use index.get_indexer([item], method=...) instead.\n",
      "  i = [dat.index.get_loc(t, method=\"nearest\") for t in dtime]\n"
     ]
    },
    {
     "name": "stdout",
     "output_type": "stream",
     "text": [
      "Slice: 724. Convergence reached. Iterations: 768. reduced chi2: 1.32\n"
     ]
    },
    {
     "name": "stderr",
     "output_type": "stream",
     "text": [
      "/home/jmcle/anaconda3/lib/python3.9/site-packages/geomagindices/base.py:37: FutureWarning: Passing method to DatetimeIndex.get_loc is deprecated and will raise in a future version. Use index.get_indexer([item], method=...) instead.\n",
      "  i = [dat.index.get_loc(t, method=\"nearest\") for t in dtime]\n",
      "/home/jmcle/anaconda3/lib/python3.9/site-packages/geomagindices/base.py:37: FutureWarning: Passing method to DatetimeIndex.get_loc is deprecated and will raise in a future version. Use index.get_indexer([item], method=...) instead.\n",
      "  i = [dat.index.get_loc(t, method=\"nearest\") for t in dtime]\n"
     ]
    },
    {
     "name": "stdout",
     "output_type": "stream",
     "text": [
      "Slice: 725. Convergence reached. Iterations: 377. reduced chi2: 0.93\n"
     ]
    },
    {
     "name": "stderr",
     "output_type": "stream",
     "text": [
      "/home/jmcle/anaconda3/lib/python3.9/site-packages/geomagindices/base.py:37: FutureWarning: Passing method to DatetimeIndex.get_loc is deprecated and will raise in a future version. Use index.get_indexer([item], method=...) instead.\n",
      "  i = [dat.index.get_loc(t, method=\"nearest\") for t in dtime]\n",
      "/home/jmcle/anaconda3/lib/python3.9/site-packages/geomagindices/base.py:37: FutureWarning: Passing method to DatetimeIndex.get_loc is deprecated and will raise in a future version. Use index.get_indexer([item], method=...) instead.\n",
      "  i = [dat.index.get_loc(t, method=\"nearest\") for t in dtime]\n"
     ]
    },
    {
     "name": "stdout",
     "output_type": "stream",
     "text": [
      "Slice: 726. Convergence reached. Iterations: 327. reduced chi2: 1.61\n"
     ]
    },
    {
     "name": "stderr",
     "output_type": "stream",
     "text": [
      "/home/jmcle/anaconda3/lib/python3.9/site-packages/geomagindices/base.py:37: FutureWarning: Passing method to DatetimeIndex.get_loc is deprecated and will raise in a future version. Use index.get_indexer([item], method=...) instead.\n",
      "  i = [dat.index.get_loc(t, method=\"nearest\") for t in dtime]\n",
      "/home/jmcle/anaconda3/lib/python3.9/site-packages/geomagindices/base.py:37: FutureWarning: Passing method to DatetimeIndex.get_loc is deprecated and will raise in a future version. Use index.get_indexer([item], method=...) instead.\n",
      "  i = [dat.index.get_loc(t, method=\"nearest\") for t in dtime]\n"
     ]
    },
    {
     "name": "stdout",
     "output_type": "stream",
     "text": [
      "Slice: 727. Convergence reached. Iterations: 592. reduced chi2: 1.3\n"
     ]
    },
    {
     "name": "stderr",
     "output_type": "stream",
     "text": [
      "/home/jmcle/anaconda3/lib/python3.9/site-packages/geomagindices/base.py:37: FutureWarning: Passing method to DatetimeIndex.get_loc is deprecated and will raise in a future version. Use index.get_indexer([item], method=...) instead.\n",
      "  i = [dat.index.get_loc(t, method=\"nearest\") for t in dtime]\n",
      "/home/jmcle/anaconda3/lib/python3.9/site-packages/geomagindices/base.py:37: FutureWarning: Passing method to DatetimeIndex.get_loc is deprecated and will raise in a future version. Use index.get_indexer([item], method=...) instead.\n",
      "  i = [dat.index.get_loc(t, method=\"nearest\") for t in dtime]\n"
     ]
    },
    {
     "name": "stdout",
     "output_type": "stream",
     "text": [
      "Slice: 728. Convergence reached. Iterations: 230. reduced chi2: 1.31\n"
     ]
    },
    {
     "name": "stderr",
     "output_type": "stream",
     "text": [
      "/home/jmcle/anaconda3/lib/python3.9/site-packages/geomagindices/base.py:37: FutureWarning: Passing method to DatetimeIndex.get_loc is deprecated and will raise in a future version. Use index.get_indexer([item], method=...) instead.\n",
      "  i = [dat.index.get_loc(t, method=\"nearest\") for t in dtime]\n",
      "/home/jmcle/anaconda3/lib/python3.9/site-packages/geomagindices/base.py:37: FutureWarning: Passing method to DatetimeIndex.get_loc is deprecated and will raise in a future version. Use index.get_indexer([item], method=...) instead.\n",
      "  i = [dat.index.get_loc(t, method=\"nearest\") for t in dtime]\n"
     ]
    },
    {
     "name": "stdout",
     "output_type": "stream",
     "text": [
      "Slice: 729. Convergence reached. Iterations: 319. reduced chi2: 1.63\n"
     ]
    },
    {
     "name": "stderr",
     "output_type": "stream",
     "text": [
      "/home/jmcle/anaconda3/lib/python3.9/site-packages/geomagindices/base.py:37: FutureWarning: Passing method to DatetimeIndex.get_loc is deprecated and will raise in a future version. Use index.get_indexer([item], method=...) instead.\n",
      "  i = [dat.index.get_loc(t, method=\"nearest\") for t in dtime]\n",
      "/home/jmcle/anaconda3/lib/python3.9/site-packages/geomagindices/base.py:37: FutureWarning: Passing method to DatetimeIndex.get_loc is deprecated and will raise in a future version. Use index.get_indexer([item], method=...) instead.\n",
      "  i = [dat.index.get_loc(t, method=\"nearest\") for t in dtime]\n"
     ]
    },
    {
     "name": "stdout",
     "output_type": "stream",
     "text": [
      "Slice: 730. Convergence reached. Iterations: 522. reduced chi2: 0.95\n"
     ]
    },
    {
     "name": "stderr",
     "output_type": "stream",
     "text": [
      "/home/jmcle/anaconda3/lib/python3.9/site-packages/geomagindices/base.py:37: FutureWarning: Passing method to DatetimeIndex.get_loc is deprecated and will raise in a future version. Use index.get_indexer([item], method=...) instead.\n",
      "  i = [dat.index.get_loc(t, method=\"nearest\") for t in dtime]\n",
      "/home/jmcle/anaconda3/lib/python3.9/site-packages/geomagindices/base.py:37: FutureWarning: Passing method to DatetimeIndex.get_loc is deprecated and will raise in a future version. Use index.get_indexer([item], method=...) instead.\n",
      "  i = [dat.index.get_loc(t, method=\"nearest\") for t in dtime]\n"
     ]
    },
    {
     "name": "stdout",
     "output_type": "stream",
     "text": [
      "Slice: 731. Convergence reached. Iterations: 333. reduced chi2: 1.46\n"
     ]
    },
    {
     "name": "stderr",
     "output_type": "stream",
     "text": [
      "/home/jmcle/anaconda3/lib/python3.9/site-packages/geomagindices/base.py:37: FutureWarning: Passing method to DatetimeIndex.get_loc is deprecated and will raise in a future version. Use index.get_indexer([item], method=...) instead.\n",
      "  i = [dat.index.get_loc(t, method=\"nearest\") for t in dtime]\n",
      "/home/jmcle/anaconda3/lib/python3.9/site-packages/geomagindices/base.py:37: FutureWarning: Passing method to DatetimeIndex.get_loc is deprecated and will raise in a future version. Use index.get_indexer([item], method=...) instead.\n",
      "  i = [dat.index.get_loc(t, method=\"nearest\") for t in dtime]\n"
     ]
    },
    {
     "name": "stdout",
     "output_type": "stream",
     "text": [
      "Slice: 732. Convergence reached. Iterations: 333. reduced chi2: 1.29\n"
     ]
    },
    {
     "name": "stderr",
     "output_type": "stream",
     "text": [
      "/home/jmcle/anaconda3/lib/python3.9/site-packages/geomagindices/base.py:37: FutureWarning: Passing method to DatetimeIndex.get_loc is deprecated and will raise in a future version. Use index.get_indexer([item], method=...) instead.\n",
      "  i = [dat.index.get_loc(t, method=\"nearest\") for t in dtime]\n",
      "/home/jmcle/anaconda3/lib/python3.9/site-packages/geomagindices/base.py:37: FutureWarning: Passing method to DatetimeIndex.get_loc is deprecated and will raise in a future version. Use index.get_indexer([item], method=...) instead.\n",
      "  i = [dat.index.get_loc(t, method=\"nearest\") for t in dtime]\n"
     ]
    },
    {
     "name": "stdout",
     "output_type": "stream",
     "text": [
      "Slice: 733. Convergence reached. Iterations: 1403. reduced chi2: 2.85\n"
     ]
    },
    {
     "name": "stderr",
     "output_type": "stream",
     "text": [
      "/home/jmcle/anaconda3/lib/python3.9/site-packages/geomagindices/base.py:37: FutureWarning: Passing method to DatetimeIndex.get_loc is deprecated and will raise in a future version. Use index.get_indexer([item], method=...) instead.\n",
      "  i = [dat.index.get_loc(t, method=\"nearest\") for t in dtime]\n",
      "/home/jmcle/anaconda3/lib/python3.9/site-packages/geomagindices/base.py:37: FutureWarning: Passing method to DatetimeIndex.get_loc is deprecated and will raise in a future version. Use index.get_indexer([item], method=...) instead.\n",
      "  i = [dat.index.get_loc(t, method=\"nearest\") for t in dtime]\n"
     ]
    },
    {
     "name": "stdout",
     "output_type": "stream",
     "text": [
      "Slice: 734. Convergence reached. Iterations: 1322. reduced chi2: 1.83\n"
     ]
    },
    {
     "name": "stderr",
     "output_type": "stream",
     "text": [
      "/home/jmcle/anaconda3/lib/python3.9/site-packages/geomagindices/base.py:37: FutureWarning: Passing method to DatetimeIndex.get_loc is deprecated and will raise in a future version. Use index.get_indexer([item], method=...) instead.\n",
      "  i = [dat.index.get_loc(t, method=\"nearest\") for t in dtime]\n",
      "/home/jmcle/anaconda3/lib/python3.9/site-packages/geomagindices/base.py:37: FutureWarning: Passing method to DatetimeIndex.get_loc is deprecated and will raise in a future version. Use index.get_indexer([item], method=...) instead.\n",
      "  i = [dat.index.get_loc(t, method=\"nearest\") for t in dtime]\n"
     ]
    },
    {
     "name": "stdout",
     "output_type": "stream",
     "text": [
      "Slice: 735. Convergence reached. Iterations: 603. reduced chi2: 1.06\n"
     ]
    },
    {
     "name": "stderr",
     "output_type": "stream",
     "text": [
      "/home/jmcle/anaconda3/lib/python3.9/site-packages/geomagindices/base.py:37: FutureWarning: Passing method to DatetimeIndex.get_loc is deprecated and will raise in a future version. Use index.get_indexer([item], method=...) instead.\n",
      "  i = [dat.index.get_loc(t, method=\"nearest\") for t in dtime]\n",
      "/home/jmcle/anaconda3/lib/python3.9/site-packages/geomagindices/base.py:37: FutureWarning: Passing method to DatetimeIndex.get_loc is deprecated and will raise in a future version. Use index.get_indexer([item], method=...) instead.\n",
      "  i = [dat.index.get_loc(t, method=\"nearest\") for t in dtime]\n"
     ]
    },
    {
     "name": "stdout",
     "output_type": "stream",
     "text": [
      "Slice: 736. Convergence reached. Iterations: 643. reduced chi2: 2.19\n"
     ]
    },
    {
     "name": "stderr",
     "output_type": "stream",
     "text": [
      "/home/jmcle/anaconda3/lib/python3.9/site-packages/geomagindices/base.py:37: FutureWarning: Passing method to DatetimeIndex.get_loc is deprecated and will raise in a future version. Use index.get_indexer([item], method=...) instead.\n",
      "  i = [dat.index.get_loc(t, method=\"nearest\") for t in dtime]\n",
      "/home/jmcle/anaconda3/lib/python3.9/site-packages/geomagindices/base.py:37: FutureWarning: Passing method to DatetimeIndex.get_loc is deprecated and will raise in a future version. Use index.get_indexer([item], method=...) instead.\n",
      "  i = [dat.index.get_loc(t, method=\"nearest\") for t in dtime]\n"
     ]
    },
    {
     "name": "stdout",
     "output_type": "stream",
     "text": [
      "Slice: 737. Convergence reached. Iterations: 564. reduced chi2: 1.54\n"
     ]
    },
    {
     "name": "stderr",
     "output_type": "stream",
     "text": [
      "/home/jmcle/anaconda3/lib/python3.9/site-packages/geomagindices/base.py:37: FutureWarning: Passing method to DatetimeIndex.get_loc is deprecated and will raise in a future version. Use index.get_indexer([item], method=...) instead.\n",
      "  i = [dat.index.get_loc(t, method=\"nearest\") for t in dtime]\n",
      "/home/jmcle/anaconda3/lib/python3.9/site-packages/geomagindices/base.py:37: FutureWarning: Passing method to DatetimeIndex.get_loc is deprecated and will raise in a future version. Use index.get_indexer([item], method=...) instead.\n",
      "  i = [dat.index.get_loc(t, method=\"nearest\") for t in dtime]\n"
     ]
    },
    {
     "name": "stdout",
     "output_type": "stream",
     "text": [
      "Slice: 738. Convergence reached. Iterations: 339. reduced chi2: 1.87\n"
     ]
    },
    {
     "name": "stderr",
     "output_type": "stream",
     "text": [
      "/home/jmcle/anaconda3/lib/python3.9/site-packages/geomagindices/base.py:37: FutureWarning: Passing method to DatetimeIndex.get_loc is deprecated and will raise in a future version. Use index.get_indexer([item], method=...) instead.\n",
      "  i = [dat.index.get_loc(t, method=\"nearest\") for t in dtime]\n",
      "/home/jmcle/anaconda3/lib/python3.9/site-packages/geomagindices/base.py:37: FutureWarning: Passing method to DatetimeIndex.get_loc is deprecated and will raise in a future version. Use index.get_indexer([item], method=...) instead.\n",
      "  i = [dat.index.get_loc(t, method=\"nearest\") for t in dtime]\n"
     ]
    },
    {
     "name": "stdout",
     "output_type": "stream",
     "text": [
      "Slice: 739. Convergence reached. Iterations: 1075. reduced chi2: 1.92\n"
     ]
    },
    {
     "name": "stderr",
     "output_type": "stream",
     "text": [
      "/home/jmcle/anaconda3/lib/python3.9/site-packages/geomagindices/base.py:37: FutureWarning: Passing method to DatetimeIndex.get_loc is deprecated and will raise in a future version. Use index.get_indexer([item], method=...) instead.\n",
      "  i = [dat.index.get_loc(t, method=\"nearest\") for t in dtime]\n",
      "/home/jmcle/anaconda3/lib/python3.9/site-packages/geomagindices/base.py:37: FutureWarning: Passing method to DatetimeIndex.get_loc is deprecated and will raise in a future version. Use index.get_indexer([item], method=...) instead.\n",
      "  i = [dat.index.get_loc(t, method=\"nearest\") for t in dtime]\n"
     ]
    },
    {
     "name": "stdout",
     "output_type": "stream",
     "text": [
      "Slice: 740. Convergence reached. Iterations: 667. reduced chi2: 1.52\n"
     ]
    },
    {
     "name": "stderr",
     "output_type": "stream",
     "text": [
      "/home/jmcle/anaconda3/lib/python3.9/site-packages/geomagindices/base.py:37: FutureWarning: Passing method to DatetimeIndex.get_loc is deprecated and will raise in a future version. Use index.get_indexer([item], method=...) instead.\n",
      "  i = [dat.index.get_loc(t, method=\"nearest\") for t in dtime]\n",
      "/home/jmcle/anaconda3/lib/python3.9/site-packages/geomagindices/base.py:37: FutureWarning: Passing method to DatetimeIndex.get_loc is deprecated and will raise in a future version. Use index.get_indexer([item], method=...) instead.\n",
      "  i = [dat.index.get_loc(t, method=\"nearest\") for t in dtime]\n"
     ]
    },
    {
     "name": "stdout",
     "output_type": "stream",
     "text": [
      "Slice: 741. Convergence reached. Iterations: 849. reduced chi2: 2.8\n"
     ]
    },
    {
     "name": "stderr",
     "output_type": "stream",
     "text": [
      "/home/jmcle/anaconda3/lib/python3.9/site-packages/geomagindices/base.py:37: FutureWarning: Passing method to DatetimeIndex.get_loc is deprecated and will raise in a future version. Use index.get_indexer([item], method=...) instead.\n",
      "  i = [dat.index.get_loc(t, method=\"nearest\") for t in dtime]\n",
      "/home/jmcle/anaconda3/lib/python3.9/site-packages/geomagindices/base.py:37: FutureWarning: Passing method to DatetimeIndex.get_loc is deprecated and will raise in a future version. Use index.get_indexer([item], method=...) instead.\n",
      "  i = [dat.index.get_loc(t, method=\"nearest\") for t in dtime]\n"
     ]
    },
    {
     "name": "stdout",
     "output_type": "stream",
     "text": [
      "Slice: 742. Convergence reached. Iterations: 612. reduced chi2: 1.47\n"
     ]
    },
    {
     "name": "stderr",
     "output_type": "stream",
     "text": [
      "/home/jmcle/anaconda3/lib/python3.9/site-packages/geomagindices/base.py:37: FutureWarning: Passing method to DatetimeIndex.get_loc is deprecated and will raise in a future version. Use index.get_indexer([item], method=...) instead.\n",
      "  i = [dat.index.get_loc(t, method=\"nearest\") for t in dtime]\n",
      "/home/jmcle/anaconda3/lib/python3.9/site-packages/geomagindices/base.py:37: FutureWarning: Passing method to DatetimeIndex.get_loc is deprecated and will raise in a future version. Use index.get_indexer([item], method=...) instead.\n",
      "  i = [dat.index.get_loc(t, method=\"nearest\") for t in dtime]\n"
     ]
    },
    {
     "name": "stdout",
     "output_type": "stream",
     "text": [
      "Slice: 743. Convergence reached. Iterations: 604. reduced chi2: 1.46\n"
     ]
    },
    {
     "name": "stderr",
     "output_type": "stream",
     "text": [
      "/home/jmcle/anaconda3/lib/python3.9/site-packages/geomagindices/base.py:37: FutureWarning: Passing method to DatetimeIndex.get_loc is deprecated and will raise in a future version. Use index.get_indexer([item], method=...) instead.\n",
      "  i = [dat.index.get_loc(t, method=\"nearest\") for t in dtime]\n",
      "/home/jmcle/anaconda3/lib/python3.9/site-packages/geomagindices/base.py:37: FutureWarning: Passing method to DatetimeIndex.get_loc is deprecated and will raise in a future version. Use index.get_indexer([item], method=...) instead.\n",
      "  i = [dat.index.get_loc(t, method=\"nearest\") for t in dtime]\n"
     ]
    },
    {
     "name": "stdout",
     "output_type": "stream",
     "text": [
      "Slice: 744. Convergence reached. Iterations: 406. reduced chi2: 1.62\n"
     ]
    },
    {
     "name": "stderr",
     "output_type": "stream",
     "text": [
      "/home/jmcle/anaconda3/lib/python3.9/site-packages/geomagindices/base.py:37: FutureWarning: Passing method to DatetimeIndex.get_loc is deprecated and will raise in a future version. Use index.get_indexer([item], method=...) instead.\n",
      "  i = [dat.index.get_loc(t, method=\"nearest\") for t in dtime]\n",
      "/home/jmcle/anaconda3/lib/python3.9/site-packages/geomagindices/base.py:37: FutureWarning: Passing method to DatetimeIndex.get_loc is deprecated and will raise in a future version. Use index.get_indexer([item], method=...) instead.\n",
      "  i = [dat.index.get_loc(t, method=\"nearest\") for t in dtime]\n"
     ]
    },
    {
     "name": "stdout",
     "output_type": "stream",
     "text": [
      "Slice: 745. Convergence reached. Iterations: 224. reduced chi2: 1.25\n"
     ]
    },
    {
     "name": "stderr",
     "output_type": "stream",
     "text": [
      "/home/jmcle/anaconda3/lib/python3.9/site-packages/geomagindices/base.py:37: FutureWarning: Passing method to DatetimeIndex.get_loc is deprecated and will raise in a future version. Use index.get_indexer([item], method=...) instead.\n",
      "  i = [dat.index.get_loc(t, method=\"nearest\") for t in dtime]\n",
      "/home/jmcle/anaconda3/lib/python3.9/site-packages/geomagindices/base.py:37: FutureWarning: Passing method to DatetimeIndex.get_loc is deprecated and will raise in a future version. Use index.get_indexer([item], method=...) instead.\n",
      "  i = [dat.index.get_loc(t, method=\"nearest\") for t in dtime]\n"
     ]
    },
    {
     "name": "stdout",
     "output_type": "stream",
     "text": [
      "Slice: 746. Convergence reached. Iterations: 541. reduced chi2: 1.29\n"
     ]
    },
    {
     "name": "stderr",
     "output_type": "stream",
     "text": [
      "/home/jmcle/anaconda3/lib/python3.9/site-packages/geomagindices/base.py:37: FutureWarning: Passing method to DatetimeIndex.get_loc is deprecated and will raise in a future version. Use index.get_indexer([item], method=...) instead.\n",
      "  i = [dat.index.get_loc(t, method=\"nearest\") for t in dtime]\n",
      "/home/jmcle/anaconda3/lib/python3.9/site-packages/geomagindices/base.py:37: FutureWarning: Passing method to DatetimeIndex.get_loc is deprecated and will raise in a future version. Use index.get_indexer([item], method=...) instead.\n",
      "  i = [dat.index.get_loc(t, method=\"nearest\") for t in dtime]\n"
     ]
    },
    {
     "name": "stdout",
     "output_type": "stream",
     "text": [
      "Slice: 747. Convergence reached. Iterations: 532. reduced chi2: 1.86\n"
     ]
    },
    {
     "name": "stderr",
     "output_type": "stream",
     "text": [
      "/home/jmcle/anaconda3/lib/python3.9/site-packages/geomagindices/base.py:37: FutureWarning: Passing method to DatetimeIndex.get_loc is deprecated and will raise in a future version. Use index.get_indexer([item], method=...) instead.\n",
      "  i = [dat.index.get_loc(t, method=\"nearest\") for t in dtime]\n",
      "/home/jmcle/anaconda3/lib/python3.9/site-packages/geomagindices/base.py:37: FutureWarning: Passing method to DatetimeIndex.get_loc is deprecated and will raise in a future version. Use index.get_indexer([item], method=...) instead.\n",
      "  i = [dat.index.get_loc(t, method=\"nearest\") for t in dtime]\n"
     ]
    },
    {
     "name": "stdout",
     "output_type": "stream",
     "text": [
      "Slice: 748. Convergence reached. Iterations: 405. reduced chi2: 1.85\n"
     ]
    },
    {
     "name": "stderr",
     "output_type": "stream",
     "text": [
      "/home/jmcle/anaconda3/lib/python3.9/site-packages/geomagindices/base.py:37: FutureWarning: Passing method to DatetimeIndex.get_loc is deprecated and will raise in a future version. Use index.get_indexer([item], method=...) instead.\n",
      "  i = [dat.index.get_loc(t, method=\"nearest\") for t in dtime]\n",
      "/home/jmcle/anaconda3/lib/python3.9/site-packages/geomagindices/base.py:37: FutureWarning: Passing method to DatetimeIndex.get_loc is deprecated and will raise in a future version. Use index.get_indexer([item], method=...) instead.\n",
      "  i = [dat.index.get_loc(t, method=\"nearest\") for t in dtime]\n"
     ]
    },
    {
     "name": "stdout",
     "output_type": "stream",
     "text": [
      "Slice: 749. Convergence reached. Iterations: 395. reduced chi2: 2.39\n"
     ]
    },
    {
     "name": "stderr",
     "output_type": "stream",
     "text": [
      "/home/jmcle/anaconda3/lib/python3.9/site-packages/geomagindices/base.py:37: FutureWarning: Passing method to DatetimeIndex.get_loc is deprecated and will raise in a future version. Use index.get_indexer([item], method=...) instead.\n",
      "  i = [dat.index.get_loc(t, method=\"nearest\") for t in dtime]\n",
      "/home/jmcle/anaconda3/lib/python3.9/site-packages/geomagindices/base.py:37: FutureWarning: Passing method to DatetimeIndex.get_loc is deprecated and will raise in a future version. Use index.get_indexer([item], method=...) instead.\n",
      "  i = [dat.index.get_loc(t, method=\"nearest\") for t in dtime]\n"
     ]
    },
    {
     "name": "stdout",
     "output_type": "stream",
     "text": [
      "Slice: 750. Convergence reached. Iterations: 790. reduced chi2: 1.94\n"
     ]
    },
    {
     "name": "stderr",
     "output_type": "stream",
     "text": [
      "/home/jmcle/anaconda3/lib/python3.9/site-packages/geomagindices/base.py:37: FutureWarning: Passing method to DatetimeIndex.get_loc is deprecated and will raise in a future version. Use index.get_indexer([item], method=...) instead.\n",
      "  i = [dat.index.get_loc(t, method=\"nearest\") for t in dtime]\n",
      "/home/jmcle/anaconda3/lib/python3.9/site-packages/geomagindices/base.py:37: FutureWarning: Passing method to DatetimeIndex.get_loc is deprecated and will raise in a future version. Use index.get_indexer([item], method=...) instead.\n",
      "  i = [dat.index.get_loc(t, method=\"nearest\") for t in dtime]\n"
     ]
    },
    {
     "name": "stdout",
     "output_type": "stream",
     "text": [
      "Slice: 751. Convergence reached. Iterations: 1302. reduced chi2: 1.42\n"
     ]
    },
    {
     "name": "stderr",
     "output_type": "stream",
     "text": [
      "/home/jmcle/anaconda3/lib/python3.9/site-packages/geomagindices/base.py:37: FutureWarning: Passing method to DatetimeIndex.get_loc is deprecated and will raise in a future version. Use index.get_indexer([item], method=...) instead.\n",
      "  i = [dat.index.get_loc(t, method=\"nearest\") for t in dtime]\n",
      "/home/jmcle/anaconda3/lib/python3.9/site-packages/geomagindices/base.py:37: FutureWarning: Passing method to DatetimeIndex.get_loc is deprecated and will raise in a future version. Use index.get_indexer([item], method=...) instead.\n",
      "  i = [dat.index.get_loc(t, method=\"nearest\") for t in dtime]\n"
     ]
    },
    {
     "name": "stdout",
     "output_type": "stream",
     "text": [
      "Slice: 752. Convergence reached. Iterations: 1253. reduced chi2: 1.73\n"
     ]
    },
    {
     "name": "stderr",
     "output_type": "stream",
     "text": [
      "/home/jmcle/anaconda3/lib/python3.9/site-packages/geomagindices/base.py:37: FutureWarning: Passing method to DatetimeIndex.get_loc is deprecated and will raise in a future version. Use index.get_indexer([item], method=...) instead.\n",
      "  i = [dat.index.get_loc(t, method=\"nearest\") for t in dtime]\n",
      "/home/jmcle/anaconda3/lib/python3.9/site-packages/geomagindices/base.py:37: FutureWarning: Passing method to DatetimeIndex.get_loc is deprecated and will raise in a future version. Use index.get_indexer([item], method=...) instead.\n",
      "  i = [dat.index.get_loc(t, method=\"nearest\") for t in dtime]\n"
     ]
    },
    {
     "name": "stdout",
     "output_type": "stream",
     "text": [
      "Slice: 753. Convergence reached. Iterations: 793. reduced chi2: 1.4\n"
     ]
    },
    {
     "name": "stderr",
     "output_type": "stream",
     "text": [
      "/home/jmcle/anaconda3/lib/python3.9/site-packages/geomagindices/base.py:37: FutureWarning: Passing method to DatetimeIndex.get_loc is deprecated and will raise in a future version. Use index.get_indexer([item], method=...) instead.\n",
      "  i = [dat.index.get_loc(t, method=\"nearest\") for t in dtime]\n",
      "/home/jmcle/anaconda3/lib/python3.9/site-packages/geomagindices/base.py:37: FutureWarning: Passing method to DatetimeIndex.get_loc is deprecated and will raise in a future version. Use index.get_indexer([item], method=...) instead.\n",
      "  i = [dat.index.get_loc(t, method=\"nearest\") for t in dtime]\n"
     ]
    },
    {
     "name": "stdout",
     "output_type": "stream",
     "text": [
      "Slice: 754. Convergence reached. Iterations: 693. reduced chi2: 1.43\n"
     ]
    },
    {
     "name": "stderr",
     "output_type": "stream",
     "text": [
      "/home/jmcle/anaconda3/lib/python3.9/site-packages/geomagindices/base.py:37: FutureWarning: Passing method to DatetimeIndex.get_loc is deprecated and will raise in a future version. Use index.get_indexer([item], method=...) instead.\n",
      "  i = [dat.index.get_loc(t, method=\"nearest\") for t in dtime]\n",
      "/home/jmcle/anaconda3/lib/python3.9/site-packages/geomagindices/base.py:37: FutureWarning: Passing method to DatetimeIndex.get_loc is deprecated and will raise in a future version. Use index.get_indexer([item], method=...) instead.\n",
      "  i = [dat.index.get_loc(t, method=\"nearest\") for t in dtime]\n"
     ]
    },
    {
     "name": "stdout",
     "output_type": "stream",
     "text": [
      "Slice: 755. Convergence reached. Iterations: 297. reduced chi2: 0.85\n",
      "Finished!\n",
      "Finished with:  gledhill\n"
     ]
    }
   ],
   "source": [
    "# In[4]:\n",
    "\n",
    "\n",
    "# Read in file with energy dissipation function\n",
    "lambda_filename = 'semeter_kamalabadi_lambda_function.txt'\n",
    "lambda_data = np.loadtxt(lambda_filename, skiprows=5)\n",
    "\n",
    "# Create an interpolated function from this\n",
    "#...values outside set to 0\n",
    "lambda_interp = interp1d(lambda_data[:, 0], lambda_data[:, 1],\n",
    "                         bounds_error=False, fill_value=0)\n",
    "\n",
    "# Read in file with pulsating aurora dates, times and types\n",
    "pa_database = np.loadtxt(reference_file, delimiter='\\t', dtype=str)\n",
    "pa_database = pa_database[1:, :]\n",
    "\n",
    "# Convert dates to datetimes\n",
    "pa_dates = np.array([dt.strptime(d, '%Y-%m-%d').date() for d \n",
    "                     in pa_database[:, 0]])\n",
    "\n",
    "\n",
    "# In[5]:\n",
    "\n",
    "\n",
    "for alpha_type in ['gledhill']:\n",
    "    \n",
    "    print('Starting:', alpha_type)\n",
    "    \n",
    "    for pfisr_filename in pfisr_files:\n",
    "\n",
    "        # Read in the pfisr data\n",
    "        (utc_time, unix_time, \n",
    "         pfisr_altitude,\n",
    "         e_density, de_density) = get_isr_data(pfisr_filename, pfisr_data_dir)\n",
    "\n",
    "        # Find indices of interest\n",
    "        slices_n = find_event_indices(utc_time)\n",
    "\n",
    "        # Create a dictionary to store inversion results in\n",
    "        inversion_results = {}\n",
    "\n",
    "        # Make a directory to store plots and dictionary if it doesn't \n",
    "        #...already exist\n",
    "        if not os.path.exists(save_dir + alpha_type + '/'):\n",
    "            os.mkdir(save_dir + alpha_type + '/')\n",
    "\n",
    "        output_dir = (save_dir + alpha_type + '/' \n",
    "                      + str(utc_time[0].date()) + '/')\n",
    "        if not os.path.exists(output_dir):\n",
    "            os.mkdir(output_dir)\n",
    "\n",
    "        print(str(utc_time[0].date()))\n",
    "\n",
    "        for slice_n in slices_n:\n",
    "\n",
    "            run_time = utc_time[slice_n]\n",
    "\n",
    "            # Get MSIS calculated densities\n",
    "            try:\n",
    "                (total_msis_alt,\n",
    "                 msis_interp_density) = get_msis_density(run_time, \n",
    "                                                    altitude_bins,\n",
    "                                                    max_alt=max_msis_alt,\n",
    "                                                    glat=pfrr_lat,\n",
    "                                                    glon=pfrr_lon)\n",
    "            except Exception as e:\n",
    "                print('Issue with MSIS model.', e)\n",
    "                continue\n",
    "\n",
    "            # Get density for altitude bins\n",
    "            total_msis_density = msis_interp_density(total_msis_alt)\n",
    "            density_rho = msis_interp_density(altitude_bins)\n",
    "\n",
    "\n",
    "            # Calculate mass distance (s) for each altitude \n",
    "            #...by integrating out to 1000 km (~infinity)\n",
    "            s = np.array([mass_distance(z) for z \n",
    "                          in range(len(altitude_bins))])\n",
    "\n",
    "\n",
    "            # Calculate ion production rate for each energy and store\n",
    "            #...in dictionary\n",
    "            ion_prod_rate = {}\n",
    "\n",
    "            for i, energy in enumerate(energy_bins):\n",
    "\n",
    "                # Calculate range-energy value\n",
    "                R = barrett_hays_range_energy_func(energy)\n",
    "\n",
    "                # Get the (s/R)(z) for the energy\n",
    "                s_R = s/R\n",
    "\n",
    "                # Use s/R to get Lambda function values\n",
    "                lambda_vals = lambda_interp(s_R)\n",
    "\n",
    "                # Use all of this to calculate ion production rate \n",
    "                #...as function of alt\n",
    "                q = (lambda_vals * density_rho * energy * F) / (35.5 * R)\n",
    "\n",
    "                # Write to dictionary\n",
    "                ion_prod_rate[energy] = q\n",
    "\n",
    "            # Construct the A matrix\n",
    "            matrix_A = np.zeros([len(altitude_bins),\n",
    "                                 len(energy_bins)])\n",
    "\n",
    "            # Loop through each energy value\n",
    "            for j in range(len(energy_bins)):\n",
    "\n",
    "                # Get the size of the energy bin\n",
    "                #...first bin is from zero to energy\n",
    "                if j == 0:\n",
    "                    delta_E = energy_bins[j] - 0\n",
    "                else:\n",
    "                    delta_E = energy_bins[j] - energy_bins[j-1]\n",
    "\n",
    "                # Set column of matrix\n",
    "                matrix_A[:, j] = ion_prod_rate[energy_bins[j]]*(delta_E/F)\n",
    "\n",
    "            # Get estimated ion production rate and error \n",
    "            #...from isr measurements\n",
    "            try:\n",
    "                (q_estimate, \n",
    "                 dq_estimate,\n",
    "                 alphas) = isr_ion_production_rate(slice_n,\n",
    "                                                   alpha_type=alpha_type)\n",
    "            except:\n",
    "                print('Issue with ion production rate calculation.')\n",
    "                continue\n",
    "\n",
    "            # Make an initial guess of the number flux\n",
    "            initial_num_flux = estimate_initial_number_flux(energy_bins,\n",
    "                                                            matrix_A)\n",
    "            try:\n",
    "                # Perform the maximum entropy iterative process\n",
    "                (new_num_flux,\n",
    "                 chi_square,\n",
    "                 dof,\n",
    "                 converged) = maximum_entropy_iteration(initial_num_flux,\n",
    "                                                        altitude_bins,\n",
    "                                                        energy_bins,\n",
    "                                                        matrix_A,\n",
    "                                                        q_estimate, \n",
    "                                                        dq_estimate)\n",
    "            except:\n",
    "                print('Issue with MEM.')\n",
    "                continue\n",
    "\n",
    "            # Write data to dictionary\n",
    "            d = {'altitude' : altitude_bins,\n",
    "                 'initial_density' : np.sqrt(np.dot(matrix_A,\n",
    "                                                initial_num_flux)/alphas),\n",
    "                 'modeled_density' : np.sqrt(np.dot(matrix_A,\n",
    "                                                new_num_flux)/alphas),\n",
    "                 'measured_density' : np.sqrt(q_estimate/alphas),\n",
    "                 'energy_bins' : energy_bins,\n",
    "                 'modeled_flux' : new_num_flux,\n",
    "                 'chi2' : chi_square,\n",
    "                 'dof' : dof,\n",
    "                 'converged' : converged,\n",
    "                 'units' : 'Values given in meters, seconds, electron-volts.'\n",
    "                }\n",
    "\n",
    "            inversion_results[run_time] = d\n",
    "\n",
    "            # Plot the results and save to output directory\n",
    "            if slice_n%1 == 0:\n",
    "                save_inversion_density_plot(inversion_results,\n",
    "                                            run_time, output_dir)\n",
    "                save_inversion_numflux_plot(inversion_results,\n",
    "                                            run_time, output_dir)\n",
    "\n",
    "            # Clear temporary files in /dev/shm directory in Linux\n",
    "            try:\n",
    "                os.system('rm /dev/shm/*')\n",
    "            except Exception as e: print(e)\n",
    "\n",
    "\n",
    "        # Write the dictionary with inversion data to a pickle file\n",
    "        with open(output_dir + 'inversion-data-' + str(utc_time[0].date()) \n",
    "                  + '.pickle', 'wb') as handle:\n",
    "            pickle.dump(inversion_results, handle,\n",
    "                        protocol=pickle.HIGHEST_PROTOCOL)\n",
    "\n",
    "        print('Finished!')\n",
    "\n",
    "    print('Finished with: ', alpha_type)"
   ]
  },
  {
   "cell_type": "code",
   "execution_count": null,
   "id": "7e5367da",
   "metadata": {},
   "outputs": [],
   "source": []
  },
  {
   "cell_type": "code",
   "execution_count": null,
   "id": "8271fe38",
   "metadata": {},
   "outputs": [],
   "source": []
  },
  {
   "cell_type": "code",
   "execution_count": null,
   "id": "2e6eaaee",
   "metadata": {},
   "outputs": [],
   "source": []
  },
  {
   "cell_type": "code",
   "execution_count": null,
   "id": "4bd0ae33",
   "metadata": {},
   "outputs": [],
   "source": []
  }
 ],
 "metadata": {
  "kernelspec": {
   "display_name": "Python 3 (ipykernel)",
   "language": "python",
   "name": "python3"
  },
  "language_info": {
   "codemirror_mode": {
    "name": "ipython",
    "version": 3
   },
   "file_extension": ".py",
   "mimetype": "text/x-python",
   "name": "python",
   "nbconvert_exporter": "python",
   "pygments_lexer": "ipython3",
   "version": "3.9.12"
  }
 },
 "nbformat": 4,
 "nbformat_minor": 5
}
