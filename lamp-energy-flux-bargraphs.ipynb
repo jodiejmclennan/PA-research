{
 "cells": [
  {
   "cell_type": "markdown",
   "id": "756b4e76",
   "metadata": {},
   "source": [
    "# Code to create bargraphs of energy flux and time for LAMP launch \n",
    "Written by Jodie McLennan with code adapted from semeter-inversion-statistics-lamp.ipynb, December 2022"
   ]
  },
  {
   "cell_type": "code",
   "execution_count": 1,
   "id": "fd37f757",
   "metadata": {},
   "outputs": [],
   "source": [
    "# Import needed libraries\n",
    "\n",
    "from datetime import datetime as dt\n",
    "import matplotlib.pyplot as plt\n",
    "from matplotlib import dates as mdates\n",
    "from matplotlib.ticker import MultipleLocator\n",
    "import numpy as np\n",
    "import os\n",
    "import pickle\n",
    "from scipy.interpolate import interp1d\n",
    "from scipy.integrate import trapezoid\n",
    "from scipy.integrate import quad\n",
    "import scipy.signal as signal\n",
    "import scipy.stats as stats"
   ]
  },
  {
   "cell_type": "code",
   "execution_count": 2,
   "id": "e087b2d4",
   "metadata": {},
   "outputs": [],
   "source": [
    "# Start by defining the directories where the data is stored\n",
    "proj_dir = ('/media/sf_semeter-inversion/')#LAMP_Data_saved/')"
   ]
  },
  {
   "cell_type": "code",
   "execution_count": 3,
   "id": "cb4b4695",
   "metadata": {},
   "outputs": [
    {
     "name": "stdout",
     "output_type": "stream",
     "text": [
      "5_vickrey\n"
     ]
    }
   ],
   "source": [
    "# Read in pickle file with combined energy analysis\n",
    "alpha = 'vickrey'   # 'gledhill','osepian','vickrey'\n",
    "with open(proj_dir + #'data/pfisr-data/statistics/'\n",
    "          'pa_inversion_results_2022-03-05_'+alpha+'.pickle',\n",
    "          'rb') as handle:\n",
    "    pa_inversion_results = pickle.load(handle)\n",
    "\n",
    "    \n",
    "times = list(pa_inversion_results.keys())\n",
    "low_energy = [pa_inversion_results[t]['low_30keV'] for t in times]\n",
    "high_energy = [pa_inversion_results[t]['high_30keV'] for t in times]\n",
    "higher_energy = [pa_inversion_results[t]['high_50keV'] for t in times]\n",
    "\n",
    "print(str(handle)[-18:-9])"
   ]
  },
  {
   "cell_type": "code",
   "execution_count": 13,
   "id": "4d6d6229",
   "metadata": {},
   "outputs": [
    {
     "name": "stdout",
     "output_type": "stream",
     "text": [
      "285\n",
      "skip percentage of data: 0.6737588652482269\n"
     ]
    },
    {
     "data": {
      "text/plain": [
       "424"
      ]
     },
     "execution_count": 13,
     "metadata": {},
     "output_type": "execute_result"
    }
   ],
   "source": [
    "# Find non valid times\n",
    "skips=0\n",
    "for n, time in enumerate(times):\n",
    "    \n",
    "    # Only include good fits\n",
    "    converged = pa_inversion_results[time]['converged']\n",
    "    chi2 = pa_inversion_results[time]['chi2']\n",
    "    reduced_chi2 = chi2/pa_inversion_results[time]['dof']\n",
    "    \n",
    "    \n",
    "    # If fit didn't converge, skip\n",
    "    if converged == False:\n",
    "        low_energy[n] = 0\n",
    "        high_energy[n] = 0\n",
    "        higher_energy[n] = 0\n",
    "        #print('skipped')\n",
    "        skips +=1\n",
    "    \n",
    "    # If chi2 not in reasonable bounds skip\n",
    "    if (reduced_chi2 < 0) or (reduced_chi2 > 3):\n",
    "        low_energy[n] = 0\n",
    "        high_energy[n] = 0\n",
    "        higher_energy[n] = 0\n",
    "        #print('skipped')\n",
    "        skips +=1\n",
    "print(skips)\n",
    "print('skip percentage of data: '+str(skips/n))\n"
   ]
  },
  {
   "cell_type": "code",
   "execution_count": 14,
   "id": "8e57b34d",
   "metadata": {},
   "outputs": [
    {
     "name": "stdout",
     "output_type": "stream",
     "text": [
      "0\n"
     ]
    }
   ],
   "source": [
    "total_energy = np.array(low_energy) + np.array(high_energy) # less than or equal to 30 keV + greater than 30 keV\n",
    "#total_energy = np.array(total_energy)\n",
    "\n",
    "low_aurora = []\n",
    "high_aurora = []\n",
    "higher_aurora = []\n",
    "times_aurora =[]\n",
    "limit = 0\n",
    "skips = 0\n",
    "for n, t in enumerate(times):\n",
    "    if total_energy[n] < limit:\n",
    "        skips +=1\n",
    "        print('skipped',times[n])\n",
    "        continue\n",
    "    else:\n",
    "#         low_aroura.append(low_energy[n]/total_energy[n])\n",
    "#         high_aroura.append(high_energy[n]/total_energy[n])\n",
    "#         higher_aroura.append(higher_energy[n]/total_energy[n])\n",
    "        times_aurora.append(times[n])\n",
    "        low_aurora.append(low_energy[n])\n",
    "        high_aurora.append(high_energy[n])\n",
    "        higher_aurora.append(higher_energy[n])\n",
    "        \n",
    "print(skips)\n",
    "# maybe need to bin    "
   ]
  },
  {
   "cell_type": "code",
   "execution_count": 6,
   "id": "2789dd01",
   "metadata": {},
   "outputs": [],
   "source": [
    "# bin energies per time period\n",
    "tosec = lambda x: x.hour*3600+x.minute*60+x.second\n",
    "bintime = 20*60 #secs\n",
    "maxtime = times_aurora[-1].hour*3600+times_aurora[-1].minute*60+times_aurora[-1].second\n",
    "maxtime = tosec(times_aurora[-1])\n",
    "i=1\n",
    "initialsec = tosec(times_aurora[0])\n",
    "multiples = (maxtime-initialsec)/bintime\n",
    "binned_low = []\n",
    "binned_high =[]\n",
    "sumup_low=0\n",
    "sumup_high=0\n",
    "sumuptime = 0\n",
    "label2 = str(times_aurora[0].hour)+':'+str(times_aurora[0].minute)+':'+str(times_aurora[0].second)\n",
    "labels =[]\n",
    "for i in np.arange(0,np.ceil(multiples)):\n",
    "    m=0\n",
    "    sumup_low=0\n",
    "    sumup_high=0\n",
    "    label1=label2\n",
    "    for n in np.arange(len(times_aurora)):\n",
    "        secs = tosec(times_aurora[n])\n",
    "        if secs>initialsec and secs<bintime+initialsec:\n",
    "            sumuptime = sumuptime + tosec(times_aurora[n])\n",
    "            sumup_low = low_aurora[n]+sumup_low\n",
    "            sumup_high = high_aurora[n]+sumup_high\n",
    "            label2 = str(times_aurora[n].hour)+':'+str(times_aurora[n].minute)+':'+str(times_aurora[n].second)\n",
    "            m +=1\n",
    "        elif secs< initialsec+ bintime*(i+1) and secs> i*bintime+initialsec:\n",
    "            sumuptime = sumuptime + tosec(times_aurora[n])\n",
    "            sumup_low = low_aurora[n]+sumup_low\n",
    "            sumup_high = high_aurora[n]+sumup_high\n",
    "            label2 = str(times_aurora[n].hour)+':'+str(times_aurora[n].minute)+':'+str(times_aurora[n].second)\n",
    "            m +=1\n",
    "#         else:\n",
    "#             binned.append(sumup/bintime)\n",
    "#             sumup = 0\n",
    "        \n",
    "#     binned_low.append(sumup_low/m)\n",
    "#     binned_high.append(sumup_high/m)\n",
    "# Dont want to average the energy fluxes, want to sum them\n",
    "    binned_low.append(sumup_low)\n",
    "    binned_high.append(sumup_high)\n",
    "    labels.append(label1+'-'+label2)\n",
    "\n",
    "    \n",
    "    \n"
   ]
  },
  {
   "cell_type": "code",
   "execution_count": 7,
   "id": "39123ac6",
   "metadata": {},
   "outputs": [
    {
     "name": "stdout",
     "output_type": "stream",
     "text": [
      "23.945833333333333\n",
      "24\n",
      "(23,)\n",
      "['8:0:59-8:19:59', '8:19:59-8:37:56', '8:37:56-9:0:9', '9:0:9-9:20:13', '9:20:13-9:39:13', '9:39:13-10:0:47', '10:0:47-10:20:51', '10:20:51-10:40:55', '10:40:55-11:0:8', '11:0:8-11:20:11', '11:20:11-11:40:15', '11:40:15-12:0:11', '12:0:11-12:20:15', '12:20:15-12:40:19', '12:40:19-13:0:22', '13:0:22-13:20:26', '13:20:26-13:40:30', '13:40:30-14:0:34', '14:0:34-14:20:38', '14:20:38-14:40:42', '14:40:42-15:0:45', '15:0:45-15:20:49', '15:20:49-15:40:53', '15:40:53-15:59:54']\n"
     ]
    }
   ],
   "source": [
    "print(multiples)\n",
    "print(len(binned_low))\n",
    "x = np.arange(1,len(binned_low))\n",
    "print(np.array(x).shape)\n",
    "np.array(binned_low).shape\n",
    "\n",
    "xlabels =[]\n",
    "for i in np.arange(0,np.ceil(multiples)):\n",
    "    label1 = int(bintime*i/60)\n",
    "    label2 = int(bintime*(i+1)/60)\n",
    "    xlabel = str(label1)+'-'+str(label2)\n",
    "    xlabels.append(xlabel)\n",
    "print(labels)"
   ]
  },
  {
   "cell_type": "code",
   "execution_count": 8,
   "id": "4e89f4d6",
   "metadata": {},
   "outputs": [
    {
     "name": "stdout",
     "output_type": "stream",
     "text": [
      "[nan nan nan nan nan  2. nan 11.  9. 37. 49. 50. 49. 54. 33. 56. 75. 75.\n",
      " 37. 25. 60. 46. 14. nan]\n"
     ]
    },
    {
     "name": "stderr",
     "output_type": "stream",
     "text": [
      "/tmp/ipykernel_4054/3925219409.py:25: RuntimeWarning: invalid value encountered in true_divide\n",
      "  high_percentage = np.round(binned_high/binned_total*100)\n"
     ]
    },
    {
     "data": {
      "text/plain": [
       "<matplotlib.legend.Legend at 0x7f5fbedc05e0>"
      ]
     },
     "execution_count": 8,
     "metadata": {},
     "output_type": "execute_result"
    },
    {
     "data": {
      "image/png": "[encoded data removed]",
      "text/plain": [
       "<Figure size 936x756 with 1 Axes>"
      ]
     },
     "metadata": {
      "needs_background": "light"
     },
     "output_type": "display_data"
    }
   ],
   "source": [
    "# plot bar graph \n",
    "\n",
    "width = 0.1\n",
    "# fig = plt.subplots(figsize =(10, 7))\n",
    "\n",
    "# p1 = plt.bar(times_aurora,low_aurora,color='b')#,width)\n",
    "# p2 = plt.bar(times_aurora,high_aurora,bottom=low_aurora,color='r')#,width=width)\n",
    "# #p3 = plt.bar(times,higher_energy,width)\n",
    "\n",
    "# plt.title('Energy Flux of PA on '+str(times[0].month)+' '+str(times[0].day)+' '+str(times[0].year))\n",
    "# plt.ylabel('Energy Flux')\n",
    "# plt.xlabel('Time')\n",
    "# plt.legend((p1[0], p2[0]), ('$< 30$ keV', '$\\geq 30$ keV'))\n",
    "\n",
    "\n",
    "# binned\n",
    "x = np.arange(0,len(binned_low))\n",
    "fig, ax = plt.subplots(figsize =(13, 10.5))\n",
    "\n",
    "binned_low = np.array(binned_low)\n",
    "binned_high = np.array(binned_high)\n",
    "x = np.array(x)\n",
    "\n",
    "binned_total = binned_low+binned_high\n",
    "high_percentage = np.round(binned_high/binned_total*100)\n",
    "print(high_percentage)\n",
    "high_percentage=np.nan_to_num(high_percentage, nan=0.0)\n",
    "\n",
    "p1 = plt.bar(x,binned_low)#,width)\n",
    "p2 = plt.bar(x,binned_high,bottom=binned_low)#,width=width)\n",
    "#p3 = plt.bar(times,higher_energy,width)\n",
    "\n",
    "# add percentage numbers:\n",
    "for i in np.arange(len(binned_total)):\n",
    "    plt.text(x[i]-.5,binned_total[i], str(int(high_percentage[i]))+'%', fontsize = 16, color = 'k')\n",
    "\n",
    "\n",
    "\n",
    "plt.ylabel('Energy Flux (eV m$^{-2}$ s$^{-1}$)')\n",
    "plt.title('Energy Flux of PA on '+str(times[0].month)+'/'+str(times[0].day)+' '+str(times[0].year)+', alpha = '+alpha)\n",
    "plt.xlabel('Time after '+str(times_aurora[0].hour)+':'+str(times_aurora[0].minute)+':'+str(times_aurora[0].second))\n",
    "#plt.xticks(x,xlabels,rotation =45)\n",
    "plt.xticks(x,labels,rotation =90)\n",
    "plt.legend((p1[0], p2[0]), ('$< 30$ keV', '$\\geq 30$ keV'))\n",
    "\n",
    "#plt.savefig(proj_dir + '/energyflux_2022_03_05_bargraph_'+alpha+'_alltimes.jpg', dpi=200)\n",
    "\n",
    "# # Plot times on x axis nicely\n",
    "# time_locator = mdates.MinuteLocator(byminute=[0],\n",
    "#                                     interval = 1)\n",
    "# minor_time_locator = mdates.MinuteLocator(byminute=[30])\n",
    "# ax.xaxis.set_minor_locator(minor_time_locator)\n",
    "# h_fmt = mdates.DateFormatter('%H:%M')\n",
    "# ax.xaxis.set_major_locator(time_locator)\n",
    "# ax.xaxis.set_major_formatter(h_fmt)\n",
    "# ax.tick_params(labelsize=12)\n",
    "\n",
    "# ax.tick_params(axis='x', which='major', labelsize=14)\n",
    "# ax.tick_params(axis='y', which='major', labelsize=14)\n"
   ]
  },
  {
   "cell_type": "code",
   "execution_count": 9,
   "id": "37a87e31",
   "metadata": {},
   "outputs": [
    {
     "data": {
      "image/png": "[encoded data removed]",
      "text/plain": [
       "<Figure size 720x288 with 1 Axes>"
      ]
     },
     "metadata": {
      "needs_background": "light"
     },
     "output_type": "display_data"
    }
   ],
   "source": [
    "# plot simply\n",
    "fig, ax = plt.subplots(figsize=(10, 4))\n",
    "plt.plot(times_aurora,low_aurora,'b.',label='$<30$ keV')\n",
    "plt.plot(times_aurora,np.array(high_aurora)+np.array(low_aurora),'r.',label='$\\geq 30$ keV')\n",
    "plt.xlabel('times')\n",
    "plt.ylabel('energy flux')\n",
    "plt.legend()\n",
    "\n",
    "# Plot times on x axis nicely\n",
    "time_locator = mdates.MinuteLocator(byminute=[0],\n",
    "                                    interval = 1)\n",
    "minor_time_locator = mdates.MinuteLocator(byminute=[30])\n",
    "ax.xaxis.set_minor_locator(minor_time_locator)\n",
    "h_fmt = mdates.DateFormatter('%H:%M')\n",
    "ax.xaxis.set_major_locator(time_locator)\n",
    "ax.xaxis.set_major_formatter(h_fmt)\n",
    "ax.tick_params(labelsize=12)\n",
    "\n",
    "ax.tick_params(axis='x', which='major', labelsize=14)\n",
    "ax.tick_params(axis='y', which='major', labelsize=14)"
   ]
  },
  {
   "cell_type": "code",
   "execution_count": 12,
   "id": "6c82583f",
   "metadata": {},
   "outputs": [
    {
     "data": {
      "text/plain": [
       "Text(0.5, 1.0, 'Energy flux in histogram')"
      ]
     },
     "execution_count": 12,
     "metadata": {},
     "output_type": "execute_result"
    },
    {
     "data": {
      "image/png": "[encoded data removed]",
      "text/plain": [
       "<Figure size 720x504 with 1 Axes>"
      ]
     },
     "metadata": {
      "needs_background": "light"
     },
     "output_type": "display_data"
    }
   ],
   "source": [
    "# plotting histogram\n",
    "combined_fluxes = [low_aurora,high_aurora]\n",
    "n_bins = 10\n",
    "ax = plt.subplots(figsize =(10, 7))\n",
    "plt.hist(combined_fluxes, n_bins, density=True, histtype='bar', stacked=True)\n",
    "plt.title('Energy flux in histogram')\n"
   ]
  },
  {
   "cell_type": "code",
   "execution_count": 13,
   "id": "56b6a21d",
   "metadata": {},
   "outputs": [
    {
     "name": "stdout",
     "output_type": "stream",
     "text": [
      "(424,)\n"
     ]
    }
   ],
   "source": [
    "total_energy = np.array(low_energy) + np.array(high_energy)# less than or equal to 30 keV + greater than 30 keV\n",
    "print(total_energy.shape)"
   ]
  },
  {
   "cell_type": "code",
   "execution_count": 20,
   "id": "afe2e258",
   "metadata": {},
   "outputs": [
    {
     "name": "stdout",
     "output_type": "stream",
     "text": [
      "[datetime.datetime(2022, 3, 5, 8, 0, 59), datetime.datetime(2022, 3, 5, 8, 2, 2), datetime.datetime(2022, 3, 5, 8, 3, 5), datetime.datetime(2022, 3, 5, 8, 4, 9)]\n",
      "[ 0  1  2  3  4  5  6  7  8  9 10 11 12 13 14 15 16]\n"
     ]
    }
   ],
   "source": [
    "print(times[0:4])\n",
    "np.array(times[0:2])\n",
    "times[n].minute\n",
    "\n",
    "print(x)"
   ]
  },
  {
   "cell_type": "code",
   "execution_count": 15,
   "id": "41bc5ddc",
   "metadata": {},
   "outputs": [],
   "source": [
    "tosec = lambda x: x.hour*3600+x.minute*60+x.second"
   ]
  },
  {
   "cell_type": "code",
   "execution_count": 16,
   "id": "8ca3ac23",
   "metadata": {},
   "outputs": [
    {
     "data": {
      "text/plain": [
       "55439"
      ]
     },
     "execution_count": 16,
     "metadata": {},
     "output_type": "execute_result"
    }
   ],
   "source": [
    "tosec(times_aurora[-1])"
   ]
  },
  {
   "cell_type": "code",
   "execution_count": null,
   "id": "ab9359ba",
   "metadata": {},
   "outputs": [],
   "source": []
  },
  {
   "cell_type": "code",
   "execution_count": null,
   "id": "693573ad",
   "metadata": {},
   "outputs": [],
   "source": []
  },
  {
   "cell_type": "code",
   "execution_count": null,
   "id": "d0a88456",
   "metadata": {},
   "outputs": [],
   "source": []
  },
  {
   "cell_type": "code",
   "execution_count": null,
   "id": "47954863",
   "metadata": {},
   "outputs": [],
   "source": []
  },
  {
   "cell_type": "code",
   "execution_count": null,
   "id": "2c2d6b33",
   "metadata": {},
   "outputs": [],
   "source": []
  }
 ],
 "metadata": {
  "kernelspec": {
   "display_name": "Python 3 (ipykernel)",
   "language": "python",
   "name": "python3"
  },
  "language_info": {
   "codemirror_mode": {
    "name": "ipython",
    "version": 3
   },
   "file_extension": ".py",
   "mimetype": "text/x-python",
   "name": "python",
   "nbconvert_exporter": "python",
   "pygments_lexer": "ipython3",
   "version": "3.9.12"
  }
 },
 "nbformat": 4,
 "nbformat_minor": 5
}
